{
 "cells": [
  {
   "cell_type": "code",
   "execution_count": 706,
   "metadata": {},
   "outputs": [],
   "source": [
    "import pandas as pd\n",
    "import numpy as np"
   ]
  },
  {
   "cell_type": "code",
   "execution_count": 707,
   "metadata": {},
   "outputs": [],
   "source": [
    "# import libraries for plotting\n",
    "import matplotlib.pyplot as plt\n",
    "import seaborn as sns\n",
    "%matplotlib inline"
   ]
  },
  {
   "cell_type": "code",
   "execution_count": 708,
   "metadata": {},
   "outputs": [],
   "source": [
    "# ignore warnings\n",
    "import warnings\n",
    "warnings.filterwarnings('ignore')"
   ]
  },
  {
   "cell_type": "code",
   "execution_count": 709,
   "metadata": {},
   "outputs": [],
   "source": [
    "df = pd.read_csv(\"train.csv\")"
   ]
  },
  {
   "cell_type": "code",
   "execution_count": 710,
   "metadata": {},
   "outputs": [
    {
     "data": {
      "text/plain": [
       "(54697, 8)"
      ]
     },
     "execution_count": 710,
     "metadata": {},
     "output_type": "execute_result"
    }
   ],
   "source": [
    "df.shape"
   ]
  },
  {
   "cell_type": "code",
   "execution_count": 711,
   "metadata": {},
   "outputs": [
    {
     "name": "stdout",
     "output_type": "stream",
     "text": [
      "<class 'pandas.core.frame.DataFrame'>\n",
      "RangeIndex: 54697 entries, 0 to 54696\n",
      "Data columns (total 8 columns):\n",
      "ID                               54697 non-null int64\n",
      "Person A                         54697 non-null object\n",
      "Person B                         54697 non-null object\n",
      "Years of Knowing                 54697 non-null float64\n",
      "Interaction Duration             54697 non-null float64\n",
      "Interaction Type                 54697 non-null object\n",
      "Moon Phase During Interaction    54697 non-null object\n",
      "Friends                          54697 non-null int64\n",
      "dtypes: float64(2), int64(2), object(4)\n",
      "memory usage: 3.3+ MB\n"
     ]
    }
   ],
   "source": [
    "df.info()"
   ]
  },
  {
   "cell_type": "code",
   "execution_count": 712,
   "metadata": {},
   "outputs": [],
   "source": [
    "#this means that there are no null values"
   ]
  },
  {
   "cell_type": "code",
   "execution_count": 713,
   "metadata": {},
   "outputs": [
    {
     "data": {
      "text/html": [
       "<div>\n",
       "<style scoped>\n",
       "    .dataframe tbody tr th:only-of-type {\n",
       "        vertical-align: middle;\n",
       "    }\n",
       "\n",
       "    .dataframe tbody tr th {\n",
       "        vertical-align: top;\n",
       "    }\n",
       "\n",
       "    .dataframe thead th {\n",
       "        text-align: right;\n",
       "    }\n",
       "</style>\n",
       "<table border=\"1\" class=\"dataframe\">\n",
       "  <thead>\n",
       "    <tr style=\"text-align: right;\">\n",
       "      <th></th>\n",
       "      <th>ID</th>\n",
       "      <th>Years of Knowing</th>\n",
       "      <th>Interaction Duration</th>\n",
       "      <th>Friends</th>\n",
       "    </tr>\n",
       "  </thead>\n",
       "  <tbody>\n",
       "    <tr>\n",
       "      <th>count</th>\n",
       "      <td>54697.000000</td>\n",
       "      <td>54697.000000</td>\n",
       "      <td>54697.000000</td>\n",
       "      <td>54697.000000</td>\n",
       "    </tr>\n",
       "    <tr>\n",
       "      <th>mean</th>\n",
       "      <td>27349.000000</td>\n",
       "      <td>4.650547</td>\n",
       "      <td>10.350016</td>\n",
       "      <td>0.485804</td>\n",
       "    </tr>\n",
       "    <tr>\n",
       "      <th>std</th>\n",
       "      <td>15789.808174</td>\n",
       "      <td>3.371210</td>\n",
       "      <td>7.013008</td>\n",
       "      <td>0.499803</td>\n",
       "    </tr>\n",
       "    <tr>\n",
       "      <th>min</th>\n",
       "      <td>1.000000</td>\n",
       "      <td>0.000286</td>\n",
       "      <td>0.000176</td>\n",
       "      <td>0.000000</td>\n",
       "    </tr>\n",
       "    <tr>\n",
       "      <th>25%</th>\n",
       "      <td>13675.000000</td>\n",
       "      <td>2.062862</td>\n",
       "      <td>4.830330</td>\n",
       "      <td>0.000000</td>\n",
       "    </tr>\n",
       "    <tr>\n",
       "      <th>50%</th>\n",
       "      <td>27349.000000</td>\n",
       "      <td>3.781148</td>\n",
       "      <td>9.032467</td>\n",
       "      <td>0.000000</td>\n",
       "    </tr>\n",
       "    <tr>\n",
       "      <th>75%</th>\n",
       "      <td>41023.000000</td>\n",
       "      <td>6.295307</td>\n",
       "      <td>14.525737</td>\n",
       "      <td>1.000000</td>\n",
       "    </tr>\n",
       "    <tr>\n",
       "      <th>max</th>\n",
       "      <td>54697.000000</td>\n",
       "      <td>14.999167</td>\n",
       "      <td>29.999377</td>\n",
       "      <td>1.000000</td>\n",
       "    </tr>\n",
       "  </tbody>\n",
       "</table>\n",
       "</div>"
      ],
      "text/plain": [
       "                 ID  Years of Knowing  Interaction Duration       Friends\n",
       "count  54697.000000      54697.000000          54697.000000  54697.000000\n",
       "mean   27349.000000          4.650547             10.350016      0.485804\n",
       "std    15789.808174          3.371210              7.013008      0.499803\n",
       "min        1.000000          0.000286              0.000176      0.000000\n",
       "25%    13675.000000          2.062862              4.830330      0.000000\n",
       "50%    27349.000000          3.781148              9.032467      0.000000\n",
       "75%    41023.000000          6.295307             14.525737      1.000000\n",
       "max    54697.000000         14.999167             29.999377      1.000000"
      ]
     },
     "execution_count": 713,
     "metadata": {},
     "output_type": "execute_result"
    }
   ],
   "source": [
    "df.describe()"
   ]
  },
  {
   "cell_type": "code",
   "execution_count": null,
   "metadata": {},
   "outputs": [],
   "source": []
  },
  {
   "cell_type": "code",
   "execution_count": 714,
   "metadata": {},
   "outputs": [
    {
     "data": {
      "text/plain": [
       "0            1\n",
       "1            2\n",
       "2            3\n",
       "3            4\n",
       "4            5\n",
       "         ...  \n",
       "54692    54693\n",
       "54693    54694\n",
       "54694    54695\n",
       "54695    54696\n",
       "54696    54697\n",
       "Name: ID, Length: 54697, dtype: int64"
      ]
     },
     "execution_count": 714,
     "metadata": {},
     "output_type": "execute_result"
    }
   ],
   "source": [
    "df[\"ID\"] # it is of no use as it's unique for every entry and has no significance"
   ]
  },
  {
   "cell_type": "code",
   "execution_count": 715,
   "metadata": {},
   "outputs": [],
   "source": [
    "df.drop(\"ID\",axis=1,inplace=True)"
   ]
  },
  {
   "cell_type": "code",
   "execution_count": 716,
   "metadata": {},
   "outputs": [
    {
     "name": "stdout",
     "output_type": "stream",
     "text": [
      "<class 'pandas.core.frame.DataFrame'>\n",
      "RangeIndex: 54697 entries, 0 to 54696\n",
      "Data columns (total 7 columns):\n",
      "Person A                         54697 non-null object\n",
      "Person B                         54697 non-null object\n",
      "Years of Knowing                 54697 non-null float64\n",
      "Interaction Duration             54697 non-null float64\n",
      "Interaction Type                 54697 non-null object\n",
      "Moon Phase During Interaction    54697 non-null object\n",
      "Friends                          54697 non-null int64\n",
      "dtypes: float64(2), int64(1), object(4)\n",
      "memory usage: 2.9+ MB\n"
     ]
    }
   ],
   "source": [
    "df.info()"
   ]
  },
  {
   "cell_type": "code",
   "execution_count": null,
   "metadata": {},
   "outputs": [],
   "source": []
  },
  {
   "cell_type": "code",
   "execution_count": 717,
   "metadata": {},
   "outputs": [
    {
     "data": {
      "text/plain": [
       "100"
      ]
     },
     "execution_count": 717,
     "metadata": {},
     "output_type": "execute_result"
    }
   ],
   "source": [
    "len(df['Person A'].unique())  # there are 100 unique names in Person A column"
   ]
  },
  {
   "cell_type": "code",
   "execution_count": 718,
   "metadata": {},
   "outputs": [
    {
     "data": {
      "text/plain": [
       "Ernestine    627\n",
       "Mersey       612\n",
       "Allegra      607\n",
       "Melany       600\n",
       "Adey         598\n",
       "            ... \n",
       "Emili        487\n",
       "Casandra     486\n",
       "Sidonia      483\n",
       "Jeane        476\n",
       "Cyndy        472\n",
       "Name: Person A, Length: 100, dtype: int64"
      ]
     },
     "execution_count": 718,
     "metadata": {},
     "output_type": "execute_result"
    }
   ],
   "source": [
    "df['Person A'].value_counts()   # the heighest frequency is 627 for a particular entry\n",
    "                                # the lowest frequency is 472 for a particular entry"
   ]
  },
  {
   "cell_type": "code",
   "execution_count": 722,
   "metadata": {},
   "outputs": [],
   "source": [
    "s = df['Person A'].value_counts()"
   ]
  },
  {
   "cell_type": "code",
   "execution_count": 751,
   "metadata": {},
   "outputs": [],
   "source": [
    "vc_item1 = df['Person A'].value_counts()\n",
    "\n",
    "df['Person A']=df['Person A'].apply(lambda x: vc_item1[x])"
   ]
  },
  {
   "cell_type": "code",
   "execution_count": 731,
   "metadata": {},
   "outputs": [
    {
     "data": {
      "text/plain": [
       "100"
      ]
     },
     "execution_count": 731,
     "metadata": {},
     "output_type": "execute_result"
    }
   ],
   "source": [
    "len(df['Person B'].unique())  # there are 100 unique names in Person B column"
   ]
  },
  {
   "cell_type": "code",
   "execution_count": 732,
   "metadata": {},
   "outputs": [
    {
     "data": {
      "text/plain": [
       "Denni         617\n",
       "Wilhelmina    612\n",
       "Carree        604\n",
       "Georgeanne    597\n",
       "Lotty         591\n",
       "             ... \n",
       "Shantee       497\n",
       "Taffy         496\n",
       "Claresta      495\n",
       "Carley        490\n",
       "Saree         483\n",
       "Name: Person B, Length: 100, dtype: int64"
      ]
     },
     "execution_count": 732,
     "metadata": {},
     "output_type": "execute_result"
    }
   ],
   "source": [
    "df['Person B'].value_counts()  # the heighest frequency is 617 for a particular entry\n",
    "                                # the lowest frequency is 483 for a particular entry"
   ]
  },
  {
   "cell_type": "code",
   "execution_count": 750,
   "metadata": {},
   "outputs": [],
   "source": [
    "vc_item1 = df['Person B'].value_counts()\n",
    "\n",
    "df['Person B']=df['Person B'].apply(lambda x: vc_item1[x])"
   ]
  },
  {
   "cell_type": "code",
   "execution_count": 734,
   "metadata": {},
   "outputs": [
    {
     "data": {
      "text/plain": [
       "count    54697.000000\n",
       "mean         4.650547\n",
       "std          3.371210\n",
       "min          0.000286\n",
       "25%          2.062862\n",
       "50%          3.781148\n",
       "75%          6.295307\n",
       "max         14.999167\n",
       "Name: Years of Knowing, dtype: float64"
      ]
     },
     "execution_count": 734,
     "metadata": {},
     "output_type": "execute_result"
    }
   ],
   "source": [
    "df['Years of Knowing'].describe()   # here the max years of knowing is 15.26\n",
    "                                    # and min years of knowing is 0"
   ]
  },
  {
   "cell_type": "code",
   "execution_count": 735,
   "metadata": {},
   "outputs": [
    {
     "data": {
      "text/plain": [
       "6"
      ]
     },
     "execution_count": 735,
     "metadata": {},
     "output_type": "execute_result"
    }
   ],
   "source": [
    "len(df['Interaction Type'].unique())   # 6 unique values in Interaction Type"
   ]
  },
  {
   "cell_type": "code",
   "execution_count": 736,
   "metadata": {},
   "outputs": [
    {
     "data": {
      "text/plain": [
       "array(['Class', 'At Work', 'Over a Meal', 'Social_Media', 'Party',\n",
       "       'In Passing'], dtype=object)"
      ]
     },
     "execution_count": 736,
     "metadata": {},
     "output_type": "execute_result"
    }
   ],
   "source": [
    "df['Interaction Type'].unique()     # namely ------\n",
    "                                    #1 'Social_Media',\n",
    "                                    #2 'In Passing',\n",
    "                                    #3 'Over a Meal',\n",
    "                                    #4 'Party',\n",
    "                                    #5 'Class',\n",
    "                                    #6 'At Work'"
   ]
  },
  {
   "cell_type": "code",
   "execution_count": 737,
   "metadata": {},
   "outputs": [
    {
     "data": {
      "text/plain": [
       "<matplotlib.axes._subplots.AxesSubplot at 0x7f98a8116b38>"
      ]
     },
     "execution_count": 737,
     "metadata": {},
     "output_type": "execute_result"
    },
    {
     "data": {
      "image/png": "[encoded data removed]",
      "text/plain": [
       "<Figure size 1440x432 with 1 Axes>"
      ]
     },
     "metadata": {
      "needs_background": "light"
     },
     "output_type": "display_data"
    }
   ],
   "source": [
    "import seaborn as sns\n",
    "plt.figure(figsize=(20,6))\n",
    "sns.countplot(df['Interaction Type'],hue=df['Friends'])"
   ]
  },
  {
   "cell_type": "code",
   "execution_count": 738,
   "metadata": {},
   "outputs": [
    {
     "data": {
      "text/plain": [
       "count    54697.000000\n",
       "mean        10.350016\n",
       "std          7.013008\n",
       "min          0.000176\n",
       "25%          4.830330\n",
       "50%          9.032467\n",
       "75%         14.525737\n",
       "max         29.999377\n",
       "Name: Interaction Duration, dtype: float64"
      ]
     },
     "execution_count": 738,
     "metadata": {},
     "output_type": "execute_result"
    }
   ],
   "source": [
    "df['Interaction Duration'].describe()   # here the max Interaction Duration is 30.86\n",
    "                                        # and min Interaction Duration is 0"
   ]
  },
  {
   "cell_type": "code",
   "execution_count": 739,
   "metadata": {},
   "outputs": [],
   "source": [
    "# df['mult_years_dur'] = df['Years of Knowing'] + df['Interaction Duration']"
   ]
  },
  {
   "cell_type": "code",
   "execution_count": 740,
   "metadata": {},
   "outputs": [
    {
     "data": {
      "text/plain": [
       "8"
      ]
     },
     "execution_count": 740,
     "metadata": {},
     "output_type": "execute_result"
    }
   ],
   "source": [
    "len(df['Moon Phase During Interaction'].unique())  # 8 unique values in Moon Phase During Interaction"
   ]
  },
  {
   "cell_type": "code",
   "execution_count": 741,
   "metadata": {},
   "outputs": [
    {
     "data": {
      "image/png": "[encoded data removed]",
      "text/plain": [
       "<Figure size 1440x432 with 1 Axes>"
      ]
     },
     "metadata": {
      "needs_background": "light"
     },
     "output_type": "display_data"
    }
   ],
   "source": [
    "plt.figure(figsize=(20,6))\n",
    "sns.countplot(df['Moon Phase During Interaction'],hue=df['Friends'])\n",
    "plt.show()"
   ]
  },
  {
   "cell_type": "code",
   "execution_count": 742,
   "metadata": {},
   "outputs": [
    {
     "data": {
      "text/plain": [
       "<matplotlib.axes._subplots.AxesSubplot at 0x7f98a858d940>"
      ]
     },
     "execution_count": 742,
     "metadata": {},
     "output_type": "execute_result"
    },
    {
     "data": {
      "image/png": "[encoded data removed]",
      "text/plain": [
       "<Figure size 1440x432 with 1 Axes>"
      ]
     },
     "metadata": {
      "needs_background": "light"
     },
     "output_type": "display_data"
    }
   ],
   "source": [
    "plt.figure(figsize=(20,6))\n",
    "sns.countplot(df['Interaction Type'],hue=df['Moon Phase During Interaction'])"
   ]
  },
  {
   "cell_type": "code",
   "execution_count": 745,
   "metadata": {},
   "outputs": [
    {
     "data": {
      "text/plain": [
       "array(['Waning_Gibbous', 'Waxing_Cresent', 'New_Moon', 'Waxing_Gibbous',\n",
       "       'First_Quarter', 'Third_Quarter', 'Full_Moon', 'Waning_Cresent'],\n",
       "      dtype=object)"
      ]
     },
     "execution_count": 745,
     "metadata": {},
     "output_type": "execute_result"
    }
   ],
   "source": [
    "df['Moon Phase During Interaction'].unique()\n",
    "# namely          "
   ]
  },
  {
   "cell_type": "code",
   "execution_count": 746,
   "metadata": {},
   "outputs": [
    {
     "data": {
      "text/plain": [
       "array([1, 0])"
      ]
     },
     "execution_count": 746,
     "metadata": {},
     "output_type": "execute_result"
    }
   ],
   "source": [
    "df['Friends'].unique()   # the target values are only 1 or 0"
   ]
  },
  {
   "cell_type": "code",
   "execution_count": 747,
   "metadata": {},
   "outputs": [
    {
     "data": {
      "text/plain": [
       "0    28125\n",
       "1    26572\n",
       "Name: Friends, dtype: int64"
      ]
     },
     "execution_count": 747,
     "metadata": {},
     "output_type": "execute_result"
    }
   ],
   "source": [
    "df['Friends'].value_counts()"
   ]
  },
  {
   "cell_type": "code",
   "execution_count": 752,
   "metadata": {},
   "outputs": [],
   "source": [
    "X_train = df.drop(['Friends'],axis=1)\n"
   ]
  },
  {
   "cell_type": "code",
   "execution_count": 753,
   "metadata": {},
   "outputs": [
    {
     "data": {
      "text/html": [
       "<div>\n",
       "<style scoped>\n",
       "    .dataframe tbody tr th:only-of-type {\n",
       "        vertical-align: middle;\n",
       "    }\n",
       "\n",
       "    .dataframe tbody tr th {\n",
       "        vertical-align: top;\n",
       "    }\n",
       "\n",
       "    .dataframe thead th {\n",
       "        text-align: right;\n",
       "    }\n",
       "</style>\n",
       "<table border=\"1\" class=\"dataframe\">\n",
       "  <thead>\n",
       "    <tr style=\"text-align: right;\">\n",
       "      <th></th>\n",
       "      <th>Person A</th>\n",
       "      <th>Person B</th>\n",
       "      <th>Years of Knowing</th>\n",
       "      <th>Interaction Duration</th>\n",
       "      <th>Interaction Type</th>\n",
       "      <th>Moon Phase During Interaction</th>\n",
       "    </tr>\n",
       "  </thead>\n",
       "  <tbody>\n",
       "    <tr>\n",
       "      <th>0</th>\n",
       "      <td>535</td>\n",
       "      <td>535</td>\n",
       "      <td>3.876560</td>\n",
       "      <td>13.035115</td>\n",
       "      <td>Class</td>\n",
       "      <td>Waning_Gibbous</td>\n",
       "    </tr>\n",
       "    <tr>\n",
       "      <th>1</th>\n",
       "      <td>566</td>\n",
       "      <td>517</td>\n",
       "      <td>2.836218</td>\n",
       "      <td>5.811429</td>\n",
       "      <td>At Work</td>\n",
       "      <td>Waxing_Cresent</td>\n",
       "    </tr>\n",
       "    <tr>\n",
       "      <th>2</th>\n",
       "      <td>542</td>\n",
       "      <td>604</td>\n",
       "      <td>3.006119</td>\n",
       "      <td>4.882863</td>\n",
       "      <td>Over a Meal</td>\n",
       "      <td>New_Moon</td>\n",
       "    </tr>\n",
       "    <tr>\n",
       "      <th>3</th>\n",
       "      <td>573</td>\n",
       "      <td>576</td>\n",
       "      <td>2.960067</td>\n",
       "      <td>9.274924</td>\n",
       "      <td>Social_Media</td>\n",
       "      <td>Waxing_Gibbous</td>\n",
       "    </tr>\n",
       "    <tr>\n",
       "      <th>4</th>\n",
       "      <td>569</td>\n",
       "      <td>564</td>\n",
       "      <td>7.640688</td>\n",
       "      <td>8.843167</td>\n",
       "      <td>Class</td>\n",
       "      <td>First_Quarter</td>\n",
       "    </tr>\n",
       "    <tr>\n",
       "      <th>...</th>\n",
       "      <td>...</td>\n",
       "      <td>...</td>\n",
       "      <td>...</td>\n",
       "      <td>...</td>\n",
       "      <td>...</td>\n",
       "      <td>...</td>\n",
       "    </tr>\n",
       "    <tr>\n",
       "      <th>54692</th>\n",
       "      <td>573</td>\n",
       "      <td>567</td>\n",
       "      <td>3.071479</td>\n",
       "      <td>14.986872</td>\n",
       "      <td>At Work</td>\n",
       "      <td>Waning_Gibbous</td>\n",
       "    </tr>\n",
       "    <tr>\n",
       "      <th>54693</th>\n",
       "      <td>535</td>\n",
       "      <td>561</td>\n",
       "      <td>2.475533</td>\n",
       "      <td>8.963448</td>\n",
       "      <td>Social_Media</td>\n",
       "      <td>Waxing_Cresent</td>\n",
       "    </tr>\n",
       "    <tr>\n",
       "      <th>54694</th>\n",
       "      <td>542</td>\n",
       "      <td>573</td>\n",
       "      <td>1.973262</td>\n",
       "      <td>2.824698</td>\n",
       "      <td>At Work</td>\n",
       "      <td>Waning_Cresent</td>\n",
       "    </tr>\n",
       "    <tr>\n",
       "      <th>54695</th>\n",
       "      <td>592</td>\n",
       "      <td>502</td>\n",
       "      <td>0.335327</td>\n",
       "      <td>1.738562</td>\n",
       "      <td>In Passing</td>\n",
       "      <td>Waning_Cresent</td>\n",
       "    </tr>\n",
       "    <tr>\n",
       "      <th>54696</th>\n",
       "      <td>570</td>\n",
       "      <td>503</td>\n",
       "      <td>1.491864</td>\n",
       "      <td>0.248934</td>\n",
       "      <td>Class</td>\n",
       "      <td>First_Quarter</td>\n",
       "    </tr>\n",
       "  </tbody>\n",
       "</table>\n",
       "<p>54697 rows × 6 columns</p>\n",
       "</div>"
      ],
      "text/plain": [
       "       Person A  Person B  Years of Knowing  Interaction Duration  \\\n",
       "0           535       535          3.876560             13.035115   \n",
       "1           566       517          2.836218              5.811429   \n",
       "2           542       604          3.006119              4.882863   \n",
       "3           573       576          2.960067              9.274924   \n",
       "4           569       564          7.640688              8.843167   \n",
       "...         ...       ...               ...                   ...   \n",
       "54692       573       567          3.071479             14.986872   \n",
       "54693       535       561          2.475533              8.963448   \n",
       "54694       542       573          1.973262              2.824698   \n",
       "54695       592       502          0.335327              1.738562   \n",
       "54696       570       503          1.491864              0.248934   \n",
       "\n",
       "      Interaction Type Moon Phase During Interaction  \n",
       "0                Class                Waning_Gibbous  \n",
       "1              At Work                Waxing_Cresent  \n",
       "2          Over a Meal                      New_Moon  \n",
       "3         Social_Media                Waxing_Gibbous  \n",
       "4                Class                 First_Quarter  \n",
       "...                ...                           ...  \n",
       "54692          At Work                Waning_Gibbous  \n",
       "54693     Social_Media                Waxing_Cresent  \n",
       "54694          At Work                Waning_Cresent  \n",
       "54695       In Passing                Waning_Cresent  \n",
       "54696            Class                 First_Quarter  \n",
       "\n",
       "[54697 rows x 6 columns]"
      ]
     },
     "execution_count": 753,
     "metadata": {},
     "output_type": "execute_result"
    }
   ],
   "source": [
    "X_train"
   ]
  },
  {
   "cell_type": "code",
   "execution_count": 371,
   "metadata": {},
   "outputs": [],
   "source": [
    "# from sklearn import preprocessing\n",
    "\n",
    "\n",
    "\n",
    "# categorical = ['Person A','Person B','Interaction Type','Moon Phase During Interaction']\n",
    "# # categorical = []\n",
    "\n",
    "# for feature in categorical:\n",
    "#         le = preprocessing.LabelEncoder()\n",
    "#         X_train[feature] = le.fit_transform(X_train[feature])\n",
    "#         X_test[feature] = le.transform(X_test[feature])\n"
   ]
  },
  {
   "cell_type": "markdown",
   "metadata": {},
   "source": [
    "# ------------------Setting feature vector and target variable --------------------------------"
   ]
  },
  {
   "cell_type": "code",
   "execution_count": 754,
   "metadata": {},
   "outputs": [],
   "source": [
    "X= df.drop(['Friends','Interaction Type','Moon Phase During Interaction'],axis=1)\n",
    "# X= df\n"
   ]
  },
  {
   "cell_type": "code",
   "execution_count": 755,
   "metadata": {},
   "outputs": [],
   "source": [
    "y = df['Friends']"
   ]
  },
  {
   "cell_type": "code",
   "execution_count": 756,
   "metadata": {},
   "outputs": [
    {
     "data": {
      "text/html": [
       "<div>\n",
       "<style scoped>\n",
       "    .dataframe tbody tr th:only-of-type {\n",
       "        vertical-align: middle;\n",
       "    }\n",
       "\n",
       "    .dataframe tbody tr th {\n",
       "        vertical-align: top;\n",
       "    }\n",
       "\n",
       "    .dataframe thead th {\n",
       "        text-align: right;\n",
       "    }\n",
       "</style>\n",
       "<table border=\"1\" class=\"dataframe\">\n",
       "  <thead>\n",
       "    <tr style=\"text-align: right;\">\n",
       "      <th></th>\n",
       "      <th>Person A</th>\n",
       "      <th>Person B</th>\n",
       "      <th>Years of Knowing</th>\n",
       "      <th>Interaction Duration</th>\n",
       "    </tr>\n",
       "  </thead>\n",
       "  <tbody>\n",
       "    <tr>\n",
       "      <th>0</th>\n",
       "      <td>535</td>\n",
       "      <td>535</td>\n",
       "      <td>3.876560</td>\n",
       "      <td>13.035115</td>\n",
       "    </tr>\n",
       "    <tr>\n",
       "      <th>1</th>\n",
       "      <td>566</td>\n",
       "      <td>517</td>\n",
       "      <td>2.836218</td>\n",
       "      <td>5.811429</td>\n",
       "    </tr>\n",
       "    <tr>\n",
       "      <th>2</th>\n",
       "      <td>542</td>\n",
       "      <td>604</td>\n",
       "      <td>3.006119</td>\n",
       "      <td>4.882863</td>\n",
       "    </tr>\n",
       "    <tr>\n",
       "      <th>3</th>\n",
       "      <td>573</td>\n",
       "      <td>576</td>\n",
       "      <td>2.960067</td>\n",
       "      <td>9.274924</td>\n",
       "    </tr>\n",
       "  </tbody>\n",
       "</table>\n",
       "</div>"
      ],
      "text/plain": [
       "   Person A  Person B  Years of Knowing  Interaction Duration\n",
       "0       535       535          3.876560             13.035115\n",
       "1       566       517          2.836218              5.811429\n",
       "2       542       604          3.006119              4.882863\n",
       "3       573       576          2.960067              9.274924"
      ]
     },
     "execution_count": 756,
     "metadata": {},
     "output_type": "execute_result"
    }
   ],
   "source": [
    "X.head(4)"
   ]
  },
  {
   "cell_type": "code",
   "execution_count": null,
   "metadata": {},
   "outputs": [],
   "source": []
  },
  {
   "cell_type": "code",
   "execution_count": null,
   "metadata": {},
   "outputs": [],
   "source": []
  },
  {
   "cell_type": "markdown",
   "metadata": {},
   "source": [
    "# Split data into separate training and test set"
   ]
  },
  {
   "cell_type": "code",
   "execution_count": 813,
   "metadata": {},
   "outputs": [],
   "source": [
    "from sklearn.model_selection import train_test_split\n",
    "\n",
    "X_train, X_test, y_train, y_test = train_test_split(X, y, test_size = 0.001, random_state = 0)\n",
    "\n"
   ]
  },
  {
   "cell_type": "code",
   "execution_count": 814,
   "metadata": {},
   "outputs": [
    {
     "name": "stdout",
     "output_type": "stream",
     "text": [
      "(55, 4)\n",
      "(54642, 4)\n"
     ]
    }
   ],
   "source": [
    "print(X_test.shape)\n",
    "print(X_train.shape)"
   ]
  },
  {
   "cell_type": "markdown",
   "metadata": {},
   "source": [
    "# Feature Engineering"
   ]
  },
  {
   "cell_type": "markdown",
   "metadata": {},
   "source": [
    "Encode categorical variables"
   ]
  },
  {
   "cell_type": "code",
   "execution_count": 815,
   "metadata": {},
   "outputs": [],
   "source": [
    "from sklearn import preprocessing\n",
    "\n",
    "# categorical = ['Person A', 'Person B', 'Interaction Type', 'Moon Phase During Interaction']\n",
    "categorical = []\n",
    "\n",
    "for feature in categorical:\n",
    "        le = preprocessing.LabelEncoder()\n",
    "        X_train[feature] = le.fit_transform(X_train[feature])\n",
    "        X_test[feature] = le.transform(X_test[feature])\n"
   ]
  },
  {
   "cell_type": "code",
   "execution_count": 816,
   "metadata": {},
   "outputs": [
    {
     "data": {
      "text/html": [
       "<div>\n",
       "<style scoped>\n",
       "    .dataframe tbody tr th:only-of-type {\n",
       "        vertical-align: middle;\n",
       "    }\n",
       "\n",
       "    .dataframe tbody tr th {\n",
       "        vertical-align: top;\n",
       "    }\n",
       "\n",
       "    .dataframe thead th {\n",
       "        text-align: right;\n",
       "    }\n",
       "</style>\n",
       "<table border=\"1\" class=\"dataframe\">\n",
       "  <thead>\n",
       "    <tr style=\"text-align: right;\">\n",
       "      <th></th>\n",
       "      <th>Person A</th>\n",
       "      <th>Person B</th>\n",
       "      <th>Years of Knowing</th>\n",
       "      <th>Interaction Duration</th>\n",
       "    </tr>\n",
       "  </thead>\n",
       "  <tbody>\n",
       "    <tr>\n",
       "      <th>36801</th>\n",
       "      <td>549</td>\n",
       "      <td>546</td>\n",
       "      <td>7.445771</td>\n",
       "      <td>10.744683</td>\n",
       "    </tr>\n",
       "    <tr>\n",
       "      <th>11773</th>\n",
       "      <td>526</td>\n",
       "      <td>519</td>\n",
       "      <td>1.201607</td>\n",
       "      <td>2.087251</td>\n",
       "    </tr>\n",
       "    <tr>\n",
       "      <th>41423</th>\n",
       "      <td>571</td>\n",
       "      <td>543</td>\n",
       "      <td>6.232314</td>\n",
       "      <td>17.273898</td>\n",
       "    </tr>\n",
       "    <tr>\n",
       "      <th>52812</th>\n",
       "      <td>487</td>\n",
       "      <td>546</td>\n",
       "      <td>10.389375</td>\n",
       "      <td>18.594571</td>\n",
       "    </tr>\n",
       "    <tr>\n",
       "      <th>7701</th>\n",
       "      <td>578</td>\n",
       "      <td>597</td>\n",
       "      <td>0.653377</td>\n",
       "      <td>3.174245</td>\n",
       "    </tr>\n",
       "  </tbody>\n",
       "</table>\n",
       "</div>"
      ],
      "text/plain": [
       "       Person A  Person B  Years of Knowing  Interaction Duration\n",
       "36801       549       546          7.445771             10.744683\n",
       "11773       526       519          1.201607              2.087251\n",
       "41423       571       543          6.232314             17.273898\n",
       "52812       487       546         10.389375             18.594571\n",
       "7701        578       597          0.653377              3.174245"
      ]
     },
     "execution_count": 816,
     "metadata": {},
     "output_type": "execute_result"
    }
   ],
   "source": [
    "X_train.head()"
   ]
  },
  {
   "cell_type": "code",
   "execution_count": 817,
   "metadata": {},
   "outputs": [
    {
     "data": {
      "text/plain": [
       "<matplotlib.axes._subplots.AxesSubplot at 0x7f98a3d2ebe0>"
      ]
     },
     "execution_count": 817,
     "metadata": {},
     "output_type": "execute_result"
    },
    {
     "data": {
      "image/png": "[encoded data removed]",
      "text/plain": [
       "<Figure size 432x288 with 2 Axes>"
      ]
     },
     "metadata": {
      "needs_background": "light"
     },
     "output_type": "display_data"
    }
   ],
   "source": [
    "temp_df = df.drop(['Interaction Type','Moon Phase During Interaction'],axis=1)\n",
    "tc = temp_df.corr() \n",
    "  \n",
    "sns.heatmap(tc, annot = True, cmap ='plasma',  \n",
    "            linecolor ='black', linewidths = 1) \n"
   ]
  },
  {
   "cell_type": "markdown",
   "metadata": {},
   "source": [
    "# Feature Scaling"
   ]
  },
  {
   "cell_type": "code",
   "execution_count": 818,
   "metadata": {},
   "outputs": [],
   "source": [
    "from sklearn.preprocessing import StandardScaler\n",
    "\n",
    "scaler = StandardScaler()\n",
    "\n",
    "X_train = pd.DataFrame(scaler.fit_transform(X_train), columns = X.columns)\n",
    "\n",
    "X_test = pd.DataFrame(scaler.transform(X_test), columns = X.columns)"
   ]
  },
  {
   "cell_type": "code",
   "execution_count": 819,
   "metadata": {},
   "outputs": [],
   "source": [
    "# from sklearn.preprocessing import StandardScaler, MinMaxScaler\n",
    "\n",
    "# Title_scaler = MinMaxScaler()\n",
    "# X_train_scaled = Title_scaler.fit_transform(X_train)\n",
    "# X_test_scaled = Title_scaler.transform(X_test)"
   ]
  },
  {
   "cell_type": "code",
   "execution_count": 820,
   "metadata": {},
   "outputs": [
    {
     "data": {
      "text/html": [
       "<div>\n",
       "<style scoped>\n",
       "    .dataframe tbody tr th:only-of-type {\n",
       "        vertical-align: middle;\n",
       "    }\n",
       "\n",
       "    .dataframe tbody tr th {\n",
       "        vertical-align: top;\n",
       "    }\n",
       "\n",
       "    .dataframe thead th {\n",
       "        text-align: right;\n",
       "    }\n",
       "</style>\n",
       "<table border=\"1\" class=\"dataframe\">\n",
       "  <thead>\n",
       "    <tr style=\"text-align: right;\">\n",
       "      <th></th>\n",
       "      <th>Person A</th>\n",
       "      <th>Person B</th>\n",
       "      <th>Years of Knowing</th>\n",
       "      <th>Interaction Duration</th>\n",
       "    </tr>\n",
       "  </thead>\n",
       "  <tbody>\n",
       "    <tr>\n",
       "      <th>0</th>\n",
       "      <td>0.010854</td>\n",
       "      <td>-0.08568</td>\n",
       "      <td>0.828998</td>\n",
       "      <td>0.056222</td>\n",
       "    </tr>\n",
       "    <tr>\n",
       "      <th>1</th>\n",
       "      <td>-0.747873</td>\n",
       "      <td>-1.05390</td>\n",
       "      <td>-1.023047</td>\n",
       "      <td>-1.178207</td>\n",
       "    </tr>\n",
       "    <tr>\n",
       "      <th>2</th>\n",
       "      <td>0.736593</td>\n",
       "      <td>-0.19326</td>\n",
       "      <td>0.469081</td>\n",
       "      <td>0.987196</td>\n",
       "    </tr>\n",
       "    <tr>\n",
       "      <th>3</th>\n",
       "      <td>-2.034409</td>\n",
       "      <td>-0.08568</td>\n",
       "      <td>1.702083</td>\n",
       "      <td>1.175505</td>\n",
       "    </tr>\n",
       "    <tr>\n",
       "      <th>4</th>\n",
       "      <td>0.967510</td>\n",
       "      <td>1.74318</td>\n",
       "      <td>-1.185655</td>\n",
       "      <td>-1.023216</td>\n",
       "    </tr>\n",
       "  </tbody>\n",
       "</table>\n",
       "</div>"
      ],
      "text/plain": [
       "   Person A  Person B  Years of Knowing  Interaction Duration\n",
       "0  0.010854  -0.08568          0.828998              0.056222\n",
       "1 -0.747873  -1.05390         -1.023047             -1.178207\n",
       "2  0.736593  -0.19326          0.469081              0.987196\n",
       "3 -2.034409  -0.08568          1.702083              1.175505\n",
       "4  0.967510   1.74318         -1.185655             -1.023216"
      ]
     },
     "execution_count": 820,
     "metadata": {},
     "output_type": "execute_result"
    }
   ],
   "source": [
    "X_train.head()"
   ]
  },
  {
   "cell_type": "code",
   "execution_count": 821,
   "metadata": {},
   "outputs": [
    {
     "data": {
      "text/html": [
       "<div>\n",
       "<style scoped>\n",
       "    .dataframe tbody tr th:only-of-type {\n",
       "        vertical-align: middle;\n",
       "    }\n",
       "\n",
       "    .dataframe tbody tr th {\n",
       "        vertical-align: top;\n",
       "    }\n",
       "\n",
       "    .dataframe thead th {\n",
       "        text-align: right;\n",
       "    }\n",
       "</style>\n",
       "<table border=\"1\" class=\"dataframe\">\n",
       "  <thead>\n",
       "    <tr style=\"text-align: right;\">\n",
       "      <th></th>\n",
       "      <th>Person A</th>\n",
       "      <th>Person B</th>\n",
       "      <th>Years of Knowing</th>\n",
       "      <th>Interaction Duration</th>\n",
       "    </tr>\n",
       "  </thead>\n",
       "  <tbody>\n",
       "    <tr>\n",
       "      <th>0</th>\n",
       "      <td>1.429343</td>\n",
       "      <td>0.70324</td>\n",
       "      <td>-0.385810</td>\n",
       "      <td>-0.040575</td>\n",
       "    </tr>\n",
       "    <tr>\n",
       "      <th>1</th>\n",
       "      <td>-2.529231</td>\n",
       "      <td>0.73910</td>\n",
       "      <td>-0.687294</td>\n",
       "      <td>-0.673978</td>\n",
       "    </tr>\n",
       "    <tr>\n",
       "      <th>2</th>\n",
       "      <td>-1.638552</td>\n",
       "      <td>1.06184</td>\n",
       "      <td>-0.641998</td>\n",
       "      <td>0.283455</td>\n",
       "    </tr>\n",
       "    <tr>\n",
       "      <th>3</th>\n",
       "      <td>0.670617</td>\n",
       "      <td>-1.12562</td>\n",
       "      <td>1.051690</td>\n",
       "      <td>0.334908</td>\n",
       "    </tr>\n",
       "    <tr>\n",
       "      <th>4</th>\n",
       "      <td>-0.483968</td>\n",
       "      <td>0.70324</td>\n",
       "      <td>-0.321386</td>\n",
       "      <td>-0.220744</td>\n",
       "    </tr>\n",
       "  </tbody>\n",
       "</table>\n",
       "</div>"
      ],
      "text/plain": [
       "   Person A  Person B  Years of Knowing  Interaction Duration\n",
       "0  1.429343   0.70324         -0.385810             -0.040575\n",
       "1 -2.529231   0.73910         -0.687294             -0.673978\n",
       "2 -1.638552   1.06184         -0.641998              0.283455\n",
       "3  0.670617  -1.12562          1.051690              0.334908\n",
       "4 -0.483968   0.70324         -0.321386             -0.220744"
      ]
     },
     "execution_count": 821,
     "metadata": {},
     "output_type": "execute_result"
    }
   ],
   "source": [
    "X_test.head()"
   ]
  },
  {
   "cell_type": "markdown",
   "metadata": {},
   "source": [
    "# Logistic Regression model with all features"
   ]
  },
  {
   "cell_type": "code",
   "execution_count": 822,
   "metadata": {},
   "outputs": [],
   "source": [
    "accuracy_dict = { 'LR':0\n",
    "                }"
   ]
  },
  {
   "cell_type": "code",
   "execution_count": 823,
   "metadata": {},
   "outputs": [
    {
     "name": "stdout",
     "output_type": "stream",
     "text": [
      "Logistic Regression accuracy score with all 6 the features: 0.8364\n"
     ]
    }
   ],
   "source": [
    "from sklearn.linear_model import LogisticRegression\n",
    "from sklearn.metrics import accuracy_score\n",
    "\n",
    "logreg = LogisticRegression()\n",
    "logreg.fit(X_train, y_train)\n",
    "y_pred = logreg.predict(X_test)\n",
    "\n",
    "print('Logistic Regression accuracy score with all 6 the features: {0:0.4f}'. format(accuracy_score(y_test, y_pred)))"
   ]
  },
  {
   "cell_type": "code",
   "execution_count": 824,
   "metadata": {},
   "outputs": [],
   "source": [
    "accuracy_dict['LR']=0.9147"
   ]
  },
  {
   "cell_type": "code",
   "execution_count": 825,
   "metadata": {},
   "outputs": [
    {
     "data": {
      "text/plain": [
       "0.9156143625782365"
      ]
     },
     "execution_count": 825,
     "metadata": {},
     "output_type": "execute_result"
    }
   ],
   "source": [
    "logreg.score(X_train, y_train)\n"
   ]
  },
  {
   "cell_type": "markdown",
   "metadata": {},
   "source": [
    "# PCA"
   ]
  },
  {
   "cell_type": "code",
   "execution_count": 826,
   "metadata": {},
   "outputs": [
    {
     "data": {
      "text/plain": [
       "array([0.44635438, 0.25321826, 0.23971648, 0.06071089])"
      ]
     },
     "execution_count": 826,
     "metadata": {},
     "output_type": "execute_result"
    }
   ],
   "source": [
    "from sklearn.decomposition import PCA\n",
    "pca = PCA()\n",
    "temp_X_train= X_train\n",
    "temp_X_train = pca.fit_transform(temp_X_train)\n",
    "pca.explained_variance_ratio_"
   ]
  },
  {
   "cell_type": "code",
   "execution_count": 827,
   "metadata": {},
   "outputs": [],
   "source": [
    "# As we can see every feature adds significant variance hence\n",
    "# droping the variables in this case is not a good idea! Therefore we should use every \n",
    "# feature present to build our model as done previously."
   ]
  },
  {
   "cell_type": "code",
   "execution_count": 828,
   "metadata": {},
   "outputs": [
    {
     "data": {
      "image/png": "[encoded data removed]",
      "text/plain": [
       "<Figure size 576x432 with 1 Axes>"
      ]
     },
     "metadata": {
      "needs_background": "light"
     },
     "output_type": "display_data"
    }
   ],
   "source": [
    "plt.figure(figsize=(8,6))\n",
    "plt.plot(np.cumsum(pca.explained_variance_ratio_))\n",
    "plt.xlim(0,5,1)\n",
    "plt.xlabel('Number of components')\n",
    "plt.ylabel('Cumulative explained variance')\n",
    "plt.show()\n",
    "# ploting cumulative explained variance ratio with number \n",
    "# of components to show how variance ratio varies with number of components."
   ]
  },
  {
   "cell_type": "code",
   "execution_count": 829,
   "metadata": {},
   "outputs": [],
   "source": [
    "# X_train = X_train.iloc[: , 0:2]\n",
    "\n",
    "\n",
    "# X_test = X_test.iloc[: , 0:2]"
   ]
  },
  {
   "cell_type": "code",
   "execution_count": 830,
   "metadata": {},
   "outputs": [],
   "source": [
    "# X_train['Years of Knowing']= X_train['Years of Knowing']*3\n",
    "# X_train['Interaction Duration']= X_train['Interaction Duration']*1.7"
   ]
  },
  {
   "cell_type": "code",
   "execution_count": 831,
   "metadata": {},
   "outputs": [
    {
     "data": {
      "text/html": [
       "<div>\n",
       "<style scoped>\n",
       "    .dataframe tbody tr th:only-of-type {\n",
       "        vertical-align: middle;\n",
       "    }\n",
       "\n",
       "    .dataframe tbody tr th {\n",
       "        vertical-align: top;\n",
       "    }\n",
       "\n",
       "    .dataframe thead th {\n",
       "        text-align: right;\n",
       "    }\n",
       "</style>\n",
       "<table border=\"1\" class=\"dataframe\">\n",
       "  <thead>\n",
       "    <tr style=\"text-align: right;\">\n",
       "      <th></th>\n",
       "      <th>Person A</th>\n",
       "      <th>Person B</th>\n",
       "      <th>Years of Knowing</th>\n",
       "      <th>Interaction Duration</th>\n",
       "    </tr>\n",
       "  </thead>\n",
       "  <tbody>\n",
       "    <tr>\n",
       "      <th>0</th>\n",
       "      <td>0.010854</td>\n",
       "      <td>-0.085680</td>\n",
       "      <td>0.828998</td>\n",
       "      <td>0.056222</td>\n",
       "    </tr>\n",
       "    <tr>\n",
       "      <th>1</th>\n",
       "      <td>-0.747873</td>\n",
       "      <td>-1.053900</td>\n",
       "      <td>-1.023047</td>\n",
       "      <td>-1.178207</td>\n",
       "    </tr>\n",
       "    <tr>\n",
       "      <th>2</th>\n",
       "      <td>0.736593</td>\n",
       "      <td>-0.193260</td>\n",
       "      <td>0.469081</td>\n",
       "      <td>0.987196</td>\n",
       "    </tr>\n",
       "    <tr>\n",
       "      <th>3</th>\n",
       "      <td>-2.034409</td>\n",
       "      <td>-0.085680</td>\n",
       "      <td>1.702083</td>\n",
       "      <td>1.175505</td>\n",
       "    </tr>\n",
       "    <tr>\n",
       "      <th>4</th>\n",
       "      <td>0.967510</td>\n",
       "      <td>1.743180</td>\n",
       "      <td>-1.185655</td>\n",
       "      <td>-1.023216</td>\n",
       "    </tr>\n",
       "    <tr>\n",
       "      <th>...</th>\n",
       "      <td>...</td>\n",
       "      <td>...</td>\n",
       "      <td>...</td>\n",
       "      <td>...</td>\n",
       "    </tr>\n",
       "    <tr>\n",
       "      <th>54637</th>\n",
       "      <td>0.439700</td>\n",
       "      <td>-0.229120</td>\n",
       "      <td>0.621509</td>\n",
       "      <td>-0.020562</td>\n",
       "    </tr>\n",
       "    <tr>\n",
       "      <th>54638</th>\n",
       "      <td>0.736593</td>\n",
       "      <td>0.129480</td>\n",
       "      <td>-0.141511</td>\n",
       "      <td>0.529630</td>\n",
       "    </tr>\n",
       "    <tr>\n",
       "      <th>54639</th>\n",
       "      <td>-0.483968</td>\n",
       "      <td>-1.806961</td>\n",
       "      <td>-0.267297</td>\n",
       "      <td>-0.902443</td>\n",
       "    </tr>\n",
       "    <tr>\n",
       "      <th>54640</th>\n",
       "      <td>-1.176718</td>\n",
       "      <td>-0.264980</td>\n",
       "      <td>0.911683</td>\n",
       "      <td>1.386128</td>\n",
       "    </tr>\n",
       "    <tr>\n",
       "      <th>54641</th>\n",
       "      <td>0.010854</td>\n",
       "      <td>-0.229120</td>\n",
       "      <td>-1.131785</td>\n",
       "      <td>-1.163963</td>\n",
       "    </tr>\n",
       "  </tbody>\n",
       "</table>\n",
       "<p>54642 rows × 4 columns</p>\n",
       "</div>"
      ],
      "text/plain": [
       "       Person A  Person B  Years of Knowing  Interaction Duration\n",
       "0      0.010854 -0.085680          0.828998              0.056222\n",
       "1     -0.747873 -1.053900         -1.023047             -1.178207\n",
       "2      0.736593 -0.193260          0.469081              0.987196\n",
       "3     -2.034409 -0.085680          1.702083              1.175505\n",
       "4      0.967510  1.743180         -1.185655             -1.023216\n",
       "...         ...       ...               ...                   ...\n",
       "54637  0.439700 -0.229120          0.621509             -0.020562\n",
       "54638  0.736593  0.129480         -0.141511              0.529630\n",
       "54639 -0.483968 -1.806961         -0.267297             -0.902443\n",
       "54640 -1.176718 -0.264980          0.911683              1.386128\n",
       "54641  0.010854 -0.229120         -1.131785             -1.163963\n",
       "\n",
       "[54642 rows x 4 columns]"
      ]
     },
     "execution_count": 831,
     "metadata": {},
     "output_type": "execute_result"
    }
   ],
   "source": [
    "X_train"
   ]
  },
  {
   "cell_type": "markdown",
   "metadata": {},
   "source": [
    "# Decision Tree Model."
   ]
  },
  {
   "cell_type": "code",
   "execution_count": 832,
   "metadata": {},
   "outputs": [],
   "source": [
    "from sklearn.tree import DecisionTreeClassifier"
   ]
  },
  {
   "cell_type": "code",
   "execution_count": 833,
   "metadata": {},
   "outputs": [
    {
     "name": "stdout",
     "output_type": "stream",
     "text": [
      "D-Tree accuracy score with all 6 the features: 0.8545\n"
     ]
    },
    {
     "data": {
      "text/plain": [
       "0.9189634347205446"
      ]
     },
     "execution_count": 833,
     "metadata": {},
     "output_type": "execute_result"
    }
   ],
   "source": [
    "\n",
    "clf = DecisionTreeClassifier(max_features=2,\n",
    "                            max_depth=5,\n",
    "                            )\n",
    "clf.fit(X_train, y_train)\n",
    "# y_pred = logreg.predict(X_test)\n",
    "y_pred = clf.predict(X_test)\n",
    "\n",
    "print('D-Tree accuracy score with all 6 the features: {0:0.4f}'. format(accuracy_score(y_test, y_pred)))\n",
    "clf.score(X_train, y_train)\n"
   ]
  },
  {
   "cell_type": "code",
   "execution_count": 834,
   "metadata": {},
   "outputs": [],
   "source": [
    "accuracy_dict['DecisionTree']=accuracy_score(y_test, y_pred)"
   ]
  },
  {
   "cell_type": "markdown",
   "metadata": {},
   "source": [
    "# Xgboost"
   ]
  },
  {
   "cell_type": "code",
   "execution_count": 835,
   "metadata": {},
   "outputs": [
    {
     "name": "stdout",
     "output_type": "stream",
     "text": [
      "XGboost accuracy score with all 5 the features: 0.8727\n"
     ]
    }
   ],
   "source": [
    "from xgboost import XGBClassifier\n",
    "\n",
    "clf= XGBClassifier(learning_rate=0.05, n_estimators=206, max_depth=5,\n",
    "                        min_child_weight=5, \n",
    "                         seed=27)\n",
    "\n",
    "clf.fit(X_train, y_train)\n",
    "\n",
    "# y_pred = logreg.predict(X_test)\n",
    "y_pred = clf.predict(X_test)\n",
    "print('XGboost accuracy score with all 5 the features: {0:0.4f}'. format(accuracy_score(y_test, y_pred)))"
   ]
  },
  {
   "cell_type": "code",
   "execution_count": 811,
   "metadata": {},
   "outputs": [
    {
     "data": {
      "text/plain": [
       "0.9272599054509364"
      ]
     },
     "execution_count": 811,
     "metadata": {},
     "output_type": "execute_result"
    }
   ],
   "source": [
    "clf.score(X_train, y_train)\n"
   ]
  },
  {
   "cell_type": "code",
   "execution_count": 812,
   "metadata": {},
   "outputs": [],
   "source": [
    "accuracy_dict['Xgboost']=accuracy_score(y_test, y_pred)"
   ]
  },
  {
   "cell_type": "markdown",
   "metadata": {},
   "source": [
    "# catboost"
   ]
  },
  {
   "cell_type": "code",
   "execution_count": 852,
   "metadata": {},
   "outputs": [
    {
     "name": "stdout",
     "output_type": "stream",
     "text": [
      "0:\tlearn: 0.5804803\ttotal: 146ms\tremaining: 1m 27s\n",
      "1:\tlearn: 0.4934804\ttotal: 183ms\tremaining: 54.6s\n",
      "2:\tlearn: 0.4214028\ttotal: 217ms\tremaining: 43.2s\n",
      "3:\tlearn: 0.3622944\ttotal: 241ms\tremaining: 35.9s\n",
      "4:\tlearn: 0.3080238\ttotal: 277ms\tremaining: 33s\n",
      "5:\tlearn: 0.2780542\ttotal: 322ms\tremaining: 31.9s\n",
      "6:\tlearn: 0.2482923\ttotal: 369ms\tremaining: 31.2s\n",
      "7:\tlearn: 0.2343410\ttotal: 423ms\tremaining: 31.3s\n",
      "8:\tlearn: 0.2156980\ttotal: 476ms\tremaining: 31.3s\n",
      "9:\tlearn: 0.2038050\ttotal: 522ms\tremaining: 30.8s\n",
      "10:\tlearn: 0.1970208\ttotal: 573ms\tremaining: 30.7s\n",
      "11:\tlearn: 0.1933392\ttotal: 607ms\tremaining: 29.7s\n",
      "12:\tlearn: 0.1854538\ttotal: 656ms\tremaining: 29.6s\n",
      "13:\tlearn: 0.1794692\ttotal: 712ms\tremaining: 29.8s\n",
      "14:\tlearn: 0.1758628\ttotal: 736ms\tremaining: 28.7s\n",
      "15:\tlearn: 0.1741012\ttotal: 766ms\tremaining: 28s\n",
      "16:\tlearn: 0.1719856\ttotal: 798ms\tremaining: 27.4s\n",
      "17:\tlearn: 0.1681749\ttotal: 870ms\tremaining: 28.1s\n",
      "18:\tlearn: 0.1670631\ttotal: 914ms\tremaining: 27.9s\n",
      "19:\tlearn: 0.1643919\ttotal: 943ms\tremaining: 27.4s\n",
      "20:\tlearn: 0.1628088\ttotal: 970ms\tremaining: 26.7s\n",
      "21:\tlearn: 0.1606396\ttotal: 1.01s\tremaining: 26.5s\n",
      "22:\tlearn: 0.1601044\ttotal: 1.06s\tremaining: 26.7s\n",
      "23:\tlearn: 0.1594643\ttotal: 1.09s\tremaining: 26.1s\n",
      "24:\tlearn: 0.1591063\ttotal: 1.11s\tremaining: 25.6s\n",
      "25:\tlearn: 0.1579314\ttotal: 1.17s\tremaining: 25.8s\n",
      "26:\tlearn: 0.1574759\ttotal: 1.23s\tremaining: 26.1s\n",
      "27:\tlearn: 0.1562783\ttotal: 1.3s\tremaining: 26.5s\n",
      "28:\tlearn: 0.1560872\ttotal: 1.33s\tremaining: 26.1s\n",
      "29:\tlearn: 0.1558918\ttotal: 1.35s\tremaining: 25.7s\n",
      "30:\tlearn: 0.1556086\ttotal: 1.38s\tremaining: 25.4s\n",
      "31:\tlearn: 0.1544261\ttotal: 1.41s\tremaining: 25.1s\n",
      "32:\tlearn: 0.1538182\ttotal: 1.43s\tremaining: 24.6s\n",
      "33:\tlearn: 0.1537087\ttotal: 1.46s\tremaining: 24.3s\n",
      "34:\tlearn: 0.1535429\ttotal: 1.49s\tremaining: 24.1s\n",
      "35:\tlearn: 0.1530546\ttotal: 1.51s\tremaining: 23.7s\n",
      "36:\tlearn: 0.1529256\ttotal: 1.53s\tremaining: 23.3s\n",
      "37:\tlearn: 0.1522126\ttotal: 1.55s\tremaining: 22.9s\n",
      "38:\tlearn: 0.1514710\ttotal: 1.57s\tremaining: 22.7s\n",
      "39:\tlearn: 0.1513742\ttotal: 1.63s\tremaining: 22.8s\n",
      "40:\tlearn: 0.1512833\ttotal: 1.7s\tremaining: 23.1s\n",
      "41:\tlearn: 0.1508344\ttotal: 1.72s\tremaining: 22.9s\n",
      "42:\tlearn: 0.1504584\ttotal: 1.75s\tremaining: 22.7s\n",
      "43:\tlearn: 0.1503649\ttotal: 1.78s\tremaining: 22.5s\n",
      "44:\tlearn: 0.1499638\ttotal: 1.8s\tremaining: 22.2s\n",
      "45:\tlearn: 0.1498976\ttotal: 1.83s\tremaining: 22s\n",
      "46:\tlearn: 0.1495980\ttotal: 1.88s\tremaining: 22.1s\n",
      "47:\tlearn: 0.1495387\ttotal: 1.91s\tremaining: 22s\n",
      "48:\tlearn: 0.1492715\ttotal: 1.94s\tremaining: 21.8s\n",
      "49:\tlearn: 0.1490259\ttotal: 1.97s\tremaining: 21.7s\n",
      "50:\tlearn: 0.1487157\ttotal: 2.01s\tremaining: 21.6s\n",
      "51:\tlearn: 0.1485455\ttotal: 2.04s\tremaining: 21.5s\n",
      "52:\tlearn: 0.1484550\ttotal: 2.06s\tremaining: 21.3s\n",
      "53:\tlearn: 0.1483447\ttotal: 2.13s\tremaining: 21.5s\n",
      "54:\tlearn: 0.1481922\ttotal: 2.2s\tremaining: 21.8s\n",
      "55:\tlearn: 0.1480909\ttotal: 2.24s\tremaining: 21.8s\n",
      "56:\tlearn: 0.1479856\ttotal: 2.26s\tremaining: 21.6s\n",
      "57:\tlearn: 0.1479328\ttotal: 2.3s\tremaining: 21.5s\n",
      "58:\tlearn: 0.1478111\ttotal: 2.33s\tremaining: 21.3s\n",
      "59:\tlearn: 0.1477471\ttotal: 2.36s\tremaining: 21.2s\n",
      "60:\tlearn: 0.1475245\ttotal: 2.39s\tremaining: 21.1s\n",
      "61:\tlearn: 0.1474510\ttotal: 2.42s\tremaining: 21s\n",
      "62:\tlearn: 0.1473828\ttotal: 2.46s\tremaining: 21s\n",
      "63:\tlearn: 0.1473211\ttotal: 2.51s\tremaining: 21s\n",
      "64:\tlearn: 0.1471054\ttotal: 2.55s\tremaining: 21s\n",
      "65:\tlearn: 0.1470722\ttotal: 2.59s\tremaining: 20.9s\n",
      "66:\tlearn: 0.1470308\ttotal: 2.61s\tremaining: 20.7s\n",
      "67:\tlearn: 0.1469498\ttotal: 2.64s\tremaining: 20.7s\n",
      "68:\tlearn: 0.1469062\ttotal: 2.67s\tremaining: 20.6s\n",
      "69:\tlearn: 0.1468479\ttotal: 2.69s\tremaining: 20.4s\n",
      "70:\tlearn: 0.1467984\ttotal: 2.72s\tremaining: 20.3s\n",
      "71:\tlearn: 0.1467077\ttotal: 2.75s\tremaining: 20.1s\n",
      "72:\tlearn: 0.1466523\ttotal: 2.77s\tremaining: 20s\n",
      "73:\tlearn: 0.1465524\ttotal: 2.82s\tremaining: 20s\n",
      "74:\tlearn: 0.1464822\ttotal: 2.86s\tremaining: 20s\n",
      "75:\tlearn: 0.1464338\ttotal: 2.9s\tremaining: 20s\n",
      "76:\tlearn: 0.1463944\ttotal: 2.94s\tremaining: 20s\n",
      "77:\tlearn: 0.1463131\ttotal: 2.98s\tremaining: 19.9s\n",
      "78:\tlearn: 0.1462672\ttotal: 3.03s\tremaining: 20s\n",
      "79:\tlearn: 0.1462304\ttotal: 3.08s\tremaining: 20s\n",
      "80:\tlearn: 0.1461969\ttotal: 3.1s\tremaining: 19.9s\n",
      "81:\tlearn: 0.1461503\ttotal: 3.13s\tremaining: 19.8s\n",
      "82:\tlearn: 0.1461058\ttotal: 3.16s\tremaining: 19.7s\n",
      "83:\tlearn: 0.1459797\ttotal: 3.19s\tremaining: 19.6s\n",
      "84:\tlearn: 0.1459389\ttotal: 3.22s\tremaining: 19.5s\n",
      "85:\tlearn: 0.1458661\ttotal: 3.25s\tremaining: 19.4s\n",
      "86:\tlearn: 0.1457972\ttotal: 3.29s\tremaining: 19.4s\n",
      "87:\tlearn: 0.1457364\ttotal: 3.32s\tremaining: 19.3s\n",
      "88:\tlearn: 0.1457047\ttotal: 3.37s\tremaining: 19.3s\n",
      "89:\tlearn: 0.1456626\ttotal: 3.41s\tremaining: 19.3s\n",
      "90:\tlearn: 0.1456464\ttotal: 3.45s\tremaining: 19.3s\n",
      "91:\tlearn: 0.1455972\ttotal: 3.48s\tremaining: 19.2s\n",
      "92:\tlearn: 0.1455443\ttotal: 3.51s\tremaining: 19.1s\n",
      "93:\tlearn: 0.1455177\ttotal: 3.55s\tremaining: 19.1s\n",
      "94:\tlearn: 0.1454504\ttotal: 3.58s\tremaining: 19s\n",
      "95:\tlearn: 0.1454065\ttotal: 3.6s\tremaining: 18.9s\n",
      "96:\tlearn: 0.1453141\ttotal: 3.62s\tremaining: 18.8s\n",
      "97:\tlearn: 0.1452764\ttotal: 3.64s\tremaining: 18.7s\n",
      "98:\tlearn: 0.1452450\ttotal: 3.68s\tremaining: 18.6s\n",
      "99:\tlearn: 0.1452242\ttotal: 3.71s\tremaining: 18.6s\n",
      "100:\tlearn: 0.1451964\ttotal: 3.74s\tremaining: 18.5s\n",
      "101:\tlearn: 0.1451620\ttotal: 3.76s\tremaining: 18.4s\n",
      "102:\tlearn: 0.1451080\ttotal: 3.78s\tremaining: 18.2s\n",
      "103:\tlearn: 0.1450473\ttotal: 3.83s\tremaining: 18.3s\n",
      "104:\tlearn: 0.1449796\ttotal: 3.9s\tremaining: 18.4s\n",
      "105:\tlearn: 0.1449171\ttotal: 3.94s\tremaining: 18.3s\n",
      "106:\tlearn: 0.1448539\ttotal: 3.96s\tremaining: 18.2s\n",
      "107:\tlearn: 0.1448116\ttotal: 4s\tremaining: 18.2s\n",
      "108:\tlearn: 0.1447760\ttotal: 4.02s\tremaining: 18.1s\n",
      "109:\tlearn: 0.1447314\ttotal: 4.06s\tremaining: 18.1s\n",
      "110:\tlearn: 0.1446759\ttotal: 4.1s\tremaining: 18.1s\n",
      "111:\tlearn: 0.1446465\ttotal: 4.15s\tremaining: 18.1s\n",
      "112:\tlearn: 0.1446250\ttotal: 4.19s\tremaining: 18.1s\n",
      "113:\tlearn: 0.1445833\ttotal: 4.23s\tremaining: 18s\n",
      "114:\tlearn: 0.1445402\ttotal: 4.26s\tremaining: 18s\n",
      "115:\tlearn: 0.1444549\ttotal: 4.3s\tremaining: 17.9s\n",
      "116:\tlearn: 0.1444203\ttotal: 4.34s\tremaining: 17.9s\n",
      "117:\tlearn: 0.1443919\ttotal: 4.38s\tremaining: 17.9s\n",
      "118:\tlearn: 0.1443366\ttotal: 4.41s\tremaining: 17.8s\n",
      "119:\tlearn: 0.1442743\ttotal: 4.45s\tremaining: 17.8s\n",
      "120:\tlearn: 0.1442340\ttotal: 4.47s\tremaining: 17.7s\n",
      "121:\tlearn: 0.1441968\ttotal: 4.5s\tremaining: 17.6s\n",
      "122:\tlearn: 0.1441617\ttotal: 4.58s\tremaining: 17.8s\n",
      "123:\tlearn: 0.1441077\ttotal: 4.69s\tremaining: 18s\n",
      "124:\tlearn: 0.1440815\ttotal: 4.74s\tremaining: 18s\n",
      "125:\tlearn: 0.1440576\ttotal: 4.81s\tremaining: 18.1s\n",
      "126:\tlearn: 0.1440197\ttotal: 4.87s\tremaining: 18.1s\n",
      "127:\tlearn: 0.1439547\ttotal: 4.96s\tremaining: 18.3s\n",
      "128:\tlearn: 0.1438904\ttotal: 5.04s\tremaining: 18.4s\n",
      "129:\tlearn: 0.1438485\ttotal: 5.12s\tremaining: 18.5s\n",
      "130:\tlearn: 0.1438015\ttotal: 5.17s\tremaining: 18.5s\n",
      "131:\tlearn: 0.1437746\ttotal: 5.22s\tremaining: 18.5s\n",
      "132:\tlearn: 0.1437342\ttotal: 5.27s\tremaining: 18.5s\n",
      "133:\tlearn: 0.1436886\ttotal: 5.32s\tremaining: 18.5s\n",
      "134:\tlearn: 0.1436667\ttotal: 5.38s\tremaining: 18.5s\n",
      "135:\tlearn: 0.1436319\ttotal: 5.42s\tremaining: 18.5s\n",
      "136:\tlearn: 0.1435887\ttotal: 5.49s\tremaining: 18.6s\n",
      "137:\tlearn: 0.1435720\ttotal: 5.54s\tremaining: 18.5s\n",
      "138:\tlearn: 0.1435488\ttotal: 5.59s\tremaining: 18.5s\n",
      "139:\tlearn: 0.1435298\ttotal: 5.64s\tremaining: 18.5s\n",
      "140:\tlearn: 0.1434680\ttotal: 5.69s\tremaining: 18.5s\n",
      "141:\tlearn: 0.1434397\ttotal: 5.73s\tremaining: 18.5s\n",
      "142:\tlearn: 0.1434131\ttotal: 5.8s\tremaining: 18.5s\n",
      "143:\tlearn: 0.1433723\ttotal: 5.87s\tremaining: 18.6s\n",
      "144:\tlearn: 0.1433303\ttotal: 5.95s\tremaining: 18.7s\n",
      "145:\tlearn: 0.1432879\ttotal: 6.03s\tremaining: 18.7s\n",
      "146:\tlearn: 0.1432657\ttotal: 6.1s\tremaining: 18.8s\n",
      "147:\tlearn: 0.1432256\ttotal: 6.18s\tremaining: 18.9s\n",
      "148:\tlearn: 0.1432083\ttotal: 6.24s\tremaining: 18.9s\n",
      "149:\tlearn: 0.1431820\ttotal: 6.28s\tremaining: 18.8s\n",
      "150:\tlearn: 0.1431299\ttotal: 6.33s\tremaining: 18.8s\n",
      "151:\tlearn: 0.1430512\ttotal: 6.36s\tremaining: 18.7s\n",
      "152:\tlearn: 0.1430321\ttotal: 6.4s\tremaining: 18.7s\n",
      "153:\tlearn: 0.1429768\ttotal: 6.44s\tremaining: 18.6s\n",
      "154:\tlearn: 0.1429611\ttotal: 6.46s\tremaining: 18.6s\n",
      "155:\tlearn: 0.1429367\ttotal: 6.51s\tremaining: 18.5s\n",
      "156:\tlearn: 0.1428934\ttotal: 6.54s\tremaining: 18.5s\n",
      "157:\tlearn: 0.1428740\ttotal: 6.59s\tremaining: 18.4s\n",
      "158:\tlearn: 0.1428480\ttotal: 6.62s\tremaining: 18.4s\n",
      "159:\tlearn: 0.1428126\ttotal: 6.66s\tremaining: 18.3s\n",
      "160:\tlearn: 0.1427611\ttotal: 6.69s\tremaining: 18.2s\n",
      "161:\tlearn: 0.1427318\ttotal: 6.73s\tremaining: 18.2s\n",
      "162:\tlearn: 0.1427076\ttotal: 6.78s\tremaining: 18.2s\n",
      "163:\tlearn: 0.1426729\ttotal: 6.81s\tremaining: 18.1s\n"
     ]
    },
    {
     "name": "stdout",
     "output_type": "stream",
     "text": [
      "164:\tlearn: 0.1426428\ttotal: 6.85s\tremaining: 18.1s\n",
      "165:\tlearn: 0.1426210\ttotal: 6.91s\tremaining: 18.1s\n",
      "166:\tlearn: 0.1425745\ttotal: 6.96s\tremaining: 18s\n",
      "167:\tlearn: 0.1425357\ttotal: 6.99s\tremaining: 18s\n",
      "168:\tlearn: 0.1425086\ttotal: 7.04s\tremaining: 17.9s\n",
      "169:\tlearn: 0.1424878\ttotal: 7.09s\tremaining: 17.9s\n",
      "170:\tlearn: 0.1424694\ttotal: 7.14s\tremaining: 17.9s\n",
      "171:\tlearn: 0.1424298\ttotal: 7.17s\tremaining: 17.9s\n",
      "172:\tlearn: 0.1424178\ttotal: 7.27s\tremaining: 17.9s\n",
      "173:\tlearn: 0.1423630\ttotal: 7.31s\tremaining: 17.9s\n",
      "174:\tlearn: 0.1423411\ttotal: 7.37s\tremaining: 17.9s\n",
      "175:\tlearn: 0.1423154\ttotal: 7.4s\tremaining: 17.8s\n",
      "176:\tlearn: 0.1422865\ttotal: 7.46s\tremaining: 17.8s\n",
      "177:\tlearn: 0.1422389\ttotal: 7.5s\tremaining: 17.8s\n",
      "178:\tlearn: 0.1422037\ttotal: 7.54s\tremaining: 17.7s\n",
      "179:\tlearn: 0.1421743\ttotal: 7.59s\tremaining: 17.7s\n",
      "180:\tlearn: 0.1421458\ttotal: 7.64s\tremaining: 17.7s\n",
      "181:\tlearn: 0.1421081\ttotal: 7.7s\tremaining: 17.7s\n",
      "182:\tlearn: 0.1420750\ttotal: 7.74s\tremaining: 17.6s\n",
      "183:\tlearn: 0.1420391\ttotal: 7.78s\tremaining: 17.6s\n",
      "184:\tlearn: 0.1420045\ttotal: 7.81s\tremaining: 17.5s\n",
      "185:\tlearn: 0.1419661\ttotal: 7.86s\tremaining: 17.5s\n",
      "186:\tlearn: 0.1419341\ttotal: 7.94s\tremaining: 17.5s\n",
      "187:\tlearn: 0.1418957\ttotal: 8.02s\tremaining: 17.6s\n",
      "188:\tlearn: 0.1418763\ttotal: 8.07s\tremaining: 17.5s\n",
      "189:\tlearn: 0.1418535\ttotal: 8.11s\tremaining: 17.5s\n",
      "190:\tlearn: 0.1418356\ttotal: 8.17s\tremaining: 17.5s\n",
      "191:\tlearn: 0.1418091\ttotal: 8.26s\tremaining: 17.6s\n",
      "192:\tlearn: 0.1417618\ttotal: 8.32s\tremaining: 17.6s\n",
      "193:\tlearn: 0.1417139\ttotal: 8.38s\tremaining: 17.5s\n",
      "194:\tlearn: 0.1416863\ttotal: 8.43s\tremaining: 17.5s\n",
      "195:\tlearn: 0.1416488\ttotal: 8.49s\tremaining: 17.5s\n",
      "196:\tlearn: 0.1416242\ttotal: 8.54s\tremaining: 17.5s\n",
      "197:\tlearn: 0.1415913\ttotal: 8.59s\tremaining: 17.4s\n",
      "198:\tlearn: 0.1415646\ttotal: 8.62s\tremaining: 17.4s\n",
      "199:\tlearn: 0.1415249\ttotal: 8.64s\tremaining: 17.3s\n",
      "200:\tlearn: 0.1415066\ttotal: 8.67s\tremaining: 17.2s\n",
      "201:\tlearn: 0.1414802\ttotal: 8.7s\tremaining: 17.1s\n",
      "202:\tlearn: 0.1414635\ttotal: 8.73s\tremaining: 17.1s\n",
      "203:\tlearn: 0.1414222\ttotal: 8.76s\tremaining: 17s\n",
      "204:\tlearn: 0.1414032\ttotal: 8.79s\tremaining: 16.9s\n",
      "205:\tlearn: 0.1413906\ttotal: 8.83s\tremaining: 16.9s\n",
      "206:\tlearn: 0.1413686\ttotal: 8.86s\tremaining: 16.8s\n",
      "207:\tlearn: 0.1413432\ttotal: 8.89s\tremaining: 16.8s\n",
      "208:\tlearn: 0.1413205\ttotal: 8.92s\tremaining: 16.7s\n",
      "209:\tlearn: 0.1412740\ttotal: 8.95s\tremaining: 16.6s\n",
      "210:\tlearn: 0.1412073\ttotal: 8.98s\tremaining: 16.5s\n",
      "211:\tlearn: 0.1411849\ttotal: 9s\tremaining: 16.5s\n",
      "212:\tlearn: 0.1411573\ttotal: 9.1s\tremaining: 16.5s\n",
      "213:\tlearn: 0.1411154\ttotal: 9.16s\tremaining: 16.5s\n",
      "214:\tlearn: 0.1410998\ttotal: 9.24s\tremaining: 16.5s\n",
      "215:\tlearn: 0.1410742\ttotal: 9.29s\tremaining: 16.5s\n",
      "216:\tlearn: 0.1410344\ttotal: 9.32s\tremaining: 16.5s\n",
      "217:\tlearn: 0.1409819\ttotal: 9.35s\tremaining: 16.4s\n",
      "218:\tlearn: 0.1409533\ttotal: 9.38s\tremaining: 16.3s\n",
      "219:\tlearn: 0.1409269\ttotal: 9.45s\tremaining: 16.3s\n",
      "220:\tlearn: 0.1408996\ttotal: 9.52s\tremaining: 16.3s\n",
      "221:\tlearn: 0.1408793\ttotal: 9.55s\tremaining: 16.3s\n",
      "222:\tlearn: 0.1408500\ttotal: 9.59s\tremaining: 16.2s\n",
      "223:\tlearn: 0.1407970\ttotal: 9.62s\tremaining: 16.2s\n",
      "224:\tlearn: 0.1407576\ttotal: 9.65s\tremaining: 16.1s\n",
      "225:\tlearn: 0.1407306\ttotal: 9.67s\tremaining: 16s\n",
      "226:\tlearn: 0.1406786\ttotal: 9.69s\tremaining: 15.9s\n",
      "227:\tlearn: 0.1406479\ttotal: 9.71s\tremaining: 15.8s\n",
      "228:\tlearn: 0.1406137\ttotal: 9.72s\tremaining: 15.7s\n",
      "229:\tlearn: 0.1405788\ttotal: 9.74s\tremaining: 15.7s\n",
      "230:\tlearn: 0.1405050\ttotal: 9.79s\tremaining: 15.6s\n",
      "231:\tlearn: 0.1404596\ttotal: 9.82s\tremaining: 15.6s\n",
      "232:\tlearn: 0.1404362\ttotal: 9.85s\tremaining: 15.5s\n",
      "233:\tlearn: 0.1404029\ttotal: 9.88s\tremaining: 15.4s\n",
      "234:\tlearn: 0.1403685\ttotal: 9.89s\tremaining: 15.4s\n",
      "235:\tlearn: 0.1403453\ttotal: 9.91s\tremaining: 15.3s\n",
      "236:\tlearn: 0.1403062\ttotal: 9.93s\tremaining: 15.2s\n",
      "237:\tlearn: 0.1402617\ttotal: 9.94s\tremaining: 15.1s\n",
      "238:\tlearn: 0.1402146\ttotal: 9.96s\tremaining: 15s\n",
      "239:\tlearn: 0.1401800\ttotal: 9.97s\tremaining: 15s\n",
      "240:\tlearn: 0.1401621\ttotal: 9.99s\tremaining: 14.9s\n",
      "241:\tlearn: 0.1401360\ttotal: 10s\tremaining: 14.8s\n",
      "242:\tlearn: 0.1400754\ttotal: 10s\tremaining: 14.7s\n",
      "243:\tlearn: 0.1400555\ttotal: 10.1s\tremaining: 14.7s\n",
      "244:\tlearn: 0.1400176\ttotal: 10.1s\tremaining: 14.6s\n",
      "245:\tlearn: 0.1399822\ttotal: 10.1s\tremaining: 14.5s\n",
      "246:\tlearn: 0.1399585\ttotal: 10.1s\tremaining: 14.5s\n",
      "247:\tlearn: 0.1399151\ttotal: 10.1s\tremaining: 14.4s\n",
      "248:\tlearn: 0.1398772\ttotal: 10.2s\tremaining: 14.3s\n",
      "249:\tlearn: 0.1398446\ttotal: 10.2s\tremaining: 14.3s\n",
      "250:\tlearn: 0.1397868\ttotal: 10.2s\tremaining: 14.2s\n",
      "251:\tlearn: 0.1397644\ttotal: 10.3s\tremaining: 14.2s\n",
      "252:\tlearn: 0.1397113\ttotal: 10.3s\tremaining: 14.1s\n",
      "253:\tlearn: 0.1396872\ttotal: 10.3s\tremaining: 14.1s\n",
      "254:\tlearn: 0.1396611\ttotal: 10.3s\tremaining: 14s\n",
      "255:\tlearn: 0.1396093\ttotal: 10.4s\tremaining: 13.9s\n",
      "256:\tlearn: 0.1395594\ttotal: 10.4s\tremaining: 13.9s\n",
      "257:\tlearn: 0.1395362\ttotal: 10.4s\tremaining: 13.8s\n",
      "258:\tlearn: 0.1395116\ttotal: 10.4s\tremaining: 13.7s\n",
      "259:\tlearn: 0.1394997\ttotal: 10.5s\tremaining: 13.7s\n",
      "260:\tlearn: 0.1394786\ttotal: 10.5s\tremaining: 13.6s\n",
      "261:\tlearn: 0.1394546\ttotal: 10.5s\tremaining: 13.6s\n",
      "262:\tlearn: 0.1394113\ttotal: 10.6s\tremaining: 13.5s\n",
      "263:\tlearn: 0.1393889\ttotal: 10.6s\tremaining: 13.5s\n",
      "264:\tlearn: 0.1393517\ttotal: 10.6s\tremaining: 13.4s\n",
      "265:\tlearn: 0.1393178\ttotal: 10.6s\tremaining: 13.4s\n",
      "266:\tlearn: 0.1392927\ttotal: 10.7s\tremaining: 13.3s\n",
      "267:\tlearn: 0.1392563\ttotal: 10.7s\tremaining: 13.3s\n",
      "268:\tlearn: 0.1392015\ttotal: 10.7s\tremaining: 13.2s\n",
      "269:\tlearn: 0.1391532\ttotal: 10.8s\tremaining: 13.2s\n",
      "270:\tlearn: 0.1391254\ttotal: 10.8s\tremaining: 13.1s\n",
      "271:\tlearn: 0.1391035\ttotal: 10.8s\tremaining: 13s\n",
      "272:\tlearn: 0.1390771\ttotal: 10.8s\tremaining: 13s\n",
      "273:\tlearn: 0.1390473\ttotal: 10.9s\tremaining: 12.9s\n",
      "274:\tlearn: 0.1389892\ttotal: 10.9s\tremaining: 12.9s\n",
      "275:\tlearn: 0.1389653\ttotal: 10.9s\tremaining: 12.8s\n",
      "276:\tlearn: 0.1389218\ttotal: 10.9s\tremaining: 12.8s\n",
      "277:\tlearn: 0.1388892\ttotal: 11s\tremaining: 12.7s\n",
      "278:\tlearn: 0.1388610\ttotal: 11s\tremaining: 12.6s\n",
      "279:\tlearn: 0.1388424\ttotal: 11s\tremaining: 12.6s\n",
      "280:\tlearn: 0.1388120\ttotal: 11s\tremaining: 12.5s\n",
      "281:\tlearn: 0.1387632\ttotal: 11.1s\tremaining: 12.5s\n",
      "282:\tlearn: 0.1386815\ttotal: 11.1s\tremaining: 12.4s\n",
      "283:\tlearn: 0.1386614\ttotal: 11.1s\tremaining: 12.3s\n",
      "284:\tlearn: 0.1386186\ttotal: 11.1s\tremaining: 12.3s\n",
      "285:\tlearn: 0.1385900\ttotal: 11.2s\tremaining: 12.2s\n",
      "286:\tlearn: 0.1385415\ttotal: 11.2s\tremaining: 12.2s\n",
      "287:\tlearn: 0.1384854\ttotal: 11.2s\tremaining: 12.1s\n",
      "288:\tlearn: 0.1384568\ttotal: 11.2s\tremaining: 12.1s\n",
      "289:\tlearn: 0.1384339\ttotal: 11.3s\tremaining: 12s\n",
      "290:\tlearn: 0.1383811\ttotal: 11.3s\tremaining: 12s\n",
      "291:\tlearn: 0.1383534\ttotal: 11.3s\tremaining: 11.9s\n",
      "292:\tlearn: 0.1383120\ttotal: 11.3s\tremaining: 11.9s\n",
      "293:\tlearn: 0.1382544\ttotal: 11.3s\tremaining: 11.8s\n",
      "294:\tlearn: 0.1382048\ttotal: 11.4s\tremaining: 11.7s\n",
      "295:\tlearn: 0.1381811\ttotal: 11.4s\tremaining: 11.7s\n",
      "296:\tlearn: 0.1381562\ttotal: 11.4s\tremaining: 11.6s\n",
      "297:\tlearn: 0.1381219\ttotal: 11.4s\tremaining: 11.6s\n",
      "298:\tlearn: 0.1380697\ttotal: 11.4s\tremaining: 11.5s\n",
      "299:\tlearn: 0.1380417\ttotal: 11.5s\tremaining: 11.5s\n",
      "300:\tlearn: 0.1379954\ttotal: 11.5s\tremaining: 11.4s\n",
      "301:\tlearn: 0.1379612\ttotal: 11.5s\tremaining: 11.4s\n",
      "302:\tlearn: 0.1379307\ttotal: 11.6s\tremaining: 11.4s\n",
      "303:\tlearn: 0.1378730\ttotal: 11.6s\tremaining: 11.3s\n",
      "304:\tlearn: 0.1378086\ttotal: 11.6s\tremaining: 11.2s\n",
      "305:\tlearn: 0.1377736\ttotal: 11.6s\tremaining: 11.2s\n",
      "306:\tlearn: 0.1377437\ttotal: 11.7s\tremaining: 11.1s\n",
      "307:\tlearn: 0.1377213\ttotal: 11.7s\tremaining: 11.1s\n",
      "308:\tlearn: 0.1376892\ttotal: 11.7s\tremaining: 11s\n",
      "309:\tlearn: 0.1376618\ttotal: 11.7s\tremaining: 11s\n",
      "310:\tlearn: 0.1375980\ttotal: 11.7s\tremaining: 10.9s\n",
      "311:\tlearn: 0.1375612\ttotal: 11.8s\tremaining: 10.9s\n",
      "312:\tlearn: 0.1375173\ttotal: 11.8s\tremaining: 10.8s\n",
      "313:\tlearn: 0.1374837\ttotal: 11.8s\tremaining: 10.8s\n",
      "314:\tlearn: 0.1374322\ttotal: 11.8s\tremaining: 10.7s\n",
      "315:\tlearn: 0.1374147\ttotal: 11.9s\tremaining: 10.7s\n",
      "316:\tlearn: 0.1373878\ttotal: 11.9s\tremaining: 10.6s\n",
      "317:\tlearn: 0.1373639\ttotal: 11.9s\tremaining: 10.6s\n",
      "318:\tlearn: 0.1373155\ttotal: 11.9s\tremaining: 10.5s\n",
      "319:\tlearn: 0.1372625\ttotal: 11.9s\tremaining: 10.4s\n",
      "320:\tlearn: 0.1372087\ttotal: 12s\tremaining: 10.4s\n",
      "321:\tlearn: 0.1371602\ttotal: 12s\tremaining: 10.3s\n",
      "322:\tlearn: 0.1371260\ttotal: 12s\tremaining: 10.3s\n",
      "323:\tlearn: 0.1370836\ttotal: 12s\tremaining: 10.3s\n",
      "324:\tlearn: 0.1370432\ttotal: 12.1s\tremaining: 10.2s\n",
      "325:\tlearn: 0.1370173\ttotal: 12.1s\tremaining: 10.2s\n",
      "326:\tlearn: 0.1369822\ttotal: 12.1s\tremaining: 10.1s\n",
      "327:\tlearn: 0.1369553\ttotal: 12.1s\tremaining: 10.1s\n",
      "328:\tlearn: 0.1369216\ttotal: 12.2s\tremaining: 10s\n",
      "329:\tlearn: 0.1368957\ttotal: 12.2s\tremaining: 9.96s\n"
     ]
    },
    {
     "name": "stdout",
     "output_type": "stream",
     "text": [
      "330:\tlearn: 0.1368589\ttotal: 12.2s\tremaining: 9.92s\n",
      "331:\tlearn: 0.1368182\ttotal: 12.2s\tremaining: 9.88s\n",
      "332:\tlearn: 0.1367668\ttotal: 12.3s\tremaining: 9.83s\n",
      "333:\tlearn: 0.1367319\ttotal: 12.3s\tremaining: 9.79s\n",
      "334:\tlearn: 0.1367026\ttotal: 12.3s\tremaining: 9.74s\n",
      "335:\tlearn: 0.1366615\ttotal: 12.3s\tremaining: 9.69s\n",
      "336:\tlearn: 0.1366260\ttotal: 12.3s\tremaining: 9.64s\n",
      "337:\tlearn: 0.1365663\ttotal: 12.4s\tremaining: 9.59s\n",
      "338:\tlearn: 0.1365131\ttotal: 12.4s\tremaining: 9.54s\n",
      "339:\tlearn: 0.1364772\ttotal: 12.4s\tremaining: 9.49s\n",
      "340:\tlearn: 0.1364538\ttotal: 12.4s\tremaining: 9.45s\n",
      "341:\tlearn: 0.1364215\ttotal: 12.5s\tremaining: 9.4s\n",
      "342:\tlearn: 0.1363904\ttotal: 12.5s\tremaining: 9.35s\n",
      "343:\tlearn: 0.1363501\ttotal: 12.5s\tremaining: 9.3s\n",
      "344:\tlearn: 0.1363041\ttotal: 12.5s\tremaining: 9.26s\n",
      "345:\tlearn: 0.1362751\ttotal: 12.6s\tremaining: 9.22s\n",
      "346:\tlearn: 0.1362468\ttotal: 12.6s\tremaining: 9.17s\n",
      "347:\tlearn: 0.1362162\ttotal: 12.6s\tremaining: 9.12s\n",
      "348:\tlearn: 0.1361849\ttotal: 12.6s\tremaining: 9.07s\n",
      "349:\tlearn: 0.1361342\ttotal: 12.6s\tremaining: 9.03s\n",
      "350:\tlearn: 0.1360979\ttotal: 12.7s\tremaining: 8.99s\n",
      "351:\tlearn: 0.1360668\ttotal: 12.7s\tremaining: 8.94s\n",
      "352:\tlearn: 0.1360475\ttotal: 12.7s\tremaining: 8.89s\n",
      "353:\tlearn: 0.1360221\ttotal: 12.7s\tremaining: 8.84s\n",
      "354:\tlearn: 0.1359877\ttotal: 12.8s\tremaining: 8.8s\n",
      "355:\tlearn: 0.1359494\ttotal: 12.8s\tremaining: 8.75s\n",
      "356:\tlearn: 0.1359348\ttotal: 12.8s\tremaining: 8.7s\n",
      "357:\tlearn: 0.1359174\ttotal: 12.8s\tremaining: 8.66s\n",
      "358:\tlearn: 0.1358920\ttotal: 12.8s\tremaining: 8.62s\n",
      "359:\tlearn: 0.1358572\ttotal: 12.9s\tremaining: 8.57s\n",
      "360:\tlearn: 0.1358426\ttotal: 12.9s\tremaining: 8.53s\n",
      "361:\tlearn: 0.1358261\ttotal: 12.9s\tremaining: 8.49s\n",
      "362:\tlearn: 0.1357810\ttotal: 12.9s\tremaining: 8.45s\n",
      "363:\tlearn: 0.1357408\ttotal: 13s\tremaining: 8.4s\n",
      "364:\tlearn: 0.1357099\ttotal: 13s\tremaining: 8.36s\n",
      "365:\tlearn: 0.1356825\ttotal: 13s\tremaining: 8.31s\n",
      "366:\tlearn: 0.1356548\ttotal: 13s\tremaining: 8.27s\n",
      "367:\tlearn: 0.1356359\ttotal: 13.1s\tremaining: 8.23s\n",
      "368:\tlearn: 0.1356117\ttotal: 13.1s\tremaining: 8.18s\n",
      "369:\tlearn: 0.1355814\ttotal: 13.1s\tremaining: 8.15s\n",
      "370:\tlearn: 0.1355294\ttotal: 13.1s\tremaining: 8.1s\n",
      "371:\tlearn: 0.1354942\ttotal: 13.1s\tremaining: 8.05s\n",
      "372:\tlearn: 0.1354691\ttotal: 13.2s\tremaining: 8.01s\n",
      "373:\tlearn: 0.1354466\ttotal: 13.2s\tremaining: 7.97s\n",
      "374:\tlearn: 0.1353837\ttotal: 13.2s\tremaining: 7.92s\n",
      "375:\tlearn: 0.1353543\ttotal: 13.2s\tremaining: 7.87s\n",
      "376:\tlearn: 0.1353292\ttotal: 13.2s\tremaining: 7.83s\n",
      "377:\tlearn: 0.1353146\ttotal: 13.3s\tremaining: 7.79s\n",
      "378:\tlearn: 0.1352733\ttotal: 13.3s\tremaining: 7.75s\n",
      "379:\tlearn: 0.1352319\ttotal: 13.3s\tremaining: 7.72s\n",
      "380:\tlearn: 0.1351916\ttotal: 13.4s\tremaining: 7.68s\n",
      "381:\tlearn: 0.1351587\ttotal: 13.4s\tremaining: 7.63s\n",
      "382:\tlearn: 0.1351269\ttotal: 13.4s\tremaining: 7.59s\n",
      "383:\tlearn: 0.1351021\ttotal: 13.4s\tremaining: 7.54s\n",
      "384:\tlearn: 0.1350655\ttotal: 13.5s\tremaining: 7.52s\n",
      "385:\tlearn: 0.1350421\ttotal: 13.5s\tremaining: 7.5s\n",
      "386:\tlearn: 0.1350006\ttotal: 13.6s\tremaining: 7.48s\n",
      "387:\tlearn: 0.1349726\ttotal: 13.6s\tremaining: 7.45s\n",
      "388:\tlearn: 0.1349524\ttotal: 13.7s\tremaining: 7.41s\n",
      "389:\tlearn: 0.1349256\ttotal: 13.7s\tremaining: 7.36s\n",
      "390:\tlearn: 0.1348784\ttotal: 13.7s\tremaining: 7.32s\n",
      "391:\tlearn: 0.1348501\ttotal: 13.7s\tremaining: 7.28s\n",
      "392:\tlearn: 0.1348265\ttotal: 13.7s\tremaining: 7.24s\n",
      "393:\tlearn: 0.1347806\ttotal: 13.8s\tremaining: 7.19s\n",
      "394:\tlearn: 0.1347538\ttotal: 13.8s\tremaining: 7.15s\n",
      "395:\tlearn: 0.1347347\ttotal: 13.8s\tremaining: 7.11s\n",
      "396:\tlearn: 0.1346863\ttotal: 13.8s\tremaining: 7.08s\n",
      "397:\tlearn: 0.1346284\ttotal: 13.9s\tremaining: 7.04s\n",
      "398:\tlearn: 0.1345930\ttotal: 13.9s\tremaining: 7s\n",
      "399:\tlearn: 0.1345696\ttotal: 13.9s\tremaining: 6.96s\n",
      "400:\tlearn: 0.1345439\ttotal: 13.9s\tremaining: 6.92s\n",
      "401:\tlearn: 0.1344874\ttotal: 14s\tremaining: 6.87s\n",
      "402:\tlearn: 0.1344727\ttotal: 14s\tremaining: 6.83s\n",
      "403:\tlearn: 0.1344372\ttotal: 14s\tremaining: 6.79s\n",
      "404:\tlearn: 0.1343966\ttotal: 14s\tremaining: 6.75s\n",
      "405:\tlearn: 0.1343799\ttotal: 14s\tremaining: 6.71s\n",
      "406:\tlearn: 0.1343429\ttotal: 14.1s\tremaining: 6.67s\n",
      "407:\tlearn: 0.1343260\ttotal: 14.1s\tremaining: 6.63s\n",
      "408:\tlearn: 0.1343055\ttotal: 14.1s\tremaining: 6.59s\n",
      "409:\tlearn: 0.1342515\ttotal: 14.1s\tremaining: 6.54s\n",
      "410:\tlearn: 0.1342154\ttotal: 14.1s\tremaining: 6.5s\n",
      "411:\tlearn: 0.1341701\ttotal: 14.2s\tremaining: 6.46s\n",
      "412:\tlearn: 0.1341533\ttotal: 14.2s\tremaining: 6.42s\n",
      "413:\tlearn: 0.1341346\ttotal: 14.2s\tremaining: 6.38s\n",
      "414:\tlearn: 0.1341062\ttotal: 14.2s\tremaining: 6.35s\n",
      "415:\tlearn: 0.1340714\ttotal: 14.3s\tremaining: 6.31s\n",
      "416:\tlearn: 0.1340424\ttotal: 14.3s\tremaining: 6.27s\n",
      "417:\tlearn: 0.1340208\ttotal: 14.3s\tremaining: 6.23s\n",
      "418:\tlearn: 0.1339725\ttotal: 14.3s\tremaining: 6.19s\n",
      "419:\tlearn: 0.1339599\ttotal: 14.4s\tremaining: 6.15s\n",
      "420:\tlearn: 0.1339205\ttotal: 14.4s\tremaining: 6.11s\n",
      "421:\tlearn: 0.1338995\ttotal: 14.4s\tremaining: 6.07s\n",
      "422:\tlearn: 0.1338576\ttotal: 14.4s\tremaining: 6.03s\n",
      "423:\tlearn: 0.1338063\ttotal: 14.4s\tremaining: 5.99s\n",
      "424:\tlearn: 0.1337814\ttotal: 14.5s\tremaining: 5.95s\n",
      "425:\tlearn: 0.1337362\ttotal: 14.5s\tremaining: 5.92s\n",
      "426:\tlearn: 0.1336999\ttotal: 14.5s\tremaining: 5.88s\n",
      "427:\tlearn: 0.1336675\ttotal: 14.5s\tremaining: 5.84s\n",
      "428:\tlearn: 0.1336448\ttotal: 14.6s\tremaining: 5.8s\n",
      "429:\tlearn: 0.1335961\ttotal: 14.6s\tremaining: 5.76s\n",
      "430:\tlearn: 0.1335598\ttotal: 14.6s\tremaining: 5.73s\n",
      "431:\tlearn: 0.1335289\ttotal: 14.6s\tremaining: 5.69s\n",
      "432:\tlearn: 0.1334962\ttotal: 14.7s\tremaining: 5.65s\n",
      "433:\tlearn: 0.1334831\ttotal: 14.7s\tremaining: 5.62s\n",
      "434:\tlearn: 0.1334514\ttotal: 14.7s\tremaining: 5.59s\n",
      "435:\tlearn: 0.1334179\ttotal: 14.7s\tremaining: 5.55s\n",
      "436:\tlearn: 0.1334022\ttotal: 14.8s\tremaining: 5.51s\n",
      "437:\tlearn: 0.1333739\ttotal: 14.8s\tremaining: 5.47s\n",
      "438:\tlearn: 0.1333500\ttotal: 14.8s\tremaining: 5.43s\n",
      "439:\tlearn: 0.1333299\ttotal: 14.8s\tremaining: 5.39s\n",
      "440:\tlearn: 0.1333099\ttotal: 14.8s\tremaining: 5.35s\n",
      "441:\tlearn: 0.1332365\ttotal: 14.9s\tremaining: 5.32s\n",
      "442:\tlearn: 0.1332066\ttotal: 14.9s\tremaining: 5.28s\n",
      "443:\tlearn: 0.1331880\ttotal: 14.9s\tremaining: 5.24s\n",
      "444:\tlearn: 0.1331525\ttotal: 14.9s\tremaining: 5.2s\n",
      "445:\tlearn: 0.1331156\ttotal: 15s\tremaining: 5.17s\n",
      "446:\tlearn: 0.1330897\ttotal: 15s\tremaining: 5.13s\n",
      "447:\tlearn: 0.1330680\ttotal: 15s\tremaining: 5.09s\n",
      "448:\tlearn: 0.1330295\ttotal: 15s\tremaining: 5.06s\n",
      "449:\tlearn: 0.1329988\ttotal: 15.1s\tremaining: 5.02s\n",
      "450:\tlearn: 0.1329724\ttotal: 15.1s\tremaining: 4.98s\n",
      "451:\tlearn: 0.1329374\ttotal: 15.1s\tremaining: 4.95s\n",
      "452:\tlearn: 0.1329153\ttotal: 15.1s\tremaining: 4.91s\n",
      "453:\tlearn: 0.1328895\ttotal: 15.2s\tremaining: 4.87s\n",
      "454:\tlearn: 0.1328535\ttotal: 15.2s\tremaining: 4.83s\n",
      "455:\tlearn: 0.1328324\ttotal: 15.2s\tremaining: 4.8s\n",
      "456:\tlearn: 0.1328018\ttotal: 15.2s\tremaining: 4.76s\n",
      "457:\tlearn: 0.1327636\ttotal: 15.2s\tremaining: 4.72s\n",
      "458:\tlearn: 0.1327479\ttotal: 15.2s\tremaining: 4.68s\n",
      "459:\tlearn: 0.1327140\ttotal: 15.3s\tremaining: 4.65s\n",
      "460:\tlearn: 0.1326871\ttotal: 15.3s\tremaining: 4.61s\n",
      "461:\tlearn: 0.1326545\ttotal: 15.3s\tremaining: 4.58s\n",
      "462:\tlearn: 0.1326337\ttotal: 15.4s\tremaining: 4.54s\n",
      "463:\tlearn: 0.1325787\ttotal: 15.4s\tremaining: 4.52s\n",
      "464:\tlearn: 0.1325579\ttotal: 15.4s\tremaining: 4.49s\n",
      "465:\tlearn: 0.1325336\ttotal: 15.5s\tremaining: 4.45s\n",
      "466:\tlearn: 0.1324964\ttotal: 15.5s\tremaining: 4.42s\n",
      "467:\tlearn: 0.1324667\ttotal: 15.6s\tremaining: 4.39s\n",
      "468:\tlearn: 0.1324465\ttotal: 15.6s\tremaining: 4.35s\n",
      "469:\tlearn: 0.1324105\ttotal: 15.6s\tremaining: 4.32s\n",
      "470:\tlearn: 0.1323689\ttotal: 15.6s\tremaining: 4.28s\n",
      "471:\tlearn: 0.1323491\ttotal: 15.6s\tremaining: 4.24s\n",
      "472:\tlearn: 0.1323314\ttotal: 15.7s\tremaining: 4.2s\n",
      "473:\tlearn: 0.1322959\ttotal: 15.7s\tremaining: 4.17s\n",
      "474:\tlearn: 0.1322350\ttotal: 15.7s\tremaining: 4.13s\n",
      "475:\tlearn: 0.1321867\ttotal: 15.7s\tremaining: 4.1s\n",
      "476:\tlearn: 0.1321551\ttotal: 15.8s\tremaining: 4.07s\n",
      "477:\tlearn: 0.1321329\ttotal: 15.8s\tremaining: 4.03s\n",
      "478:\tlearn: 0.1321162\ttotal: 15.8s\tremaining: 3.99s\n",
      "479:\tlearn: 0.1320899\ttotal: 15.8s\tremaining: 3.96s\n",
      "480:\tlearn: 0.1320629\ttotal: 15.9s\tremaining: 3.94s\n",
      "481:\tlearn: 0.1320341\ttotal: 15.9s\tremaining: 3.9s\n",
      "482:\tlearn: 0.1319870\ttotal: 15.9s\tremaining: 3.86s\n",
      "483:\tlearn: 0.1319679\ttotal: 16s\tremaining: 3.83s\n",
      "484:\tlearn: 0.1319516\ttotal: 16s\tremaining: 3.8s\n",
      "485:\tlearn: 0.1319287\ttotal: 16s\tremaining: 3.76s\n",
      "486:\tlearn: 0.1319086\ttotal: 16.1s\tremaining: 3.74s\n",
      "487:\tlearn: 0.1318716\ttotal: 16.2s\tremaining: 3.71s\n",
      "488:\tlearn: 0.1318295\ttotal: 16.2s\tremaining: 3.68s\n",
      "489:\tlearn: 0.1318064\ttotal: 16.2s\tremaining: 3.64s\n",
      "490:\tlearn: 0.1317572\ttotal: 16.2s\tremaining: 3.61s\n",
      "491:\tlearn: 0.1317129\ttotal: 16.3s\tremaining: 3.57s\n",
      "492:\tlearn: 0.1316926\ttotal: 16.3s\tremaining: 3.53s\n",
      "493:\tlearn: 0.1316726\ttotal: 16.3s\tremaining: 3.5s\n",
      "494:\tlearn: 0.1316408\ttotal: 16.3s\tremaining: 3.46s\n",
      "495:\tlearn: 0.1316132\ttotal: 16.3s\tremaining: 3.42s\n",
      "496:\tlearn: 0.1316021\ttotal: 16.3s\tremaining: 3.39s\n",
      "497:\tlearn: 0.1315722\ttotal: 16.4s\tremaining: 3.35s\n"
     ]
    },
    {
     "name": "stdout",
     "output_type": "stream",
     "text": [
      "498:\tlearn: 0.1315317\ttotal: 16.4s\tremaining: 3.32s\n",
      "499:\tlearn: 0.1314997\ttotal: 16.4s\tremaining: 3.29s\n",
      "500:\tlearn: 0.1314798\ttotal: 16.5s\tremaining: 3.25s\n",
      "501:\tlearn: 0.1314446\ttotal: 16.5s\tremaining: 3.22s\n",
      "502:\tlearn: 0.1313938\ttotal: 16.5s\tremaining: 3.18s\n",
      "503:\tlearn: 0.1313835\ttotal: 16.5s\tremaining: 3.15s\n",
      "504:\tlearn: 0.1313597\ttotal: 16.5s\tremaining: 3.11s\n",
      "505:\tlearn: 0.1313336\ttotal: 16.6s\tremaining: 3.08s\n",
      "506:\tlearn: 0.1313017\ttotal: 16.6s\tremaining: 3.04s\n",
      "507:\tlearn: 0.1312715\ttotal: 16.6s\tremaining: 3.01s\n",
      "508:\tlearn: 0.1312609\ttotal: 16.6s\tremaining: 2.98s\n",
      "509:\tlearn: 0.1312386\ttotal: 16.7s\tremaining: 2.94s\n",
      "510:\tlearn: 0.1312161\ttotal: 16.7s\tremaining: 2.9s\n",
      "511:\tlearn: 0.1312013\ttotal: 16.7s\tremaining: 2.87s\n",
      "512:\tlearn: 0.1311868\ttotal: 16.7s\tremaining: 2.83s\n",
      "513:\tlearn: 0.1311496\ttotal: 16.7s\tremaining: 2.8s\n",
      "514:\tlearn: 0.1311081\ttotal: 16.7s\tremaining: 2.76s\n",
      "515:\tlearn: 0.1310867\ttotal: 16.8s\tremaining: 2.73s\n",
      "516:\tlearn: 0.1310357\ttotal: 16.8s\tremaining: 2.7s\n",
      "517:\tlearn: 0.1310129\ttotal: 16.9s\tremaining: 2.67s\n",
      "518:\tlearn: 0.1309886\ttotal: 16.9s\tremaining: 2.64s\n",
      "519:\tlearn: 0.1309450\ttotal: 16.9s\tremaining: 2.6s\n",
      "520:\tlearn: 0.1309294\ttotal: 16.9s\tremaining: 2.57s\n",
      "521:\tlearn: 0.1308989\ttotal: 17s\tremaining: 2.53s\n",
      "522:\tlearn: 0.1308609\ttotal: 17.1s\tremaining: 2.51s\n",
      "523:\tlearn: 0.1308475\ttotal: 17.1s\tremaining: 2.48s\n",
      "524:\tlearn: 0.1308265\ttotal: 17.2s\tremaining: 2.45s\n",
      "525:\tlearn: 0.1308045\ttotal: 17.2s\tremaining: 2.42s\n",
      "526:\tlearn: 0.1307626\ttotal: 17.3s\tremaining: 2.39s\n",
      "527:\tlearn: 0.1307377\ttotal: 17.3s\tremaining: 2.36s\n",
      "528:\tlearn: 0.1307203\ttotal: 17.3s\tremaining: 2.32s\n",
      "529:\tlearn: 0.1306893\ttotal: 17.3s\tremaining: 2.29s\n",
      "530:\tlearn: 0.1306703\ttotal: 17.4s\tremaining: 2.25s\n",
      "531:\tlearn: 0.1306146\ttotal: 17.4s\tremaining: 2.22s\n",
      "532:\tlearn: 0.1305806\ttotal: 17.4s\tremaining: 2.19s\n",
      "533:\tlearn: 0.1305365\ttotal: 17.4s\tremaining: 2.15s\n",
      "534:\tlearn: 0.1305172\ttotal: 17.4s\tremaining: 2.12s\n",
      "535:\tlearn: 0.1304910\ttotal: 17.5s\tremaining: 2.08s\n",
      "536:\tlearn: 0.1304574\ttotal: 17.5s\tremaining: 2.05s\n",
      "537:\tlearn: 0.1304328\ttotal: 17.5s\tremaining: 2.02s\n",
      "538:\tlearn: 0.1304142\ttotal: 17.5s\tremaining: 1.98s\n",
      "539:\tlearn: 0.1303901\ttotal: 17.5s\tremaining: 1.95s\n",
      "540:\tlearn: 0.1303656\ttotal: 17.6s\tremaining: 1.92s\n",
      "541:\tlearn: 0.1303499\ttotal: 17.6s\tremaining: 1.88s\n",
      "542:\tlearn: 0.1303245\ttotal: 17.6s\tremaining: 1.85s\n",
      "543:\tlearn: 0.1303108\ttotal: 17.6s\tremaining: 1.81s\n",
      "544:\tlearn: 0.1302930\ttotal: 17.6s\tremaining: 1.78s\n",
      "545:\tlearn: 0.1302712\ttotal: 17.7s\tremaining: 1.75s\n",
      "546:\tlearn: 0.1302160\ttotal: 17.7s\tremaining: 1.71s\n",
      "547:\tlearn: 0.1301955\ttotal: 17.7s\tremaining: 1.68s\n",
      "548:\tlearn: 0.1301728\ttotal: 17.7s\tremaining: 1.65s\n",
      "549:\tlearn: 0.1301574\ttotal: 17.8s\tremaining: 1.61s\n",
      "550:\tlearn: 0.1301352\ttotal: 17.8s\tremaining: 1.58s\n",
      "551:\tlearn: 0.1301126\ttotal: 17.8s\tremaining: 1.55s\n",
      "552:\tlearn: 0.1300679\ttotal: 17.8s\tremaining: 1.51s\n",
      "553:\tlearn: 0.1300451\ttotal: 17.8s\tremaining: 1.48s\n",
      "554:\tlearn: 0.1300188\ttotal: 17.8s\tremaining: 1.45s\n",
      "555:\tlearn: 0.1299996\ttotal: 17.9s\tremaining: 1.41s\n",
      "556:\tlearn: 0.1299821\ttotal: 17.9s\tremaining: 1.38s\n",
      "557:\tlearn: 0.1299569\ttotal: 17.9s\tremaining: 1.35s\n",
      "558:\tlearn: 0.1299317\ttotal: 17.9s\tremaining: 1.31s\n",
      "559:\tlearn: 0.1298908\ttotal: 17.9s\tremaining: 1.28s\n",
      "560:\tlearn: 0.1298748\ttotal: 18s\tremaining: 1.25s\n",
      "561:\tlearn: 0.1298545\ttotal: 18s\tremaining: 1.22s\n",
      "562:\tlearn: 0.1298416\ttotal: 18s\tremaining: 1.18s\n",
      "563:\tlearn: 0.1297938\ttotal: 18s\tremaining: 1.15s\n",
      "564:\tlearn: 0.1297734\ttotal: 18s\tremaining: 1.12s\n",
      "565:\tlearn: 0.1297485\ttotal: 18.1s\tremaining: 1.08s\n",
      "566:\tlearn: 0.1297085\ttotal: 18.1s\tremaining: 1.05s\n",
      "567:\tlearn: 0.1296670\ttotal: 18.1s\tremaining: 1.02s\n",
      "568:\tlearn: 0.1296377\ttotal: 18.1s\tremaining: 988ms\n",
      "569:\tlearn: 0.1296008\ttotal: 18.1s\tremaining: 955ms\n",
      "570:\tlearn: 0.1295534\ttotal: 18.2s\tremaining: 923ms\n",
      "571:\tlearn: 0.1295293\ttotal: 18.2s\tremaining: 891ms\n",
      "572:\tlearn: 0.1294947\ttotal: 18.2s\tremaining: 859ms\n",
      "573:\tlearn: 0.1294514\ttotal: 18.2s\tremaining: 826ms\n",
      "574:\tlearn: 0.1294190\ttotal: 18.3s\tremaining: 795ms\n",
      "575:\tlearn: 0.1294044\ttotal: 18.3s\tremaining: 764ms\n",
      "576:\tlearn: 0.1293792\ttotal: 18.4s\tremaining: 733ms\n",
      "577:\tlearn: 0.1293546\ttotal: 18.4s\tremaining: 702ms\n",
      "578:\tlearn: 0.1293266\ttotal: 18.4s\tremaining: 669ms\n",
      "579:\tlearn: 0.1292899\ttotal: 18.5s\tremaining: 637ms\n",
      "580:\tlearn: 0.1292724\ttotal: 18.5s\tremaining: 604ms\n",
      "581:\tlearn: 0.1292499\ttotal: 18.5s\tremaining: 573ms\n",
      "582:\tlearn: 0.1292140\ttotal: 18.5s\tremaining: 540ms\n",
      "583:\tlearn: 0.1291861\ttotal: 18.6s\tremaining: 508ms\n",
      "584:\tlearn: 0.1291684\ttotal: 18.6s\tremaining: 476ms\n",
      "585:\tlearn: 0.1291356\ttotal: 18.6s\tremaining: 444ms\n",
      "586:\tlearn: 0.1291181\ttotal: 18.6s\tremaining: 412ms\n",
      "587:\tlearn: 0.1291008\ttotal: 18.6s\tremaining: 380ms\n",
      "588:\tlearn: 0.1290680\ttotal: 18.7s\tremaining: 348ms\n",
      "589:\tlearn: 0.1290368\ttotal: 18.7s\tremaining: 316ms\n",
      "590:\tlearn: 0.1290113\ttotal: 18.7s\tremaining: 285ms\n",
      "591:\tlearn: 0.1289959\ttotal: 18.7s\tremaining: 253ms\n",
      "592:\tlearn: 0.1289726\ttotal: 18.7s\tremaining: 221ms\n",
      "593:\tlearn: 0.1289497\ttotal: 18.7s\tremaining: 189ms\n",
      "594:\tlearn: 0.1289244\ttotal: 18.8s\tremaining: 158ms\n",
      "595:\tlearn: 0.1288870\ttotal: 18.8s\tremaining: 126ms\n",
      "596:\tlearn: 0.1288503\ttotal: 18.8s\tremaining: 94.5ms\n",
      "597:\tlearn: 0.1288133\ttotal: 18.8s\tremaining: 63ms\n",
      "598:\tlearn: 0.1287737\ttotal: 18.8s\tremaining: 31.5ms\n",
      "599:\tlearn: 0.1287055\ttotal: 18.9s\tremaining: 0us\n",
      "catboost accuracy score with all 5 the features: 0.8545\n"
     ]
    }
   ],
   "source": [
    "from catboost import CatBoostClassifier\n",
    "\n",
    "clf= CatBoostClassifier(learning_rate=0.05, n_estimators=600, max_depth=5)\n",
    "\n",
    "clf.fit(X_train, y_train)\n",
    "# y_pred = logreg.predict(X_test)\n",
    "y_pred = clf.predict(X_test)\n",
    "print('catboost accuracy score with all 5 the features: {0:0.4f}'. format(accuracy_score(y_test, y_pred)))"
   ]
  },
  {
   "cell_type": "code",
   "execution_count": 853,
   "metadata": {},
   "outputs": [
    {
     "data": {
      "text/plain": [
       "0.9356904944914168"
      ]
     },
     "execution_count": 853,
     "metadata": {},
     "output_type": "execute_result"
    }
   ],
   "source": [
    "clf.score(X_train, y_train)\n"
   ]
  },
  {
   "cell_type": "code",
   "execution_count": 854,
   "metadata": {},
   "outputs": [],
   "source": [
    "accuracy_dict['Catboost']=accuracy_score(y_test, y_pred)"
   ]
  },
  {
   "cell_type": "markdown",
   "metadata": {},
   "source": [
    "# RandomForestClassifier"
   ]
  },
  {
   "cell_type": "code",
   "execution_count": 855,
   "metadata": {},
   "outputs": [],
   "source": [
    "from sklearn.ensemble import RandomForestClassifier, GradientBoostingClassifier, AdaBoostClassifier"
   ]
  },
  {
   "cell_type": "code",
   "execution_count": 856,
   "metadata": {},
   "outputs": [
    {
     "name": "stderr",
     "output_type": "stream",
     "text": [
      "[Parallel(n_jobs=1)]: Using backend SequentialBackend with 1 concurrent workers.\n",
      "[Parallel(n_jobs=1)]: Done   1 out of   1 | elapsed:    0.1s remaining:    0.0s\n",
      "[Parallel(n_jobs=1)]: Done   2 out of   2 | elapsed:    0.1s remaining:    0.0s\n",
      "[Parallel(n_jobs=1)]: Done   3 out of   3 | elapsed:    0.2s remaining:    0.0s\n"
     ]
    },
    {
     "name": "stdout",
     "output_type": "stream",
     "text": [
      "building tree 1 of 100\n",
      "building tree 2 of 100\n",
      "building tree 3 of 100\n",
      "building tree 4 of 100\n",
      "building tree 5 of 100\n",
      "building tree 6 of 100\n",
      "building tree 7 of 100\n",
      "building tree 8 of 100\n",
      "building tree 9 of 100\n",
      "building tree 10 of 100\n",
      "building tree 11 of 100\n",
      "building tree 12 of 100\n",
      "building tree 13 of 100\n",
      "building tree 14 of 100\n",
      "building tree 15 of 100\n",
      "building tree 16 of 100\n",
      "building tree 17 of 100\n",
      "building tree 18 of 100\n",
      "building tree 19 of 100\n",
      "building tree 20 of 100\n",
      "building tree 21 of 100\n",
      "building tree 22 of 100\n",
      "building tree 23 of 100\n",
      "building tree 24 of 100\n",
      "building tree 25 of 100\n",
      "building tree 26 of 100\n",
      "building tree 27 of 100\n",
      "building tree 28 of 100\n",
      "building tree 29 of 100\n",
      "building tree 30 of 100\n",
      "building tree 31 of 100\n",
      "building tree 32 of 100\n",
      "building tree 33 of 100\n",
      "building tree 34 of 100\n",
      "building tree 35 of 100\n",
      "building tree 36 of 100\n",
      "building tree 37 of 100\n",
      "building tree 38 of 100\n",
      "building tree 39 of 100\n",
      "building tree 40 of 100\n",
      "building tree 41 of 100\n",
      "building tree 42 of 100\n",
      "building tree 43 of 100\n",
      "building tree 44 of 100\n",
      "building tree 45 of 100\n",
      "building tree 46 of 100\n",
      "building tree 47 of 100\n",
      "building tree 48 of 100\n",
      "building tree 49 of 100\n",
      "building tree 50 of 100\n",
      "building tree 51 of 100\n",
      "building tree 52 of 100\n",
      "building tree 53 of 100\n",
      "building tree 54 of 100\n",
      "building tree 55 of 100\n",
      "building tree 56 of 100\n",
      "building tree 57 of 100\n",
      "building tree 58 of 100\n",
      "building tree 59 of 100\n",
      "building tree 60 of 100\n",
      "building tree 61 of 100\n",
      "building tree 62 of 100\n",
      "building tree 63 of 100\n",
      "building tree 64 of 100\n",
      "building tree 65 of 100\n",
      "building tree 66 of 100\n",
      "building tree 67 of 100\n",
      "building tree 68 of 100\n",
      "building tree 69 of 100\n",
      "building tree 70 of 100\n",
      "building tree 71 of 100\n",
      "building tree 72 of 100\n",
      "building tree 73 of 100\n",
      "building tree 74 of 100\n",
      "building tree 75 of 100\n",
      "building tree 76 of 100\n",
      "building tree 77 of 100\n",
      "building tree 78 of 100\n",
      "building tree 79 of 100\n",
      "building tree 80 of 100\n",
      "building tree 81 of 100\n",
      "building tree 82 of 100\n",
      "building tree 83 of 100\n",
      "building tree 84 of 100\n",
      "building tree 85 of 100\n",
      "building tree 86 of 100\n",
      "building tree 87 of 100\n",
      "building tree 88 of 100\n",
      "building tree 89 of 100\n",
      "building tree 90 of 100\n",
      "building tree 91 of 100\n",
      "building tree 92 of 100\n",
      "building tree 93 of 100\n",
      "building tree 94 of 100\n",
      "building tree 95 of 100\n",
      "building tree 96 of 100\n",
      "building tree 97 of 100\n",
      "building tree 98 of 100\n",
      "building tree 99 of 100\n",
      "building tree 100 of 100\n",
      "RandomForestClassifier accuracy score with all 6 the features: 0.8545\n"
     ]
    },
    {
     "name": "stderr",
     "output_type": "stream",
     "text": [
      "[Parallel(n_jobs=1)]: Done 100 out of 100 | elapsed:    5.2s finished\n",
      "[Parallel(n_jobs=1)]: Using backend SequentialBackend with 1 concurrent workers.\n",
      "[Parallel(n_jobs=1)]: Done   1 out of   1 | elapsed:    0.0s remaining:    0.0s\n",
      "[Parallel(n_jobs=1)]: Done   2 out of   2 | elapsed:    0.0s remaining:    0.0s\n",
      "[Parallel(n_jobs=1)]: Done   3 out of   3 | elapsed:    0.0s remaining:    0.0s\n",
      "[Parallel(n_jobs=1)]: Done 100 out of 100 | elapsed:    0.0s finished\n",
      "[Parallel(n_jobs=1)]: Using backend SequentialBackend with 1 concurrent workers.\n",
      "[Parallel(n_jobs=1)]: Done   1 out of   1 | elapsed:    0.0s remaining:    0.0s\n",
      "[Parallel(n_jobs=1)]: Done   2 out of   2 | elapsed:    0.0s remaining:    0.0s\n",
      "[Parallel(n_jobs=1)]: Done   3 out of   3 | elapsed:    0.0s remaining:    0.0s\n",
      "[Parallel(n_jobs=1)]: Done 100 out of 100 | elapsed:    0.4s finished\n"
     ]
    },
    {
     "data": {
      "text/plain": [
       "0.9208850334907214"
      ]
     },
     "execution_count": 856,
     "metadata": {},
     "output_type": "execute_result"
    }
   ],
   "source": [
    "clf= RandomForestClassifier( n_estimators=100,\n",
    "    criterion='entropy',\n",
    "    max_depth=5,\n",
    "    min_samples_split=2,\n",
    "    min_samples_leaf=1,\n",
    "    max_leaf_nodes=None,\n",
    "    n_jobs=None,\n",
    "    random_state=None,\n",
    "    verbose=4,\n",
    "    warm_start=False,\n",
    "    class_weight=None,\n",
    "    ccp_alpha=0.0,\n",
    "    max_samples=None, )\n",
    "\n",
    "clf.fit(X_train, y_train)\n",
    "# y_pred = logreg.predict(X_test)\n",
    "y_pred = clf.predict(X_test)\n",
    "\n",
    "print('RandomForestClassifier accuracy score with all 6 the features: {0:0.4f}'. format(accuracy_score(y_test, y_pred)))\n",
    "clf.score(X_train, y_train)\n",
    "\n"
   ]
  },
  {
   "cell_type": "code",
   "execution_count": 857,
   "metadata": {},
   "outputs": [],
   "source": [
    "accuracy_dict['RandomForest']=accuracy_score(y_test, y_pred)"
   ]
  },
  {
   "cell_type": "markdown",
   "metadata": {},
   "source": [
    "# GradientBoostingClassifier"
   ]
  },
  {
   "cell_type": "code",
   "execution_count": 866,
   "metadata": {},
   "outputs": [
    {
     "name": "stdout",
     "output_type": "stream",
     "text": [
      "GradientBoostingClassifier accuracy score with all 2 the features: 0.8364\n"
     ]
    },
    {
     "data": {
      "text/plain": [
       "0.9231360491929285"
      ]
     },
     "execution_count": 866,
     "metadata": {},
     "output_type": "execute_result"
    }
   ],
   "source": [
    "clf= GradientBoostingClassifier(loss='exponential',\n",
    "    learning_rate=0.01,\n",
    "    n_estimators=410,\n",
    "    max_depth=5,\n",
    "    max_features=4,\n",
    "    subsample=0.8,                            \n",
    "    )\n",
    "\n",
    "clf.fit(X_train, y_train)\n",
    "# y_pred = logreg.predict(X_test)\n",
    "y_pred = clf.predict(X_test)\n",
    "\n",
    "print('GradientBoostingClassifier accuracy score with all 2 the features: {0:0.4f}'. format(accuracy_score(y_test, y_pred)))\n",
    "clf.score(X_train, y_train)"
   ]
  },
  {
   "cell_type": "code",
   "execution_count": 862,
   "metadata": {},
   "outputs": [],
   "source": [
    "accuracy_dict['GradientBoost']=accuracy_score(y_test, y_pred)"
   ]
  },
  {
   "cell_type": "markdown",
   "metadata": {},
   "source": [
    "# AdaBoostClassifier"
   ]
  },
  {
   "cell_type": "code",
   "execution_count": 867,
   "metadata": {},
   "outputs": [],
   "source": [
    "# clf= AdaBoostClassifier(base_estimator=None,\n",
    "#     n_estimators=1500,\n",
    "#     learning_rate=1.0,\n",
    "#     algorithm='SAMME.R',\n",
    "#     random_state=None,)\n",
    "\n",
    "# clf.fit(X_train, y_train)\n",
    "# # y_pred = logreg.predict(X_test)\n",
    "# y_pred = clf.predict(X_test)\n",
    "\n",
    "# print('AdaBoostClassifier accuracy score with all 6 the features: {0:0.4f}'. format(accuracy_score(y_test, y_pred)))\n",
    "# clf.score(X_train, y_train)"
   ]
  },
  {
   "cell_type": "code",
   "execution_count": 868,
   "metadata": {},
   "outputs": [],
   "source": [
    "# accuracy_dict['AdaBoost']=accuracy_score(y_test, y_pred)"
   ]
  },
  {
   "cell_type": "markdown",
   "metadata": {},
   "source": [
    "# SVC"
   ]
  },
  {
   "cell_type": "code",
   "execution_count": null,
   "metadata": {},
   "outputs": [],
   "source": [
    "# # SVC\n",
    "# from sklearn.svm import SVC\n",
    "\n",
    "# clf= SVC()\n",
    "\n",
    "# clf.fit(X_train, y_train)\n",
    "# # y_pred = logreg.predict(X_test)\n",
    "# y_pred = clf.predict(X_test)\n",
    "\n",
    "# print('SVC accuracy score with all 6 the features: {0:0.4f}'. format(accuracy_score(y_test, y_pred)))\n",
    "# clf.score(X_train, y_train)"
   ]
  },
  {
   "cell_type": "code",
   "execution_count": null,
   "metadata": {},
   "outputs": [],
   "source": [
    "# accuracy_dict['SVC']=accuracy_score(y_test, y_pred)"
   ]
  },
  {
   "cell_type": "markdown",
   "metadata": {},
   "source": [
    "# BaggingClassifier"
   ]
  },
  {
   "cell_type": "code",
   "execution_count": 661,
   "metadata": {},
   "outputs": [],
   "source": [
    "# base_cls = DecisionTreeClassifier() \n",
    "base_cls= RandomForestClassifier() #0.8459"
   ]
  },
  {
   "cell_type": "code",
   "execution_count": 859,
   "metadata": {},
   "outputs": [
    {
     "name": "stdout",
     "output_type": "stream",
     "text": [
      "BaggingClassifier accuracy score with all 6 the features: 0.8727\n"
     ]
    },
    {
     "data": {
      "text/plain": [
       "1.0"
      ]
     },
     "execution_count": 859,
     "metadata": {},
     "output_type": "execute_result"
    }
   ],
   "source": [
    "# BaggingClassifier\n",
    "from sklearn.ensemble import BaggingClassifier\n",
    "clf= BaggingClassifier(#base_estimator=base_cls,\n",
    "    n_estimators=600,\n",
    "   )\n",
    "\"\"\" max_samples=1.0,\n",
    "    max_features=1.0,\n",
    "    bootstrap=True,\n",
    "    bootstrap_features=False,\n",
    "    oob_score=False,\n",
    "    warm_start=False,\n",
    "    n_jobs=None,\n",
    "    random_state=None,\n",
    "    verbose=0,\"\"\"\n",
    "\n",
    "clf.fit(X_train, y_train)\n",
    "# y_pred = logreg.predict(X_test)\n",
    "y_pred = clf.predict(X_test)\n",
    "\n",
    "print('BaggingClassifier accuracy score with all 6 the features: {0:0.4f}'. format(accuracy_score(y_test, y_pred)))\n",
    "clf.score(X_train, y_train)"
   ]
  },
  {
   "cell_type": "code",
   "execution_count": 663,
   "metadata": {},
   "outputs": [],
   "source": [
    "accuracy_dict['BaggingClassifier']=accuracy_score(y_test, y_pred)"
   ]
  },
  {
   "cell_type": "markdown",
   "metadata": {},
   "source": [
    "# KNeighborsClassifier"
   ]
  },
  {
   "cell_type": "code",
   "execution_count": 864,
   "metadata": {},
   "outputs": [
    {
     "name": "stdout",
     "output_type": "stream",
     "text": [
      "KNeighborsClassifier accuracy score with all 6 the features: 0.8182\n"
     ]
    },
    {
     "data": {
      "text/plain": [
       "0.9420958237253395"
      ]
     },
     "execution_count": 864,
     "metadata": {},
     "output_type": "execute_result"
    }
   ],
   "source": [
    "# KNeighborsClassifier/\n",
    "from sklearn.neighbors import KNeighborsClassifier\n",
    "clf= KNeighborsClassifier()\n",
    "# criterion\n",
    "clf.fit(X_train, y_train)\n",
    "# y_pred = logreg.predict(X_test)\n",
    "y_pred = clf.predict(X_test)\n",
    "\n",
    "print('KNeighborsClassifier accuracy score with all 6 the features: {0:0.4f}'. format(accuracy_score(y_test, y_pred)))\n",
    "clf.score(X_train, y_train)"
   ]
  },
  {
   "cell_type": "code",
   "execution_count": 865,
   "metadata": {},
   "outputs": [],
   "source": [
    "accuracy_dict['KNeighbor']=accuracy_score(y_test, y_pred)"
   ]
  },
  {
   "cell_type": "markdown",
   "metadata": {},
   "source": [
    "# RidgeClassifier"
   ]
  },
  {
   "cell_type": "code",
   "execution_count": 666,
   "metadata": {},
   "outputs": [
    {
     "name": "stdout",
     "output_type": "stream",
     "text": [
      "RidgeClassifier accuracy score with all 6 the features: 0.9013\n"
     ]
    },
    {
     "data": {
      "text/plain": [
       "0.8969874255997725"
      ]
     },
     "execution_count": 666,
     "metadata": {},
     "output_type": "execute_result"
    }
   ],
   "source": [
    "# RidgeClassifier\n",
    "from sklearn.linear_model import RidgeClassifier\n",
    "clf= RidgeClassifier()\n",
    "\n",
    "clf.fit(X_train, y_train)\n",
    "# y_pred = logreg.predict(X_test)\n",
    "y_pred = clf.predict(X_test)\n",
    "\n",
    "print('RidgeClassifier accuracy score with all 6 the features: {0:0.4f}'. format(accuracy_score(y_test, y_pred)))\n",
    "clf.score(X_train, y_train)"
   ]
  },
  {
   "cell_type": "code",
   "execution_count": 667,
   "metadata": {},
   "outputs": [],
   "source": [
    "accuracy_dict['RidgeClassifier']=accuracy_score(y_test, y_pred)"
   ]
  },
  {
   "cell_type": "markdown",
   "metadata": {},
   "source": [
    "# GaussianNB"
   ]
  },
  {
   "cell_type": "code",
   "execution_count": 668,
   "metadata": {},
   "outputs": [
    {
     "name": "stdout",
     "output_type": "stream",
     "text": [
      "GaussianNB accuracy score with all 6 the features: 0.9091\n"
     ]
    },
    {
     "data": {
      "text/plain": [
       "0.9109228675320454"
      ]
     },
     "execution_count": 668,
     "metadata": {},
     "output_type": "execute_result"
    }
   ],
   "source": [
    "# GaussianNB\n",
    "from sklearn.naive_bayes import GaussianNB\n",
    "clf= GaussianNB()\n",
    "\n",
    "clf.fit(X_train, y_train)\n",
    "# y_pred = logreg.predict(X_test)\n",
    "y_pred = clf.predict(X_test)\n",
    "\n",
    "print('GaussianNB accuracy score with all 6 the features: {0:0.4f}'. format(accuracy_score(y_test, y_pred)))\n",
    "clf.score(X_train, y_train)"
   ]
  },
  {
   "cell_type": "code",
   "execution_count": 669,
   "metadata": {},
   "outputs": [],
   "source": [
    "accuracy_dict['GuasianNB']=accuracy_score(y_test, y_pred)"
   ]
  },
  {
   "cell_type": "markdown",
   "metadata": {},
   "source": [
    "# HistGradientBoostingClassifier"
   ]
  },
  {
   "cell_type": "code",
   "execution_count": 698,
   "metadata": {},
   "outputs": [
    {
     "name": "stdout",
     "output_type": "stream",
     "text": [
      "GaussianNB accuracy score with all 6 the features: 0.8333\n"
     ]
    },
    {
     "data": {
      "text/plain": [
       "0.9195480060704686"
      ]
     },
     "execution_count": 698,
     "metadata": {},
     "output_type": "execute_result"
    }
   ],
   "source": [
    "from sklearn.experimental import enable_hist_gradient_boosting\n",
    "from sklearn.ensemble import HistGradientBoostingClassifier\n",
    "\n",
    "clf= HistGradientBoostingClassifier( loss='binary_crossentropy',\n",
    "    learning_rate=0.001,\n",
    "    max_iter=6000,\n",
    "    max_depth=5,\n",
    "    max_leaf_nodes=5,\n",
    "   )\n",
    "\n",
    "clf.fit(X_train, y_train)\n",
    "y_pred = clf.predict(X_test)\n",
    "\n",
    "print('GaussianNB accuracy score with all 6 the features: {0:0.4f}'. format(accuracy_score(y_test, y_pred)))\n",
    "clf.score(X_train, y_train)"
   ]
  },
  {
   "cell_type": "code",
   "execution_count": 676,
   "metadata": {},
   "outputs": [],
   "source": [
    "accuracy_dict['HistGradientBoost']=accuracy_score(y_test, y_pred)"
   ]
  },
  {
   "cell_type": "markdown",
   "metadata": {},
   "source": [
    "# LGBMClassifier"
   ]
  },
  {
   "cell_type": "code",
   "execution_count": 863,
   "metadata": {},
   "outputs": [
    {
     "name": "stdout",
     "output_type": "stream",
     "text": [
      "LGBMClassifier accuracy score with all 6 the features: 0.8545\n"
     ]
    },
    {
     "data": {
      "text/plain": [
       "0.9199333845759672"
      ]
     },
     "execution_count": 863,
     "metadata": {},
     "output_type": "execute_result"
    }
   ],
   "source": [
    "from lightgbm import LGBMClassifier\n",
    "\n",
    "clf= LGBMClassifier(boosting_type='gbdt',\n",
    "    num_leaves=20,\n",
    "    max_depth=10,\n",
    "    learning_rate=0.001,\n",
    "    n_estimators=600,\n",
    "    subsample=0.9,)\n",
    "\n",
    "clf.fit(X_train, y_train)\n",
    "y_pred = clf.predict(X_test)\n",
    "\n",
    "print('LGBMClassifier accuracy score with all 6 the features: {0:0.4f}'. format(accuracy_score(y_test, y_pred)))\n",
    "clf.score(X_train, y_train)"
   ]
  },
  {
   "cell_type": "code",
   "execution_count": 673,
   "metadata": {},
   "outputs": [],
   "source": [
    "accuracy_dict['LGBMClassifier']=accuracy_score(y_test, y_pred)"
   ]
  },
  {
   "cell_type": "markdown",
   "metadata": {},
   "source": [
    "# Summary"
   ]
  },
  {
   "cell_type": "code",
   "execution_count": 674,
   "metadata": {},
   "outputs": [
    {
     "name": "stdout",
     "output_type": "stream",
     "text": [
      "LR --> 0\n",
      "DecisionTree --> 0.9182815356489945\n",
      "Xgboost --> 0.916636197440585\n",
      "Catboost --> 0.9159049360146252\n",
      "RandomForest --> 0.9155393053016453\n",
      "GradientBoost --> 0.9157221206581353\n",
      "AdaBoost --> 0.9170018281535649\n",
      "SVC --> 0.9160877513711152\n",
      "BaggingClassifier --> 0.9053016453382084\n",
      "KNeighbor --> 0.910054844606947\n",
      "RidgeClassifier --> 0.9012797074954296\n",
      "GuasianNB --> 0.9091407678244973\n",
      "HistGradientBoost --> 0.9182815356489945\n",
      "LGBMClassifier --> 0.9175502742230347\n"
     ]
    }
   ],
   "source": [
    "# print(accuracy_dict.items())\n",
    "for k, v in accuracy_dict.items():\n",
    "    print (k, '-->', v)\n",
    "#     print(\"\\n\")"
   ]
  },
  {
   "cell_type": "code",
   "execution_count": 537,
   "metadata": {},
   "outputs": [],
   "source": [
    "# Xgboost --> 0.917794028031688\n",
    "# RandomForest --> 0.9171237050578915\n",
    "# GradientBoost --> 0.9174893357708714\n",
    "# LGBMClassifier --> 0.9170018281535649"
   ]
  },
  {
   "cell_type": "markdown",
   "metadata": {},
   "source": [
    "# VotingClassifier"
   ]
  },
  {
   "cell_type": "code",
   "execution_count": 538,
   "metadata": {},
   "outputs": [],
   "source": [
    "# from sklearn.ensemble import VotingClassifier\n",
    "\n",
    "\n",
    "# x_clf= XGBClassifier(learning_rate=0.05, n_estimators=206, max_depth=5,\n",
    "#                         min_child_weight=5, \n",
    "#                          seed=27)\n",
    "\n",
    "\n",
    "# l_clf= LGBMClassifier(boosting_type='gbdt',\n",
    "#     num_leaves=20,\n",
    "#     max_depth=10,\n",
    "#     learning_rate=0.001,\n",
    "#     n_estimators=600,\n",
    "#     subsample=0.9,)\n",
    "\n",
    "# g_clf= GradientBoostingClassifier(loss='exponential',\n",
    "#     learning_rate=0.01,\n",
    "#     n_estimators=410,\n",
    "#     max_depth=5,\n",
    "#     max_features=2,\n",
    "#     subsample=0.8,                            \n",
    "#     )\n",
    "\n",
    "# # ('XGBClassifier', x_clf),\n",
    "# voting_clf = VotingClassifier( estimators=[ ('XGBClassifier', x_clf),('LGBMClassifier', l_clf),('GradientBoostingClassifier',g_clf)], voting='hard' )#,weights=[1,3,3,3]\n",
    "# # voting_clf = VotingClassifier( estimators=[x_clf,r_clf, b_clf], voting='hard' )\n",
    "\n",
    "\n",
    "# voting_clf.fit(X_train, y_train)\n",
    "\n",
    "# y_pred = voting_clf.predict(X_test)\n",
    "\n",
    "# print('Voting accuracy score with all 2 the features: {0:0.4f}'. format(accuracy_score(y_test, y_pred)))\n",
    "# voting_clf.score(X_train, y_train)"
   ]
  },
  {
   "cell_type": "markdown",
   "metadata": {},
   "source": [
    "# Stacking of models"
   ]
  },
  {
   "cell_type": "code",
   "execution_count": 875,
   "metadata": {},
   "outputs": [],
   "source": [
    "# Create Base Learners\n",
    "from xgboost import XGBClassifier\n",
    "from sklearn.linear_model import LogisticRegression\n",
    "\n",
    "\n",
    "base_learners = [\n",
    "                 ('rf_1', XGBClassifier(\n",
    "                     learning_rate=0.05,\n",
    "                     n_estimators=206, \n",
    "                     max_depth=5,  #91.77\n",
    "                        min_child_weight=5, \n",
    "                         seed=27)),\n",
    "                       ('bharat', XGBClassifier(\n",
    "                             learning_rate=0.01,\n",
    "                             n_estimators=90,\n",
    "                             max_depth=6,  #91.78\n",
    "                        min_child_weight=5, \n",
    "                         seed=27))    \n",
    "                ]\n",
    "\n"
   ]
  },
  {
   "cell_type": "code",
   "execution_count": 876,
   "metadata": {},
   "outputs": [],
   "source": [
    "from sklearn.ensemble import StackingClassifier"
   ]
  },
  {
   "cell_type": "code",
   "execution_count": 877,
   "metadata": {},
   "outputs": [],
   "source": [
    "# Initialize Stacking Classifier with the Meta Learner\n",
    "from lightgbm import LGBMClassifier\n",
    "                                                                        #91.71\n",
    "clf = StackingClassifier(estimators=base_learners, \n",
    "                         final_estimator=XGBClassifier(\n",
    "                             learning_rate=0.01,\n",
    "                             n_estimators=90,\n",
    "                             max_depth=6,  #91.78\n",
    "                        min_child_weight=5, \n",
    "                         seed=27))\n"
   ]
  },
  {
   "cell_type": "code",
   "execution_count": 878,
   "metadata": {},
   "outputs": [],
   "source": [
    "# Xgboost --> 0.917794028031688\n",
    "# Catboost --> 0.916819012797075\n",
    "# RandomForest --> 0.9164533820840951\n",
    "# GradientBoost --> 0.9170627666057282\n",
    "# AdaBoost --> 0.913528336380256\n",
    "# SVC --> 0.9148080438756856\n",
    "# BaggingClassifier --> 0.9078001218769043\n",
    "# KNeighbor --> 0.9074344911639244\n",
    "# RidgeClassifier --> 0.8976234003656307\n",
    "# GuasianNB --> 0.907556368068251\n",
    "# HistGradientBoost --> 0.9167580743449116\n",
    "# LGBMClassifier --> 0.9173674588665448"
   ]
  },
  {
   "cell_type": "code",
   "execution_count": 879,
   "metadata": {},
   "outputs": [
    {
     "name": "stdout",
     "output_type": "stream",
     "text": [
      "StackingClassifier accuracy score with all 2 the features: 0.8727\n"
     ]
    }
   ],
   "source": [
    "clf.fit(X_train, y_train)\n",
    "y_pred = clf.predict(X_test)\n",
    "\n",
    "print('StackingClassifier accuracy score with all 2 the features: {0:0.4f}'. format(accuracy_score(y_test, y_pred)))\n"
   ]
  },
  {
   "cell_type": "code",
   "execution_count": null,
   "metadata": {},
   "outputs": [],
   "source": []
  },
  {
   "cell_type": "code",
   "execution_count": 704,
   "metadata": {},
   "outputs": [
    {
     "data": {
      "text/plain": [
       "0.8333333333333334"
      ]
     },
     "execution_count": 704,
     "metadata": {},
     "output_type": "execute_result"
    }
   ],
   "source": [
    "clf.fit(X_train, y_train).score(X_test, y_test)"
   ]
  },
  {
   "cell_type": "markdown",
   "metadata": {},
   "source": [
    "# 4. Multi-layer Stacking"
   ]
  },
  {
   "cell_type": "code",
   "execution_count": 870,
   "metadata": {},
   "outputs": [],
   "source": [
    "# Create Learners per layer\n",
    "layer_one_estimators = [\n",
    "                        ('gb_1', GradientBoostingClassifier(loss='exponential',\n",
    "                                learning_rate=0.01,\n",
    "                                n_estimators=410,\n",
    "                                max_depth=5,\n",
    "                                max_features=4,\n",
    "                                subsample=0.8,                            \n",
    "                                )),\n",
    "                        \n",
    "                         ('xg_1', XGBClassifier(learning_rate=0.05, n_estimators=206, max_depth=5,\n",
    "                        min_child_weight=5, \n",
    "                         seed=27))           \n",
    "                       ]\n"
   ]
  },
  {
   "cell_type": "code",
   "execution_count": 871,
   "metadata": {},
   "outputs": [],
   "source": [
    "layer_two_estimators = [\n",
    "                         ('lg_2', LGBMClassifier(boosting_type='gbdt',num_leaves=20,\n",
    "    max_depth=10,    learning_rate=0.001,    n_estimators=600,    subsample=0.9)) ,\n",
    "                        ('gb_2', GradientBoostingClassifier(loss='exponential',\n",
    "                                learning_rate=0.01,\n",
    "                                n_estimators=410,\n",
    "                                max_depth=5,\n",
    "                                max_features=2,\n",
    "                                subsample=0.8,                            \n",
    "                                ))\n",
    "                       ]\n"
   ]
  },
  {
   "cell_type": "code",
   "execution_count": 872,
   "metadata": {},
   "outputs": [],
   "source": [
    "layer_two = StackingClassifier(estimators=layer_two_estimators, \n",
    "                               final_estimator=RandomForestClassifier( )\n",
    "                              )\n",
    "\n"
   ]
  },
  {
   "cell_type": "code",
   "execution_count": 873,
   "metadata": {},
   "outputs": [],
   "source": [
    "# Create Final model by \n",
    "clf = StackingClassifier(estimators=layer_one_estimators, final_estimator=layer_two)\n"
   ]
  },
  {
   "cell_type": "code",
   "execution_count": 874,
   "metadata": {},
   "outputs": [
    {
     "name": "stderr",
     "output_type": "stream",
     "text": [
      "ERROR:root:Internal Python error in the inspect module.\n",
      "Below is the traceback from this internal error.\n",
      "\n"
     ]
    },
    {
     "name": "stdout",
     "output_type": "stream",
     "text": [
      "Traceback (most recent call last):\n",
      "  File \"/home/bhrt/.local/lib/python3.6/site-packages/IPython/core/interactiveshell.py\", line 3319, in run_code\n",
      "    exec(code_obj, self.user_global_ns, self.user_ns)\n",
      "  File \"<ipython-input-874-5fdb707ca4f7>\", line 1, in <module>\n",
      "    clf.fit(X_train, y_train).score(X_test, y_test)\n",
      "  File \"/home/bhrt/.local/lib/python3.6/site-packages/sklearn/ensemble/_stacking.py\", line 413, in fit\n",
      "    return super().fit(X, self._le.transform(y), sample_weight)\n",
      "  File \"/home/bhrt/.local/lib/python3.6/site-packages/sklearn/ensemble/_stacking.py\", line 199, in fit\n",
      "    self.final_estimator_.fit(X_meta, y)\n",
      "  File \"/home/bhrt/.local/lib/python3.6/site-packages/sklearn/ensemble/_stacking.py\", line 413, in fit\n",
      "    return super().fit(X, self._le.transform(y), sample_weight)\n",
      "  File \"/home/bhrt/.local/lib/python3.6/site-packages/sklearn/ensemble/_stacking.py\", line 173, in fit\n",
      "    for est, meth in zip(all_estimators, self.stack_method_)\n",
      "  File \"/home/bhrt/.local/lib/python3.6/site-packages/joblib/parallel.py\", line 1007, in __call__\n",
      "    while self.dispatch_one_batch(iterator):\n",
      "  File \"/home/bhrt/.local/lib/python3.6/site-packages/joblib/parallel.py\", line 835, in dispatch_one_batch\n",
      "    self._dispatch(tasks)\n",
      "  File \"/home/bhrt/.local/lib/python3.6/site-packages/joblib/parallel.py\", line 754, in _dispatch\n",
      "    job = self._backend.apply_async(batch, callback=cb)\n",
      "  File \"/home/bhrt/.local/lib/python3.6/site-packages/joblib/_parallel_backends.py\", line 209, in apply_async\n",
      "    result = ImmediateResult(func)\n",
      "  File \"/home/bhrt/.local/lib/python3.6/site-packages/joblib/_parallel_backends.py\", line 590, in __init__\n",
      "    self.results = batch()\n",
      "  File \"/home/bhrt/.local/lib/python3.6/site-packages/joblib/parallel.py\", line 256, in __call__\n",
      "    for func, args, kwargs in self.items]\n",
      "  File \"/home/bhrt/.local/lib/python3.6/site-packages/joblib/parallel.py\", line 256, in <listcomp>\n",
      "    for func, args, kwargs in self.items]\n",
      "  File \"/home/bhrt/.local/lib/python3.6/site-packages/sklearn/model_selection/_validation.py\", line 755, in cross_val_predict\n",
      "    for train, test in cv.split(X, y, groups))\n",
      "  File \"/home/bhrt/.local/lib/python3.6/site-packages/joblib/parallel.py\", line 1007, in __call__\n",
      "    while self.dispatch_one_batch(iterator):\n",
      "  File \"/home/bhrt/.local/lib/python3.6/site-packages/joblib/parallel.py\", line 835, in dispatch_one_batch\n",
      "    self._dispatch(tasks)\n",
      "  File \"/home/bhrt/.local/lib/python3.6/site-packages/joblib/parallel.py\", line 754, in _dispatch\n",
      "    job = self._backend.apply_async(batch, callback=cb)\n",
      "  File \"/home/bhrt/.local/lib/python3.6/site-packages/joblib/_parallel_backends.py\", line 209, in apply_async\n",
      "    result = ImmediateResult(func)\n",
      "  File \"/home/bhrt/.local/lib/python3.6/site-packages/joblib/_parallel_backends.py\", line 590, in __init__\n",
      "    self.results = batch()\n",
      "  File \"/home/bhrt/.local/lib/python3.6/site-packages/joblib/parallel.py\", line 256, in __call__\n",
      "    for func, args, kwargs in self.items]\n",
      "  File \"/home/bhrt/.local/lib/python3.6/site-packages/joblib/parallel.py\", line 256, in <listcomp>\n",
      "    for func, args, kwargs in self.items]\n",
      "  File \"/home/bhrt/.local/lib/python3.6/site-packages/sklearn/model_selection/_validation.py\", line 841, in _fit_and_predict\n",
      "    estimator.fit(X_train, y_train, **fit_params)\n",
      "  File \"/home/bhrt/.local/lib/python3.6/site-packages/sklearn/ensemble/_gb.py\", line 1537, in fit\n",
      "    sample_weight_val, begin_at_stage, monitor, X_idx_sorted)\n",
      "  File \"/home/bhrt/.local/lib/python3.6/site-packages/sklearn/ensemble/_gb.py\", line 1594, in _fit_stages\n",
      "    random_state, X_idx_sorted, X_csc, X_csr)\n",
      "  File \"/home/bhrt/.local/lib/python3.6/site-packages/sklearn/ensemble/_gb.py\", line 1245, in _fit_stage\n",
      "    check_input=False, X_idx_sorted=X_idx_sorted)\n",
      "  File \"/home/bhrt/.local/lib/python3.6/site-packages/sklearn/tree/_classes.py\", line 1225, in fit\n",
      "    X_idx_sorted=X_idx_sorted)\n",
      "  File \"/home/bhrt/.local/lib/python3.6/site-packages/sklearn/tree/_classes.py\", line 367, in fit\n",
      "    builder.build(self.tree_, X, y, sample_weight, X_idx_sorted)\n",
      "KeyboardInterrupt\n",
      "\n",
      "During handling of the above exception, another exception occurred:\n",
      "\n",
      "Traceback (most recent call last):\n",
      "  File \"/home/bhrt/.local/lib/python3.6/site-packages/IPython/core/interactiveshell.py\", line 2034, in showtraceback\n",
      "    stb = value._render_traceback_()\n",
      "AttributeError: 'KeyboardInterrupt' object has no attribute '_render_traceback_'\n",
      "\n",
      "During handling of the above exception, another exception occurred:\n",
      "\n",
      "Traceback (most recent call last):\n",
      "  File \"/home/bhrt/.local/lib/python3.6/site-packages/IPython/core/ultratb.py\", line 1151, in get_records\n",
      "    return _fixed_getinnerframes(etb, number_of_lines_of_context, tb_offset)\n",
      "  File \"/home/bhrt/.local/lib/python3.6/site-packages/IPython/core/ultratb.py\", line 319, in wrapped\n",
      "    return f(*args, **kwargs)\n",
      "  File \"/home/bhrt/.local/lib/python3.6/site-packages/IPython/core/ultratb.py\", line 353, in _fixed_getinnerframes\n",
      "    records = fix_frame_records_filenames(inspect.getinnerframes(etb, context))\n",
      "  File \"/usr/lib/python3.6/inspect.py\", line 1490, in getinnerframes\n",
      "    frameinfo = (tb.tb_frame,) + getframeinfo(tb, context)\n",
      "  File \"/usr/lib/python3.6/inspect.py\", line 1448, in getframeinfo\n",
      "    filename = getsourcefile(frame) or getfile(frame)\n",
      "  File \"/usr/lib/python3.6/inspect.py\", line 693, in getsourcefile\n",
      "    if os.path.exists(filename):\n",
      "  File \"/usr/lib/python3.6/genericpath.py\", line 19, in exists\n",
      "    os.stat(path)\n",
      "KeyboardInterrupt\n"
     ]
    },
    {
     "ename": "KeyboardInterrupt",
     "evalue": "",
     "output_type": "error",
     "traceback": [
      "\u001b[0;31m---------------------------------------------------------------------------\u001b[0m"
     ]
    }
   ],
   "source": [
    "clf.fit(X_train, y_train).score(X_test, y_test)"
   ]
  },
  {
   "cell_type": "code",
   "execution_count": null,
   "metadata": {},
   "outputs": [],
   "source": [
    "print(\":(\")"
   ]
  },
  {
   "cell_type": "code",
   "execution_count": null,
   "metadata": {},
   "outputs": [],
   "source": []
  },
  {
   "cell_type": "markdown",
   "metadata": {},
   "source": [
    "# NN"
   ]
  },
  {
   "cell_type": "code",
   "execution_count": 549,
   "metadata": {},
   "outputs": [],
   "source": [
    "# from keras.models import Sequential\n",
    "# from keras.layers import Dense\n",
    "\n",
    "# model = Sequential([    Dense(32, activation='relu', input_shape=(4,)),\n",
    "#                         Dense(32, activation='relu'),\n",
    "#                         Dense(1, activation='sigmoid'),])\n",
    "\n",
    "\n",
    "# model.compile(optimizer='sgd',\n",
    "#               loss='binary_crossentropy',\n",
    "#               metrics=['accuracy'])\n",
    "\n",
    "\n",
    "# hist = model.fit(X_train, y_train, batch_size=32, epochs=100, validation_data=(X_test, y_test))\n",
    "\n",
    "\n",
    "# # model.compile(optimizer='sgd',              loss='binary_crossentropy',              metrics=['accuracy'])\n",
    "\n",
    "\n",
    "# model.evaluate(X_test, y_test)[1]\n",
    "\n",
    "# import matplotlib.pyplot as plt\n",
    "\n",
    "# plt.plot(hist.history['loss'])\n",
    "# plt.plot(hist.history['val_loss'])\n",
    "# plt.title('Model loss')\n",
    "# plt.ylabel('Loss')\n",
    "# plt.xlabel('Epoch')\n",
    "# plt.legend(['Train', 'Val'], loc='upper right')\n",
    "# plt.show()\n",
    "\n",
    "\n",
    "# plt.plot(hist.history['accuracy'])\n",
    "# plt.plot(hist.history['val_accuracy'])\n",
    "# plt.title('Model accuracy')\n",
    "# # plt.ylabel('Accuracy')\n",
    "# plt.xlabel('Epoch')\n",
    "# plt.legend(['Train', 'Val'], loc='lower right')\n",
    "# plt.show()\n"
   ]
  },
  {
   "cell_type": "markdown",
   "metadata": {},
   "source": [
    "# Testing"
   ]
  },
  {
   "cell_type": "code",
   "execution_count": 880,
   "metadata": {},
   "outputs": [],
   "source": [
    "test_df = pd.read_csv(\"test.csv\")\n",
    "\n",
    "test_df.drop([\"ID\",'Interaction Type',\"Moon Phase During Interaction\"],axis=1,inplace=True)\n",
    "\n",
    "# categorical = []\n",
    "# for feature in categorical:\n",
    "#         le = preprocessing.LabelEncoder()\n",
    "#         test_df[feature] = le.fit_transform(test_df[feature])\n",
    "        \n",
    "\n",
    "\n",
    "# scaler = StandardScaler()\n",
    "# test_df = pd.DataFrame(scaler.fit_transform(test_df), columns = test_df.columns)\n",
    "\n",
    "# Title_scaler = MinMaxScaler()\n",
    "# test_df = Title_scaler.fit_transform(test_df)\n",
    "# test_df = pd.DataFrame(test_df,columns=['Years of Knowing','Interaction Duration'])\n",
    "\n",
    "\n",
    "\n",
    "\n",
    "vc_item1 = test_df['Person A'].value_counts()\n",
    "\n",
    "test_df['Person A']=test_df['Person A'].apply(lambda x: vc_item1[x])\n",
    "\n",
    "vc_item1 = test_df['Person B'].value_counts()\n",
    "\n",
    "test_df['Person B']=test_df['Person B'].apply(lambda x: vc_item1[x])\n",
    "\n",
    "test_df = pd.DataFrame(scaler.transform(test_df), columns = X.columns)\n",
    "\n",
    "result = clf.predict(test_df)\n",
    "\n",
    "\n",
    "temp_df=pd.read_csv(\"test.csv\")\n",
    "\n",
    "result_data=temp_df['ID']\n",
    "\n",
    "result_data_df = result_data.to_frame()\n",
    "\n",
    "result_data_df['Friends']=result\n",
    "\n",
    "result_data_df.to_csv('submit.csv',index=False) "
   ]
  },
  {
   "cell_type": "code",
   "execution_count": null,
   "metadata": {},
   "outputs": [],
   "source": []
  },
  {
   "cell_type": "code",
   "execution_count": null,
   "metadata": {},
   "outputs": [],
   "source": []
  }
 ],
 "metadata": {
  "kernelspec": {
   "display_name": "Python 3",
   "language": "python",
   "name": "python3"
  },
  "language_info": {
   "codemirror_mode": {
    "name": "ipython",
    "version": 3
   },
   "file_extension": ".py",
   "mimetype": "text/x-python",
   "name": "python",
   "nbconvert_exporter": "python",
   "pygments_lexer": "ipython3",
   "version": "3.6.9"
  }
 },
 "nbformat": 4,
 "nbformat_minor": 4
}
