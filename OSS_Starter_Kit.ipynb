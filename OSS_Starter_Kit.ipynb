{
 "cells": [
  {
   "cell_type": "code",
   "execution_count": 1,
   "metadata": {},
   "outputs": [],
   "source": [
    "import pandas as pd\n",
    "import numpy as np"
   ]
  },
  {
   "cell_type": "code",
   "execution_count": 2,
   "metadata": {},
   "outputs": [],
   "source": [
    "# import libraries for plotting\n",
    "import matplotlib.pyplot as plt\n",
    "import seaborn as sns\n",
    "%matplotlib inline"
   ]
  },
  {
   "cell_type": "code",
   "execution_count": 3,
   "metadata": {},
   "outputs": [],
   "source": [
    "# ignore warnings\n",
    "import warnings\n",
    "warnings.filterwarnings('ignore')"
   ]
  },
  {
   "cell_type": "code",
   "execution_count": 4,
   "metadata": {},
   "outputs": [],
   "source": [
    "df = pd.read_csv(\"train.csv\")"
   ]
  },
  {
   "cell_type": "code",
   "execution_count": 5,
   "metadata": {},
   "outputs": [
    {
     "data": {
      "text/plain": [
       "(54697, 8)"
      ]
     },
     "execution_count": 5,
     "metadata": {},
     "output_type": "execute_result"
    }
   ],
   "source": [
    "df.shape"
   ]
  },
  {
   "cell_type": "code",
   "execution_count": 6,
   "metadata": {},
   "outputs": [
    {
     "name": "stdout",
     "output_type": "stream",
     "text": [
      "<class 'pandas.core.frame.DataFrame'>\n",
      "RangeIndex: 54697 entries, 0 to 54696\n",
      "Data columns (total 8 columns):\n",
      "ID                               54697 non-null int64\n",
      "Person A                         54697 non-null object\n",
      "Person B                         54697 non-null object\n",
      "Years of Knowing                 54697 non-null float64\n",
      "Interaction Duration             54697 non-null float64\n",
      "Interaction Type                 54697 non-null object\n",
      "Moon Phase During Interaction    54697 non-null object\n",
      "Friends                          54697 non-null int64\n",
      "dtypes: float64(2), int64(2), object(4)\n",
      "memory usage: 3.3+ MB\n"
     ]
    }
   ],
   "source": [
    "df.info()"
   ]
  },
  {
   "cell_type": "code",
   "execution_count": 7,
   "metadata": {},
   "outputs": [],
   "source": [
    "#this means that there are no null values"
   ]
  },
  {
   "cell_type": "code",
   "execution_count": 8,
   "metadata": {},
   "outputs": [
    {
     "data": {
      "text/html": [
       "<div>\n",
       "<style scoped>\n",
       "    .dataframe tbody tr th:only-of-type {\n",
       "        vertical-align: middle;\n",
       "    }\n",
       "\n",
       "    .dataframe tbody tr th {\n",
       "        vertical-align: top;\n",
       "    }\n",
       "\n",
       "    .dataframe thead th {\n",
       "        text-align: right;\n",
       "    }\n",
       "</style>\n",
       "<table border=\"1\" class=\"dataframe\">\n",
       "  <thead>\n",
       "    <tr style=\"text-align: right;\">\n",
       "      <th></th>\n",
       "      <th>ID</th>\n",
       "      <th>Years of Knowing</th>\n",
       "      <th>Interaction Duration</th>\n",
       "      <th>Friends</th>\n",
       "    </tr>\n",
       "  </thead>\n",
       "  <tbody>\n",
       "    <tr>\n",
       "      <th>count</th>\n",
       "      <td>54697.000000</td>\n",
       "      <td>54697.000000</td>\n",
       "      <td>54697.000000</td>\n",
       "      <td>54697.000000</td>\n",
       "    </tr>\n",
       "    <tr>\n",
       "      <th>mean</th>\n",
       "      <td>27349.000000</td>\n",
       "      <td>4.650547</td>\n",
       "      <td>10.350016</td>\n",
       "      <td>0.485804</td>\n",
       "    </tr>\n",
       "    <tr>\n",
       "      <th>std</th>\n",
       "      <td>15789.808174</td>\n",
       "      <td>3.371210</td>\n",
       "      <td>7.013008</td>\n",
       "      <td>0.499803</td>\n",
       "    </tr>\n",
       "    <tr>\n",
       "      <th>min</th>\n",
       "      <td>1.000000</td>\n",
       "      <td>0.000286</td>\n",
       "      <td>0.000176</td>\n",
       "      <td>0.000000</td>\n",
       "    </tr>\n",
       "    <tr>\n",
       "      <th>25%</th>\n",
       "      <td>13675.000000</td>\n",
       "      <td>2.062862</td>\n",
       "      <td>4.830330</td>\n",
       "      <td>0.000000</td>\n",
       "    </tr>\n",
       "    <tr>\n",
       "      <th>50%</th>\n",
       "      <td>27349.000000</td>\n",
       "      <td>3.781148</td>\n",
       "      <td>9.032467</td>\n",
       "      <td>0.000000</td>\n",
       "    </tr>\n",
       "    <tr>\n",
       "      <th>75%</th>\n",
       "      <td>41023.000000</td>\n",
       "      <td>6.295307</td>\n",
       "      <td>14.525737</td>\n",
       "      <td>1.000000</td>\n",
       "    </tr>\n",
       "    <tr>\n",
       "      <th>max</th>\n",
       "      <td>54697.000000</td>\n",
       "      <td>14.999167</td>\n",
       "      <td>29.999377</td>\n",
       "      <td>1.000000</td>\n",
       "    </tr>\n",
       "  </tbody>\n",
       "</table>\n",
       "</div>"
      ],
      "text/plain": [
       "                 ID  Years of Knowing  Interaction Duration       Friends\n",
       "count  54697.000000      54697.000000          54697.000000  54697.000000\n",
       "mean   27349.000000          4.650547             10.350016      0.485804\n",
       "std    15789.808174          3.371210              7.013008      0.499803\n",
       "min        1.000000          0.000286              0.000176      0.000000\n",
       "25%    13675.000000          2.062862              4.830330      0.000000\n",
       "50%    27349.000000          3.781148              9.032467      0.000000\n",
       "75%    41023.000000          6.295307             14.525737      1.000000\n",
       "max    54697.000000         14.999167             29.999377      1.000000"
      ]
     },
     "execution_count": 8,
     "metadata": {},
     "output_type": "execute_result"
    }
   ],
   "source": [
    "df.describe()"
   ]
  },
  {
   "cell_type": "code",
   "execution_count": 9,
   "metadata": {},
   "outputs": [
    {
     "data": {
      "text/plain": [
       "0            1\n",
       "1            2\n",
       "2            3\n",
       "3            4\n",
       "4            5\n",
       "         ...  \n",
       "54692    54693\n",
       "54693    54694\n",
       "54694    54695\n",
       "54695    54696\n",
       "54696    54697\n",
       "Name: ID, Length: 54697, dtype: int64"
      ]
     },
     "execution_count": 9,
     "metadata": {},
     "output_type": "execute_result"
    }
   ],
   "source": [
    "df[\"ID\"] # it is of no use as it's unique for every entry and has no significance"
   ]
  },
  {
   "cell_type": "code",
   "execution_count": 10,
   "metadata": {},
   "outputs": [],
   "source": [
    "df.drop(\"ID\",axis=1,inplace=True)"
   ]
  },
  {
   "cell_type": "code",
   "execution_count": 11,
   "metadata": {},
   "outputs": [
    {
     "name": "stdout",
     "output_type": "stream",
     "text": [
      "<class 'pandas.core.frame.DataFrame'>\n",
      "RangeIndex: 54697 entries, 0 to 54696\n",
      "Data columns (total 7 columns):\n",
      "Person A                         54697 non-null object\n",
      "Person B                         54697 non-null object\n",
      "Years of Knowing                 54697 non-null float64\n",
      "Interaction Duration             54697 non-null float64\n",
      "Interaction Type                 54697 non-null object\n",
      "Moon Phase During Interaction    54697 non-null object\n",
      "Friends                          54697 non-null int64\n",
      "dtypes: float64(2), int64(1), object(4)\n",
      "memory usage: 2.9+ MB\n"
     ]
    }
   ],
   "source": [
    "df.info()"
   ]
  },
  {
   "cell_type": "code",
   "execution_count": 12,
   "metadata": {},
   "outputs": [
    {
     "data": {
      "text/plain": [
       "100"
      ]
     },
     "execution_count": 12,
     "metadata": {},
     "output_type": "execute_result"
    }
   ],
   "source": [
    "len(df['Person A'].unique())  # there are 100 unique names in Person A column"
   ]
  },
  {
   "cell_type": "code",
   "execution_count": 13,
   "metadata": {},
   "outputs": [
    {
     "data": {
      "text/plain": [
       "Ernestine    627\n",
       "Mersey       612\n",
       "Allegra      607\n",
       "Melany       600\n",
       "Adey         598\n",
       "            ... \n",
       "Emili        487\n",
       "Casandra     486\n",
       "Sidonia      483\n",
       "Jeane        476\n",
       "Cyndy        472\n",
       "Name: Person A, Length: 100, dtype: int64"
      ]
     },
     "execution_count": 13,
     "metadata": {},
     "output_type": "execute_result"
    }
   ],
   "source": [
    "df['Person A'].value_counts()   # the heighest frequency is 627 for a particular entry\n",
    "                                # the lowest frequency is 472 for a particular entry"
   ]
  },
  {
   "cell_type": "code",
   "execution_count": 14,
   "metadata": {},
   "outputs": [
    {
     "data": {
      "text/plain": [
       "100"
      ]
     },
     "execution_count": 14,
     "metadata": {},
     "output_type": "execute_result"
    }
   ],
   "source": [
    "len(df['Person B'].unique())  # there are 100 unique names in Person B column"
   ]
  },
  {
   "cell_type": "code",
   "execution_count": 15,
   "metadata": {},
   "outputs": [
    {
     "data": {
      "text/plain": [
       "Denni         617\n",
       "Wilhelmina    612\n",
       "Carree        604\n",
       "Georgeanne    597\n",
       "Lotty         591\n",
       "             ... \n",
       "Shantee       497\n",
       "Taffy         496\n",
       "Claresta      495\n",
       "Carley        490\n",
       "Saree         483\n",
       "Name: Person B, Length: 100, dtype: int64"
      ]
     },
     "execution_count": 15,
     "metadata": {},
     "output_type": "execute_result"
    }
   ],
   "source": [
    "df['Person B'].value_counts()  # the heighest frequency is 617 for a particular entry\n",
    "                                # the lowest frequency is 483 for a particular entry"
   ]
  },
  {
   "cell_type": "code",
   "execution_count": 16,
   "metadata": {},
   "outputs": [
    {
     "data": {
      "text/plain": [
       "count    54697.000000\n",
       "mean         4.650547\n",
       "std          3.371210\n",
       "min          0.000286\n",
       "25%          2.062862\n",
       "50%          3.781148\n",
       "75%          6.295307\n",
       "max         14.999167\n",
       "Name: Years of Knowing, dtype: float64"
      ]
     },
     "execution_count": 16,
     "metadata": {},
     "output_type": "execute_result"
    }
   ],
   "source": [
    "df['Years of Knowing'].describe()   # here the max years of knowing is 15.26\n",
    "                                    # and min years of knowing is 0"
   ]
  },
  {
   "cell_type": "code",
   "execution_count": 17,
   "metadata": {},
   "outputs": [
    {
     "data": {
      "text/plain": [
       "6"
      ]
     },
     "execution_count": 17,
     "metadata": {},
     "output_type": "execute_result"
    }
   ],
   "source": [
    "len(df['Interaction Type'].unique())   # 6 unique values in Interaction Type"
   ]
  },
  {
   "cell_type": "code",
   "execution_count": 18,
   "metadata": {},
   "outputs": [
    {
     "data": {
      "text/plain": [
       "array(['Class', 'At Work', 'Over a Meal', 'Social_Media', 'Party',\n",
       "       'In Passing'], dtype=object)"
      ]
     },
     "execution_count": 18,
     "metadata": {},
     "output_type": "execute_result"
    }
   ],
   "source": [
    "df['Interaction Type'].unique()     # namely ------\n",
    "                                    #1 'Social_Media',\n",
    "                                    #2 'In Passing',\n",
    "                                    #3 'Over a Meal',\n",
    "                                    #4 'Party',\n",
    "                                    #5 'Class',\n",
    "                                    #6 'At Work'"
   ]
  },
  {
   "cell_type": "code",
   "execution_count": 19,
   "metadata": {},
   "outputs": [
    {
     "data": {
      "text/plain": [
       "<matplotlib.axes._subplots.AxesSubplot at 0x7f40d800fa58>"
      ]
     },
     "execution_count": 19,
     "metadata": {},
     "output_type": "execute_result"
    },
    {
     "data": {
      "image/png": "[encoded data removed]",
      "text/plain": [
       "<Figure size 1440x432 with 1 Axes>"
      ]
     },
     "metadata": {
      "needs_background": "light"
     },
     "output_type": "display_data"
    }
   ],
   "source": [
    "import seaborn as sns\n",
    "plt.figure(figsize=(20,6))\n",
    "sns.countplot(df['Interaction Type'],hue=df['Friends'])"
   ]
  },
  {
   "cell_type": "code",
   "execution_count": 20,
   "metadata": {},
   "outputs": [
    {
     "data": {
      "text/plain": [
       "count    54697.000000\n",
       "mean        10.350016\n",
       "std          7.013008\n",
       "min          0.000176\n",
       "25%          4.830330\n",
       "50%          9.032467\n",
       "75%         14.525737\n",
       "max         29.999377\n",
       "Name: Interaction Duration, dtype: float64"
      ]
     },
     "execution_count": 20,
     "metadata": {},
     "output_type": "execute_result"
    }
   ],
   "source": [
    "df['Interaction Duration'].describe()   # here the max Interaction Duration is 30.86\n",
    "                                        # and min Interaction Duration is 0"
   ]
  },
  {
   "cell_type": "code",
   "execution_count": 21,
   "metadata": {},
   "outputs": [
    {
     "data": {
      "text/plain": [
       "8"
      ]
     },
     "execution_count": 21,
     "metadata": {},
     "output_type": "execute_result"
    }
   ],
   "source": [
    "len(df['Moon Phase During Interaction'].unique())  # 8 unique values in Moon Phase During Interaction"
   ]
  },
  {
   "cell_type": "code",
   "execution_count": 22,
   "metadata": {},
   "outputs": [
    {
     "data": {
      "image/png": "[encoded data removed]",
      "text/plain": [
       "<Figure size 1440x432 with 1 Axes>"
      ]
     },
     "metadata": {
      "needs_background": "light"
     },
     "output_type": "display_data"
    }
   ],
   "source": [
    "plt.figure(figsize=(20,6))\n",
    "sns.countplot(df['Moon Phase During Interaction'],hue=df['Friends'])\n",
    "plt.show()"
   ]
  },
  {
   "cell_type": "code",
   "execution_count": 23,
   "metadata": {},
   "outputs": [
    {
     "data": {
      "text/plain": [
       "array(['Waning_Gibbous', 'Waxing_Cresent', 'New_Moon', 'Waxing_Gibbous',\n",
       "       'First_Quarter', 'Third_Quarter', 'Full_Moon', 'Waning_Cresent'],\n",
       "      dtype=object)"
      ]
     },
     "execution_count": 23,
     "metadata": {},
     "output_type": "execute_result"
    }
   ],
   "source": [
    "df['Moon Phase During Interaction'].unique()\n",
    "# namely          "
   ]
  },
  {
   "cell_type": "code",
   "execution_count": 24,
   "metadata": {},
   "outputs": [
    {
     "data": {
      "text/plain": [
       "array([1, 0])"
      ]
     },
     "execution_count": 24,
     "metadata": {},
     "output_type": "execute_result"
    }
   ],
   "source": [
    "df['Friends'].unique()   # the target values are only 1 or 0"
   ]
  },
  {
   "cell_type": "code",
   "execution_count": 25,
   "metadata": {},
   "outputs": [
    {
     "data": {
      "text/plain": [
       "0    28125\n",
       "1    26572\n",
       "Name: Friends, dtype: int64"
      ]
     },
     "execution_count": 25,
     "metadata": {},
     "output_type": "execute_result"
    }
   ],
   "source": [
    "df['Friends'].value_counts()"
   ]
  },
  {
   "cell_type": "markdown",
   "metadata": {},
   "source": [
    "# ------------------Setting feature vector and target variable --------------------------------"
   ]
  },
  {
   "cell_type": "code",
   "execution_count": 26,
   "metadata": {},
   "outputs": [],
   "source": [
    "X= df.drop(['Friends','Person A', 'Person B','Interaction Type','Moon Phase During Interaction'],axis=1)"
   ]
  },
  {
   "cell_type": "code",
   "execution_count": 27,
   "metadata": {},
   "outputs": [],
   "source": [
    "y = df['Friends']"
   ]
  },
  {
   "cell_type": "code",
   "execution_count": 28,
   "metadata": {},
   "outputs": [
    {
     "data": {
      "text/html": [
       "<div>\n",
       "<style scoped>\n",
       "    .dataframe tbody tr th:only-of-type {\n",
       "        vertical-align: middle;\n",
       "    }\n",
       "\n",
       "    .dataframe tbody tr th {\n",
       "        vertical-align: top;\n",
       "    }\n",
       "\n",
       "    .dataframe thead th {\n",
       "        text-align: right;\n",
       "    }\n",
       "</style>\n",
       "<table border=\"1\" class=\"dataframe\">\n",
       "  <thead>\n",
       "    <tr style=\"text-align: right;\">\n",
       "      <th></th>\n",
       "      <th>Years of Knowing</th>\n",
       "      <th>Interaction Duration</th>\n",
       "    </tr>\n",
       "  </thead>\n",
       "  <tbody>\n",
       "    <tr>\n",
       "      <th>0</th>\n",
       "      <td>3.876560</td>\n",
       "      <td>13.035115</td>\n",
       "    </tr>\n",
       "    <tr>\n",
       "      <th>1</th>\n",
       "      <td>2.836218</td>\n",
       "      <td>5.811429</td>\n",
       "    </tr>\n",
       "    <tr>\n",
       "      <th>2</th>\n",
       "      <td>3.006119</td>\n",
       "      <td>4.882863</td>\n",
       "    </tr>\n",
       "    <tr>\n",
       "      <th>3</th>\n",
       "      <td>2.960067</td>\n",
       "      <td>9.274924</td>\n",
       "    </tr>\n",
       "  </tbody>\n",
       "</table>\n",
       "</div>"
      ],
      "text/plain": [
       "   Years of Knowing  Interaction Duration\n",
       "0          3.876560             13.035115\n",
       "1          2.836218              5.811429\n",
       "2          3.006119              4.882863\n",
       "3          2.960067              9.274924"
      ]
     },
     "execution_count": 28,
     "metadata": {},
     "output_type": "execute_result"
    }
   ],
   "source": [
    "X.head(4)"
   ]
  },
  {
   "cell_type": "markdown",
   "metadata": {},
   "source": [
    "# Split data into separate training and test set"
   ]
  },
  {
   "cell_type": "code",
   "execution_count": 29,
   "metadata": {},
   "outputs": [],
   "source": [
    "from sklearn.model_selection import train_test_split\n",
    "\n",
    "X_train, X_test, y_train, y_test = train_test_split(X, y, test_size = 0.3, random_state = 0)\n",
    "\n"
   ]
  },
  {
   "cell_type": "markdown",
   "metadata": {},
   "source": [
    "# Feature Engineering"
   ]
  },
  {
   "cell_type": "markdown",
   "metadata": {},
   "source": [
    "Encode categorical variables"
   ]
  },
  {
   "cell_type": "code",
   "execution_count": 30,
   "metadata": {},
   "outputs": [],
   "source": [
    "# from sklearn import preprocessing\n",
    "\n",
    "# # categorical = ['Person A', 'Person B', 'Interaction Type', 'Moon Phase During Interaction']\n",
    "# categorical = []\n",
    "\n",
    "# for feature in categorical:\n",
    "#         le = preprocessing.LabelEncoder()\n",
    "#         X_train[feature] = le.fit_transform(X_train[feature])\n",
    "#         X_test[feature] = le.transform(X_test[feature])\n"
   ]
  },
  {
   "cell_type": "code",
   "execution_count": 31,
   "metadata": {},
   "outputs": [],
   "source": [
    "# X_train.head()"
   ]
  },
  {
   "cell_type": "markdown",
   "metadata": {},
   "source": [
    "# Feature Scaling"
   ]
  },
  {
   "cell_type": "code",
   "execution_count": 32,
   "metadata": {},
   "outputs": [],
   "source": [
    "from sklearn.preprocessing import StandardScaler\n",
    "\n",
    "scaler = StandardScaler()\n",
    "\n",
    "X_train = pd.DataFrame(scaler.fit_transform(X_train), columns = X.columns)\n",
    "\n",
    "X_test = pd.DataFrame(scaler.transform(X_test), columns = X.columns)"
   ]
  },
  {
   "cell_type": "code",
   "execution_count": 33,
   "metadata": {},
   "outputs": [
    {
     "data": {
      "text/html": [
       "<div>\n",
       "<style scoped>\n",
       "    .dataframe tbody tr th:only-of-type {\n",
       "        vertical-align: middle;\n",
       "    }\n",
       "\n",
       "    .dataframe tbody tr th {\n",
       "        vertical-align: top;\n",
       "    }\n",
       "\n",
       "    .dataframe thead th {\n",
       "        text-align: right;\n",
       "    }\n",
       "</style>\n",
       "<table border=\"1\" class=\"dataframe\">\n",
       "  <thead>\n",
       "    <tr style=\"text-align: right;\">\n",
       "      <th></th>\n",
       "      <th>Years of Knowing</th>\n",
       "      <th>Interaction Duration</th>\n",
       "    </tr>\n",
       "  </thead>\n",
       "  <tbody>\n",
       "    <tr>\n",
       "      <th>0</th>\n",
       "      <td>-0.286471</td>\n",
       "      <td>-0.228679</td>\n",
       "    </tr>\n",
       "    <tr>\n",
       "      <th>1</th>\n",
       "      <td>-0.730322</td>\n",
       "      <td>-0.461024</td>\n",
       "    </tr>\n",
       "    <tr>\n",
       "      <th>2</th>\n",
       "      <td>-1.328227</td>\n",
       "      <td>-1.293931</td>\n",
       "    </tr>\n",
       "    <tr>\n",
       "      <th>3</th>\n",
       "      <td>0.593028</td>\n",
       "      <td>1.680250</td>\n",
       "    </tr>\n",
       "    <tr>\n",
       "      <th>4</th>\n",
       "      <td>-0.372367</td>\n",
       "      <td>-0.713636</td>\n",
       "    </tr>\n",
       "  </tbody>\n",
       "</table>\n",
       "</div>"
      ],
      "text/plain": [
       "   Years of Knowing  Interaction Duration\n",
       "0         -0.286471             -0.228679\n",
       "1         -0.730322             -0.461024\n",
       "2         -1.328227             -1.293931\n",
       "3          0.593028              1.680250\n",
       "4         -0.372367             -0.713636"
      ]
     },
     "execution_count": 33,
     "metadata": {},
     "output_type": "execute_result"
    }
   ],
   "source": [
    "X_train.head()"
   ]
  },
  {
   "cell_type": "code",
   "execution_count": 34,
   "metadata": {},
   "outputs": [
    {
     "data": {
      "text/html": [
       "<div>\n",
       "<style scoped>\n",
       "    .dataframe tbody tr th:only-of-type {\n",
       "        vertical-align: middle;\n",
       "    }\n",
       "\n",
       "    .dataframe tbody tr th {\n",
       "        vertical-align: top;\n",
       "    }\n",
       "\n",
       "    .dataframe thead th {\n",
       "        text-align: right;\n",
       "    }\n",
       "</style>\n",
       "<table border=\"1\" class=\"dataframe\">\n",
       "  <thead>\n",
       "    <tr style=\"text-align: right;\">\n",
       "      <th></th>\n",
       "      <th>Years of Knowing</th>\n",
       "      <th>Interaction Duration</th>\n",
       "    </tr>\n",
       "  </thead>\n",
       "  <tbody>\n",
       "    <tr>\n",
       "      <th>0</th>\n",
       "      <td>-0.386382</td>\n",
       "      <td>-0.041638</td>\n",
       "    </tr>\n",
       "    <tr>\n",
       "      <th>1</th>\n",
       "      <td>-0.688130</td>\n",
       "      <td>-0.674206</td>\n",
       "    </tr>\n",
       "    <tr>\n",
       "      <th>2</th>\n",
       "      <td>-0.642794</td>\n",
       "      <td>0.281964</td>\n",
       "    </tr>\n",
       "    <tr>\n",
       "      <th>3</th>\n",
       "      <td>1.052380</td>\n",
       "      <td>0.333350</td>\n",
       "    </tr>\n",
       "    <tr>\n",
       "      <th>4</th>\n",
       "      <td>-0.321900</td>\n",
       "      <td>-0.221569</td>\n",
       "    </tr>\n",
       "  </tbody>\n",
       "</table>\n",
       "</div>"
      ],
      "text/plain": [
       "   Years of Knowing  Interaction Duration\n",
       "0         -0.386382             -0.041638\n",
       "1         -0.688130             -0.674206\n",
       "2         -0.642794              0.281964\n",
       "3          1.052380              0.333350\n",
       "4         -0.321900             -0.221569"
      ]
     },
     "execution_count": 34,
     "metadata": {},
     "output_type": "execute_result"
    }
   ],
   "source": [
    "X_test.head()"
   ]
  },
  {
   "cell_type": "markdown",
   "metadata": {},
   "source": [
    "# Logistic Regression model with all features"
   ]
  },
  {
   "cell_type": "code",
   "execution_count": 35,
   "metadata": {},
   "outputs": [],
   "source": [
    "accuracy_dict = { 'LR':0\n",
    "                }"
   ]
  },
  {
   "cell_type": "code",
   "execution_count": 36,
   "metadata": {},
   "outputs": [
    {
     "name": "stdout",
     "output_type": "stream",
     "text": [
      "Logistic Regression accuracy score with all 6 the features: 0.9146\n"
     ]
    }
   ],
   "source": [
    "from sklearn.linear_model import LogisticRegression\n",
    "from sklearn.metrics import accuracy_score\n",
    "\n",
    "logreg = LogisticRegression(penalty='l2')\n",
    "logreg.fit(X_train, y_train)\n",
    "y_pred = logreg.predict(X_test)\n",
    "\n",
    "print('Logistic Regression accuracy score with all 6 the features: {0:0.4f}'. format(accuracy_score(y_test, y_pred)))"
   ]
  },
  {
   "cell_type": "code",
   "execution_count": 37,
   "metadata": {},
   "outputs": [],
   "source": [
    "accuracy_dict['LR']=0.9147"
   ]
  },
  {
   "cell_type": "code",
   "execution_count": 38,
   "metadata": {},
   "outputs": [
    {
     "data": {
      "text/plain": [
       "0.9165513098440724"
      ]
     },
     "execution_count": 38,
     "metadata": {},
     "output_type": "execute_result"
    }
   ],
   "source": [
    "logreg.score(X_train, y_train)\n"
   ]
  },
  {
   "cell_type": "markdown",
   "metadata": {},
   "source": [
    "# PCA"
   ]
  },
  {
   "cell_type": "code",
   "execution_count": 39,
   "metadata": {},
   "outputs": [
    {
     "data": {
      "text/plain": [
       "array([0.87754302, 0.12245698])"
      ]
     },
     "execution_count": 39,
     "metadata": {},
     "output_type": "execute_result"
    }
   ],
   "source": [
    "from sklearn.decomposition import PCA\n",
    "pca = PCA()\n",
    "temp_X_train= X_train\n",
    "temp_X_train = pca.fit_transform(temp_X_train)\n",
    "pca.explained_variance_ratio_"
   ]
  },
  {
   "cell_type": "code",
   "execution_count": 40,
   "metadata": {},
   "outputs": [],
   "source": [
    "# As we can see every feature adds significant variance hence\n",
    "# droping the variables in this case is not a good idea! Therefore we should use every \n",
    "# feature present to build our model as done previously."
   ]
  },
  {
   "cell_type": "code",
   "execution_count": 41,
   "metadata": {},
   "outputs": [
    {
     "data": {
      "image/png": "[encoded data removed]",
      "text/plain": [
       "<Figure size 576x432 with 1 Axes>"
      ]
     },
     "metadata": {
      "needs_background": "light"
     },
     "output_type": "display_data"
    }
   ],
   "source": [
    "plt.figure(figsize=(8,6))\n",
    "plt.plot(np.cumsum(pca.explained_variance_ratio_))\n",
    "plt.xlim(0,5,1)\n",
    "plt.xlabel('Number of components')\n",
    "plt.ylabel('Cumulative explained variance')\n",
    "plt.show()\n",
    "# ploting cumulative explained variance ratio with number \n",
    "# of components to show how variance ratio varies with number of components."
   ]
  },
  {
   "cell_type": "code",
   "execution_count": 42,
   "metadata": {},
   "outputs": [],
   "source": [
    "# X_train = X_train.iloc[: , 0:3]\n",
    "\n",
    "\n",
    "# X_test = X_test.iloc[: , 0:3]"
   ]
  },
  {
   "cell_type": "code",
   "execution_count": 43,
   "metadata": {},
   "outputs": [],
   "source": [
    "# X_train['Years of Knowing']= X_train['Years of Knowing']*3\n",
    "# X_train['Interaction Duration']= X_train['Interaction Duration']*1.7"
   ]
  },
  {
   "cell_type": "code",
   "execution_count": 44,
   "metadata": {},
   "outputs": [
    {
     "data": {
      "text/html": [
       "<div>\n",
       "<style scoped>\n",
       "    .dataframe tbody tr th:only-of-type {\n",
       "        vertical-align: middle;\n",
       "    }\n",
       "\n",
       "    .dataframe tbody tr th {\n",
       "        vertical-align: top;\n",
       "    }\n",
       "\n",
       "    .dataframe thead th {\n",
       "        text-align: right;\n",
       "    }\n",
       "</style>\n",
       "<table border=\"1\" class=\"dataframe\">\n",
       "  <thead>\n",
       "    <tr style=\"text-align: right;\">\n",
       "      <th></th>\n",
       "      <th>Years of Knowing</th>\n",
       "      <th>Interaction Duration</th>\n",
       "    </tr>\n",
       "  </thead>\n",
       "  <tbody>\n",
       "    <tr>\n",
       "      <th>0</th>\n",
       "      <td>-0.286471</td>\n",
       "      <td>-0.228679</td>\n",
       "    </tr>\n",
       "    <tr>\n",
       "      <th>1</th>\n",
       "      <td>-0.730322</td>\n",
       "      <td>-0.461024</td>\n",
       "    </tr>\n",
       "    <tr>\n",
       "      <th>2</th>\n",
       "      <td>-1.328227</td>\n",
       "      <td>-1.293931</td>\n",
       "    </tr>\n",
       "    <tr>\n",
       "      <th>3</th>\n",
       "      <td>0.593028</td>\n",
       "      <td>1.680250</td>\n",
       "    </tr>\n",
       "    <tr>\n",
       "      <th>4</th>\n",
       "      <td>-0.372367</td>\n",
       "      <td>-0.713636</td>\n",
       "    </tr>\n",
       "    <tr>\n",
       "      <th>...</th>\n",
       "      <td>...</td>\n",
       "      <td>...</td>\n",
       "    </tr>\n",
       "    <tr>\n",
       "      <th>38282</th>\n",
       "      <td>0.621821</td>\n",
       "      <td>-0.021651</td>\n",
       "    </tr>\n",
       "    <tr>\n",
       "      <th>38283</th>\n",
       "      <td>-0.141867</td>\n",
       "      <td>0.527815</td>\n",
       "    </tr>\n",
       "    <tr>\n",
       "      <th>38284</th>\n",
       "      <td>-0.267764</td>\n",
       "      <td>-0.902369</td>\n",
       "    </tr>\n",
       "    <tr>\n",
       "      <th>38285</th>\n",
       "      <td>0.912249</td>\n",
       "      <td>1.383183</td>\n",
       "    </tr>\n",
       "    <tr>\n",
       "      <th>38286</th>\n",
       "      <td>-1.133010</td>\n",
       "      <td>-1.163544</td>\n",
       "    </tr>\n",
       "  </tbody>\n",
       "</table>\n",
       "<p>38287 rows × 2 columns</p>\n",
       "</div>"
      ],
      "text/plain": [
       "       Years of Knowing  Interaction Duration\n",
       "0             -0.286471             -0.228679\n",
       "1             -0.730322             -0.461024\n",
       "2             -1.328227             -1.293931\n",
       "3              0.593028              1.680250\n",
       "4             -0.372367             -0.713636\n",
       "...                 ...                   ...\n",
       "38282          0.621821             -0.021651\n",
       "38283         -0.141867              0.527815\n",
       "38284         -0.267764             -0.902369\n",
       "38285          0.912249              1.383183\n",
       "38286         -1.133010             -1.163544\n",
       "\n",
       "[38287 rows x 2 columns]"
      ]
     },
     "execution_count": 44,
     "metadata": {},
     "output_type": "execute_result"
    }
   ],
   "source": [
    "X_train"
   ]
  },
  {
   "cell_type": "markdown",
   "metadata": {},
   "source": [
    "# Decision Tree Model."
   ]
  },
  {
   "cell_type": "code",
   "execution_count": 45,
   "metadata": {},
   "outputs": [],
   "source": [
    "from sklearn.tree import DecisionTreeClassifier\n",
    "\n",
    "# max_features =6 (from above cum_sum chart)\n",
    "# min_samples_leaf=100 controling the branches by setting the limits (Pruning)"
   ]
  },
  {
   "cell_type": "code",
   "execution_count": 46,
   "metadata": {},
   "outputs": [
    {
     "name": "stdout",
     "output_type": "stream",
     "text": [
      "D-Tree accuracy score with all 6 the features: 0.9124\n"
     ]
    }
   ],
   "source": [
    "\n",
    "clf = DecisionTreeClassifier(max_features=1,min_samples_leaf=1000,random_state=10)\n",
    "clf.fit(X_train, y_train)\n",
    "# y_pred = logreg.predict(X_test)\n",
    "y_pred = clf.predict(X_test)\n",
    "\n",
    "print('D-Tree accuracy score with all 6 the features: {0:0.4f}'. format(accuracy_score(y_test, y_pred)))"
   ]
  },
  {
   "cell_type": "code",
   "execution_count": 47,
   "metadata": {},
   "outputs": [
    {
     "data": {
      "text/plain": [
       "0.9158461096455716"
      ]
     },
     "execution_count": 47,
     "metadata": {},
     "output_type": "execute_result"
    }
   ],
   "source": [
    "clf.score(X_train, y_train)\n"
   ]
  },
  {
   "cell_type": "code",
   "execution_count": 48,
   "metadata": {},
   "outputs": [],
   "source": [
    "accuracy_dict['DecisionTree']=accuracy_score(y_test, y_pred)"
   ]
  },
  {
   "cell_type": "markdown",
   "metadata": {},
   "source": [
    "# Xgboost"
   ]
  },
  {
   "cell_type": "code",
   "execution_count": 49,
   "metadata": {},
   "outputs": [
    {
     "name": "stdout",
     "output_type": "stream",
     "text": [
      "XGboost accuracy score with all 5 the features: 0.9178\n"
     ]
    }
   ],
   "source": [
    "from xgboost import XGBClassifier\n",
    "\n",
    "clf= XGBClassifier(learning_rate=0.05, n_estimators=206, max_depth=5,\n",
    "                        min_child_weight=5, \n",
    "                         seed=27)\n",
    "\n",
    "clf.fit(X_train, y_train)\n",
    "\n",
    "# y_pred = logreg.predict(X_test)\n",
    "y_pred = clf.predict(X_test)\n",
    "print('XGboost accuracy score with all 5 the features: {0:0.4f}'. format(accuracy_score(y_test, y_pred)))"
   ]
  },
  {
   "cell_type": "code",
   "execution_count": 50,
   "metadata": {},
   "outputs": [
    {
     "data": {
      "text/plain": [
       "0.9241779193982291"
      ]
     },
     "execution_count": 50,
     "metadata": {},
     "output_type": "execute_result"
    }
   ],
   "source": [
    "clf.score(X_train, y_train)\n"
   ]
  },
  {
   "cell_type": "code",
   "execution_count": 51,
   "metadata": {},
   "outputs": [],
   "source": [
    "accuracy_dict['Xgboost']=accuracy_score(y_test, y_pred)"
   ]
  },
  {
   "cell_type": "markdown",
   "metadata": {},
   "source": [
    "# catboost"
   ]
  },
  {
   "cell_type": "code",
   "execution_count": 52,
   "metadata": {},
   "outputs": [
    {
     "name": "stdout",
     "output_type": "stream",
     "text": [
      "0:\tlearn: 0.5566785\ttotal: 64.5ms\tremaining: 38.6s\n",
      "1:\tlearn: 0.4750672\ttotal: 78.5ms\tremaining: 23.5s\n",
      "2:\tlearn: 0.4153852\ttotal: 92.7ms\tremaining: 18.4s\n",
      "3:\tlearn: 0.3663530\ttotal: 108ms\tremaining: 16.1s\n",
      "4:\tlearn: 0.3301686\ttotal: 122ms\tremaining: 14.6s\n",
      "5:\tlearn: 0.2970675\ttotal: 143ms\tremaining: 14.2s\n",
      "6:\tlearn: 0.2730302\ttotal: 156ms\tremaining: 13.2s\n",
      "7:\tlearn: 0.2511524\ttotal: 166ms\tremaining: 12.3s\n",
      "8:\tlearn: 0.2348095\ttotal: 176ms\tremaining: 11.5s\n",
      "9:\tlearn: 0.2165708\ttotal: 186ms\tremaining: 11s\n",
      "10:\tlearn: 0.2032608\ttotal: 196ms\tremaining: 10.5s\n",
      "11:\tlearn: 0.1926317\ttotal: 206ms\tremaining: 10.1s\n",
      "12:\tlearn: 0.1874369\ttotal: 215ms\tremaining: 9.72s\n",
      "13:\tlearn: 0.1802580\ttotal: 225ms\tremaining: 9.42s\n",
      "14:\tlearn: 0.1775588\ttotal: 235ms\tremaining: 9.15s\n",
      "15:\tlearn: 0.1726662\ttotal: 244ms\tremaining: 8.92s\n",
      "16:\tlearn: 0.1709755\ttotal: 254ms\tremaining: 8.72s\n",
      "17:\tlearn: 0.1688334\ttotal: 267ms\tremaining: 8.63s\n",
      "18:\tlearn: 0.1670093\ttotal: 281ms\tremaining: 8.59s\n",
      "19:\tlearn: 0.1644444\ttotal: 296ms\tremaining: 8.57s\n",
      "20:\tlearn: 0.1637477\ttotal: 324ms\tremaining: 8.92s\n",
      "21:\tlearn: 0.1623254\ttotal: 341ms\tremaining: 8.96s\n",
      "22:\tlearn: 0.1613396\ttotal: 355ms\tremaining: 8.91s\n",
      "23:\tlearn: 0.1604258\ttotal: 379ms\tremaining: 9.08s\n",
      "24:\tlearn: 0.1583640\ttotal: 396ms\tremaining: 9.1s\n",
      "25:\tlearn: 0.1561183\ttotal: 405ms\tremaining: 8.95s\n",
      "26:\tlearn: 0.1554585\ttotal: 415ms\tremaining: 8.81s\n",
      "27:\tlearn: 0.1552545\ttotal: 423ms\tremaining: 8.65s\n",
      "28:\tlearn: 0.1549751\ttotal: 433ms\tremaining: 8.53s\n",
      "29:\tlearn: 0.1548317\ttotal: 442ms\tremaining: 8.39s\n",
      "30:\tlearn: 0.1536938\ttotal: 452ms\tremaining: 8.29s\n",
      "31:\tlearn: 0.1532034\ttotal: 470ms\tremaining: 8.34s\n",
      "32:\tlearn: 0.1529652\ttotal: 484ms\tremaining: 8.31s\n",
      "33:\tlearn: 0.1527471\ttotal: 497ms\tremaining: 8.28s\n",
      "34:\tlearn: 0.1526583\ttotal: 513ms\tremaining: 8.28s\n",
      "35:\tlearn: 0.1516953\ttotal: 524ms\tremaining: 8.21s\n",
      "36:\tlearn: 0.1516046\ttotal: 533ms\tremaining: 8.1s\n",
      "37:\tlearn: 0.1510280\ttotal: 543ms\tremaining: 8.02s\n",
      "38:\tlearn: 0.1503654\ttotal: 555ms\tremaining: 7.99s\n",
      "39:\tlearn: 0.1498030\ttotal: 565ms\tremaining: 7.91s\n",
      "40:\tlearn: 0.1494516\ttotal: 575ms\tremaining: 7.84s\n",
      "41:\tlearn: 0.1493767\ttotal: 583ms\tremaining: 7.75s\n",
      "42:\tlearn: 0.1492516\ttotal: 593ms\tremaining: 7.68s\n",
      "43:\tlearn: 0.1489261\ttotal: 602ms\tremaining: 7.61s\n",
      "44:\tlearn: 0.1488736\ttotal: 611ms\tremaining: 7.53s\n",
      "45:\tlearn: 0.1488285\ttotal: 619ms\tremaining: 7.45s\n",
      "46:\tlearn: 0.1485959\ttotal: 629ms\tremaining: 7.4s\n",
      "47:\tlearn: 0.1482938\ttotal: 638ms\tremaining: 7.34s\n",
      "48:\tlearn: 0.1481361\ttotal: 648ms\tremaining: 7.28s\n",
      "49:\tlearn: 0.1480912\ttotal: 657ms\tremaining: 7.23s\n",
      "50:\tlearn: 0.1478952\ttotal: 680ms\tremaining: 7.32s\n",
      "51:\tlearn: 0.1477262\ttotal: 697ms\tremaining: 7.34s\n",
      "52:\tlearn: 0.1476369\ttotal: 717ms\tremaining: 7.4s\n",
      "53:\tlearn: 0.1476071\ttotal: 731ms\tremaining: 7.39s\n",
      "54:\tlearn: 0.1475033\ttotal: 746ms\tremaining: 7.4s\n",
      "55:\tlearn: 0.1473746\ttotal: 764ms\tremaining: 7.42s\n",
      "56:\tlearn: 0.1473138\ttotal: 778ms\tremaining: 7.41s\n",
      "57:\tlearn: 0.1471782\ttotal: 792ms\tremaining: 7.4s\n",
      "58:\tlearn: 0.1471621\ttotal: 805ms\tremaining: 7.38s\n",
      "59:\tlearn: 0.1470993\ttotal: 831ms\tremaining: 7.48s\n",
      "60:\tlearn: 0.1470271\ttotal: 842ms\tremaining: 7.44s\n",
      "61:\tlearn: 0.1469701\ttotal: 851ms\tremaining: 7.38s\n",
      "62:\tlearn: 0.1468877\ttotal: 861ms\tremaining: 7.34s\n",
      "63:\tlearn: 0.1468472\ttotal: 870ms\tremaining: 7.29s\n",
      "64:\tlearn: 0.1467568\ttotal: 883ms\tremaining: 7.26s\n",
      "65:\tlearn: 0.1467173\ttotal: 897ms\tremaining: 7.26s\n",
      "66:\tlearn: 0.1466699\ttotal: 911ms\tremaining: 7.25s\n",
      "67:\tlearn: 0.1466182\ttotal: 932ms\tremaining: 7.29s\n",
      "68:\tlearn: 0.1465823\ttotal: 942ms\tremaining: 7.25s\n",
      "69:\tlearn: 0.1464704\ttotal: 952ms\tremaining: 7.21s\n",
      "70:\tlearn: 0.1464360\ttotal: 963ms\tremaining: 7.17s\n",
      "71:\tlearn: 0.1463692\ttotal: 972ms\tremaining: 7.13s\n",
      "72:\tlearn: 0.1463223\ttotal: 982ms\tremaining: 7.09s\n",
      "73:\tlearn: 0.1462690\ttotal: 992ms\tremaining: 7.05s\n",
      "74:\tlearn: 0.1462448\ttotal: 1s\tremaining: 7s\n",
      "75:\tlearn: 0.1462267\ttotal: 1.01s\tremaining: 6.96s\n",
      "76:\tlearn: 0.1461996\ttotal: 1.02s\tremaining: 6.92s\n",
      "77:\tlearn: 0.1461700\ttotal: 1.03s\tremaining: 6.88s\n",
      "78:\tlearn: 0.1461372\ttotal: 1.04s\tremaining: 6.83s\n",
      "79:\tlearn: 0.1460565\ttotal: 1.04s\tremaining: 6.79s\n",
      "80:\tlearn: 0.1460362\ttotal: 1.05s\tremaining: 6.76s\n",
      "81:\tlearn: 0.1459488\ttotal: 1.06s\tremaining: 6.73s\n",
      "82:\tlearn: 0.1459327\ttotal: 1.07s\tremaining: 6.7s\n",
      "83:\tlearn: 0.1458967\ttotal: 1.09s\tremaining: 6.69s\n",
      "84:\tlearn: 0.1458815\ttotal: 1.1s\tremaining: 6.67s\n",
      "85:\tlearn: 0.1458625\ttotal: 1.11s\tremaining: 6.66s\n",
      "86:\tlearn: 0.1458335\ttotal: 1.13s\tremaining: 6.69s\n",
      "87:\tlearn: 0.1457730\ttotal: 1.14s\tremaining: 6.66s\n",
      "88:\tlearn: 0.1457424\ttotal: 1.15s\tremaining: 6.63s\n",
      "89:\tlearn: 0.1457294\ttotal: 1.16s\tremaining: 6.59s\n",
      "90:\tlearn: 0.1457115\ttotal: 1.17s\tremaining: 6.56s\n",
      "91:\tlearn: 0.1456732\ttotal: 1.18s\tremaining: 6.53s\n",
      "92:\tlearn: 0.1456263\ttotal: 1.19s\tremaining: 6.5s\n",
      "93:\tlearn: 0.1455869\ttotal: 1.2s\tremaining: 6.47s\n",
      "94:\tlearn: 0.1455024\ttotal: 1.22s\tremaining: 6.46s\n",
      "95:\tlearn: 0.1454650\ttotal: 1.23s\tremaining: 6.45s\n",
      "96:\tlearn: 0.1454431\ttotal: 1.24s\tremaining: 6.44s\n",
      "97:\tlearn: 0.1453730\ttotal: 1.26s\tremaining: 6.43s\n",
      "98:\tlearn: 0.1453138\ttotal: 1.27s\tremaining: 6.43s\n",
      "99:\tlearn: 0.1452543\ttotal: 1.28s\tremaining: 6.42s\n",
      "100:\tlearn: 0.1452493\ttotal: 1.3s\tremaining: 6.42s\n",
      "101:\tlearn: 0.1452056\ttotal: 1.31s\tremaining: 6.41s\n",
      "102:\tlearn: 0.1451942\ttotal: 1.34s\tremaining: 6.46s\n",
      "103:\tlearn: 0.1451769\ttotal: 1.36s\tremaining: 6.48s\n",
      "104:\tlearn: 0.1451554\ttotal: 1.38s\tremaining: 6.48s\n",
      "105:\tlearn: 0.1451134\ttotal: 1.39s\tremaining: 6.46s\n",
      "106:\tlearn: 0.1451044\ttotal: 1.4s\tremaining: 6.44s\n",
      "107:\tlearn: 0.1450603\ttotal: 1.41s\tremaining: 6.41s\n",
      "108:\tlearn: 0.1450373\ttotal: 1.42s\tremaining: 6.38s\n",
      "109:\tlearn: 0.1449841\ttotal: 1.43s\tremaining: 6.35s\n",
      "110:\tlearn: 0.1449320\ttotal: 1.43s\tremaining: 6.32s\n",
      "111:\tlearn: 0.1449034\ttotal: 1.44s\tremaining: 6.29s\n",
      "112:\tlearn: 0.1448876\ttotal: 1.45s\tremaining: 6.26s\n",
      "113:\tlearn: 0.1448341\ttotal: 1.46s\tremaining: 6.23s\n",
      "114:\tlearn: 0.1448059\ttotal: 1.47s\tremaining: 6.21s\n",
      "115:\tlearn: 0.1447887\ttotal: 1.48s\tremaining: 6.18s\n",
      "116:\tlearn: 0.1447759\ttotal: 1.49s\tremaining: 6.15s\n",
      "117:\tlearn: 0.1447642\ttotal: 1.5s\tremaining: 6.13s\n",
      "118:\tlearn: 0.1447500\ttotal: 1.53s\tremaining: 6.18s\n",
      "119:\tlearn: 0.1447176\ttotal: 1.55s\tremaining: 6.19s\n",
      "120:\tlearn: 0.1446948\ttotal: 1.56s\tremaining: 6.18s\n",
      "121:\tlearn: 0.1446808\ttotal: 1.58s\tremaining: 6.19s\n",
      "122:\tlearn: 0.1446581\ttotal: 1.59s\tremaining: 6.17s\n",
      "123:\tlearn: 0.1446390\ttotal: 1.6s\tremaining: 6.14s\n",
      "124:\tlearn: 0.1445957\ttotal: 1.62s\tremaining: 6.14s\n",
      "125:\tlearn: 0.1445878\ttotal: 1.63s\tremaining: 6.14s\n",
      "126:\tlearn: 0.1445591\ttotal: 1.65s\tremaining: 6.13s\n",
      "127:\tlearn: 0.1445383\ttotal: 1.66s\tremaining: 6.12s\n",
      "128:\tlearn: 0.1445350\ttotal: 1.68s\tremaining: 6.13s\n",
      "129:\tlearn: 0.1445167\ttotal: 1.69s\tremaining: 6.12s\n",
      "130:\tlearn: 0.1444998\ttotal: 1.71s\tremaining: 6.11s\n",
      "131:\tlearn: 0.1444709\ttotal: 1.72s\tremaining: 6.09s\n",
      "132:\tlearn: 0.1444466\ttotal: 1.73s\tremaining: 6.08s\n",
      "133:\tlearn: 0.1444377\ttotal: 1.74s\tremaining: 6.06s\n",
      "134:\tlearn: 0.1444189\ttotal: 1.75s\tremaining: 6.04s\n",
      "135:\tlearn: 0.1444003\ttotal: 1.76s\tremaining: 6.02s\n",
      "136:\tlearn: 0.1443580\ttotal: 1.77s\tremaining: 5.99s\n",
      "137:\tlearn: 0.1443379\ttotal: 1.78s\tremaining: 5.96s\n",
      "138:\tlearn: 0.1443213\ttotal: 1.79s\tremaining: 5.94s\n",
      "139:\tlearn: 0.1443054\ttotal: 1.8s\tremaining: 5.92s\n",
      "140:\tlearn: 0.1443001\ttotal: 1.81s\tremaining: 5.89s\n",
      "141:\tlearn: 0.1442828\ttotal: 1.82s\tremaining: 5.87s\n",
      "142:\tlearn: 0.1442701\ttotal: 1.83s\tremaining: 5.85s\n",
      "143:\tlearn: 0.1442627\ttotal: 1.84s\tremaining: 5.82s\n",
      "144:\tlearn: 0.1442581\ttotal: 1.85s\tremaining: 5.8s\n",
      "145:\tlearn: 0.1442394\ttotal: 1.86s\tremaining: 5.78s\n",
      "146:\tlearn: 0.1442368\ttotal: 1.87s\tremaining: 5.75s\n",
      "147:\tlearn: 0.1442119\ttotal: 1.88s\tremaining: 5.73s\n",
      "148:\tlearn: 0.1441977\ttotal: 1.89s\tremaining: 5.71s\n",
      "149:\tlearn: 0.1441824\ttotal: 1.9s\tremaining: 5.7s\n",
      "150:\tlearn: 0.1441570\ttotal: 1.91s\tremaining: 5.69s\n",
      "151:\tlearn: 0.1441349\ttotal: 1.93s\tremaining: 5.68s\n",
      "152:\tlearn: 0.1441209\ttotal: 1.94s\tremaining: 5.67s\n",
      "153:\tlearn: 0.1441118\ttotal: 1.96s\tremaining: 5.67s\n",
      "154:\tlearn: 0.1441020\ttotal: 1.97s\tremaining: 5.65s\n",
      "155:\tlearn: 0.1440886\ttotal: 1.99s\tremaining: 5.66s\n",
      "156:\tlearn: 0.1440814\ttotal: 2s\tremaining: 5.65s\n",
      "157:\tlearn: 0.1440503\ttotal: 2.02s\tremaining: 5.65s\n",
      "158:\tlearn: 0.1440063\ttotal: 2.03s\tremaining: 5.64s\n",
      "159:\tlearn: 0.1439920\ttotal: 2.05s\tremaining: 5.63s\n",
      "160:\tlearn: 0.1439685\ttotal: 2.06s\tremaining: 5.61s\n",
      "161:\tlearn: 0.1439631\ttotal: 2.07s\tremaining: 5.59s\n",
      "162:\tlearn: 0.1439551\ttotal: 2.08s\tremaining: 5.56s\n",
      "163:\tlearn: 0.1439451\ttotal: 2.08s\tremaining: 5.54s\n",
      "164:\tlearn: 0.1439362\ttotal: 2.09s\tremaining: 5.52s\n",
      "165:\tlearn: 0.1439281\ttotal: 2.1s\tremaining: 5.5s\n"
     ]
    },
    {
     "name": "stdout",
     "output_type": "stream",
     "text": [
      "166:\tlearn: 0.1438959\ttotal: 2.11s\tremaining: 5.48s\n",
      "167:\tlearn: 0.1438895\ttotal: 2.13s\tremaining: 5.47s\n",
      "168:\tlearn: 0.1438679\ttotal: 2.14s\tremaining: 5.46s\n",
      "169:\tlearn: 0.1438554\ttotal: 2.16s\tremaining: 5.45s\n",
      "170:\tlearn: 0.1438404\ttotal: 2.17s\tremaining: 5.45s\n",
      "171:\tlearn: 0.1438259\ttotal: 2.18s\tremaining: 5.43s\n",
      "172:\tlearn: 0.1438111\ttotal: 2.2s\tremaining: 5.42s\n",
      "173:\tlearn: 0.1437812\ttotal: 2.21s\tremaining: 5.41s\n",
      "174:\tlearn: 0.1437709\ttotal: 2.23s\tremaining: 5.41s\n",
      "175:\tlearn: 0.1437553\ttotal: 2.24s\tremaining: 5.39s\n",
      "176:\tlearn: 0.1437487\ttotal: 2.26s\tremaining: 5.39s\n",
      "177:\tlearn: 0.1437330\ttotal: 2.27s\tremaining: 5.38s\n",
      "178:\tlearn: 0.1437049\ttotal: 2.28s\tremaining: 5.36s\n",
      "179:\tlearn: 0.1436936\ttotal: 2.29s\tremaining: 5.34s\n",
      "180:\tlearn: 0.1436794\ttotal: 2.3s\tremaining: 5.32s\n",
      "181:\tlearn: 0.1436665\ttotal: 2.31s\tremaining: 5.3s\n",
      "182:\tlearn: 0.1436489\ttotal: 2.32s\tremaining: 5.29s\n",
      "183:\tlearn: 0.1436354\ttotal: 2.34s\tremaining: 5.28s\n",
      "184:\tlearn: 0.1436209\ttotal: 2.35s\tremaining: 5.26s\n",
      "185:\tlearn: 0.1436114\ttotal: 2.36s\tremaining: 5.25s\n",
      "186:\tlearn: 0.1435995\ttotal: 2.37s\tremaining: 5.22s\n",
      "187:\tlearn: 0.1435782\ttotal: 2.38s\tremaining: 5.21s\n",
      "188:\tlearn: 0.1435633\ttotal: 2.39s\tremaining: 5.2s\n",
      "189:\tlearn: 0.1435461\ttotal: 2.41s\tremaining: 5.2s\n",
      "190:\tlearn: 0.1435269\ttotal: 2.42s\tremaining: 5.19s\n",
      "191:\tlearn: 0.1435174\ttotal: 2.44s\tremaining: 5.18s\n",
      "192:\tlearn: 0.1435029\ttotal: 2.46s\tremaining: 5.19s\n",
      "193:\tlearn: 0.1434881\ttotal: 2.47s\tremaining: 5.17s\n",
      "194:\tlearn: 0.1434651\ttotal: 2.48s\tremaining: 5.15s\n",
      "195:\tlearn: 0.1434480\ttotal: 2.49s\tremaining: 5.13s\n",
      "196:\tlearn: 0.1434462\ttotal: 2.5s\tremaining: 5.11s\n",
      "197:\tlearn: 0.1434260\ttotal: 2.51s\tremaining: 5.09s\n",
      "198:\tlearn: 0.1434189\ttotal: 2.52s\tremaining: 5.07s\n",
      "199:\tlearn: 0.1434066\ttotal: 2.53s\tremaining: 5.07s\n",
      "200:\tlearn: 0.1433868\ttotal: 2.54s\tremaining: 5.05s\n",
      "201:\tlearn: 0.1433841\ttotal: 2.56s\tremaining: 5.04s\n",
      "202:\tlearn: 0.1433702\ttotal: 2.57s\tremaining: 5.02s\n",
      "203:\tlearn: 0.1433576\ttotal: 2.58s\tremaining: 5s\n",
      "204:\tlearn: 0.1433322\ttotal: 2.59s\tremaining: 4.98s\n",
      "205:\tlearn: 0.1433204\ttotal: 2.6s\tremaining: 4.96s\n",
      "206:\tlearn: 0.1432915\ttotal: 2.6s\tremaining: 4.95s\n",
      "207:\tlearn: 0.1432817\ttotal: 2.62s\tremaining: 4.93s\n",
      "208:\tlearn: 0.1432662\ttotal: 2.63s\tremaining: 4.91s\n",
      "209:\tlearn: 0.1432559\ttotal: 2.64s\tremaining: 4.9s\n",
      "210:\tlearn: 0.1432264\ttotal: 2.65s\tremaining: 4.89s\n",
      "211:\tlearn: 0.1432056\ttotal: 2.67s\tremaining: 4.89s\n",
      "212:\tlearn: 0.1431801\ttotal: 2.68s\tremaining: 4.88s\n",
      "213:\tlearn: 0.1431619\ttotal: 2.7s\tremaining: 4.87s\n",
      "214:\tlearn: 0.1431469\ttotal: 2.71s\tremaining: 4.86s\n",
      "215:\tlearn: 0.1431172\ttotal: 2.73s\tremaining: 4.85s\n",
      "216:\tlearn: 0.1430976\ttotal: 2.76s\tremaining: 4.87s\n",
      "217:\tlearn: 0.1430926\ttotal: 2.77s\tremaining: 4.85s\n",
      "218:\tlearn: 0.1430805\ttotal: 2.79s\tremaining: 4.84s\n",
      "219:\tlearn: 0.1430669\ttotal: 2.79s\tremaining: 4.83s\n",
      "220:\tlearn: 0.1430280\ttotal: 2.8s\tremaining: 4.81s\n",
      "221:\tlearn: 0.1430006\ttotal: 2.81s\tremaining: 4.79s\n",
      "222:\tlearn: 0.1429829\ttotal: 2.83s\tremaining: 4.78s\n",
      "223:\tlearn: 0.1429682\ttotal: 2.83s\tremaining: 4.76s\n",
      "224:\tlearn: 0.1429446\ttotal: 2.84s\tremaining: 4.74s\n",
      "225:\tlearn: 0.1429135\ttotal: 2.85s\tremaining: 4.72s\n",
      "226:\tlearn: 0.1428999\ttotal: 2.86s\tremaining: 4.71s\n",
      "227:\tlearn: 0.1428705\ttotal: 2.87s\tremaining: 4.69s\n",
      "228:\tlearn: 0.1428577\ttotal: 2.88s\tremaining: 4.67s\n",
      "229:\tlearn: 0.1428338\ttotal: 2.89s\tremaining: 4.65s\n",
      "230:\tlearn: 0.1428160\ttotal: 2.9s\tremaining: 4.64s\n",
      "231:\tlearn: 0.1427962\ttotal: 2.92s\tremaining: 4.63s\n",
      "232:\tlearn: 0.1427794\ttotal: 2.93s\tremaining: 4.62s\n",
      "233:\tlearn: 0.1427583\ttotal: 2.95s\tremaining: 4.61s\n",
      "234:\tlearn: 0.1427462\ttotal: 2.96s\tremaining: 4.6s\n",
      "235:\tlearn: 0.1427185\ttotal: 2.97s\tremaining: 4.59s\n",
      "236:\tlearn: 0.1427008\ttotal: 2.99s\tremaining: 4.58s\n",
      "237:\tlearn: 0.1426752\ttotal: 3s\tremaining: 4.57s\n",
      "238:\tlearn: 0.1426541\ttotal: 3.02s\tremaining: 4.56s\n",
      "239:\tlearn: 0.1426298\ttotal: 3.04s\tremaining: 4.57s\n",
      "240:\tlearn: 0.1426137\ttotal: 3.06s\tremaining: 4.55s\n",
      "241:\tlearn: 0.1425850\ttotal: 3.06s\tremaining: 4.53s\n",
      "242:\tlearn: 0.1425640\ttotal: 3.07s\tremaining: 4.52s\n",
      "243:\tlearn: 0.1425526\ttotal: 3.08s\tremaining: 4.5s\n",
      "244:\tlearn: 0.1425324\ttotal: 3.1s\tremaining: 4.48s\n",
      "245:\tlearn: 0.1425042\ttotal: 3.1s\tremaining: 4.47s\n",
      "246:\tlearn: 0.1424737\ttotal: 3.11s\tremaining: 4.45s\n",
      "247:\tlearn: 0.1424495\ttotal: 3.12s\tremaining: 4.43s\n",
      "248:\tlearn: 0.1424207\ttotal: 3.13s\tremaining: 4.42s\n",
      "249:\tlearn: 0.1423836\ttotal: 3.14s\tremaining: 4.4s\n",
      "250:\tlearn: 0.1423633\ttotal: 3.15s\tremaining: 4.38s\n",
      "251:\tlearn: 0.1423422\ttotal: 3.16s\tremaining: 4.37s\n",
      "252:\tlearn: 0.1423225\ttotal: 3.18s\tremaining: 4.36s\n",
      "253:\tlearn: 0.1423033\ttotal: 3.19s\tremaining: 4.35s\n",
      "254:\tlearn: 0.1422725\ttotal: 3.21s\tremaining: 4.34s\n",
      "255:\tlearn: 0.1422541\ttotal: 3.22s\tremaining: 4.33s\n",
      "256:\tlearn: 0.1422285\ttotal: 3.24s\tremaining: 4.32s\n",
      "257:\tlearn: 0.1422088\ttotal: 3.27s\tremaining: 4.33s\n",
      "258:\tlearn: 0.1421864\ttotal: 3.28s\tremaining: 4.32s\n",
      "259:\tlearn: 0.1421692\ttotal: 3.29s\tremaining: 4.3s\n",
      "260:\tlearn: 0.1421502\ttotal: 3.3s\tremaining: 4.28s\n",
      "261:\tlearn: 0.1421345\ttotal: 3.31s\tremaining: 4.27s\n",
      "262:\tlearn: 0.1421043\ttotal: 3.32s\tremaining: 4.25s\n",
      "263:\tlearn: 0.1420795\ttotal: 3.33s\tremaining: 4.24s\n",
      "264:\tlearn: 0.1420565\ttotal: 3.34s\tremaining: 4.22s\n",
      "265:\tlearn: 0.1420423\ttotal: 3.35s\tremaining: 4.2s\n",
      "266:\tlearn: 0.1420239\ttotal: 3.36s\tremaining: 4.19s\n",
      "267:\tlearn: 0.1420032\ttotal: 3.37s\tremaining: 4.18s\n",
      "268:\tlearn: 0.1419767\ttotal: 3.39s\tremaining: 4.17s\n",
      "269:\tlearn: 0.1419558\ttotal: 3.4s\tremaining: 4.16s\n",
      "270:\tlearn: 0.1419324\ttotal: 3.41s\tremaining: 4.14s\n",
      "271:\tlearn: 0.1419154\ttotal: 3.42s\tremaining: 4.13s\n",
      "272:\tlearn: 0.1418986\ttotal: 3.44s\tremaining: 4.12s\n",
      "273:\tlearn: 0.1418772\ttotal: 3.45s\tremaining: 4.1s\n",
      "274:\tlearn: 0.1418639\ttotal: 3.46s\tremaining: 4.09s\n",
      "275:\tlearn: 0.1418472\ttotal: 3.48s\tremaining: 4.08s\n",
      "276:\tlearn: 0.1418201\ttotal: 3.49s\tremaining: 4.07s\n",
      "277:\tlearn: 0.1417948\ttotal: 3.51s\tremaining: 4.06s\n",
      "278:\tlearn: 0.1417739\ttotal: 3.52s\tremaining: 4.05s\n",
      "279:\tlearn: 0.1417622\ttotal: 3.55s\tremaining: 4.05s\n",
      "280:\tlearn: 0.1417425\ttotal: 3.56s\tremaining: 4.04s\n",
      "281:\tlearn: 0.1417157\ttotal: 3.56s\tremaining: 4.02s\n",
      "282:\tlearn: 0.1416963\ttotal: 3.58s\tremaining: 4.01s\n",
      "283:\tlearn: 0.1416789\ttotal: 3.59s\tremaining: 4s\n",
      "284:\tlearn: 0.1416618\ttotal: 3.61s\tremaining: 3.99s\n",
      "285:\tlearn: 0.1416381\ttotal: 3.62s\tremaining: 3.97s\n",
      "286:\tlearn: 0.1416257\ttotal: 3.63s\tremaining: 3.96s\n",
      "287:\tlearn: 0.1416112\ttotal: 3.64s\tremaining: 3.94s\n",
      "288:\tlearn: 0.1415918\ttotal: 3.65s\tremaining: 3.93s\n",
      "289:\tlearn: 0.1415790\ttotal: 3.66s\tremaining: 3.91s\n",
      "290:\tlearn: 0.1415639\ttotal: 3.67s\tremaining: 3.9s\n",
      "291:\tlearn: 0.1415472\ttotal: 3.68s\tremaining: 3.88s\n",
      "292:\tlearn: 0.1415285\ttotal: 3.69s\tremaining: 3.86s\n",
      "293:\tlearn: 0.1415051\ttotal: 3.7s\tremaining: 3.85s\n",
      "294:\tlearn: 0.1414902\ttotal: 3.71s\tremaining: 3.83s\n",
      "295:\tlearn: 0.1414751\ttotal: 3.72s\tremaining: 3.82s\n",
      "296:\tlearn: 0.1414577\ttotal: 3.73s\tremaining: 3.8s\n",
      "297:\tlearn: 0.1414365\ttotal: 3.74s\tremaining: 3.79s\n",
      "298:\tlearn: 0.1414152\ttotal: 3.75s\tremaining: 3.77s\n",
      "299:\tlearn: 0.1413965\ttotal: 3.76s\tremaining: 3.76s\n",
      "300:\tlearn: 0.1413796\ttotal: 3.77s\tremaining: 3.74s\n",
      "301:\tlearn: 0.1413480\ttotal: 3.78s\tremaining: 3.73s\n",
      "302:\tlearn: 0.1413196\ttotal: 3.79s\tremaining: 3.72s\n",
      "303:\tlearn: 0.1412940\ttotal: 3.81s\tremaining: 3.71s\n",
      "304:\tlearn: 0.1412834\ttotal: 3.82s\tremaining: 3.69s\n",
      "305:\tlearn: 0.1412662\ttotal: 3.83s\tremaining: 3.68s\n",
      "306:\tlearn: 0.1412510\ttotal: 3.84s\tremaining: 3.66s\n",
      "307:\tlearn: 0.1412245\ttotal: 3.85s\tremaining: 3.65s\n",
      "308:\tlearn: 0.1412087\ttotal: 3.86s\tremaining: 3.63s\n",
      "309:\tlearn: 0.1411856\ttotal: 3.87s\tremaining: 3.62s\n",
      "310:\tlearn: 0.1411670\ttotal: 3.88s\tremaining: 3.61s\n",
      "311:\tlearn: 0.1411483\ttotal: 3.9s\tremaining: 3.6s\n",
      "312:\tlearn: 0.1411299\ttotal: 3.91s\tremaining: 3.59s\n",
      "313:\tlearn: 0.1411131\ttotal: 3.93s\tremaining: 3.58s\n",
      "314:\tlearn: 0.1410997\ttotal: 3.94s\tremaining: 3.57s\n",
      "315:\tlearn: 0.1410712\ttotal: 3.96s\tremaining: 3.55s\n",
      "316:\tlearn: 0.1410573\ttotal: 3.97s\tremaining: 3.54s\n",
      "317:\tlearn: 0.1410459\ttotal: 3.99s\tremaining: 3.54s\n",
      "318:\tlearn: 0.1410216\ttotal: 4.01s\tremaining: 3.53s\n",
      "319:\tlearn: 0.1410095\ttotal: 4.02s\tremaining: 3.52s\n",
      "320:\tlearn: 0.1409859\ttotal: 4.04s\tremaining: 3.51s\n",
      "321:\tlearn: 0.1409708\ttotal: 4.05s\tremaining: 3.49s\n",
      "322:\tlearn: 0.1409555\ttotal: 4.06s\tremaining: 3.48s\n",
      "323:\tlearn: 0.1409346\ttotal: 4.07s\tremaining: 3.46s\n",
      "324:\tlearn: 0.1409219\ttotal: 4.08s\tremaining: 3.45s\n",
      "325:\tlearn: 0.1409124\ttotal: 4.09s\tremaining: 3.43s\n",
      "326:\tlearn: 0.1408965\ttotal: 4.1s\tremaining: 3.42s\n",
      "327:\tlearn: 0.1408840\ttotal: 4.11s\tremaining: 3.4s\n",
      "328:\tlearn: 0.1408689\ttotal: 4.12s\tremaining: 3.39s\n",
      "329:\tlearn: 0.1408563\ttotal: 4.13s\tremaining: 3.38s\n",
      "330:\tlearn: 0.1408342\ttotal: 4.13s\tremaining: 3.36s\n",
      "331:\tlearn: 0.1408107\ttotal: 4.14s\tremaining: 3.35s\n",
      "332:\tlearn: 0.1407968\ttotal: 4.16s\tremaining: 3.33s\n",
      "333:\tlearn: 0.1407715\ttotal: 4.17s\tremaining: 3.32s\n",
      "334:\tlearn: 0.1407570\ttotal: 4.18s\tremaining: 3.31s\n",
      "335:\tlearn: 0.1407354\ttotal: 4.2s\tremaining: 3.3s\n"
     ]
    },
    {
     "name": "stdout",
     "output_type": "stream",
     "text": [
      "336:\tlearn: 0.1407134\ttotal: 4.23s\tremaining: 3.3s\n",
      "337:\tlearn: 0.1407017\ttotal: 4.24s\tremaining: 3.29s\n",
      "338:\tlearn: 0.1406900\ttotal: 4.26s\tremaining: 3.28s\n",
      "339:\tlearn: 0.1406695\ttotal: 4.27s\tremaining: 3.27s\n",
      "340:\tlearn: 0.1406535\ttotal: 4.28s\tremaining: 3.25s\n",
      "341:\tlearn: 0.1406349\ttotal: 4.29s\tremaining: 3.24s\n",
      "342:\tlearn: 0.1406257\ttotal: 4.3s\tremaining: 3.23s\n",
      "343:\tlearn: 0.1406066\ttotal: 4.31s\tremaining: 3.21s\n",
      "344:\tlearn: 0.1405958\ttotal: 4.32s\tremaining: 3.19s\n",
      "345:\tlearn: 0.1405751\ttotal: 4.33s\tremaining: 3.18s\n",
      "346:\tlearn: 0.1405581\ttotal: 4.34s\tremaining: 3.17s\n",
      "347:\tlearn: 0.1405392\ttotal: 4.35s\tremaining: 3.15s\n",
      "348:\tlearn: 0.1405198\ttotal: 4.36s\tremaining: 3.14s\n",
      "349:\tlearn: 0.1404967\ttotal: 4.37s\tremaining: 3.12s\n",
      "350:\tlearn: 0.1404821\ttotal: 4.38s\tremaining: 3.11s\n",
      "351:\tlearn: 0.1404634\ttotal: 4.41s\tremaining: 3.11s\n",
      "352:\tlearn: 0.1404495\ttotal: 4.43s\tremaining: 3.1s\n",
      "353:\tlearn: 0.1404332\ttotal: 4.44s\tremaining: 3.08s\n",
      "354:\tlearn: 0.1404137\ttotal: 4.46s\tremaining: 3.07s\n",
      "355:\tlearn: 0.1403978\ttotal: 4.47s\tremaining: 3.06s\n",
      "356:\tlearn: 0.1403827\ttotal: 4.49s\tremaining: 3.05s\n",
      "357:\tlearn: 0.1403660\ttotal: 4.5s\tremaining: 3.04s\n",
      "358:\tlearn: 0.1403554\ttotal: 4.51s\tremaining: 3.03s\n",
      "359:\tlearn: 0.1403364\ttotal: 4.54s\tremaining: 3.02s\n",
      "360:\tlearn: 0.1403221\ttotal: 4.55s\tremaining: 3.01s\n",
      "361:\tlearn: 0.1403049\ttotal: 4.56s\tremaining: 3s\n",
      "362:\tlearn: 0.1402862\ttotal: 4.57s\tremaining: 2.98s\n",
      "363:\tlearn: 0.1402685\ttotal: 4.58s\tremaining: 2.97s\n",
      "364:\tlearn: 0.1402547\ttotal: 4.59s\tremaining: 2.96s\n",
      "365:\tlearn: 0.1402344\ttotal: 4.6s\tremaining: 2.94s\n",
      "366:\tlearn: 0.1402127\ttotal: 4.61s\tremaining: 2.93s\n",
      "367:\tlearn: 0.1401920\ttotal: 4.62s\tremaining: 2.91s\n",
      "368:\tlearn: 0.1401748\ttotal: 4.63s\tremaining: 2.9s\n",
      "369:\tlearn: 0.1401551\ttotal: 4.65s\tremaining: 2.89s\n",
      "370:\tlearn: 0.1401386\ttotal: 4.67s\tremaining: 2.88s\n",
      "371:\tlearn: 0.1401269\ttotal: 4.68s\tremaining: 2.87s\n",
      "372:\tlearn: 0.1401107\ttotal: 4.7s\tremaining: 2.86s\n",
      "373:\tlearn: 0.1401000\ttotal: 4.71s\tremaining: 2.85s\n",
      "374:\tlearn: 0.1400883\ttotal: 4.73s\tremaining: 2.84s\n",
      "375:\tlearn: 0.1400754\ttotal: 4.75s\tremaining: 2.83s\n",
      "376:\tlearn: 0.1400596\ttotal: 4.77s\tremaining: 2.82s\n",
      "377:\tlearn: 0.1400431\ttotal: 4.78s\tremaining: 2.81s\n",
      "378:\tlearn: 0.1400223\ttotal: 4.79s\tremaining: 2.79s\n",
      "379:\tlearn: 0.1400004\ttotal: 4.8s\tremaining: 2.78s\n",
      "380:\tlearn: 0.1399879\ttotal: 4.81s\tremaining: 2.76s\n",
      "381:\tlearn: 0.1399738\ttotal: 4.82s\tremaining: 2.75s\n",
      "382:\tlearn: 0.1399642\ttotal: 4.83s\tremaining: 2.73s\n",
      "383:\tlearn: 0.1399380\ttotal: 4.84s\tremaining: 2.72s\n",
      "384:\tlearn: 0.1399279\ttotal: 4.86s\tremaining: 2.71s\n",
      "385:\tlearn: 0.1399093\ttotal: 4.87s\tremaining: 2.7s\n",
      "386:\tlearn: 0.1398964\ttotal: 4.88s\tremaining: 2.69s\n",
      "387:\tlearn: 0.1398824\ttotal: 4.89s\tremaining: 2.67s\n",
      "388:\tlearn: 0.1398731\ttotal: 4.91s\tremaining: 2.66s\n",
      "389:\tlearn: 0.1398527\ttotal: 4.92s\tremaining: 2.65s\n",
      "390:\tlearn: 0.1398381\ttotal: 4.92s\tremaining: 2.63s\n",
      "391:\tlearn: 0.1398230\ttotal: 4.93s\tremaining: 2.62s\n",
      "392:\tlearn: 0.1398146\ttotal: 4.95s\tremaining: 2.6s\n",
      "393:\tlearn: 0.1397984\ttotal: 4.96s\tremaining: 2.59s\n",
      "394:\tlearn: 0.1397867\ttotal: 4.97s\tremaining: 2.58s\n",
      "395:\tlearn: 0.1397699\ttotal: 4.99s\tremaining: 2.57s\n",
      "396:\tlearn: 0.1397590\ttotal: 5s\tremaining: 2.56s\n",
      "397:\tlearn: 0.1397422\ttotal: 5.02s\tremaining: 2.54s\n",
      "398:\tlearn: 0.1397282\ttotal: 5.03s\tremaining: 2.53s\n",
      "399:\tlearn: 0.1397117\ttotal: 5.05s\tremaining: 2.53s\n",
      "400:\tlearn: 0.1396855\ttotal: 5.07s\tremaining: 2.52s\n",
      "401:\tlearn: 0.1396729\ttotal: 5.09s\tremaining: 2.5s\n",
      "402:\tlearn: 0.1396595\ttotal: 5.1s\tremaining: 2.49s\n",
      "403:\tlearn: 0.1396305\ttotal: 5.11s\tremaining: 2.48s\n",
      "404:\tlearn: 0.1396113\ttotal: 5.12s\tremaining: 2.46s\n",
      "405:\tlearn: 0.1395995\ttotal: 5.13s\tremaining: 2.45s\n",
      "406:\tlearn: 0.1395808\ttotal: 5.14s\tremaining: 2.44s\n",
      "407:\tlearn: 0.1395581\ttotal: 5.15s\tremaining: 2.42s\n",
      "408:\tlearn: 0.1395409\ttotal: 5.16s\tremaining: 2.41s\n",
      "409:\tlearn: 0.1395208\ttotal: 5.17s\tremaining: 2.39s\n",
      "410:\tlearn: 0.1394993\ttotal: 5.18s\tremaining: 2.38s\n",
      "411:\tlearn: 0.1394769\ttotal: 5.19s\tremaining: 2.37s\n",
      "412:\tlearn: 0.1394613\ttotal: 5.22s\tremaining: 2.36s\n",
      "413:\tlearn: 0.1394492\ttotal: 5.23s\tremaining: 2.35s\n",
      "414:\tlearn: 0.1394396\ttotal: 5.25s\tremaining: 2.34s\n",
      "415:\tlearn: 0.1394274\ttotal: 5.26s\tremaining: 2.33s\n",
      "416:\tlearn: 0.1394117\ttotal: 5.28s\tremaining: 2.32s\n",
      "417:\tlearn: 0.1394023\ttotal: 5.29s\tremaining: 2.3s\n",
      "418:\tlearn: 0.1393845\ttotal: 5.3s\tremaining: 2.29s\n",
      "419:\tlearn: 0.1393675\ttotal: 5.31s\tremaining: 2.27s\n",
      "420:\tlearn: 0.1393535\ttotal: 5.32s\tremaining: 2.26s\n",
      "421:\tlearn: 0.1393384\ttotal: 5.33s\tremaining: 2.25s\n",
      "422:\tlearn: 0.1393148\ttotal: 5.34s\tremaining: 2.23s\n",
      "423:\tlearn: 0.1393015\ttotal: 5.35s\tremaining: 2.22s\n",
      "424:\tlearn: 0.1392824\ttotal: 5.36s\tremaining: 2.21s\n",
      "425:\tlearn: 0.1392695\ttotal: 5.37s\tremaining: 2.19s\n",
      "426:\tlearn: 0.1392542\ttotal: 5.38s\tremaining: 2.18s\n",
      "427:\tlearn: 0.1392428\ttotal: 5.38s\tremaining: 2.16s\n",
      "428:\tlearn: 0.1392306\ttotal: 5.4s\tremaining: 2.15s\n",
      "429:\tlearn: 0.1392212\ttotal: 5.41s\tremaining: 2.14s\n",
      "430:\tlearn: 0.1392070\ttotal: 5.42s\tremaining: 2.13s\n",
      "431:\tlearn: 0.1391880\ttotal: 5.44s\tremaining: 2.11s\n",
      "432:\tlearn: 0.1391710\ttotal: 5.45s\tremaining: 2.1s\n",
      "433:\tlearn: 0.1391637\ttotal: 5.46s\tremaining: 2.09s\n",
      "434:\tlearn: 0.1391459\ttotal: 5.47s\tremaining: 2.07s\n",
      "435:\tlearn: 0.1391202\ttotal: 5.48s\tremaining: 2.06s\n",
      "436:\tlearn: 0.1390988\ttotal: 5.49s\tremaining: 2.05s\n",
      "437:\tlearn: 0.1390740\ttotal: 5.5s\tremaining: 2.04s\n",
      "438:\tlearn: 0.1390575\ttotal: 5.52s\tremaining: 2.02s\n",
      "439:\tlearn: 0.1390381\ttotal: 5.53s\tremaining: 2.01s\n",
      "440:\tlearn: 0.1390203\ttotal: 5.55s\tremaining: 2s\n",
      "441:\tlearn: 0.1390029\ttotal: 5.56s\tremaining: 1.99s\n",
      "442:\tlearn: 0.1389882\ttotal: 5.58s\tremaining: 1.98s\n",
      "443:\tlearn: 0.1389746\ttotal: 5.63s\tremaining: 1.98s\n",
      "444:\tlearn: 0.1389616\ttotal: 5.65s\tremaining: 1.97s\n",
      "445:\tlearn: 0.1389474\ttotal: 5.67s\tremaining: 1.96s\n",
      "446:\tlearn: 0.1389324\ttotal: 5.67s\tremaining: 1.94s\n",
      "447:\tlearn: 0.1389097\ttotal: 5.68s\tremaining: 1.93s\n",
      "448:\tlearn: 0.1388943\ttotal: 5.7s\tremaining: 1.92s\n",
      "449:\tlearn: 0.1388810\ttotal: 5.71s\tremaining: 1.9s\n",
      "450:\tlearn: 0.1388704\ttotal: 5.71s\tremaining: 1.89s\n",
      "451:\tlearn: 0.1388450\ttotal: 5.72s\tremaining: 1.87s\n",
      "452:\tlearn: 0.1388292\ttotal: 5.73s\tremaining: 1.86s\n",
      "453:\tlearn: 0.1388137\ttotal: 5.74s\tremaining: 1.85s\n",
      "454:\tlearn: 0.1387992\ttotal: 5.75s\tremaining: 1.83s\n",
      "455:\tlearn: 0.1387805\ttotal: 5.76s\tremaining: 1.82s\n",
      "456:\tlearn: 0.1387596\ttotal: 5.77s\tremaining: 1.81s\n",
      "457:\tlearn: 0.1387391\ttotal: 5.81s\tremaining: 1.8s\n",
      "458:\tlearn: 0.1387262\ttotal: 5.84s\tremaining: 1.79s\n",
      "459:\tlearn: 0.1387091\ttotal: 5.86s\tremaining: 1.78s\n",
      "460:\tlearn: 0.1386954\ttotal: 5.88s\tremaining: 1.77s\n",
      "461:\tlearn: 0.1386841\ttotal: 5.89s\tremaining: 1.76s\n",
      "462:\tlearn: 0.1386698\ttotal: 5.9s\tremaining: 1.75s\n",
      "463:\tlearn: 0.1386574\ttotal: 5.91s\tremaining: 1.73s\n",
      "464:\tlearn: 0.1386427\ttotal: 5.92s\tremaining: 1.72s\n",
      "465:\tlearn: 0.1386226\ttotal: 5.93s\tremaining: 1.71s\n",
      "466:\tlearn: 0.1386058\ttotal: 5.94s\tremaining: 1.69s\n",
      "467:\tlearn: 0.1385897\ttotal: 5.95s\tremaining: 1.68s\n",
      "468:\tlearn: 0.1385755\ttotal: 5.96s\tremaining: 1.66s\n",
      "469:\tlearn: 0.1385571\ttotal: 5.97s\tremaining: 1.65s\n",
      "470:\tlearn: 0.1385391\ttotal: 5.98s\tremaining: 1.64s\n",
      "471:\tlearn: 0.1385237\ttotal: 5.99s\tremaining: 1.62s\n",
      "472:\tlearn: 0.1385126\ttotal: 6s\tremaining: 1.61s\n",
      "473:\tlearn: 0.1384980\ttotal: 6.01s\tremaining: 1.6s\n",
      "474:\tlearn: 0.1384872\ttotal: 6.02s\tremaining: 1.58s\n",
      "475:\tlearn: 0.1384750\ttotal: 6.03s\tremaining: 1.57s\n",
      "476:\tlearn: 0.1384541\ttotal: 6.04s\tremaining: 1.56s\n",
      "477:\tlearn: 0.1384365\ttotal: 6.06s\tremaining: 1.54s\n",
      "478:\tlearn: 0.1384246\ttotal: 6.07s\tremaining: 1.53s\n",
      "479:\tlearn: 0.1384150\ttotal: 6.08s\tremaining: 1.52s\n",
      "480:\tlearn: 0.1384064\ttotal: 6.09s\tremaining: 1.51s\n",
      "481:\tlearn: 0.1383921\ttotal: 6.1s\tremaining: 1.49s\n",
      "482:\tlearn: 0.1383787\ttotal: 6.11s\tremaining: 1.48s\n",
      "483:\tlearn: 0.1383657\ttotal: 6.12s\tremaining: 1.47s\n",
      "484:\tlearn: 0.1383489\ttotal: 6.13s\tremaining: 1.45s\n",
      "485:\tlearn: 0.1383378\ttotal: 6.14s\tremaining: 1.44s\n",
      "486:\tlearn: 0.1383251\ttotal: 6.15s\tremaining: 1.43s\n",
      "487:\tlearn: 0.1382980\ttotal: 6.16s\tremaining: 1.41s\n",
      "488:\tlearn: 0.1382778\ttotal: 6.17s\tremaining: 1.4s\n",
      "489:\tlearn: 0.1382652\ttotal: 6.18s\tremaining: 1.39s\n",
      "490:\tlearn: 0.1382488\ttotal: 6.19s\tremaining: 1.37s\n",
      "491:\tlearn: 0.1382307\ttotal: 6.2s\tremaining: 1.36s\n",
      "492:\tlearn: 0.1382177\ttotal: 6.21s\tremaining: 1.35s\n",
      "493:\tlearn: 0.1382013\ttotal: 6.22s\tremaining: 1.33s\n",
      "494:\tlearn: 0.1381910\ttotal: 6.23s\tremaining: 1.32s\n",
      "495:\tlearn: 0.1381767\ttotal: 6.24s\tremaining: 1.31s\n"
     ]
    },
    {
     "name": "stdout",
     "output_type": "stream",
     "text": [
      "496:\tlearn: 0.1381641\ttotal: 6.25s\tremaining: 1.29s\n",
      "497:\tlearn: 0.1381514\ttotal: 6.26s\tremaining: 1.28s\n",
      "498:\tlearn: 0.1381387\ttotal: 6.27s\tremaining: 1.27s\n",
      "499:\tlearn: 0.1381311\ttotal: 6.29s\tremaining: 1.26s\n",
      "500:\tlearn: 0.1381122\ttotal: 6.3s\tremaining: 1.24s\n",
      "501:\tlearn: 0.1380950\ttotal: 6.31s\tremaining: 1.23s\n",
      "502:\tlearn: 0.1380816\ttotal: 6.32s\tremaining: 1.22s\n",
      "503:\tlearn: 0.1380679\ttotal: 6.33s\tremaining: 1.21s\n",
      "504:\tlearn: 0.1380581\ttotal: 6.34s\tremaining: 1.19s\n",
      "505:\tlearn: 0.1380402\ttotal: 6.35s\tremaining: 1.18s\n",
      "506:\tlearn: 0.1380270\ttotal: 6.36s\tremaining: 1.17s\n",
      "507:\tlearn: 0.1380039\ttotal: 6.37s\tremaining: 1.15s\n",
      "508:\tlearn: 0.1379950\ttotal: 6.38s\tremaining: 1.14s\n",
      "509:\tlearn: 0.1379823\ttotal: 6.39s\tremaining: 1.13s\n",
      "510:\tlearn: 0.1379657\ttotal: 6.4s\tremaining: 1.11s\n",
      "511:\tlearn: 0.1379554\ttotal: 6.41s\tremaining: 1.1s\n",
      "512:\tlearn: 0.1379429\ttotal: 6.42s\tremaining: 1.09s\n",
      "513:\tlearn: 0.1379298\ttotal: 6.43s\tremaining: 1.07s\n",
      "514:\tlearn: 0.1379210\ttotal: 6.44s\tremaining: 1.06s\n",
      "515:\tlearn: 0.1379020\ttotal: 6.45s\tremaining: 1.05s\n",
      "516:\tlearn: 0.1378840\ttotal: 6.46s\tremaining: 1.04s\n",
      "517:\tlearn: 0.1378700\ttotal: 6.5s\tremaining: 1.03s\n",
      "518:\tlearn: 0.1378553\ttotal: 6.53s\tremaining: 1.02s\n",
      "519:\tlearn: 0.1378404\ttotal: 6.54s\tremaining: 1.01s\n",
      "520:\tlearn: 0.1378268\ttotal: 6.55s\tremaining: 993ms\n",
      "521:\tlearn: 0.1378123\ttotal: 6.56s\tremaining: 980ms\n",
      "522:\tlearn: 0.1377991\ttotal: 6.57s\tremaining: 967ms\n",
      "523:\tlearn: 0.1377896\ttotal: 6.58s\tremaining: 955ms\n",
      "524:\tlearn: 0.1377752\ttotal: 6.59s\tremaining: 942ms\n",
      "525:\tlearn: 0.1377649\ttotal: 6.61s\tremaining: 930ms\n",
      "526:\tlearn: 0.1377540\ttotal: 6.63s\tremaining: 918ms\n",
      "527:\tlearn: 0.1377430\ttotal: 6.64s\tremaining: 905ms\n",
      "528:\tlearn: 0.1377316\ttotal: 6.65s\tremaining: 892ms\n",
      "529:\tlearn: 0.1377231\ttotal: 6.66s\tremaining: 879ms\n",
      "530:\tlearn: 0.1377052\ttotal: 6.68s\tremaining: 868ms\n",
      "531:\tlearn: 0.1376978\ttotal: 6.69s\tremaining: 855ms\n",
      "532:\tlearn: 0.1376806\ttotal: 6.7s\tremaining: 842ms\n",
      "533:\tlearn: 0.1376720\ttotal: 6.71s\tremaining: 829ms\n",
      "534:\tlearn: 0.1376619\ttotal: 6.72s\tremaining: 816ms\n",
      "535:\tlearn: 0.1376425\ttotal: 6.73s\tremaining: 803ms\n",
      "536:\tlearn: 0.1376231\ttotal: 6.74s\tremaining: 791ms\n",
      "537:\tlearn: 0.1376066\ttotal: 6.75s\tremaining: 778ms\n",
      "538:\tlearn: 0.1375981\ttotal: 6.76s\tremaining: 765ms\n",
      "539:\tlearn: 0.1375889\ttotal: 6.77s\tremaining: 752ms\n",
      "540:\tlearn: 0.1375742\ttotal: 6.78s\tremaining: 739ms\n",
      "541:\tlearn: 0.1375581\ttotal: 6.79s\tremaining: 726ms\n",
      "542:\tlearn: 0.1375434\ttotal: 6.8s\tremaining: 714ms\n",
      "543:\tlearn: 0.1375320\ttotal: 6.81s\tremaining: 701ms\n",
      "544:\tlearn: 0.1375108\ttotal: 6.82s\tremaining: 688ms\n",
      "545:\tlearn: 0.1374986\ttotal: 6.83s\tremaining: 675ms\n",
      "546:\tlearn: 0.1374853\ttotal: 6.84s\tremaining: 662ms\n",
      "547:\tlearn: 0.1374776\ttotal: 6.85s\tremaining: 650ms\n",
      "548:\tlearn: 0.1374662\ttotal: 6.86s\tremaining: 637ms\n",
      "549:\tlearn: 0.1374381\ttotal: 6.87s\tremaining: 624ms\n",
      "550:\tlearn: 0.1374213\ttotal: 6.88s\tremaining: 612ms\n",
      "551:\tlearn: 0.1374093\ttotal: 6.89s\tremaining: 599ms\n",
      "552:\tlearn: 0.1373918\ttotal: 6.91s\tremaining: 587ms\n",
      "553:\tlearn: 0.1373768\ttotal: 6.92s\tremaining: 574ms\n",
      "554:\tlearn: 0.1373641\ttotal: 6.93s\tremaining: 562ms\n",
      "555:\tlearn: 0.1373512\ttotal: 6.94s\tremaining: 549ms\n",
      "556:\tlearn: 0.1373382\ttotal: 6.95s\tremaining: 536ms\n",
      "557:\tlearn: 0.1373264\ttotal: 6.96s\tremaining: 524ms\n",
      "558:\tlearn: 0.1373106\ttotal: 6.97s\tremaining: 511ms\n",
      "559:\tlearn: 0.1372959\ttotal: 6.98s\tremaining: 498ms\n",
      "560:\tlearn: 0.1372768\ttotal: 6.99s\tremaining: 486ms\n",
      "561:\tlearn: 0.1372565\ttotal: 7s\tremaining: 473ms\n",
      "562:\tlearn: 0.1372397\ttotal: 7s\tremaining: 460ms\n",
      "563:\tlearn: 0.1372238\ttotal: 7.01s\tremaining: 448ms\n",
      "564:\tlearn: 0.1372121\ttotal: 7.03s\tremaining: 435ms\n",
      "565:\tlearn: 0.1371995\ttotal: 7.04s\tremaining: 423ms\n",
      "566:\tlearn: 0.1371902\ttotal: 7.04s\tremaining: 410ms\n",
      "567:\tlearn: 0.1371750\ttotal: 7.05s\tremaining: 397ms\n",
      "568:\tlearn: 0.1371614\ttotal: 7.06s\tremaining: 385ms\n",
      "569:\tlearn: 0.1371518\ttotal: 7.07s\tremaining: 372ms\n",
      "570:\tlearn: 0.1371447\ttotal: 7.09s\tremaining: 360ms\n",
      "571:\tlearn: 0.1371278\ttotal: 7.11s\tremaining: 348ms\n",
      "572:\tlearn: 0.1371193\ttotal: 7.12s\tremaining: 335ms\n",
      "573:\tlearn: 0.1371127\ttotal: 7.13s\tremaining: 323ms\n",
      "574:\tlearn: 0.1370987\ttotal: 7.14s\tremaining: 310ms\n",
      "575:\tlearn: 0.1370853\ttotal: 7.15s\tremaining: 298ms\n",
      "576:\tlearn: 0.1370741\ttotal: 7.16s\tremaining: 285ms\n",
      "577:\tlearn: 0.1370586\ttotal: 7.17s\tremaining: 273ms\n",
      "578:\tlearn: 0.1370414\ttotal: 7.18s\tremaining: 260ms\n",
      "579:\tlearn: 0.1370310\ttotal: 7.19s\tremaining: 248ms\n",
      "580:\tlearn: 0.1370245\ttotal: 7.2s\tremaining: 235ms\n",
      "581:\tlearn: 0.1370114\ttotal: 7.21s\tremaining: 223ms\n",
      "582:\tlearn: 0.1369977\ttotal: 7.21s\tremaining: 210ms\n",
      "583:\tlearn: 0.1369865\ttotal: 7.22s\tremaining: 198ms\n",
      "584:\tlearn: 0.1369710\ttotal: 7.23s\tremaining: 186ms\n",
      "585:\tlearn: 0.1369535\ttotal: 7.24s\tremaining: 173ms\n",
      "586:\tlearn: 0.1369400\ttotal: 7.25s\tremaining: 161ms\n",
      "587:\tlearn: 0.1369278\ttotal: 7.26s\tremaining: 148ms\n",
      "588:\tlearn: 0.1369166\ttotal: 7.27s\tremaining: 136ms\n",
      "589:\tlearn: 0.1368954\ttotal: 7.29s\tremaining: 124ms\n",
      "590:\tlearn: 0.1368834\ttotal: 7.32s\tremaining: 111ms\n",
      "591:\tlearn: 0.1368743\ttotal: 7.33s\tremaining: 99.1ms\n",
      "592:\tlearn: 0.1368588\ttotal: 7.34s\tremaining: 86.7ms\n",
      "593:\tlearn: 0.1368479\ttotal: 7.35s\tremaining: 74.3ms\n",
      "594:\tlearn: 0.1368352\ttotal: 7.36s\tremaining: 61.9ms\n",
      "595:\tlearn: 0.1368199\ttotal: 7.37s\tremaining: 49.5ms\n",
      "596:\tlearn: 0.1368059\ttotal: 7.38s\tremaining: 37.1ms\n",
      "597:\tlearn: 0.1368000\ttotal: 7.39s\tremaining: 24.7ms\n",
      "598:\tlearn: 0.1367870\ttotal: 7.4s\tremaining: 12.4ms\n",
      "599:\tlearn: 0.1367729\ttotal: 7.41s\tremaining: 0us\n",
      "catboost accuracy score with all 5 the features: 0.9168\n"
     ]
    }
   ],
   "source": [
    "from catboost import CatBoostClassifier\n",
    "\n",
    "clf= CatBoostClassifier(learning_rate=0.05, n_estimators=600, max_depth=5)\n",
    "\n",
    "clf.fit(X_train, y_train)\n",
    "# y_pred = logreg.predict(X_test)\n",
    "y_pred = clf.predict(X_test)\n",
    "print('catboost accuracy score with all 5 the features: {0:0.4f}'. format(accuracy_score(y_test, y_pred)))"
   ]
  },
  {
   "cell_type": "code",
   "execution_count": 53,
   "metadata": {},
   "outputs": [
    {
     "data": {
      "text/plain": [
       "0.9268681275628804"
      ]
     },
     "execution_count": 53,
     "metadata": {},
     "output_type": "execute_result"
    }
   ],
   "source": [
    "clf.score(X_train, y_train)\n"
   ]
  },
  {
   "cell_type": "code",
   "execution_count": 54,
   "metadata": {},
   "outputs": [],
   "source": [
    "accuracy_dict['Catboost']=accuracy_score(y_test, y_pred)"
   ]
  },
  {
   "cell_type": "code",
   "execution_count": 55,
   "metadata": {},
   "outputs": [],
   "source": [
    "from sklearn.ensemble import RandomForestClassifier, GradientBoostingClassifier, AdaBoostClassifier"
   ]
  },
  {
   "cell_type": "markdown",
   "metadata": {},
   "source": [
    "# RandomForestClassifier"
   ]
  },
  {
   "cell_type": "code",
   "execution_count": 56,
   "metadata": {},
   "outputs": [
    {
     "name": "stdout",
     "output_type": "stream",
     "text": [
      "RandomForestClassifier accuracy score with all 6 the features: 0.9076\n"
     ]
    },
    {
     "data": {
      "text/plain": [
       "1.0"
      ]
     },
     "execution_count": 56,
     "metadata": {},
     "output_type": "execute_result"
    }
   ],
   "source": [
    "clf= RandomForestClassifier( n_estimators=1000)\n",
    "\n",
    "clf.fit(X_train, y_train)\n",
    "# y_pred = logreg.predict(X_test)\n",
    "y_pred = clf.predict(X_test)\n",
    "\n",
    "print('RandomForestClassifier accuracy score with all 6 the features: {0:0.4f}'. format(accuracy_score(y_test, y_pred)))\n",
    "clf.score(X_train, y_train)\n",
    "\n"
   ]
  },
  {
   "cell_type": "code",
   "execution_count": 57,
   "metadata": {},
   "outputs": [],
   "source": [
    "accuracy_dict['RandomForest']=accuracy_score(y_test, y_pred)"
   ]
  },
  {
   "cell_type": "markdown",
   "metadata": {},
   "source": [
    "# GradientBoostingClassifier"
   ]
  },
  {
   "cell_type": "code",
   "execution_count": 58,
   "metadata": {},
   "outputs": [
    {
     "name": "stdout",
     "output_type": "stream",
     "text": [
      "GradientBoostingClassifier accuracy score with all 2 the features: 0.9174\n"
     ]
    },
    {
     "data": {
      "text/plain": [
       "0.9251704233813044"
      ]
     },
     "execution_count": 58,
     "metadata": {},
     "output_type": "execute_result"
    }
   ],
   "source": [
    "clf= GradientBoostingClassifier(loss='exponential',\n",
    "    learning_rate=0.01,\n",
    "    n_estimators=410,\n",
    "    max_depth=5,\n",
    "    max_features=2,\n",
    "    subsample=0.8,                            \n",
    "    )\n",
    "\n",
    "clf.fit(X_train, y_train)\n",
    "# y_pred = logreg.predict(X_test)\n",
    "y_pred = clf.predict(X_test)\n",
    "\n",
    "print('GradientBoostingClassifier accuracy score with all 2 the features: {0:0.4f}'. format(accuracy_score(y_test, y_pred)))\n",
    "clf.score(X_train, y_train)"
   ]
  },
  {
   "cell_type": "code",
   "execution_count": 59,
   "metadata": {},
   "outputs": [],
   "source": [
    "accuracy_dict['GradientBoost']=accuracy_score(y_test, y_pred)"
   ]
  },
  {
   "cell_type": "markdown",
   "metadata": {},
   "source": [
    "# AdaBoostClassifier"
   ]
  },
  {
   "cell_type": "code",
   "execution_count": 60,
   "metadata": {},
   "outputs": [
    {
     "name": "stdout",
     "output_type": "stream",
     "text": [
      "AdaBoostClassifier accuracy score with all 6 the features: 0.9135\n"
     ]
    },
    {
     "data": {
      "text/plain": [
       "0.9260062162091571"
      ]
     },
     "execution_count": 60,
     "metadata": {},
     "output_type": "execute_result"
    }
   ],
   "source": [
    "clf= AdaBoostClassifier(base_estimator=None,\n",
    "    n_estimators=1500,\n",
    "    learning_rate=1.0,\n",
    "    algorithm='SAMME.R',\n",
    "    random_state=None,)\n",
    "\n",
    "clf.fit(X_train, y_train)\n",
    "# y_pred = logreg.predict(X_test)\n",
    "y_pred = clf.predict(X_test)\n",
    "\n",
    "print('AdaBoostClassifier accuracy score with all 6 the features: {0:0.4f}'. format(accuracy_score(y_test, y_pred)))\n",
    "clf.score(X_train, y_train)"
   ]
  },
  {
   "cell_type": "code",
   "execution_count": 61,
   "metadata": {},
   "outputs": [],
   "source": [
    "accuracy_dict['AdaBoost']=accuracy_score(y_test, y_pred)"
   ]
  },
  {
   "cell_type": "markdown",
   "metadata": {},
   "source": [
    "# SVC"
   ]
  },
  {
   "cell_type": "code",
   "execution_count": 62,
   "metadata": {},
   "outputs": [
    {
     "name": "stdout",
     "output_type": "stream",
     "text": [
      "SVC accuracy score with all 6 the features: 0.9148\n"
     ]
    },
    {
     "data": {
      "text/plain": [
       "0.9179878287669444"
      ]
     },
     "execution_count": 62,
     "metadata": {},
     "output_type": "execute_result"
    }
   ],
   "source": [
    "# SVC\n",
    "from sklearn.svm import SVC\n",
    "\n",
    "clf= SVC()\n",
    "\n",
    "clf.fit(X_train, y_train)\n",
    "# y_pred = logreg.predict(X_test)\n",
    "y_pred = clf.predict(X_test)\n",
    "\n",
    "print('SVC accuracy score with all 6 the features: {0:0.4f}'. format(accuracy_score(y_test, y_pred)))\n",
    "clf.score(X_train, y_train)"
   ]
  },
  {
   "cell_type": "code",
   "execution_count": 63,
   "metadata": {},
   "outputs": [],
   "source": [
    "accuracy_dict['SVC']=accuracy_score(y_test, y_pred)"
   ]
  },
  {
   "cell_type": "markdown",
   "metadata": {},
   "source": [
    "# BaggingClassifier"
   ]
  },
  {
   "cell_type": "code",
   "execution_count": 64,
   "metadata": {},
   "outputs": [],
   "source": [
    "# base_cls = DecisionTreeClassifier() \n",
    "base_cls= RandomForestClassifier() #0.8459"
   ]
  },
  {
   "cell_type": "code",
   "execution_count": 65,
   "metadata": {},
   "outputs": [
    {
     "name": "stdout",
     "output_type": "stream",
     "text": [
      "BaggingClassifier accuracy score with all 6 the features: 0.9080\n"
     ]
    },
    {
     "data": {
      "text/plain": [
       "1.0"
      ]
     },
     "execution_count": 65,
     "metadata": {},
     "output_type": "execute_result"
    }
   ],
   "source": [
    "# BaggingClassifier\n",
    "from sklearn.ensemble import BaggingClassifier\n",
    "clf= BaggingClassifier(#base_estimator=base_cls,\n",
    "    n_estimators=600,\n",
    "   )\n",
    "\"\"\" max_samples=1.0,\n",
    "    max_features=1.0,\n",
    "    bootstrap=True,\n",
    "    bootstrap_features=False,\n",
    "    oob_score=False,\n",
    "    warm_start=False,\n",
    "    n_jobs=None,\n",
    "    random_state=None,\n",
    "    verbose=0,\"\"\"\n",
    "\n",
    "clf.fit(X_train, y_train)\n",
    "# y_pred = logreg.predict(X_test)\n",
    "y_pred = clf.predict(X_test)\n",
    "\n",
    "print('BaggingClassifier accuracy score with all 6 the features: {0:0.4f}'. format(accuracy_score(y_test, y_pred)))\n",
    "clf.score(X_train, y_train)"
   ]
  },
  {
   "cell_type": "code",
   "execution_count": 66,
   "metadata": {},
   "outputs": [],
   "source": [
    "accuracy_dict['BaggingClassifier']=accuracy_score(y_test, y_pred)"
   ]
  },
  {
   "cell_type": "markdown",
   "metadata": {},
   "source": [
    "# KNeighborsClassifier"
   ]
  },
  {
   "cell_type": "code",
   "execution_count": 67,
   "metadata": {},
   "outputs": [
    {
     "name": "stdout",
     "output_type": "stream",
     "text": [
      "KNeighborsClassifier accuracy score with all 6 the features: 0.9074\n"
     ]
    },
    {
     "data": {
      "text/plain": [
       "0.9383602789458563"
      ]
     },
     "execution_count": 67,
     "metadata": {},
     "output_type": "execute_result"
    }
   ],
   "source": [
    "# KNeighborsClassifier/\n",
    "from sklearn.neighbors import KNeighborsClassifier\n",
    "clf= KNeighborsClassifier()\n",
    "# criterion\n",
    "clf.fit(X_train, y_train)\n",
    "# y_pred = logreg.predict(X_test)\n",
    "y_pred = clf.predict(X_test)\n",
    "\n",
    "print('KNeighborsClassifier accuracy score with all 6 the features: {0:0.4f}'. format(accuracy_score(y_test, y_pred)))\n",
    "clf.score(X_train, y_train)"
   ]
  },
  {
   "cell_type": "code",
   "execution_count": 68,
   "metadata": {},
   "outputs": [],
   "source": [
    "accuracy_dict['KNeighbor']=accuracy_score(y_test, y_pred)"
   ]
  },
  {
   "cell_type": "markdown",
   "metadata": {},
   "source": [
    "# RidgeClassifier"
   ]
  },
  {
   "cell_type": "code",
   "execution_count": 69,
   "metadata": {},
   "outputs": [
    {
     "name": "stdout",
     "output_type": "stream",
     "text": [
      "RidgeClassifier accuracy score with all 6 the features: 0.8976\n"
     ]
    },
    {
     "data": {
      "text/plain": [
       "0.8972236006999765"
      ]
     },
     "execution_count": 69,
     "metadata": {},
     "output_type": "execute_result"
    }
   ],
   "source": [
    "# RidgeClassifier\n",
    "from sklearn.linear_model import RidgeClassifier\n",
    "clf= RidgeClassifier()\n",
    "\n",
    "clf.fit(X_train, y_train)\n",
    "# y_pred = logreg.predict(X_test)\n",
    "y_pred = clf.predict(X_test)\n",
    "\n",
    "print('RidgeClassifier accuracy score with all 6 the features: {0:0.4f}'. format(accuracy_score(y_test, y_pred)))\n",
    "clf.score(X_train, y_train)"
   ]
  },
  {
   "cell_type": "code",
   "execution_count": 70,
   "metadata": {},
   "outputs": [],
   "source": [
    "accuracy_dict['RidgeClassifier']=accuracy_score(y_test, y_pred)"
   ]
  },
  {
   "cell_type": "markdown",
   "metadata": {},
   "source": [
    "# GaussianNB"
   ]
  },
  {
   "cell_type": "code",
   "execution_count": 71,
   "metadata": {},
   "outputs": [
    {
     "name": "stdout",
     "output_type": "stream",
     "text": [
      "GaussianNB accuracy score with all 6 the features: 0.9076\n"
     ]
    },
    {
     "data": {
      "text/plain": [
       "0.9119022122391413"
      ]
     },
     "execution_count": 71,
     "metadata": {},
     "output_type": "execute_result"
    }
   ],
   "source": [
    "# GaussianNB\n",
    "from sklearn.naive_bayes import GaussianNB\n",
    "clf= GaussianNB()\n",
    "\n",
    "clf.fit(X_train, y_train)\n",
    "# y_pred = logreg.predict(X_test)\n",
    "y_pred = clf.predict(X_test)\n",
    "\n",
    "print('GaussianNB accuracy score with all 6 the features: {0:0.4f}'. format(accuracy_score(y_test, y_pred)))\n",
    "clf.score(X_train, y_train)"
   ]
  },
  {
   "cell_type": "code",
   "execution_count": 72,
   "metadata": {},
   "outputs": [],
   "source": [
    "accuracy_dict['GuasianNB']=accuracy_score(y_test, y_pred)"
   ]
  },
  {
   "cell_type": "markdown",
   "metadata": {},
   "source": [
    "# HistGradientBoostingClassifier"
   ]
  },
  {
   "cell_type": "code",
   "execution_count": 73,
   "metadata": {},
   "outputs": [
    {
     "name": "stdout",
     "output_type": "stream",
     "text": [
      "GaussianNB accuracy score with all 6 the features: 0.9168\n"
     ]
    },
    {
     "data": {
      "text/plain": [
       "0.9207302739833364"
      ]
     },
     "execution_count": 73,
     "metadata": {},
     "output_type": "execute_result"
    }
   ],
   "source": [
    "from sklearn.experimental import enable_hist_gradient_boosting\n",
    "from sklearn.ensemble import HistGradientBoostingClassifier\n",
    "\n",
    "clf= HistGradientBoostingClassifier( loss='binary_crossentropy',\n",
    "    learning_rate=0.001,\n",
    "    max_iter=6000,\n",
    "    max_depth=5,\n",
    "    max_leaf_nodes=5,\n",
    "   )\n",
    "\n",
    "clf.fit(X_train, y_train)\n",
    "y_pred = clf.predict(X_test)\n",
    "\n",
    "print('GaussianNB accuracy score with all 6 the features: {0:0.4f}'. format(accuracy_score(y_test, y_pred)))\n",
    "clf.score(X_train, y_train)"
   ]
  },
  {
   "cell_type": "code",
   "execution_count": 74,
   "metadata": {},
   "outputs": [],
   "source": [
    "accuracy_dict['HistGradientBoost']=accuracy_score(y_test, y_pred)"
   ]
  },
  {
   "cell_type": "markdown",
   "metadata": {},
   "source": [
    "# LGBMClassifier"
   ]
  },
  {
   "cell_type": "code",
   "execution_count": 75,
   "metadata": {},
   "outputs": [
    {
     "name": "stdout",
     "output_type": "stream",
     "text": [
      "LGBMClassifier accuracy score with all 6 the features: 0.9174\n"
     ]
    },
    {
     "data": {
      "text/plain": [
       "0.9208869851385588"
      ]
     },
     "execution_count": 75,
     "metadata": {},
     "output_type": "execute_result"
    }
   ],
   "source": [
    "from lightgbm import LGBMClassifier\n",
    "\n",
    "clf= LGBMClassifier(boosting_type='gbdt',\n",
    "    num_leaves=20,\n",
    "    max_depth=10,\n",
    "    learning_rate=0.001,\n",
    "    n_estimators=600,\n",
    "    subsample=0.9,)\n",
    "\n",
    "clf.fit(X_train, y_train)\n",
    "y_pred = clf.predict(X_test)\n",
    "\n",
    "print('LGBMClassifier accuracy score with all 6 the features: {0:0.4f}'. format(accuracy_score(y_test, y_pred)))\n",
    "clf.score(X_train, y_train)"
   ]
  },
  {
   "cell_type": "code",
   "execution_count": 76,
   "metadata": {},
   "outputs": [],
   "source": [
    "accuracy_dict['LGBMClassifier']=accuracy_score(y_test, y_pred)"
   ]
  },
  {
   "cell_type": "markdown",
   "metadata": {},
   "source": [
    "# Summary"
   ]
  },
  {
   "cell_type": "code",
   "execution_count": 77,
   "metadata": {},
   "outputs": [
    {
     "name": "stdout",
     "output_type": "stream",
     "text": [
      "LR --> 0.9147\n",
      "DecisionTree --> 0.9124314442413163\n",
      "Xgboost --> 0.917794028031688\n",
      "Catboost --> 0.916819012797075\n",
      "RandomForest --> 0.907556368068251\n",
      "GradientBoost --> 0.9173674588665448\n",
      "AdaBoost --> 0.913528336380256\n",
      "SVC --> 0.9148080438756856\n",
      "BaggingClassifier --> 0.9080438756855576\n",
      "KNeighbor --> 0.9074344911639244\n",
      "RidgeClassifier --> 0.8976234003656307\n",
      "GuasianNB --> 0.907556368068251\n",
      "HistGradientBoost --> 0.9167580743449116\n",
      "LGBMClassifier --> 0.9173674588665448\n"
     ]
    }
   ],
   "source": [
    "# print(accuracy_dict.items())\n",
    "for k, v in accuracy_dict.items():\n",
    "    print (k, '-->', v)\n",
    "#     print(\"\\n\")"
   ]
  },
  {
   "cell_type": "markdown",
   "metadata": {},
   "source": [
    "# VotingClassifier"
   ]
  },
  {
   "cell_type": "code",
   "execution_count": 81,
   "metadata": {},
   "outputs": [],
   "source": [
    "from sklearn.ensemble import VotingClassifier"
   ]
  },
  {
   "cell_type": "code",
   "execution_count": 82,
   "metadata": {},
   "outputs": [],
   "source": [
    "\n",
    "x_clf= XGBClassifier(learning_rate=0.05, n_estimators=206, max_depth=5,\n",
    "                        min_child_weight=5, \n",
    "                         seed=27)\n",
    "\n",
    "\n",
    "l_clf= LGBMClassifier(boosting_type='gbdt',\n",
    "    num_leaves=20,\n",
    "    max_depth=10,\n",
    "    learning_rate=0.001,\n",
    "    n_estimators=600,\n",
    "    subsample=0.9,)\n",
    "\n",
    "g_clf= GradientBoostingClassifier(loss='exponential',\n",
    "    learning_rate=0.01,\n",
    "    n_estimators=410,\n",
    "    max_depth=5,\n",
    "    max_features=2,\n",
    "    subsample=0.8,                            \n",
    "    )"
   ]
  },
  {
   "cell_type": "code",
   "execution_count": 88,
   "metadata": {},
   "outputs": [
    {
     "data": {
      "text/plain": [
       "VotingClassifier(estimators=[('XGBClassifier',\n",
       "                              XGBClassifier(base_score=None, booster=None,\n",
       "                                            colsample_bylevel=None,\n",
       "                                            colsample_bynode=None,\n",
       "                                            colsample_bytree=None, gamma=None,\n",
       "                                            gpu_id=None, importance_type='gain',\n",
       "                                            interaction_constraints=None,\n",
       "                                            learning_rate=0.05,\n",
       "                                            max_delta_step=None, max_depth=5,\n",
       "                                            min_child_weight=5, missing=nan,\n",
       "                                            monotone_constraints=None,\n",
       "                                            n_estimator...\n",
       "                                                         max_leaf_nodes=None,\n",
       "                                                         min_impurity_decrease=0.0,\n",
       "                                                         min_impurity_split=None,\n",
       "                                                         min_samples_leaf=1,\n",
       "                                                         min_samples_split=2,\n",
       "                                                         min_weight_fraction_leaf=0.0,\n",
       "                                                         n_estimators=410,\n",
       "                                                         n_iter_no_change=None,\n",
       "                                                         presort='deprecated',\n",
       "                                                         random_state=None,\n",
       "                                                         subsample=0.8,\n",
       "                                                         tol=0.0001,\n",
       "                                                         validation_fraction=0.1,\n",
       "                                                         verbose=0,\n",
       "                                                         warm_start=False))],\n",
       "                 flatten_transform=True, n_jobs=None, voting='soft',\n",
       "                 weights=None)"
      ]
     },
     "execution_count": 88,
     "metadata": {},
     "output_type": "execute_result"
    }
   ],
   "source": [
    "# ('XGBClassifier', x_clf),\n",
    "voting_clf = VotingClassifier( estimators=[ ('XGBClassifier', x_clf),('LGBMClassifier', l_clf),('GradientBoostingClassifier',g_clf)], voting='soft' )#,weights=[1,3,3,3]\n",
    "# voting_clf = VotingClassifier( estimators=[x_clf,r_clf, b_clf], voting='hard' )\n",
    "\n",
    "\n",
    "voting_clf.fit(X_train, y_train)"
   ]
  },
  {
   "cell_type": "code",
   "execution_count": 89,
   "metadata": {},
   "outputs": [
    {
     "name": "stdout",
     "output_type": "stream",
     "text": [
      "Voting accuracy score with all 2 the features: 0.9174\n"
     ]
    },
    {
     "data": {
      "text/plain": [
       "0.9245958158121556"
      ]
     },
     "execution_count": 89,
     "metadata": {},
     "output_type": "execute_result"
    }
   ],
   "source": [
    "y_pred = voting_clf.predict(X_test)\n",
    "\n",
    "print('Voting accuracy score with all 2 the features: {0:0.4f}'. format(accuracy_score(y_test, y_pred)))\n",
    "voting_clf.score(X_train, y_train)"
   ]
  },
  {
   "cell_type": "markdown",
   "metadata": {},
   "source": [
    "# Stacking of models"
   ]
  },
  {
   "cell_type": "code",
   "execution_count": 91,
   "metadata": {},
   "outputs": [],
   "source": [
    "# Create Base Learners\n",
    "base_learners = [\n",
    "                 ('rf_1', XGBClassifier(learning_rate=0.05, n_estimators=206, max_depth=5,\n",
    "                        min_child_weight=5, \n",
    "                         seed=27)),\n",
    "                 ('rf_2', LGBMClassifier(boosting_type='gbdt',num_leaves=20,\n",
    "    max_depth=10,    learning_rate=0.001,    n_estimators=600,    subsample=0.9))            \n",
    "                ]\n",
    "\n"
   ]
  },
  {
   "cell_type": "code",
   "execution_count": 95,
   "metadata": {},
   "outputs": [],
   "source": [
    "from sklearn.ensemble import StackingClassifier"
   ]
  },
  {
   "cell_type": "code",
   "execution_count": 96,
   "metadata": {},
   "outputs": [],
   "source": [
    "# Initialize Stacking Classifier with the Meta Learner\n",
    "clf = StackingClassifier(estimators=base_learners, final_estimator=GradientBoostingClassifier(loss='exponential',\n",
    "    learning_rate=0.01,\n",
    "    n_estimators=410,\n",
    "    max_depth=5,\n",
    "    max_features=2,\n",
    "    subsample=0.8,                            \n",
    "    )\n",
    ")\n"
   ]
  },
  {
   "cell_type": "code",
   "execution_count": 97,
   "metadata": {},
   "outputs": [
    {
     "data": {
      "text/plain": [
       "0.9170627666057282"
      ]
     },
     "execution_count": 97,
     "metadata": {},
     "output_type": "execute_result"
    }
   ],
   "source": [
    "clf.fit(X_train, y_train).score(X_test, y_test)"
   ]
  },
  {
   "cell_type": "markdown",
   "metadata": {},
   "source": [
    "# 4. Multi-layer Stacking"
   ]
  },
  {
   "cell_type": "code",
   "execution_count": 99,
   "metadata": {},
   "outputs": [],
   "source": [
    "# Create Learners per layer\n",
    "layer_one_estimators = [\n",
    "                        ('gb_1', GradientBoostingClassifier(loss='exponential',\n",
    "                                learning_rate=0.01,\n",
    "                                n_estimators=410,\n",
    "                                max_depth=5,\n",
    "                                max_features=2,\n",
    "                                subsample=0.8,                            \n",
    "                                )),\n",
    "                        \n",
    "                         ('xg_1', XGBClassifier(learning_rate=0.05, n_estimators=206, max_depth=5,\n",
    "                        min_child_weight=5, \n",
    "                         seed=27))           \n",
    "                       ]\n"
   ]
  },
  {
   "cell_type": "code",
   "execution_count": 100,
   "metadata": {},
   "outputs": [],
   "source": [
    "layer_two_estimators = [\n",
    "                         ('lg_2', LGBMClassifier(boosting_type='gbdt',num_leaves=20,\n",
    "    max_depth=10,    learning_rate=0.001,    n_estimators=600,    subsample=0.9)) ,\n",
    "                        ('gb_2', GradientBoostingClassifier(loss='exponential',\n",
    "                                learning_rate=0.01,\n",
    "                                n_estimators=410,\n",
    "                                max_depth=5,\n",
    "                                max_features=2,\n",
    "                                subsample=0.8,                            \n",
    "                                ))\n",
    "                       ]\n"
   ]
  },
  {
   "cell_type": "code",
   "execution_count": 101,
   "metadata": {},
   "outputs": [],
   "source": [
    "layer_two = StackingClassifier(estimators=layer_two_estimators, final_estimator=LogisticRegression())\n",
    "\n"
   ]
  },
  {
   "cell_type": "code",
   "execution_count": 102,
   "metadata": {},
   "outputs": [],
   "source": [
    "# Create Final model by \n",
    "clf = StackingClassifier(estimators=layer_one_estimators, final_estimator=layer_two)\n"
   ]
  },
  {
   "cell_type": "code",
   "execution_count": 103,
   "metadata": {},
   "outputs": [
    {
     "data": {
      "text/plain": [
       "0.9171846435100548"
      ]
     },
     "execution_count": 103,
     "metadata": {},
     "output_type": "execute_result"
    }
   ],
   "source": [
    "clf.fit(X_train, y_train).score(X_test, y_test)"
   ]
  },
  {
   "cell_type": "code",
   "execution_count": null,
   "metadata": {},
   "outputs": [],
   "source": []
  },
  {
   "cell_type": "code",
   "execution_count": null,
   "metadata": {},
   "outputs": [],
   "source": []
  },
  {
   "cell_type": "markdown",
   "metadata": {},
   "source": [
    "# NN"
   ]
  },
  {
   "cell_type": "code",
   "execution_count": 85,
   "metadata": {},
   "outputs": [],
   "source": [
    "# from keras.models import Sequential\n",
    "# from keras.layers import Dense\n",
    "\n",
    "# model = Sequential([    Dense(32, activation='relu', input_shape=(4,)),\n",
    "#                         Dense(32, activation='relu'),\n",
    "#                         Dense(1, activation='sigmoid'),])\n",
    "\n",
    "\n",
    "# model.compile(optimizer='sgd',\n",
    "#               loss='binary_crossentropy',\n",
    "#               metrics=['accuracy'])\n",
    "\n",
    "\n",
    "# hist = model.fit(X_train, y_train, batch_size=32, epochs=100, validation_data=(X_test, y_test))\n",
    "\n",
    "\n",
    "# # model.compile(optimizer='sgd',              loss='binary_crossentropy',              metrics=['accuracy'])\n",
    "\n",
    "\n",
    "# model.evaluate(X_test, y_test)[1]\n",
    "\n",
    "# import matplotlib.pyplot as plt\n",
    "\n",
    "# plt.plot(hist.history['loss'])\n",
    "# plt.plot(hist.history['val_loss'])\n",
    "# plt.title('Model loss')\n",
    "# plt.ylabel('Loss')\n",
    "# plt.xlabel('Epoch')\n",
    "# plt.legend(['Train', 'Val'], loc='upper right')\n",
    "# plt.show()\n",
    "\n",
    "\n",
    "# plt.plot(hist.history['accuracy'])\n",
    "# plt.plot(hist.history['val_accuracy'])\n",
    "# plt.title('Model accuracy')\n",
    "# # plt.ylabel('Accuracy')\n",
    "# plt.xlabel('Epoch')\n",
    "# plt.legend(['Train', 'Val'], loc='lower right')\n",
    "# plt.show()\n"
   ]
  },
  {
   "cell_type": "markdown",
   "metadata": {},
   "source": [
    "# Testing"
   ]
  },
  {
   "cell_type": "code",
   "execution_count": 104,
   "metadata": {},
   "outputs": [],
   "source": [
    "test_df = pd.read_csv(\"test.csv\")\n",
    "\n",
    "# X= df.drop(['Friends','Moon Phase During Interaction','Interaction Type'],axis=1)\n",
    "\n",
    "test_df.drop([\"ID\",'Person A', 'Person B','Interaction Type',\"Moon Phase During Interaction\"],axis=1,inplace=True)\n",
    "\n",
    "# categorical = []\n",
    "# for feature in categorical:\n",
    "#         le = preprocessing.LabelEncoder()\n",
    "#         test_df[feature] = le.fit_transform(test_df[feature])\n",
    "        \n",
    "\n",
    "\n",
    "scaler = StandardScaler()\n",
    "\n",
    "test_df = pd.DataFrame(scaler.fit_transform(test_df), columns = test_df.columns)\n",
    "\n",
    "result = clf.predict(test_df)\n",
    "temp_df=pd.read_csv(\"test.csv\")\n",
    "\n",
    "result_data=temp_df['ID']\n",
    "\n",
    "result_data_df = result_data.to_frame()\n",
    "\n",
    "result_data_df['Friends']=result\n",
    "\n",
    "result_data_df.to_csv('submit.csv',index=False) "
   ]
  },
  {
   "cell_type": "code",
   "execution_count": null,
   "metadata": {},
   "outputs": [],
   "source": []
  },
  {
   "cell_type": "code",
   "execution_count": null,
   "metadata": {},
   "outputs": [],
   "source": []
  }
 ],
 "metadata": {
  "kernelspec": {
   "display_name": "Python 3",
   "language": "python",
   "name": "python3"
  },
  "language_info": {
   "codemirror_mode": {
    "name": "ipython",
    "version": 3
   },
   "file_extension": ".py",
   "mimetype": "text/x-python",
   "name": "python",
   "nbconvert_exporter": "python",
   "pygments_lexer": "ipython3",
   "version": "3.6.9"
  }
 },
 "nbformat": 4,
 "nbformat_minor": 4
}
