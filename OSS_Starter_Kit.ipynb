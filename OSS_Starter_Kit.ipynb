{
 "cells": [
  {
   "cell_type": "code",
   "execution_count": 1,
   "metadata": {},
   "outputs": [],
   "source": [
    "import pandas as pd\n",
    "import numpy as np"
   ]
  },
  {
   "cell_type": "code",
   "execution_count": 2,
   "metadata": {},
   "outputs": [],
   "source": [
    "# import libraries for plotting\n",
    "import matplotlib.pyplot as plt\n",
    "import seaborn as sns\n",
    "%matplotlib inline"
   ]
  },
  {
   "cell_type": "code",
   "execution_count": 3,
   "metadata": {},
   "outputs": [],
   "source": [
    "# ignore warnings\n",
    "import warnings\n",
    "warnings.filterwarnings('ignore')"
   ]
  },
  {
   "cell_type": "code",
   "execution_count": 4,
   "metadata": {},
   "outputs": [],
   "source": [
    "df = pd.read_csv(\"train.csv\")"
   ]
  },
  {
   "cell_type": "code",
   "execution_count": 129,
   "metadata": {},
   "outputs": [],
   "source": [
    "test_df = pd.read_csv(\"test.csv\")"
   ]
  },
  {
   "cell_type": "code",
   "execution_count": 119,
   "metadata": {},
   "outputs": [
    {
     "data": {
      "text/html": [
       "<div>\n",
       "<style scoped>\n",
       "    .dataframe tbody tr th:only-of-type {\n",
       "        vertical-align: middle;\n",
       "    }\n",
       "\n",
       "    .dataframe tbody tr th {\n",
       "        vertical-align: top;\n",
       "    }\n",
       "\n",
       "    .dataframe thead th {\n",
       "        text-align: right;\n",
       "    }\n",
       "</style>\n",
       "<table border=\"1\" class=\"dataframe\">\n",
       "  <thead>\n",
       "    <tr style=\"text-align: right;\">\n",
       "      <th></th>\n",
       "      <th>ID</th>\n",
       "      <th>Person A</th>\n",
       "      <th>Person B</th>\n",
       "      <th>Years of Knowing</th>\n",
       "      <th>Interaction Type</th>\n",
       "      <th>Interaction Duration</th>\n",
       "      <th>Moon Phase During Interaction</th>\n",
       "    </tr>\n",
       "  </thead>\n",
       "  <tbody>\n",
       "    <tr>\n",
       "      <th>0</th>\n",
       "      <td>1</td>\n",
       "      <td>Benjamin</td>\n",
       "      <td>Mary</td>\n",
       "      <td>3.38</td>\n",
       "      <td>Over a Meal</td>\n",
       "      <td>15.07</td>\n",
       "      <td>Third Quarter</td>\n",
       "    </tr>\n",
       "    <tr>\n",
       "      <th>1</th>\n",
       "      <td>2</td>\n",
       "      <td>Paul</td>\n",
       "      <td>Heather</td>\n",
       "      <td>0.00</td>\n",
       "      <td>In Passing</td>\n",
       "      <td>6.88</td>\n",
       "      <td>Third Quarter</td>\n",
       "    </tr>\n",
       "    <tr>\n",
       "      <th>2</th>\n",
       "      <td>3</td>\n",
       "      <td>Noah</td>\n",
       "      <td>Julie</td>\n",
       "      <td>3.66</td>\n",
       "      <td>At Work</td>\n",
       "      <td>10.44</td>\n",
       "      <td>First Quarter</td>\n",
       "    </tr>\n",
       "    <tr>\n",
       "      <th>3</th>\n",
       "      <td>4</td>\n",
       "      <td>Philip</td>\n",
       "      <td>Samantha</td>\n",
       "      <td>5.81</td>\n",
       "      <td>Class</td>\n",
       "      <td>11.33</td>\n",
       "      <td>First Quarter</td>\n",
       "    </tr>\n",
       "    <tr>\n",
       "      <th>4</th>\n",
       "      <td>5</td>\n",
       "      <td>Ethan</td>\n",
       "      <td>Marilyn</td>\n",
       "      <td>5.30</td>\n",
       "      <td>Over a Meal</td>\n",
       "      <td>5.54</td>\n",
       "      <td>Third Quarter</td>\n",
       "    </tr>\n",
       "  </tbody>\n",
       "</table>\n",
       "</div>"
      ],
      "text/plain": [
       "   ID  Person A  Person B  Years of Knowing Interaction Type  \\\n",
       "0   1  Benjamin      Mary              3.38      Over a Meal   \n",
       "1   2      Paul   Heather              0.00       In Passing   \n",
       "2   3      Noah     Julie              3.66          At Work   \n",
       "3   4    Philip  Samantha              5.81            Class   \n",
       "4   5     Ethan   Marilyn              5.30      Over a Meal   \n",
       "\n",
       "   Interaction Duration Moon Phase During Interaction  \n",
       "0                 15.07                 Third Quarter  \n",
       "1                  6.88                 Third Quarter  \n",
       "2                 10.44                 First Quarter  \n",
       "3                 11.33                 First Quarter  \n",
       "4                  5.54                 Third Quarter  "
      ]
     },
     "execution_count": 119,
     "metadata": {},
     "output_type": "execute_result"
    }
   ],
   "source": [
    "test_df.head()"
   ]
  },
  {
   "cell_type": "code",
   "execution_count": 120,
   "metadata": {},
   "outputs": [],
   "source": [
    "test_df.drop(\"ID\",axis=1,inplace=True)"
   ]
  },
  {
   "cell_type": "code",
   "execution_count": 122,
   "metadata": {},
   "outputs": [],
   "source": [
    "categorical = ['Person A', 'Person B', 'Interaction Type', 'Moon Phase During Interaction']\n",
    "for feature in categorical:\n",
    "        le = preprocessing.LabelEncoder()\n",
    "        test_df[feature] = le.fit_transform(test_df[feature])\n",
    "        \n"
   ]
  },
  {
   "cell_type": "code",
   "execution_count": 123,
   "metadata": {},
   "outputs": [],
   "source": [
    "scaler = StandardScaler()\n",
    "\n",
    "test_df = pd.DataFrame(scaler.fit_transform(test_df), columns = test_df.columns)"
   ]
  },
  {
   "cell_type": "code",
   "execution_count": 124,
   "metadata": {},
   "outputs": [
    {
     "data": {
      "text/html": [
       "<div>\n",
       "<style scoped>\n",
       "    .dataframe tbody tr th:only-of-type {\n",
       "        vertical-align: middle;\n",
       "    }\n",
       "\n",
       "    .dataframe tbody tr th {\n",
       "        vertical-align: top;\n",
       "    }\n",
       "\n",
       "    .dataframe thead th {\n",
       "        text-align: right;\n",
       "    }\n",
       "</style>\n",
       "<table border=\"1\" class=\"dataframe\">\n",
       "  <thead>\n",
       "    <tr style=\"text-align: right;\">\n",
       "      <th></th>\n",
       "      <th>Person A</th>\n",
       "      <th>Person B</th>\n",
       "      <th>Years of Knowing</th>\n",
       "      <th>Interaction Type</th>\n",
       "      <th>Interaction Duration</th>\n",
       "      <th>Moon Phase During Interaction</th>\n",
       "    </tr>\n",
       "  </thead>\n",
       "  <tbody>\n",
       "    <tr>\n",
       "      <th>0</th>\n",
       "      <td>-1.402912</td>\n",
       "      <td>0.809023</td>\n",
       "      <td>0.024254</td>\n",
       "      <td>0.292028</td>\n",
       "      <td>1.022585</td>\n",
       "      <td>-0.224992</td>\n",
       "    </tr>\n",
       "    <tr>\n",
       "      <th>1</th>\n",
       "      <td>0.771697</td>\n",
       "      <td>-0.331448</td>\n",
       "      <td>-1.266340</td>\n",
       "      <td>-0.294441</td>\n",
       "      <td>-0.645980</td>\n",
       "      <td>-0.224992</td>\n",
       "    </tr>\n",
       "    <tr>\n",
       "      <th>2</th>\n",
       "      <td>0.702662</td>\n",
       "      <td>0.152388</td>\n",
       "      <td>0.131167</td>\n",
       "      <td>-1.467378</td>\n",
       "      <td>0.079306</td>\n",
       "      <td>-1.534555</td>\n",
       "    </tr>\n",
       "    <tr>\n",
       "      <th>3</th>\n",
       "      <td>0.840732</td>\n",
       "      <td>1.292859</td>\n",
       "      <td>0.952107</td>\n",
       "      <td>-0.880909</td>\n",
       "      <td>0.260627</td>\n",
       "      <td>-1.534555</td>\n",
       "    </tr>\n",
       "    <tr>\n",
       "      <th>4</th>\n",
       "      <td>-0.747077</td>\n",
       "      <td>0.739904</td>\n",
       "      <td>0.757373</td>\n",
       "      <td>0.292028</td>\n",
       "      <td>-0.918981</td>\n",
       "      <td>-0.224992</td>\n",
       "    </tr>\n",
       "  </tbody>\n",
       "</table>\n",
       "</div>"
      ],
      "text/plain": [
       "   Person A  Person B  Years of Knowing  Interaction Type  \\\n",
       "0 -1.402912  0.809023          0.024254          0.292028   \n",
       "1  0.771697 -0.331448         -1.266340         -0.294441   \n",
       "2  0.702662  0.152388          0.131167         -1.467378   \n",
       "3  0.840732  1.292859          0.952107         -0.880909   \n",
       "4 -0.747077  0.739904          0.757373          0.292028   \n",
       "\n",
       "   Interaction Duration  Moon Phase During Interaction  \n",
       "0              1.022585                      -0.224992  \n",
       "1             -0.645980                      -0.224992  \n",
       "2              0.079306                      -1.534555  \n",
       "3              0.260627                      -1.534555  \n",
       "4             -0.918981                      -0.224992  "
      ]
     },
     "execution_count": 124,
     "metadata": {},
     "output_type": "execute_result"
    }
   ],
   "source": [
    "test_df.head()"
   ]
  },
  {
   "cell_type": "code",
   "execution_count": 5,
   "metadata": {},
   "outputs": [
    {
     "data": {
      "text/plain": [
       "(54697, 8)"
      ]
     },
     "execution_count": 5,
     "metadata": {},
     "output_type": "execute_result"
    }
   ],
   "source": [
    "df.shape"
   ]
  },
  {
   "cell_type": "code",
   "execution_count": 6,
   "metadata": {},
   "outputs": [
    {
     "name": "stdout",
     "output_type": "stream",
     "text": [
      "<class 'pandas.core.frame.DataFrame'>\n",
      "RangeIndex: 54697 entries, 0 to 54696\n",
      "Data columns (total 8 columns):\n",
      "ID                               54697 non-null int64\n",
      "Person A                         54697 non-null object\n",
      "Person B                         54697 non-null object\n",
      "Years of Knowing                 54697 non-null float64\n",
      "Interaction Type                 54697 non-null object\n",
      "Interaction Duration             54697 non-null float64\n",
      "Moon Phase During Interaction    54697 non-null object\n",
      "Friends                          54697 non-null int64\n",
      "dtypes: float64(2), int64(2), object(4)\n",
      "memory usage: 3.3+ MB\n"
     ]
    }
   ],
   "source": [
    "df.info()"
   ]
  },
  {
   "cell_type": "code",
   "execution_count": 7,
   "metadata": {},
   "outputs": [],
   "source": [
    "#this means that there are no null values"
   ]
  },
  {
   "cell_type": "code",
   "execution_count": 8,
   "metadata": {},
   "outputs": [
    {
     "data": {
      "text/html": [
       "<div>\n",
       "<style scoped>\n",
       "    .dataframe tbody tr th:only-of-type {\n",
       "        vertical-align: middle;\n",
       "    }\n",
       "\n",
       "    .dataframe tbody tr th {\n",
       "        vertical-align: top;\n",
       "    }\n",
       "\n",
       "    .dataframe thead th {\n",
       "        text-align: right;\n",
       "    }\n",
       "</style>\n",
       "<table border=\"1\" class=\"dataframe\">\n",
       "  <thead>\n",
       "    <tr style=\"text-align: right;\">\n",
       "      <th></th>\n",
       "      <th>ID</th>\n",
       "      <th>Years of Knowing</th>\n",
       "      <th>Interaction Duration</th>\n",
       "      <th>Friends</th>\n",
       "    </tr>\n",
       "  </thead>\n",
       "  <tbody>\n",
       "    <tr>\n",
       "      <th>count</th>\n",
       "      <td>54697.000000</td>\n",
       "      <td>54697.000000</td>\n",
       "      <td>54697.000000</td>\n",
       "      <td>54697.000000</td>\n",
       "    </tr>\n",
       "    <tr>\n",
       "      <th>mean</th>\n",
       "      <td>27349.000000</td>\n",
       "      <td>3.316479</td>\n",
       "      <td>10.050735</td>\n",
       "      <td>0.485804</td>\n",
       "    </tr>\n",
       "    <tr>\n",
       "      <th>std</th>\n",
       "      <td>15789.808174</td>\n",
       "      <td>2.618973</td>\n",
       "      <td>4.908453</td>\n",
       "      <td>0.499803</td>\n",
       "    </tr>\n",
       "    <tr>\n",
       "      <th>min</th>\n",
       "      <td>1.000000</td>\n",
       "      <td>0.000000</td>\n",
       "      <td>0.000000</td>\n",
       "      <td>0.000000</td>\n",
       "    </tr>\n",
       "    <tr>\n",
       "      <th>25%</th>\n",
       "      <td>13675.000000</td>\n",
       "      <td>1.060000</td>\n",
       "      <td>6.630000</td>\n",
       "      <td>0.000000</td>\n",
       "    </tr>\n",
       "    <tr>\n",
       "      <th>50%</th>\n",
       "      <td>27349.000000</td>\n",
       "      <td>3.060000</td>\n",
       "      <td>9.990000</td>\n",
       "      <td>0.000000</td>\n",
       "    </tr>\n",
       "    <tr>\n",
       "      <th>75%</th>\n",
       "      <td>41023.000000</td>\n",
       "      <td>5.130000</td>\n",
       "      <td>13.390000</td>\n",
       "      <td>1.000000</td>\n",
       "    </tr>\n",
       "    <tr>\n",
       "      <th>max</th>\n",
       "      <td>54697.000000</td>\n",
       "      <td>15.260000</td>\n",
       "      <td>30.860000</td>\n",
       "      <td>1.000000</td>\n",
       "    </tr>\n",
       "  </tbody>\n",
       "</table>\n",
       "</div>"
      ],
      "text/plain": [
       "                 ID  Years of Knowing  Interaction Duration       Friends\n",
       "count  54697.000000      54697.000000          54697.000000  54697.000000\n",
       "mean   27349.000000          3.316479             10.050735      0.485804\n",
       "std    15789.808174          2.618973              4.908453      0.499803\n",
       "min        1.000000          0.000000              0.000000      0.000000\n",
       "25%    13675.000000          1.060000              6.630000      0.000000\n",
       "50%    27349.000000          3.060000              9.990000      0.000000\n",
       "75%    41023.000000          5.130000             13.390000      1.000000\n",
       "max    54697.000000         15.260000             30.860000      1.000000"
      ]
     },
     "execution_count": 8,
     "metadata": {},
     "output_type": "execute_result"
    }
   ],
   "source": [
    "df.describe()"
   ]
  },
  {
   "cell_type": "code",
   "execution_count": 9,
   "metadata": {},
   "outputs": [
    {
     "data": {
      "text/plain": [
       "0            1\n",
       "1            2\n",
       "2            3\n",
       "3            4\n",
       "4            5\n",
       "         ...  \n",
       "54692    54693\n",
       "54693    54694\n",
       "54694    54695\n",
       "54695    54696\n",
       "54696    54697\n",
       "Name: ID, Length: 54697, dtype: int64"
      ]
     },
     "execution_count": 9,
     "metadata": {},
     "output_type": "execute_result"
    }
   ],
   "source": [
    "df[\"ID\"] # it is of no use as it's unique for every entry and has no significance"
   ]
  },
  {
   "cell_type": "code",
   "execution_count": 10,
   "metadata": {},
   "outputs": [],
   "source": [
    "df.drop(\"ID\",axis=1,inplace=True)"
   ]
  },
  {
   "cell_type": "code",
   "execution_count": 11,
   "metadata": {},
   "outputs": [
    {
     "name": "stdout",
     "output_type": "stream",
     "text": [
      "<class 'pandas.core.frame.DataFrame'>\n",
      "RangeIndex: 54697 entries, 0 to 54696\n",
      "Data columns (total 7 columns):\n",
      "Person A                         54697 non-null object\n",
      "Person B                         54697 non-null object\n",
      "Years of Knowing                 54697 non-null float64\n",
      "Interaction Type                 54697 non-null object\n",
      "Interaction Duration             54697 non-null float64\n",
      "Moon Phase During Interaction    54697 non-null object\n",
      "Friends                          54697 non-null int64\n",
      "dtypes: float64(2), int64(1), object(4)\n",
      "memory usage: 2.9+ MB\n"
     ]
    }
   ],
   "source": [
    "df.info()"
   ]
  },
  {
   "cell_type": "code",
   "execution_count": 12,
   "metadata": {},
   "outputs": [
    {
     "data": {
      "text/plain": [
       "100"
      ]
     },
     "execution_count": 12,
     "metadata": {},
     "output_type": "execute_result"
    }
   ],
   "source": [
    "len(df['Person A'].unique())  # there are 100 unique names in Person A column"
   ]
  },
  {
   "cell_type": "code",
   "execution_count": 13,
   "metadata": {},
   "outputs": [
    {
     "data": {
      "text/plain": [
       "William    627\n",
       "Zachary    612\n",
       "Richard    607\n",
       "Stephen    600\n",
       "Juan       598\n",
       "          ... \n",
       "Kenneth    487\n",
       "Douglas    486\n",
       "Mark       483\n",
       "Ryan       476\n",
       "Kevin      472\n",
       "Name: Person A, Length: 100, dtype: int64"
      ]
     },
     "execution_count": 13,
     "metadata": {},
     "output_type": "execute_result"
    }
   ],
   "source": [
    "df['Person A'].value_counts()   # the heighest frequency is 627 for a particular entry\n",
    "                                # the lowest frequency is 472 for a particular entry"
   ]
  },
  {
   "cell_type": "code",
   "execution_count": 14,
   "metadata": {},
   "outputs": [
    {
     "data": {
      "text/plain": [
       "100"
      ]
     },
     "execution_count": 14,
     "metadata": {},
     "output_type": "execute_result"
    }
   ],
   "source": [
    "len(df['Person B'].unique())  # there are 100 unique names in Person B column"
   ]
  },
  {
   "cell_type": "code",
   "execution_count": 15,
   "metadata": {},
   "outputs": [
    {
     "data": {
      "text/plain": [
       "Natalie      617\n",
       "Catherine    612\n",
       "Theresa      604\n",
       "Madison      597\n",
       "Lisa         591\n",
       "            ... \n",
       "Emily        497\n",
       "Carol        496\n",
       "Margaret     495\n",
       "Nancy        490\n",
       "Doris        483\n",
       "Name: Person B, Length: 100, dtype: int64"
      ]
     },
     "execution_count": 15,
     "metadata": {},
     "output_type": "execute_result"
    }
   ],
   "source": [
    "df['Person B'].value_counts()  # the heighest frequency is 617 for a particular entry\n",
    "                                # the lowest frequency is 483 for a particular entry"
   ]
  },
  {
   "cell_type": "code",
   "execution_count": 16,
   "metadata": {},
   "outputs": [
    {
     "data": {
      "text/plain": [
       "count    54697.000000\n",
       "mean         3.316479\n",
       "std          2.618973\n",
       "min          0.000000\n",
       "25%          1.060000\n",
       "50%          3.060000\n",
       "75%          5.130000\n",
       "max         15.260000\n",
       "Name: Years of Knowing, dtype: float64"
      ]
     },
     "execution_count": 16,
     "metadata": {},
     "output_type": "execute_result"
    }
   ],
   "source": [
    "df['Years of Knowing'].describe()   # here the max years of knowing is 15.26\n",
    "                                    # and min years of knowing is 0"
   ]
  },
  {
   "cell_type": "code",
   "execution_count": 17,
   "metadata": {},
   "outputs": [
    {
     "data": {
      "text/plain": [
       "6"
      ]
     },
     "execution_count": 17,
     "metadata": {},
     "output_type": "execute_result"
    }
   ],
   "source": [
    "len(df['Interaction Type'].unique())   # 6 unique values in Interaction Type"
   ]
  },
  {
   "cell_type": "code",
   "execution_count": 18,
   "metadata": {},
   "outputs": [
    {
     "data": {
      "text/plain": [
       "array(['Social_Media', 'In Passing', 'Over a Meal', 'Party', 'Class',\n",
       "       'At Work'], dtype=object)"
      ]
     },
     "execution_count": 18,
     "metadata": {},
     "output_type": "execute_result"
    }
   ],
   "source": [
    "df['Interaction Type'].unique()     # namely ------\n",
    "                                    #1 'Social_Media',\n",
    "                                    #2 'In Passing',\n",
    "                                    #3 'Over a Meal',\n",
    "                                    #4 'Party',\n",
    "                                    #5 'Class',\n",
    "                                    #6 'At Work'"
   ]
  },
  {
   "cell_type": "code",
   "execution_count": 19,
   "metadata": {},
   "outputs": [
    {
     "data": {
      "text/plain": [
       "<matplotlib.axes._subplots.AxesSubplot at 0x7f323c0599b0>"
      ]
     },
     "execution_count": 19,
     "metadata": {},
     "output_type": "execute_result"
    },
    {
     "data": {
      "image/png": "[encoded data removed]",
      "text/plain": [
       "<Figure size 1440x432 with 1 Axes>"
      ]
     },
     "metadata": {
      "needs_background": "light"
     },
     "output_type": "display_data"
    }
   ],
   "source": [
    "import seaborn as sns\n",
    "plt.figure(figsize=(20,6))\n",
    "sns.countplot(df['Interaction Type'],hue=df['Friends'])"
   ]
  },
  {
   "cell_type": "code",
   "execution_count": 20,
   "metadata": {},
   "outputs": [
    {
     "data": {
      "text/plain": [
       "count    54697.000000\n",
       "mean        10.050735\n",
       "std          4.908453\n",
       "min          0.000000\n",
       "25%          6.630000\n",
       "50%          9.990000\n",
       "75%         13.390000\n",
       "max         30.860000\n",
       "Name: Interaction Duration, dtype: float64"
      ]
     },
     "execution_count": 20,
     "metadata": {},
     "output_type": "execute_result"
    }
   ],
   "source": [
    "df['Interaction Duration'].describe()   # here the max Interaction Duration is 30.86\n",
    "                                        # and min Interaction Duration is 0"
   ]
  },
  {
   "cell_type": "code",
   "execution_count": 21,
   "metadata": {},
   "outputs": [
    {
     "data": {
      "text/plain": [
       "8"
      ]
     },
     "execution_count": 21,
     "metadata": {},
     "output_type": "execute_result"
    }
   ],
   "source": [
    "len(df['Moon Phase During Interaction'].unique())  # 8 unique values in Moon Phase During Interaction"
   ]
  },
  {
   "cell_type": "code",
   "execution_count": 22,
   "metadata": {},
   "outputs": [
    {
     "data": {
      "image/png": "[encoded data removed]",
      "text/plain": [
       "<Figure size 1440x432 with 1 Axes>"
      ]
     },
     "metadata": {
      "needs_background": "light"
     },
     "output_type": "display_data"
    }
   ],
   "source": [
    "plt.figure(figsize=(20,6))\n",
    "sns.countplot(df['Moon Phase During Interaction'],hue=df['Friends'])\n",
    "plt.show()"
   ]
  },
  {
   "cell_type": "code",
   "execution_count": 23,
   "metadata": {},
   "outputs": [
    {
     "data": {
      "text/plain": [
       "array(['Full Moon', 'First Quarter', 'Waxing Gibbous', 'Third Quarter',\n",
       "       'Waning Cresent', 'New Moon', 'Waning Gibbous', 'Waxing Cresent'],\n",
       "      dtype=object)"
      ]
     },
     "execution_count": 23,
     "metadata": {},
     "output_type": "execute_result"
    }
   ],
   "source": [
    "df['Moon Phase During Interaction'].unique()\n",
    "# namely          "
   ]
  },
  {
   "cell_type": "code",
   "execution_count": 24,
   "metadata": {},
   "outputs": [
    {
     "data": {
      "text/plain": [
       "array([1, 0])"
      ]
     },
     "execution_count": 24,
     "metadata": {},
     "output_type": "execute_result"
    }
   ],
   "source": [
    "df['Friends'].unique()   # the target values are only 1 or 0"
   ]
  },
  {
   "cell_type": "code",
   "execution_count": 25,
   "metadata": {},
   "outputs": [
    {
     "data": {
      "text/plain": [
       "0    28125\n",
       "1    26572\n",
       "Name: Friends, dtype: int64"
      ]
     },
     "execution_count": 25,
     "metadata": {},
     "output_type": "execute_result"
    }
   ],
   "source": [
    "df['Friends'].value_counts()"
   ]
  },
  {
   "cell_type": "markdown",
   "metadata": {},
   "source": [
    "# Setting feature vector and target variable"
   ]
  },
  {
   "cell_type": "code",
   "execution_count": 26,
   "metadata": {},
   "outputs": [],
   "source": [
    "X= df.drop('Friends',axis=1)"
   ]
  },
  {
   "cell_type": "code",
   "execution_count": 27,
   "metadata": {},
   "outputs": [],
   "source": [
    "y = df['Friends']"
   ]
  },
  {
   "cell_type": "code",
   "execution_count": 28,
   "metadata": {},
   "outputs": [
    {
     "data": {
      "text/html": [
       "<div>\n",
       "<style scoped>\n",
       "    .dataframe tbody tr th:only-of-type {\n",
       "        vertical-align: middle;\n",
       "    }\n",
       "\n",
       "    .dataframe tbody tr th {\n",
       "        vertical-align: top;\n",
       "    }\n",
       "\n",
       "    .dataframe thead th {\n",
       "        text-align: right;\n",
       "    }\n",
       "</style>\n",
       "<table border=\"1\" class=\"dataframe\">\n",
       "  <thead>\n",
       "    <tr style=\"text-align: right;\">\n",
       "      <th></th>\n",
       "      <th>Person A</th>\n",
       "      <th>Person B</th>\n",
       "      <th>Years of Knowing</th>\n",
       "      <th>Interaction Type</th>\n",
       "      <th>Interaction Duration</th>\n",
       "      <th>Moon Phase During Interaction</th>\n",
       "    </tr>\n",
       "  </thead>\n",
       "  <tbody>\n",
       "    <tr>\n",
       "      <th>0</th>\n",
       "      <td>Paul</td>\n",
       "      <td>Deborah</td>\n",
       "      <td>4.72</td>\n",
       "      <td>Social_Media</td>\n",
       "      <td>0.00</td>\n",
       "      <td>Full Moon</td>\n",
       "    </tr>\n",
       "    <tr>\n",
       "      <th>1</th>\n",
       "      <td>Brian</td>\n",
       "      <td>Emily</td>\n",
       "      <td>9.67</td>\n",
       "      <td>In Passing</td>\n",
       "      <td>6.07</td>\n",
       "      <td>First Quarter</td>\n",
       "    </tr>\n",
       "    <tr>\n",
       "      <th>2</th>\n",
       "      <td>Kyle</td>\n",
       "      <td>Madison</td>\n",
       "      <td>1.64</td>\n",
       "      <td>In Passing</td>\n",
       "      <td>5.38</td>\n",
       "      <td>Waxing Gibbous</td>\n",
       "    </tr>\n",
       "    <tr>\n",
       "      <th>3</th>\n",
       "      <td>Daniel</td>\n",
       "      <td>Teresa</td>\n",
       "      <td>0.00</td>\n",
       "      <td>Over a Meal</td>\n",
       "      <td>15.72</td>\n",
       "      <td>Waxing Gibbous</td>\n",
       "    </tr>\n",
       "  </tbody>\n",
       "</table>\n",
       "</div>"
      ],
      "text/plain": [
       "  Person A Person B  Years of Knowing Interaction Type  Interaction Duration  \\\n",
       "0     Paul  Deborah              4.72     Social_Media                  0.00   \n",
       "1    Brian    Emily              9.67       In Passing                  6.07   \n",
       "2     Kyle  Madison              1.64       In Passing                  5.38   \n",
       "3   Daniel   Teresa              0.00      Over a Meal                 15.72   \n",
       "\n",
       "  Moon Phase During Interaction  \n",
       "0                     Full Moon  \n",
       "1                 First Quarter  \n",
       "2                Waxing Gibbous  \n",
       "3                Waxing Gibbous  "
      ]
     },
     "execution_count": 28,
     "metadata": {},
     "output_type": "execute_result"
    }
   ],
   "source": [
    "X.head(4)"
   ]
  },
  {
   "cell_type": "markdown",
   "metadata": {},
   "source": [
    "# Split data into separate training and test set"
   ]
  },
  {
   "cell_type": "code",
   "execution_count": 29,
   "metadata": {},
   "outputs": [],
   "source": [
    "from sklearn.model_selection import train_test_split\n",
    "\n",
    "X_train, X_test, y_train, y_test = train_test_split(X, y, test_size = 0.3, random_state = 0)"
   ]
  },
  {
   "cell_type": "markdown",
   "metadata": {},
   "source": [
    "# Feature Engineering"
   ]
  },
  {
   "cell_type": "markdown",
   "metadata": {},
   "source": [
    "Encode categorical variables"
   ]
  },
  {
   "cell_type": "code",
   "execution_count": 30,
   "metadata": {},
   "outputs": [],
   "source": [
    "from sklearn import preprocessing\n",
    "\n",
    "categorical = ['Person A', 'Person B', 'Interaction Type', 'Moon Phase During Interaction']\n",
    "for feature in categorical:\n",
    "        le = preprocessing.LabelEncoder()\n",
    "        X_train[feature] = le.fit_transform(X_train[feature])\n",
    "        X_test[feature] = le.transform(X_test[feature])\n"
   ]
  },
  {
   "cell_type": "markdown",
   "metadata": {},
   "source": [
    "# Feature Scaling"
   ]
  },
  {
   "cell_type": "code",
   "execution_count": 31,
   "metadata": {},
   "outputs": [],
   "source": [
    "from sklearn.preprocessing import StandardScaler\n",
    "\n",
    "scaler = StandardScaler()\n",
    "\n",
    "X_train = pd.DataFrame(scaler.fit_transform(X_train), columns = X.columns)\n",
    "\n",
    "X_test = pd.DataFrame(scaler.transform(X_test), columns = X.columns)"
   ]
  },
  {
   "cell_type": "code",
   "execution_count": 32,
   "metadata": {},
   "outputs": [
    {
     "data": {
      "text/html": [
       "<div>\n",
       "<style scoped>\n",
       "    .dataframe tbody tr th:only-of-type {\n",
       "        vertical-align: middle;\n",
       "    }\n",
       "\n",
       "    .dataframe tbody tr th {\n",
       "        vertical-align: top;\n",
       "    }\n",
       "\n",
       "    .dataframe thead th {\n",
       "        text-align: right;\n",
       "    }\n",
       "</style>\n",
       "<table border=\"1\" class=\"dataframe\">\n",
       "  <thead>\n",
       "    <tr style=\"text-align: right;\">\n",
       "      <th></th>\n",
       "      <th>Person A</th>\n",
       "      <th>Person B</th>\n",
       "      <th>Years of Knowing</th>\n",
       "      <th>Interaction Type</th>\n",
       "      <th>Interaction Duration</th>\n",
       "      <th>Moon Phase During Interaction</th>\n",
       "    </tr>\n",
       "  </thead>\n",
       "  <tbody>\n",
       "    <tr>\n",
       "      <th>0</th>\n",
       "      <td>-0.924633</td>\n",
       "      <td>-1.265314</td>\n",
       "      <td>-0.883555</td>\n",
       "      <td>0.884161</td>\n",
       "      <td>-1.100229</td>\n",
       "      <td>-1.533539</td>\n",
       "    </tr>\n",
       "    <tr>\n",
       "      <th>1</th>\n",
       "      <td>-0.025878</td>\n",
       "      <td>-1.680134</td>\n",
       "      <td>-1.166564</td>\n",
       "      <td>-0.290415</td>\n",
       "      <td>0.205516</td>\n",
       "      <td>0.208398</td>\n",
       "    </tr>\n",
       "    <tr>\n",
       "      <th>2</th>\n",
       "      <td>-1.685117</td>\n",
       "      <td>1.119897</td>\n",
       "      <td>1.246665</td>\n",
       "      <td>1.471449</td>\n",
       "      <td>-0.346836</td>\n",
       "      <td>-1.533539</td>\n",
       "    </tr>\n",
       "    <tr>\n",
       "      <th>3</th>\n",
       "      <td>1.114848</td>\n",
       "      <td>1.292738</td>\n",
       "      <td>1.774440</td>\n",
       "      <td>-1.464992</td>\n",
       "      <td>0.629933</td>\n",
       "      <td>-1.098054</td>\n",
       "    </tr>\n",
       "    <tr>\n",
       "      <th>4</th>\n",
       "      <td>-0.820930</td>\n",
       "      <td>0.670509</td>\n",
       "      <td>-0.680859</td>\n",
       "      <td>-0.290415</td>\n",
       "      <td>-1.220040</td>\n",
       "      <td>0.643882</td>\n",
       "    </tr>\n",
       "  </tbody>\n",
       "</table>\n",
       "</div>"
      ],
      "text/plain": [
       "   Person A  Person B  Years of Knowing  Interaction Type  \\\n",
       "0 -0.924633 -1.265314         -0.883555          0.884161   \n",
       "1 -0.025878 -1.680134         -1.166564         -0.290415   \n",
       "2 -1.685117  1.119897          1.246665          1.471449   \n",
       "3  1.114848  1.292738          1.774440         -1.464992   \n",
       "4 -0.820930  0.670509         -0.680859         -0.290415   \n",
       "\n",
       "   Interaction Duration  Moon Phase During Interaction  \n",
       "0             -1.100229                      -1.533539  \n",
       "1              0.205516                       0.208398  \n",
       "2             -0.346836                      -1.533539  \n",
       "3              0.629933                      -1.098054  \n",
       "4             -1.220040                       0.643882  "
      ]
     },
     "execution_count": 32,
     "metadata": {},
     "output_type": "execute_result"
    }
   ],
   "source": [
    "X_train.head()"
   ]
  },
  {
   "cell_type": "code",
   "execution_count": 33,
   "metadata": {},
   "outputs": [
    {
     "data": {
      "text/html": [
       "<div>\n",
       "<style scoped>\n",
       "    .dataframe tbody tr th:only-of-type {\n",
       "        vertical-align: middle;\n",
       "    }\n",
       "\n",
       "    .dataframe tbody tr th {\n",
       "        vertical-align: top;\n",
       "    }\n",
       "\n",
       "    .dataframe thead th {\n",
       "        text-align: right;\n",
       "    }\n",
       "</style>\n",
       "<table border=\"1\" class=\"dataframe\">\n",
       "  <thead>\n",
       "    <tr style=\"text-align: right;\">\n",
       "      <th></th>\n",
       "      <th>Person A</th>\n",
       "      <th>Person B</th>\n",
       "      <th>Years of Knowing</th>\n",
       "      <th>Interaction Type</th>\n",
       "      <th>Interaction Duration</th>\n",
       "      <th>Moon Phase During Interaction</th>\n",
       "    </tr>\n",
       "  </thead>\n",
       "  <tbody>\n",
       "    <tr>\n",
       "      <th>0</th>\n",
       "      <td>-0.440688</td>\n",
       "      <td>0.186553</td>\n",
       "      <td>0.114627</td>\n",
       "      <td>-0.290415</td>\n",
       "      <td>1.937708</td>\n",
       "      <td>0.643882</td>\n",
       "    </tr>\n",
       "    <tr>\n",
       "      <th>1</th>\n",
       "      <td>-1.581414</td>\n",
       "      <td>-0.850495</td>\n",
       "      <td>-1.269824</td>\n",
       "      <td>-0.290415</td>\n",
       "      <td>-1.441387</td>\n",
       "      <td>1.079367</td>\n",
       "    </tr>\n",
       "    <tr>\n",
       "      <th>2</th>\n",
       "      <td>1.080280</td>\n",
       "      <td>0.324826</td>\n",
       "      <td>-0.780294</td>\n",
       "      <td>-0.290415</td>\n",
       "      <td>-0.231086</td>\n",
       "      <td>0.643882</td>\n",
       "    </tr>\n",
       "    <tr>\n",
       "      <th>3</th>\n",
       "      <td>-1.132037</td>\n",
       "      <td>1.603853</td>\n",
       "      <td>0.531493</td>\n",
       "      <td>1.471449</td>\n",
       "      <td>0.091796</td>\n",
       "      <td>-0.227086</td>\n",
       "    </tr>\n",
       "    <tr>\n",
       "      <th>4</th>\n",
       "      <td>-0.233283</td>\n",
       "      <td>0.739646</td>\n",
       "      <td>-0.684683</td>\n",
       "      <td>0.884161</td>\n",
       "      <td>0.394371</td>\n",
       "      <td>0.643882</td>\n",
       "    </tr>\n",
       "  </tbody>\n",
       "</table>\n",
       "</div>"
      ],
      "text/plain": [
       "   Person A  Person B  Years of Knowing  Interaction Type  \\\n",
       "0 -0.440688  0.186553          0.114627         -0.290415   \n",
       "1 -1.581414 -0.850495         -1.269824         -0.290415   \n",
       "2  1.080280  0.324826         -0.780294         -0.290415   \n",
       "3 -1.132037  1.603853          0.531493          1.471449   \n",
       "4 -0.233283  0.739646         -0.684683          0.884161   \n",
       "\n",
       "   Interaction Duration  Moon Phase During Interaction  \n",
       "0              1.937708                       0.643882  \n",
       "1             -1.441387                       1.079367  \n",
       "2             -0.231086                       0.643882  \n",
       "3              0.091796                      -0.227086  \n",
       "4              0.394371                       0.643882  "
      ]
     },
     "execution_count": 33,
     "metadata": {},
     "output_type": "execute_result"
    }
   ],
   "source": [
    "X_test.head()"
   ]
  },
  {
   "cell_type": "markdown",
   "metadata": {},
   "source": [
    "# Logistic Regression model with all features"
   ]
  },
  {
   "cell_type": "code",
   "execution_count": 34,
   "metadata": {},
   "outputs": [
    {
     "name": "stdout",
     "output_type": "stream",
     "text": [
      "Logistic Regression accuracy score with all 6 the features: 0.5079\n"
     ]
    }
   ],
   "source": [
    "from sklearn.linear_model import LogisticRegression\n",
    "from sklearn.metrics import accuracy_score\n",
    "\n",
    "logreg = LogisticRegression()\n",
    "logreg.fit(X_train, y_train)\n",
    "y_pred = logreg.predict(X_test)\n",
    "\n",
    "print('Logistic Regression accuracy score with all 6 the features: {0:0.4f}'. format(accuracy_score(y_test, y_pred)))"
   ]
  },
  {
   "cell_type": "code",
   "execution_count": 35,
   "metadata": {},
   "outputs": [
    {
     "data": {
      "text/plain": [
       "0.5119231070598376"
      ]
     },
     "execution_count": 35,
     "metadata": {},
     "output_type": "execute_result"
    }
   ],
   "source": [
    "logreg.score(X_train, y_train)\n"
   ]
  },
  {
   "cell_type": "markdown",
   "metadata": {},
   "source": [
    "# PCA"
   ]
  },
  {
   "cell_type": "code",
   "execution_count": 36,
   "metadata": {},
   "outputs": [
    {
     "data": {
      "text/plain": [
       "array([0.17147762, 0.16794455, 0.16676051, 0.16604698, 0.16475905,\n",
       "       0.16301129])"
      ]
     },
     "execution_count": 36,
     "metadata": {},
     "output_type": "execute_result"
    }
   ],
   "source": [
    "from sklearn.decomposition import PCA\n",
    "pca = PCA()\n",
    "temp_X_train= X_train\n",
    "temp_X_train = pca.fit_transform(temp_X_train)\n",
    "pca.explained_variance_ratio_"
   ]
  },
  {
   "cell_type": "code",
   "execution_count": 35,
   "metadata": {},
   "outputs": [],
   "source": [
    "# As we can see every feature adds significant variance hence\n",
    "# droping the variables in this case is not a good idea! Therefore we should use every \n",
    "# feature present to build our model as done previously."
   ]
  },
  {
   "cell_type": "code",
   "execution_count": 37,
   "metadata": {},
   "outputs": [
    {
     "data": {
      "image/png": "[encoded data removed]",
      "text/plain": [
       "<Figure size 576x432 with 1 Axes>"
      ]
     },
     "metadata": {
      "needs_background": "light"
     },
     "output_type": "display_data"
    }
   ],
   "source": [
    "plt.figure(figsize=(8,6))\n",
    "plt.plot(np.cumsum(pca.explained_variance_ratio_))\n",
    "plt.xlim(0,5,1)\n",
    "plt.xlabel('Number of components')\n",
    "plt.ylabel('Cumulative explained variance')\n",
    "plt.show()\n",
    "# ploting cumulative explained variance ratio with number \n",
    "# of components to show how variance ratio varies with number of components."
   ]
  },
  {
   "cell_type": "markdown",
   "metadata": {},
   "source": [
    "# Decision Tree Model."
   ]
  },
  {
   "cell_type": "code",
   "execution_count": 38,
   "metadata": {},
   "outputs": [],
   "source": [
    "from sklearn.tree import DecisionTreeClassifier\n",
    "\n",
    "# max_features =6 (from above cum_sum chart)\n",
    "# min_samples_leaf=100 controling the branches by setting the limits (Pruning)"
   ]
  },
  {
   "cell_type": "code",
   "execution_count": 39,
   "metadata": {},
   "outputs": [
    {
     "name": "stdout",
     "output_type": "stream",
     "text": [
      "D-Tree accuracy score with all 6 the features: 0.6148\n"
     ]
    }
   ],
   "source": [
    "\n",
    "clf = DecisionTreeClassifier(max_features=6,min_samples_leaf=100,random_state=10)\n",
    "clf.fit(X_train, y_train)\n",
    "# y_pred = logreg.predict(X_test)\n",
    "y_pred = clf.predict(X_test)\n",
    "\n",
    "print('D-Tree accuracy score with all 6 the features: {0:0.4f}'. format(accuracy_score(y_test, y_pred)))"
   ]
  },
  {
   "cell_type": "code",
   "execution_count": 40,
   "metadata": {},
   "outputs": [
    {
     "data": {
      "text/plain": [
       "0.651735576044088"
      ]
     },
     "execution_count": 40,
     "metadata": {},
     "output_type": "execute_result"
    }
   ],
   "source": [
    "clf.score(X_train, y_train)\n"
   ]
  },
  {
   "cell_type": "markdown",
   "metadata": {},
   "source": [
    "# Xgboost"
   ]
  },
  {
   "cell_type": "code",
   "execution_count": 41,
   "metadata": {},
   "outputs": [
    {
     "name": "stdout",
     "output_type": "stream",
     "text": [
      "XGboost accuracy score with all 6 the features: 0.7840\n"
     ]
    }
   ],
   "source": [
    "from xgboost import XGBClassifier\n",
    "\n",
    "clf= XGBClassifier()\n",
    "\n",
    "clf.fit(X_train, y_train)\n",
    "# y_pred = logreg.predict(X_test)\n",
    "y_pred = clf.predict(X_test)\n",
    "print('XGboost accuracy score with all 6 the features: {0:0.4f}'. format(accuracy_score(y_test, y_pred)))"
   ]
  },
  {
   "cell_type": "code",
   "execution_count": 42,
   "metadata": {},
   "outputs": [
    {
     "data": {
      "text/plain": [
       "0.853553425444668"
      ]
     },
     "execution_count": 42,
     "metadata": {},
     "output_type": "execute_result"
    }
   ],
   "source": [
    "clf.score(X_train, y_train)\n"
   ]
  },
  {
   "cell_type": "markdown",
   "metadata": {},
   "source": [
    "# catboost"
   ]
  },
  {
   "cell_type": "code",
   "execution_count": 43,
   "metadata": {},
   "outputs": [
    {
     "name": "stdout",
     "output_type": "stream",
     "text": [
      "0:\tlearn: 0.6928372\ttotal: 123ms\tremaining: 2m 3s\n",
      "1:\tlearn: 0.6925117\ttotal: 170ms\tremaining: 1m 24s\n",
      "2:\tlearn: 0.6921803\ttotal: 188ms\tremaining: 1m 2s\n",
      "3:\tlearn: 0.6919754\ttotal: 199ms\tremaining: 49.7s\n",
      "4:\tlearn: 0.6915610\ttotal: 209ms\tremaining: 41.7s\n",
      "5:\tlearn: 0.6912786\ttotal: 220ms\tremaining: 36.5s\n",
      "6:\tlearn: 0.6910207\ttotal: 230ms\tremaining: 32.6s\n",
      "7:\tlearn: 0.6906656\ttotal: 240ms\tremaining: 29.8s\n",
      "8:\tlearn: 0.6904171\ttotal: 251ms\tremaining: 27.7s\n",
      "9:\tlearn: 0.6900788\ttotal: 262ms\tremaining: 25.9s\n",
      "10:\tlearn: 0.6897936\ttotal: 270ms\tremaining: 24.3s\n",
      "11:\tlearn: 0.6895779\ttotal: 281ms\tremaining: 23.1s\n",
      "12:\tlearn: 0.6893448\ttotal: 289ms\tremaining: 22s\n",
      "13:\tlearn: 0.6890219\ttotal: 300ms\tremaining: 21.1s\n",
      "14:\tlearn: 0.6888949\ttotal: 311ms\tremaining: 20.4s\n",
      "15:\tlearn: 0.6886356\ttotal: 322ms\tremaining: 19.8s\n",
      "16:\tlearn: 0.6883673\ttotal: 337ms\tremaining: 19.5s\n",
      "17:\tlearn: 0.6880777\ttotal: 360ms\tremaining: 19.7s\n",
      "18:\tlearn: 0.6877826\ttotal: 372ms\tremaining: 19.2s\n",
      "19:\tlearn: 0.6876236\ttotal: 382ms\tremaining: 18.7s\n",
      "20:\tlearn: 0.6873898\ttotal: 393ms\tremaining: 18.3s\n",
      "21:\tlearn: 0.6871769\ttotal: 405ms\tremaining: 18s\n",
      "22:\tlearn: 0.6869545\ttotal: 416ms\tremaining: 17.7s\n",
      "23:\tlearn: 0.6868326\ttotal: 426ms\tremaining: 17.3s\n",
      "24:\tlearn: 0.6866299\ttotal: 436ms\tremaining: 17s\n",
      "25:\tlearn: 0.6864992\ttotal: 445ms\tremaining: 16.7s\n",
      "26:\tlearn: 0.6862344\ttotal: 456ms\tremaining: 16.4s\n",
      "27:\tlearn: 0.6860839\ttotal: 466ms\tremaining: 16.2s\n",
      "28:\tlearn: 0.6858310\ttotal: 476ms\tremaining: 15.9s\n",
      "29:\tlearn: 0.6856441\ttotal: 486ms\tremaining: 15.7s\n",
      "30:\tlearn: 0.6854017\ttotal: 497ms\tremaining: 15.5s\n",
      "31:\tlearn: 0.6852903\ttotal: 507ms\tremaining: 15.3s\n",
      "32:\tlearn: 0.6850369\ttotal: 518ms\tremaining: 15.2s\n",
      "33:\tlearn: 0.6848078\ttotal: 534ms\tremaining: 15.2s\n",
      "34:\tlearn: 0.6847056\ttotal: 551ms\tremaining: 15.2s\n",
      "35:\tlearn: 0.6845518\ttotal: 568ms\tremaining: 15.2s\n",
      "36:\tlearn: 0.6844060\ttotal: 579ms\tremaining: 15.1s\n",
      "37:\tlearn: 0.6842162\ttotal: 589ms\tremaining: 14.9s\n",
      "38:\tlearn: 0.6839517\ttotal: 600ms\tremaining: 14.8s\n",
      "39:\tlearn: 0.6837600\ttotal: 610ms\tremaining: 14.6s\n",
      "40:\tlearn: 0.6834748\ttotal: 620ms\tremaining: 14.5s\n",
      "41:\tlearn: 0.6832793\ttotal: 630ms\tremaining: 14.4s\n",
      "42:\tlearn: 0.6830847\ttotal: 639ms\tremaining: 14.2s\n",
      "43:\tlearn: 0.6827874\ttotal: 649ms\tremaining: 14.1s\n",
      "44:\tlearn: 0.6826860\ttotal: 660ms\tremaining: 14s\n",
      "45:\tlearn: 0.6825616\ttotal: 671ms\tremaining: 13.9s\n",
      "46:\tlearn: 0.6823686\ttotal: 681ms\tremaining: 13.8s\n",
      "47:\tlearn: 0.6822040\ttotal: 692ms\tremaining: 13.7s\n",
      "48:\tlearn: 0.6821031\ttotal: 703ms\tremaining: 13.6s\n",
      "49:\tlearn: 0.6820503\ttotal: 714ms\tremaining: 13.6s\n",
      "50:\tlearn: 0.6819927\ttotal: 723ms\tremaining: 13.5s\n",
      "51:\tlearn: 0.6818719\ttotal: 736ms\tremaining: 13.4s\n",
      "52:\tlearn: 0.6817167\ttotal: 752ms\tremaining: 13.4s\n",
      "53:\tlearn: 0.6815425\ttotal: 768ms\tremaining: 13.5s\n",
      "54:\tlearn: 0.6813835\ttotal: 782ms\tremaining: 13.4s\n",
      "55:\tlearn: 0.6813023\ttotal: 792ms\tremaining: 13.3s\n",
      "56:\tlearn: 0.6811409\ttotal: 803ms\tremaining: 13.3s\n",
      "57:\tlearn: 0.6809383\ttotal: 814ms\tremaining: 13.2s\n",
      "58:\tlearn: 0.6808314\ttotal: 824ms\tremaining: 13.1s\n",
      "59:\tlearn: 0.6805501\ttotal: 835ms\tremaining: 13.1s\n",
      "60:\tlearn: 0.6804469\ttotal: 844ms\tremaining: 13s\n",
      "61:\tlearn: 0.6803167\ttotal: 855ms\tremaining: 12.9s\n",
      "62:\tlearn: 0.6801080\ttotal: 865ms\tremaining: 12.9s\n",
      "63:\tlearn: 0.6799881\ttotal: 875ms\tremaining: 12.8s\n",
      "64:\tlearn: 0.6797754\ttotal: 886ms\tremaining: 12.7s\n",
      "65:\tlearn: 0.6796162\ttotal: 897ms\tremaining: 12.7s\n",
      "66:\tlearn: 0.6795025\ttotal: 910ms\tremaining: 12.7s\n",
      "67:\tlearn: 0.6791609\ttotal: 925ms\tremaining: 12.7s\n",
      "68:\tlearn: 0.6789491\ttotal: 940ms\tremaining: 12.7s\n",
      "69:\tlearn: 0.6788606\ttotal: 958ms\tremaining: 12.7s\n",
      "70:\tlearn: 0.6788223\ttotal: 979ms\tremaining: 12.8s\n",
      "71:\tlearn: 0.6787372\ttotal: 1s\tremaining: 12.9s\n",
      "72:\tlearn: 0.6786033\ttotal: 1.01s\tremaining: 12.9s\n",
      "73:\tlearn: 0.6785387\ttotal: 1.03s\tremaining: 12.8s\n",
      "74:\tlearn: 0.6784383\ttotal: 1.04s\tremaining: 12.8s\n",
      "75:\tlearn: 0.6782827\ttotal: 1.05s\tremaining: 12.7s\n",
      "76:\tlearn: 0.6781573\ttotal: 1.06s\tremaining: 12.7s\n",
      "77:\tlearn: 0.6779973\ttotal: 1.07s\tremaining: 12.6s\n",
      "78:\tlearn: 0.6778640\ttotal: 1.08s\tremaining: 12.6s\n",
      "79:\tlearn: 0.6775839\ttotal: 1.09s\tremaining: 12.5s\n",
      "80:\tlearn: 0.6774806\ttotal: 1.1s\tremaining: 12.5s\n",
      "81:\tlearn: 0.6774138\ttotal: 1.11s\tremaining: 12.4s\n",
      "82:\tlearn: 0.6773508\ttotal: 1.12s\tremaining: 12.4s\n",
      "83:\tlearn: 0.6772083\ttotal: 1.13s\tremaining: 12.3s\n",
      "84:\tlearn: 0.6769794\ttotal: 1.16s\tremaining: 12.5s\n",
      "85:\tlearn: 0.6767589\ttotal: 1.18s\tremaining: 12.5s\n",
      "86:\tlearn: 0.6765615\ttotal: 1.19s\tremaining: 12.5s\n",
      "87:\tlearn: 0.6764903\ttotal: 1.21s\tremaining: 12.5s\n",
      "88:\tlearn: 0.6763130\ttotal: 1.22s\tremaining: 12.4s\n",
      "89:\tlearn: 0.6761025\ttotal: 1.23s\tremaining: 12.4s\n",
      "90:\tlearn: 0.6758035\ttotal: 1.24s\tremaining: 12.4s\n",
      "91:\tlearn: 0.6757100\ttotal: 1.25s\tremaining: 12.3s\n",
      "92:\tlearn: 0.6754093\ttotal: 1.26s\tremaining: 12.3s\n",
      "93:\tlearn: 0.6752546\ttotal: 1.27s\tremaining: 12.2s\n",
      "94:\tlearn: 0.6750001\ttotal: 1.28s\tremaining: 12.2s\n",
      "95:\tlearn: 0.6748879\ttotal: 1.29s\tremaining: 12.1s\n",
      "96:\tlearn: 0.6748322\ttotal: 1.3s\tremaining: 12.1s\n",
      "97:\tlearn: 0.6745660\ttotal: 1.31s\tremaining: 12.1s\n",
      "98:\tlearn: 0.6744481\ttotal: 1.32s\tremaining: 12s\n",
      "99:\tlearn: 0.6743257\ttotal: 1.33s\tremaining: 12s\n",
      "100:\tlearn: 0.6741920\ttotal: 1.34s\tremaining: 12s\n",
      "101:\tlearn: 0.6738907\ttotal: 1.35s\tremaining: 11.9s\n",
      "102:\tlearn: 0.6737399\ttotal: 1.36s\tremaining: 11.9s\n",
      "103:\tlearn: 0.6736507\ttotal: 1.38s\tremaining: 11.9s\n",
      "104:\tlearn: 0.6736091\ttotal: 1.41s\tremaining: 12s\n",
      "105:\tlearn: 0.6732126\ttotal: 1.42s\tremaining: 11.9s\n",
      "106:\tlearn: 0.6730689\ttotal: 1.43s\tremaining: 11.9s\n",
      "107:\tlearn: 0.6729547\ttotal: 1.45s\tremaining: 11.9s\n",
      "108:\tlearn: 0.6729116\ttotal: 1.46s\tremaining: 12s\n",
      "109:\tlearn: 0.6727016\ttotal: 1.48s\tremaining: 12s\n",
      "110:\tlearn: 0.6726014\ttotal: 1.5s\tremaining: 12s\n",
      "111:\tlearn: 0.6723668\ttotal: 1.51s\tremaining: 12s\n",
      "112:\tlearn: 0.6722666\ttotal: 1.54s\tremaining: 12.1s\n",
      "113:\tlearn: 0.6721568\ttotal: 1.57s\tremaining: 12.2s\n",
      "114:\tlearn: 0.6721021\ttotal: 1.59s\tremaining: 12.2s\n",
      "115:\tlearn: 0.6718868\ttotal: 1.61s\tremaining: 12.3s\n",
      "116:\tlearn: 0.6718042\ttotal: 1.63s\tremaining: 12.3s\n",
      "117:\tlearn: 0.6716764\ttotal: 1.65s\tremaining: 12.3s\n",
      "118:\tlearn: 0.6716228\ttotal: 1.66s\tremaining: 12.3s\n",
      "119:\tlearn: 0.6714718\ttotal: 1.67s\tremaining: 12.3s\n",
      "120:\tlearn: 0.6712934\ttotal: 1.68s\tremaining: 12.2s\n",
      "121:\tlearn: 0.6711846\ttotal: 1.69s\tremaining: 12.2s\n",
      "122:\tlearn: 0.6709303\ttotal: 1.7s\tremaining: 12.1s\n",
      "123:\tlearn: 0.6708733\ttotal: 1.71s\tremaining: 12.1s\n",
      "124:\tlearn: 0.6707128\ttotal: 1.72s\tremaining: 12s\n",
      "125:\tlearn: 0.6705530\ttotal: 1.73s\tremaining: 12s\n",
      "126:\tlearn: 0.6704316\ttotal: 1.75s\tremaining: 12s\n",
      "127:\tlearn: 0.6701730\ttotal: 1.76s\tremaining: 12s\n",
      "128:\tlearn: 0.6700245\ttotal: 1.77s\tremaining: 11.9s\n",
      "129:\tlearn: 0.6698962\ttotal: 1.79s\tremaining: 12s\n",
      "130:\tlearn: 0.6697428\ttotal: 1.8s\tremaining: 12s\n",
      "131:\tlearn: 0.6696531\ttotal: 1.82s\tremaining: 12s\n",
      "132:\tlearn: 0.6695827\ttotal: 1.83s\tremaining: 11.9s\n",
      "133:\tlearn: 0.6694374\ttotal: 1.84s\tremaining: 11.9s\n",
      "134:\tlearn: 0.6693696\ttotal: 1.85s\tremaining: 11.9s\n",
      "135:\tlearn: 0.6691528\ttotal: 1.86s\tremaining: 11.9s\n",
      "136:\tlearn: 0.6689931\ttotal: 1.88s\tremaining: 11.8s\n",
      "137:\tlearn: 0.6688806\ttotal: 1.89s\tremaining: 11.8s\n",
      "138:\tlearn: 0.6687422\ttotal: 1.9s\tremaining: 11.7s\n",
      "139:\tlearn: 0.6685920\ttotal: 1.91s\tremaining: 11.7s\n",
      "140:\tlearn: 0.6684072\ttotal: 1.92s\tremaining: 11.7s\n",
      "141:\tlearn: 0.6682749\ttotal: 1.93s\tremaining: 11.7s\n",
      "142:\tlearn: 0.6680914\ttotal: 1.94s\tremaining: 11.6s\n",
      "143:\tlearn: 0.6680017\ttotal: 1.95s\tremaining: 11.6s\n",
      "144:\tlearn: 0.6677455\ttotal: 1.96s\tremaining: 11.6s\n",
      "145:\tlearn: 0.6675262\ttotal: 1.98s\tremaining: 11.6s\n",
      "146:\tlearn: 0.6674669\ttotal: 1.99s\tremaining: 11.5s\n",
      "147:\tlearn: 0.6672809\ttotal: 2s\tremaining: 11.5s\n",
      "148:\tlearn: 0.6671314\ttotal: 2.02s\tremaining: 11.5s\n",
      "149:\tlearn: 0.6668948\ttotal: 2.03s\tremaining: 11.5s\n",
      "150:\tlearn: 0.6667234\ttotal: 2.04s\tremaining: 11.5s\n",
      "151:\tlearn: 0.6666565\ttotal: 2.05s\tremaining: 11.4s\n",
      "152:\tlearn: 0.6664552\ttotal: 2.06s\tremaining: 11.4s\n",
      "153:\tlearn: 0.6664081\ttotal: 2.08s\tremaining: 11.4s\n",
      "154:\tlearn: 0.6662444\ttotal: 2.09s\tremaining: 11.4s\n",
      "155:\tlearn: 0.6661938\ttotal: 2.1s\tremaining: 11.4s\n",
      "156:\tlearn: 0.6660784\ttotal: 2.11s\tremaining: 11.3s\n",
      "157:\tlearn: 0.6659968\ttotal: 2.12s\tremaining: 11.3s\n",
      "158:\tlearn: 0.6658301\ttotal: 2.13s\tremaining: 11.3s\n",
      "159:\tlearn: 0.6656891\ttotal: 2.15s\tremaining: 11.3s\n",
      "160:\tlearn: 0.6656347\ttotal: 2.16s\tremaining: 11.2s\n",
      "161:\tlearn: 0.6655125\ttotal: 2.17s\tremaining: 11.2s\n"
     ]
    },
    {
     "name": "stdout",
     "output_type": "stream",
     "text": [
      "162:\tlearn: 0.6652849\ttotal: 2.18s\tremaining: 11.2s\n",
      "163:\tlearn: 0.6652028\ttotal: 2.2s\tremaining: 11.2s\n",
      "164:\tlearn: 0.6650341\ttotal: 2.21s\tremaining: 11.2s\n",
      "165:\tlearn: 0.6648219\ttotal: 2.23s\tremaining: 11.2s\n",
      "166:\tlearn: 0.6646566\ttotal: 2.24s\tremaining: 11.2s\n",
      "167:\tlearn: 0.6645656\ttotal: 2.25s\tremaining: 11.2s\n",
      "168:\tlearn: 0.6643936\ttotal: 2.26s\tremaining: 11.1s\n",
      "169:\tlearn: 0.6641966\ttotal: 2.27s\tremaining: 11.1s\n",
      "170:\tlearn: 0.6640647\ttotal: 2.28s\tremaining: 11.1s\n",
      "171:\tlearn: 0.6639356\ttotal: 2.29s\tremaining: 11s\n",
      "172:\tlearn: 0.6638809\ttotal: 2.3s\tremaining: 11s\n",
      "173:\tlearn: 0.6635907\ttotal: 2.31s\tremaining: 11s\n",
      "174:\tlearn: 0.6635282\ttotal: 2.32s\tremaining: 11s\n",
      "175:\tlearn: 0.6634142\ttotal: 2.33s\tremaining: 10.9s\n",
      "176:\tlearn: 0.6633789\ttotal: 2.34s\tremaining: 10.9s\n",
      "177:\tlearn: 0.6632207\ttotal: 2.35s\tremaining: 10.9s\n",
      "178:\tlearn: 0.6631598\ttotal: 2.37s\tremaining: 10.8s\n",
      "179:\tlearn: 0.6630425\ttotal: 2.38s\tremaining: 10.8s\n",
      "180:\tlearn: 0.6629002\ttotal: 2.39s\tremaining: 10.8s\n",
      "181:\tlearn: 0.6627680\ttotal: 2.4s\tremaining: 10.8s\n",
      "182:\tlearn: 0.6625934\ttotal: 2.42s\tremaining: 10.8s\n",
      "183:\tlearn: 0.6624942\ttotal: 2.43s\tremaining: 10.8s\n",
      "184:\tlearn: 0.6624090\ttotal: 2.44s\tremaining: 10.8s\n",
      "185:\tlearn: 0.6622961\ttotal: 2.46s\tremaining: 10.7s\n",
      "186:\tlearn: 0.6621499\ttotal: 2.47s\tremaining: 10.7s\n",
      "187:\tlearn: 0.6620481\ttotal: 2.48s\tremaining: 10.7s\n",
      "188:\tlearn: 0.6619303\ttotal: 2.49s\tremaining: 10.7s\n",
      "189:\tlearn: 0.6617721\ttotal: 2.5s\tremaining: 10.6s\n",
      "190:\tlearn: 0.6616862\ttotal: 2.51s\tremaining: 10.6s\n",
      "191:\tlearn: 0.6614487\ttotal: 2.52s\tremaining: 10.6s\n",
      "192:\tlearn: 0.6612426\ttotal: 2.53s\tremaining: 10.6s\n",
      "193:\tlearn: 0.6610202\ttotal: 2.54s\tremaining: 10.6s\n",
      "194:\tlearn: 0.6608344\ttotal: 2.55s\tremaining: 10.5s\n",
      "195:\tlearn: 0.6606938\ttotal: 2.56s\tremaining: 10.5s\n",
      "196:\tlearn: 0.6605263\ttotal: 2.57s\tremaining: 10.5s\n",
      "197:\tlearn: 0.6603490\ttotal: 2.58s\tremaining: 10.5s\n",
      "198:\tlearn: 0.6602366\ttotal: 2.61s\tremaining: 10.5s\n",
      "199:\tlearn: 0.6600603\ttotal: 2.62s\tremaining: 10.5s\n",
      "200:\tlearn: 0.6597354\ttotal: 2.64s\tremaining: 10.5s\n",
      "201:\tlearn: 0.6595213\ttotal: 2.65s\tremaining: 10.5s\n",
      "202:\tlearn: 0.6594589\ttotal: 2.66s\tremaining: 10.4s\n",
      "203:\tlearn: 0.6593457\ttotal: 2.67s\tremaining: 10.4s\n",
      "204:\tlearn: 0.6592492\ttotal: 2.68s\tremaining: 10.4s\n",
      "205:\tlearn: 0.6591813\ttotal: 2.69s\tremaining: 10.4s\n",
      "206:\tlearn: 0.6590434\ttotal: 2.7s\tremaining: 10.4s\n",
      "207:\tlearn: 0.6589351\ttotal: 2.71s\tremaining: 10.3s\n",
      "208:\tlearn: 0.6587458\ttotal: 2.73s\tremaining: 10.3s\n",
      "209:\tlearn: 0.6586329\ttotal: 2.74s\tremaining: 10.3s\n",
      "210:\tlearn: 0.6585392\ttotal: 2.75s\tremaining: 10.3s\n",
      "211:\tlearn: 0.6584647\ttotal: 2.76s\tremaining: 10.3s\n",
      "212:\tlearn: 0.6582067\ttotal: 2.77s\tremaining: 10.2s\n",
      "213:\tlearn: 0.6580946\ttotal: 2.78s\tremaining: 10.2s\n",
      "214:\tlearn: 0.6580144\ttotal: 2.79s\tremaining: 10.2s\n",
      "215:\tlearn: 0.6577770\ttotal: 2.8s\tremaining: 10.2s\n",
      "216:\tlearn: 0.6575745\ttotal: 2.83s\tremaining: 10.2s\n",
      "217:\tlearn: 0.6574408\ttotal: 2.84s\tremaining: 10.2s\n",
      "218:\tlearn: 0.6573089\ttotal: 2.85s\tremaining: 10.2s\n",
      "219:\tlearn: 0.6571124\ttotal: 2.86s\tremaining: 10.1s\n",
      "220:\tlearn: 0.6568385\ttotal: 2.87s\tremaining: 10.1s\n",
      "221:\tlearn: 0.6566368\ttotal: 2.88s\tremaining: 10.1s\n",
      "222:\tlearn: 0.6564765\ttotal: 2.89s\tremaining: 10.1s\n",
      "223:\tlearn: 0.6562444\ttotal: 2.9s\tremaining: 10.1s\n",
      "224:\tlearn: 0.6560378\ttotal: 2.92s\tremaining: 10s\n",
      "225:\tlearn: 0.6558380\ttotal: 2.92s\tremaining: 10s\n",
      "226:\tlearn: 0.6556353\ttotal: 2.94s\tremaining: 10s\n",
      "227:\tlearn: 0.6554150\ttotal: 2.95s\tremaining: 9.98s\n",
      "228:\tlearn: 0.6550911\ttotal: 2.96s\tremaining: 9.96s\n",
      "229:\tlearn: 0.6547726\ttotal: 2.97s\tremaining: 9.94s\n",
      "230:\tlearn: 0.6546181\ttotal: 2.98s\tremaining: 9.92s\n",
      "231:\tlearn: 0.6544302\ttotal: 2.99s\tremaining: 9.89s\n",
      "232:\tlearn: 0.6542643\ttotal: 3s\tremaining: 9.87s\n",
      "233:\tlearn: 0.6539971\ttotal: 3.01s\tremaining: 9.85s\n",
      "234:\tlearn: 0.6537703\ttotal: 3.02s\tremaining: 9.83s\n",
      "235:\tlearn: 0.6535750\ttotal: 3.05s\tremaining: 9.87s\n",
      "236:\tlearn: 0.6534423\ttotal: 3.06s\tremaining: 9.86s\n",
      "237:\tlearn: 0.6532206\ttotal: 3.07s\tremaining: 9.84s\n",
      "238:\tlearn: 0.6530012\ttotal: 3.08s\tremaining: 9.82s\n",
      "239:\tlearn: 0.6528868\ttotal: 3.1s\tremaining: 9.81s\n",
      "240:\tlearn: 0.6526845\ttotal: 3.12s\tremaining: 9.81s\n",
      "241:\tlearn: 0.6524274\ttotal: 3.13s\tremaining: 9.79s\n",
      "242:\tlearn: 0.6521987\ttotal: 3.14s\tremaining: 9.78s\n",
      "243:\tlearn: 0.6519537\ttotal: 3.15s\tremaining: 9.76s\n",
      "244:\tlearn: 0.6517090\ttotal: 3.16s\tremaining: 9.74s\n",
      "245:\tlearn: 0.6515735\ttotal: 3.17s\tremaining: 9.72s\n",
      "246:\tlearn: 0.6513715\ttotal: 3.18s\tremaining: 9.7s\n",
      "247:\tlearn: 0.6510363\ttotal: 3.19s\tremaining: 9.68s\n",
      "248:\tlearn: 0.6509277\ttotal: 3.2s\tremaining: 9.66s\n",
      "249:\tlearn: 0.6506862\ttotal: 3.21s\tremaining: 9.64s\n",
      "250:\tlearn: 0.6504824\ttotal: 3.23s\tremaining: 9.63s\n",
      "251:\tlearn: 0.6503687\ttotal: 3.24s\tremaining: 9.61s\n",
      "252:\tlearn: 0.6501555\ttotal: 3.25s\tremaining: 9.6s\n",
      "253:\tlearn: 0.6499637\ttotal: 3.27s\tremaining: 9.6s\n",
      "254:\tlearn: 0.6498151\ttotal: 3.29s\tremaining: 9.6s\n",
      "255:\tlearn: 0.6495769\ttotal: 3.3s\tremaining: 9.58s\n",
      "256:\tlearn: 0.6493216\ttotal: 3.31s\tremaining: 9.56s\n",
      "257:\tlearn: 0.6491093\ttotal: 3.32s\tremaining: 9.55s\n",
      "258:\tlearn: 0.6489589\ttotal: 3.33s\tremaining: 9.53s\n",
      "259:\tlearn: 0.6487405\ttotal: 3.34s\tremaining: 9.51s\n",
      "260:\tlearn: 0.6484851\ttotal: 3.35s\tremaining: 9.49s\n",
      "261:\tlearn: 0.6483127\ttotal: 3.36s\tremaining: 9.47s\n",
      "262:\tlearn: 0.6481938\ttotal: 3.37s\tremaining: 9.45s\n",
      "263:\tlearn: 0.6479888\ttotal: 3.38s\tremaining: 9.43s\n",
      "264:\tlearn: 0.6477576\ttotal: 3.39s\tremaining: 9.41s\n",
      "265:\tlearn: 0.6475367\ttotal: 3.4s\tremaining: 9.4s\n",
      "266:\tlearn: 0.6471935\ttotal: 3.42s\tremaining: 9.38s\n",
      "267:\tlearn: 0.6470404\ttotal: 3.43s\tremaining: 9.36s\n",
      "268:\tlearn: 0.6467411\ttotal: 3.44s\tremaining: 9.34s\n",
      "269:\tlearn: 0.6464927\ttotal: 3.45s\tremaining: 9.32s\n",
      "270:\tlearn: 0.6462998\ttotal: 3.47s\tremaining: 9.32s\n",
      "271:\tlearn: 0.6460893\ttotal: 3.48s\tremaining: 9.32s\n",
      "272:\tlearn: 0.6458639\ttotal: 3.5s\tremaining: 9.31s\n",
      "273:\tlearn: 0.6456354\ttotal: 3.51s\tremaining: 9.3s\n",
      "274:\tlearn: 0.6454024\ttotal: 3.52s\tremaining: 9.28s\n",
      "275:\tlearn: 0.6451617\ttotal: 3.53s\tremaining: 9.27s\n",
      "276:\tlearn: 0.6448864\ttotal: 3.54s\tremaining: 9.25s\n",
      "277:\tlearn: 0.6446517\ttotal: 3.56s\tremaining: 9.24s\n",
      "278:\tlearn: 0.6443918\ttotal: 3.57s\tremaining: 9.23s\n",
      "279:\tlearn: 0.6441012\ttotal: 3.59s\tremaining: 9.24s\n",
      "280:\tlearn: 0.6439072\ttotal: 3.6s\tremaining: 9.22s\n",
      "281:\tlearn: 0.6437532\ttotal: 3.62s\tremaining: 9.21s\n",
      "282:\tlearn: 0.6434150\ttotal: 3.63s\tremaining: 9.21s\n",
      "283:\tlearn: 0.6431638\ttotal: 3.65s\tremaining: 9.21s\n",
      "284:\tlearn: 0.6429642\ttotal: 3.67s\tremaining: 9.21s\n",
      "285:\tlearn: 0.6428084\ttotal: 3.69s\tremaining: 9.22s\n",
      "286:\tlearn: 0.6425964\ttotal: 3.71s\tremaining: 9.21s\n",
      "287:\tlearn: 0.6424161\ttotal: 3.72s\tremaining: 9.21s\n",
      "288:\tlearn: 0.6422205\ttotal: 3.74s\tremaining: 9.19s\n",
      "289:\tlearn: 0.6419445\ttotal: 3.75s\tremaining: 9.18s\n",
      "290:\tlearn: 0.6416420\ttotal: 3.76s\tremaining: 9.17s\n",
      "291:\tlearn: 0.6414463\ttotal: 3.77s\tremaining: 9.15s\n",
      "292:\tlearn: 0.6412006\ttotal: 3.79s\tremaining: 9.14s\n",
      "293:\tlearn: 0.6410931\ttotal: 3.8s\tremaining: 9.13s\n",
      "294:\tlearn: 0.6409323\ttotal: 3.81s\tremaining: 9.11s\n",
      "295:\tlearn: 0.6407216\ttotal: 3.83s\tremaining: 9.1s\n",
      "296:\tlearn: 0.6404971\ttotal: 3.84s\tremaining: 9.08s\n",
      "297:\tlearn: 0.6401965\ttotal: 3.85s\tremaining: 9.06s\n",
      "298:\tlearn: 0.6400508\ttotal: 3.86s\tremaining: 9.04s\n",
      "299:\tlearn: 0.6397908\ttotal: 3.87s\tremaining: 9.03s\n",
      "300:\tlearn: 0.6396969\ttotal: 3.88s\tremaining: 9.02s\n",
      "301:\tlearn: 0.6395498\ttotal: 3.9s\tremaining: 9.01s\n",
      "302:\tlearn: 0.6393639\ttotal: 3.91s\tremaining: 9.01s\n",
      "303:\tlearn: 0.6391806\ttotal: 3.92s\tremaining: 8.99s\n",
      "304:\tlearn: 0.6389846\ttotal: 3.94s\tremaining: 8.97s\n",
      "305:\tlearn: 0.6386567\ttotal: 3.95s\tremaining: 8.95s\n",
      "306:\tlearn: 0.6385818\ttotal: 3.96s\tremaining: 8.93s\n",
      "307:\tlearn: 0.6383329\ttotal: 3.97s\tremaining: 8.91s\n",
      "308:\tlearn: 0.6381252\ttotal: 3.98s\tremaining: 8.89s\n",
      "309:\tlearn: 0.6379071\ttotal: 3.99s\tremaining: 8.88s\n",
      "310:\tlearn: 0.6376443\ttotal: 4s\tremaining: 8.86s\n",
      "311:\tlearn: 0.6374940\ttotal: 4.01s\tremaining: 8.85s\n",
      "312:\tlearn: 0.6372818\ttotal: 4.03s\tremaining: 8.83s\n",
      "313:\tlearn: 0.6370699\ttotal: 4.04s\tremaining: 8.82s\n",
      "314:\tlearn: 0.6368447\ttotal: 4.05s\tremaining: 8.81s\n",
      "315:\tlearn: 0.6366625\ttotal: 4.07s\tremaining: 8.8s\n",
      "316:\tlearn: 0.6365216\ttotal: 4.09s\tremaining: 8.81s\n",
      "317:\tlearn: 0.6362537\ttotal: 4.15s\tremaining: 8.9s\n",
      "318:\tlearn: 0.6362001\ttotal: 4.19s\tremaining: 8.95s\n",
      "319:\tlearn: 0.6359095\ttotal: 4.23s\tremaining: 8.98s\n",
      "320:\tlearn: 0.6357894\ttotal: 4.24s\tremaining: 8.96s\n",
      "321:\tlearn: 0.6357100\ttotal: 4.25s\tremaining: 8.96s\n",
      "322:\tlearn: 0.6355311\ttotal: 4.26s\tremaining: 8.94s\n",
      "323:\tlearn: 0.6353564\ttotal: 4.28s\tremaining: 8.92s\n"
     ]
    },
    {
     "name": "stdout",
     "output_type": "stream",
     "text": [
      "324:\tlearn: 0.6352588\ttotal: 4.29s\tremaining: 8.9s\n",
      "325:\tlearn: 0.6351100\ttotal: 4.3s\tremaining: 8.9s\n",
      "326:\tlearn: 0.6349066\ttotal: 4.32s\tremaining: 8.89s\n",
      "327:\tlearn: 0.6346536\ttotal: 4.33s\tremaining: 8.88s\n",
      "328:\tlearn: 0.6344779\ttotal: 4.35s\tremaining: 8.87s\n",
      "329:\tlearn: 0.6343835\ttotal: 4.36s\tremaining: 8.86s\n",
      "330:\tlearn: 0.6342047\ttotal: 4.37s\tremaining: 8.84s\n",
      "331:\tlearn: 0.6339982\ttotal: 4.39s\tremaining: 8.83s\n",
      "332:\tlearn: 0.6336538\ttotal: 4.4s\tremaining: 8.81s\n",
      "333:\tlearn: 0.6333798\ttotal: 4.41s\tremaining: 8.79s\n",
      "334:\tlearn: 0.6332326\ttotal: 4.42s\tremaining: 8.77s\n",
      "335:\tlearn: 0.6330159\ttotal: 4.43s\tremaining: 8.75s\n",
      "336:\tlearn: 0.6327788\ttotal: 4.44s\tremaining: 8.74s\n",
      "337:\tlearn: 0.6326043\ttotal: 4.45s\tremaining: 8.72s\n",
      "338:\tlearn: 0.6323760\ttotal: 4.46s\tremaining: 8.7s\n",
      "339:\tlearn: 0.6322960\ttotal: 4.47s\tremaining: 8.68s\n",
      "340:\tlearn: 0.6321675\ttotal: 4.48s\tremaining: 8.66s\n",
      "341:\tlearn: 0.6319306\ttotal: 4.5s\tremaining: 8.65s\n",
      "342:\tlearn: 0.6317100\ttotal: 4.51s\tremaining: 8.64s\n",
      "343:\tlearn: 0.6314880\ttotal: 4.53s\tremaining: 8.64s\n",
      "344:\tlearn: 0.6313798\ttotal: 4.54s\tremaining: 8.62s\n",
      "345:\tlearn: 0.6311314\ttotal: 4.55s\tremaining: 8.6s\n",
      "346:\tlearn: 0.6309418\ttotal: 4.56s\tremaining: 8.58s\n",
      "347:\tlearn: 0.6307376\ttotal: 4.57s\tremaining: 8.57s\n",
      "348:\tlearn: 0.6305956\ttotal: 4.58s\tremaining: 8.55s\n",
      "349:\tlearn: 0.6305218\ttotal: 4.59s\tremaining: 8.53s\n",
      "350:\tlearn: 0.6303114\ttotal: 4.6s\tremaining: 8.51s\n",
      "351:\tlearn: 0.6299115\ttotal: 4.62s\tremaining: 8.5s\n",
      "352:\tlearn: 0.6297631\ttotal: 4.63s\tremaining: 8.48s\n",
      "353:\tlearn: 0.6296478\ttotal: 4.64s\tremaining: 8.46s\n",
      "354:\tlearn: 0.6294607\ttotal: 4.65s\tremaining: 8.44s\n",
      "355:\tlearn: 0.6292597\ttotal: 4.66s\tremaining: 8.43s\n",
      "356:\tlearn: 0.6290953\ttotal: 4.67s\tremaining: 8.41s\n",
      "357:\tlearn: 0.6289072\ttotal: 4.68s\tremaining: 8.4s\n",
      "358:\tlearn: 0.6287344\ttotal: 4.69s\tremaining: 8.38s\n",
      "359:\tlearn: 0.6285835\ttotal: 4.71s\tremaining: 8.37s\n",
      "360:\tlearn: 0.6283925\ttotal: 4.72s\tremaining: 8.36s\n",
      "361:\tlearn: 0.6283235\ttotal: 4.74s\tremaining: 8.36s\n",
      "362:\tlearn: 0.6281468\ttotal: 4.75s\tremaining: 8.34s\n",
      "363:\tlearn: 0.6279005\ttotal: 4.76s\tremaining: 8.32s\n",
      "364:\tlearn: 0.6277440\ttotal: 4.77s\tremaining: 8.31s\n",
      "365:\tlearn: 0.6276434\ttotal: 4.79s\tremaining: 8.29s\n",
      "366:\tlearn: 0.6274512\ttotal: 4.79s\tremaining: 8.27s\n",
      "367:\tlearn: 0.6271893\ttotal: 4.81s\tremaining: 8.26s\n",
      "368:\tlearn: 0.6268255\ttotal: 4.82s\tremaining: 8.24s\n",
      "369:\tlearn: 0.6266770\ttotal: 4.83s\tremaining: 8.22s\n",
      "370:\tlearn: 0.6265072\ttotal: 4.84s\tremaining: 8.2s\n",
      "371:\tlearn: 0.6262762\ttotal: 4.85s\tremaining: 8.19s\n",
      "372:\tlearn: 0.6261922\ttotal: 4.86s\tremaining: 8.17s\n",
      "373:\tlearn: 0.6259661\ttotal: 4.87s\tremaining: 8.15s\n",
      "374:\tlearn: 0.6258257\ttotal: 4.88s\tremaining: 8.13s\n",
      "375:\tlearn: 0.6255636\ttotal: 4.89s\tremaining: 8.12s\n",
      "376:\tlearn: 0.6255217\ttotal: 4.9s\tremaining: 8.1s\n",
      "377:\tlearn: 0.6253805\ttotal: 4.92s\tremaining: 8.1s\n",
      "378:\tlearn: 0.6251911\ttotal: 4.94s\tremaining: 8.09s\n",
      "379:\tlearn: 0.6248862\ttotal: 4.95s\tremaining: 8.07s\n",
      "380:\tlearn: 0.6246749\ttotal: 4.96s\tremaining: 8.06s\n",
      "381:\tlearn: 0.6246189\ttotal: 4.97s\tremaining: 8.04s\n",
      "382:\tlearn: 0.6244181\ttotal: 4.98s\tremaining: 8.02s\n",
      "383:\tlearn: 0.6242235\ttotal: 4.99s\tremaining: 8.01s\n",
      "384:\tlearn: 0.6240123\ttotal: 5s\tremaining: 7.99s\n",
      "385:\tlearn: 0.6237457\ttotal: 5.01s\tremaining: 7.97s\n",
      "386:\tlearn: 0.6235454\ttotal: 5.02s\tremaining: 7.96s\n",
      "387:\tlearn: 0.6233197\ttotal: 5.03s\tremaining: 7.94s\n",
      "388:\tlearn: 0.6232513\ttotal: 5.04s\tremaining: 7.92s\n",
      "389:\tlearn: 0.6230364\ttotal: 5.05s\tremaining: 7.91s\n",
      "390:\tlearn: 0.6229189\ttotal: 5.06s\tremaining: 7.89s\n",
      "391:\tlearn: 0.6226686\ttotal: 5.08s\tremaining: 7.87s\n",
      "392:\tlearn: 0.6225350\ttotal: 5.09s\tremaining: 7.86s\n",
      "393:\tlearn: 0.6224585\ttotal: 5.1s\tremaining: 7.84s\n",
      "394:\tlearn: 0.6222505\ttotal: 5.11s\tremaining: 7.83s\n",
      "395:\tlearn: 0.6220010\ttotal: 5.12s\tremaining: 7.81s\n",
      "396:\tlearn: 0.6218138\ttotal: 5.14s\tremaining: 7.81s\n",
      "397:\tlearn: 0.6215829\ttotal: 5.16s\tremaining: 7.8s\n",
      "398:\tlearn: 0.6214474\ttotal: 5.17s\tremaining: 7.78s\n",
      "399:\tlearn: 0.6212212\ttotal: 5.18s\tremaining: 7.76s\n",
      "400:\tlearn: 0.6211101\ttotal: 5.19s\tremaining: 7.75s\n",
      "401:\tlearn: 0.6209281\ttotal: 5.2s\tremaining: 7.74s\n",
      "402:\tlearn: 0.6206945\ttotal: 5.21s\tremaining: 7.72s\n",
      "403:\tlearn: 0.6206175\ttotal: 5.22s\tremaining: 7.71s\n",
      "404:\tlearn: 0.6204163\ttotal: 5.24s\tremaining: 7.69s\n",
      "405:\tlearn: 0.6202727\ttotal: 5.25s\tremaining: 7.67s\n",
      "406:\tlearn: 0.6200265\ttotal: 5.25s\tremaining: 7.66s\n",
      "407:\tlearn: 0.6198554\ttotal: 5.26s\tremaining: 7.64s\n",
      "408:\tlearn: 0.6196714\ttotal: 5.28s\tremaining: 7.62s\n",
      "409:\tlearn: 0.6194707\ttotal: 5.29s\tremaining: 7.61s\n",
      "410:\tlearn: 0.6192117\ttotal: 5.3s\tremaining: 7.59s\n",
      "411:\tlearn: 0.6191561\ttotal: 5.31s\tremaining: 7.58s\n",
      "412:\tlearn: 0.6189970\ttotal: 5.32s\tremaining: 7.57s\n",
      "413:\tlearn: 0.6188296\ttotal: 5.34s\tremaining: 7.56s\n",
      "414:\tlearn: 0.6187006\ttotal: 5.35s\tremaining: 7.54s\n",
      "415:\tlearn: 0.6185646\ttotal: 5.37s\tremaining: 7.54s\n",
      "416:\tlearn: 0.6183260\ttotal: 5.38s\tremaining: 7.52s\n",
      "417:\tlearn: 0.6181394\ttotal: 5.39s\tremaining: 7.5s\n",
      "418:\tlearn: 0.6179892\ttotal: 5.4s\tremaining: 7.49s\n",
      "419:\tlearn: 0.6178006\ttotal: 5.41s\tremaining: 7.47s\n",
      "420:\tlearn: 0.6175642\ttotal: 5.42s\tremaining: 7.46s\n",
      "421:\tlearn: 0.6173394\ttotal: 5.43s\tremaining: 7.44s\n",
      "422:\tlearn: 0.6172380\ttotal: 5.44s\tremaining: 7.42s\n",
      "423:\tlearn: 0.6170525\ttotal: 5.45s\tremaining: 7.41s\n",
      "424:\tlearn: 0.6168688\ttotal: 5.46s\tremaining: 7.39s\n",
      "425:\tlearn: 0.6167008\ttotal: 5.47s\tremaining: 7.38s\n",
      "426:\tlearn: 0.6166320\ttotal: 5.49s\tremaining: 7.36s\n",
      "427:\tlearn: 0.6165018\ttotal: 5.5s\tremaining: 7.34s\n",
      "428:\tlearn: 0.6162828\ttotal: 5.51s\tremaining: 7.33s\n",
      "429:\tlearn: 0.6161598\ttotal: 5.52s\tremaining: 7.31s\n",
      "430:\tlearn: 0.6160711\ttotal: 5.53s\tremaining: 7.31s\n",
      "431:\tlearn: 0.6158221\ttotal: 5.55s\tremaining: 7.29s\n",
      "432:\tlearn: 0.6155807\ttotal: 5.56s\tremaining: 7.29s\n",
      "433:\tlearn: 0.6155314\ttotal: 5.58s\tremaining: 7.27s\n",
      "434:\tlearn: 0.6154477\ttotal: 5.58s\tremaining: 7.25s\n",
      "435:\tlearn: 0.6152167\ttotal: 5.6s\tremaining: 7.24s\n",
      "436:\tlearn: 0.6150245\ttotal: 5.61s\tremaining: 7.22s\n",
      "437:\tlearn: 0.6148244\ttotal: 5.62s\tremaining: 7.21s\n",
      "438:\tlearn: 0.6146274\ttotal: 5.63s\tremaining: 7.19s\n",
      "439:\tlearn: 0.6144533\ttotal: 5.64s\tremaining: 7.18s\n",
      "440:\tlearn: 0.6142749\ttotal: 5.65s\tremaining: 7.16s\n",
      "441:\tlearn: 0.6141855\ttotal: 5.66s\tremaining: 7.14s\n",
      "442:\tlearn: 0.6139906\ttotal: 5.67s\tremaining: 7.13s\n",
      "443:\tlearn: 0.6137968\ttotal: 5.68s\tremaining: 7.12s\n",
      "444:\tlearn: 0.6136967\ttotal: 5.69s\tremaining: 7.1s\n",
      "445:\tlearn: 0.6135472\ttotal: 5.71s\tremaining: 7.09s\n",
      "446:\tlearn: 0.6133471\ttotal: 5.72s\tremaining: 7.07s\n",
      "447:\tlearn: 0.6132418\ttotal: 5.73s\tremaining: 7.06s\n",
      "448:\tlearn: 0.6131798\ttotal: 5.75s\tremaining: 7.05s\n",
      "449:\tlearn: 0.6129791\ttotal: 5.76s\tremaining: 7.04s\n",
      "450:\tlearn: 0.6128467\ttotal: 5.78s\tremaining: 7.03s\n",
      "451:\tlearn: 0.6126016\ttotal: 5.79s\tremaining: 7.02s\n",
      "452:\tlearn: 0.6124144\ttotal: 5.8s\tremaining: 7s\n",
      "453:\tlearn: 0.6123177\ttotal: 5.81s\tremaining: 6.99s\n",
      "454:\tlearn: 0.6122635\ttotal: 5.82s\tremaining: 6.97s\n",
      "455:\tlearn: 0.6120625\ttotal: 5.83s\tremaining: 6.96s\n",
      "456:\tlearn: 0.6119946\ttotal: 5.84s\tremaining: 6.94s\n",
      "457:\tlearn: 0.6118886\ttotal: 5.85s\tremaining: 6.92s\n",
      "458:\tlearn: 0.6116880\ttotal: 5.86s\tremaining: 6.91s\n",
      "459:\tlearn: 0.6115424\ttotal: 5.87s\tremaining: 6.89s\n",
      "460:\tlearn: 0.6113031\ttotal: 5.88s\tremaining: 6.88s\n",
      "461:\tlearn: 0.6112046\ttotal: 5.89s\tremaining: 6.86s\n",
      "462:\tlearn: 0.6110889\ttotal: 5.9s\tremaining: 6.85s\n",
      "463:\tlearn: 0.6109353\ttotal: 5.92s\tremaining: 6.83s\n",
      "464:\tlearn: 0.6107428\ttotal: 5.93s\tremaining: 6.82s\n",
      "465:\tlearn: 0.6104602\ttotal: 5.94s\tremaining: 6.8s\n",
      "466:\tlearn: 0.6102844\ttotal: 5.95s\tremaining: 6.79s\n",
      "467:\tlearn: 0.6101939\ttotal: 5.97s\tremaining: 6.78s\n",
      "468:\tlearn: 0.6100422\ttotal: 5.98s\tremaining: 6.77s\n",
      "469:\tlearn: 0.6099146\ttotal: 5.99s\tremaining: 6.76s\n",
      "470:\tlearn: 0.6096911\ttotal: 6s\tremaining: 6.74s\n",
      "471:\tlearn: 0.6095159\ttotal: 6.01s\tremaining: 6.73s\n",
      "472:\tlearn: 0.6093971\ttotal: 6.03s\tremaining: 6.71s\n",
      "473:\tlearn: 0.6092039\ttotal: 6.04s\tremaining: 6.7s\n",
      "474:\tlearn: 0.6090893\ttotal: 6.05s\tremaining: 6.69s\n",
      "475:\tlearn: 0.6090164\ttotal: 6.06s\tremaining: 6.67s\n",
      "476:\tlearn: 0.6087953\ttotal: 6.07s\tremaining: 6.66s\n",
      "477:\tlearn: 0.6086213\ttotal: 6.08s\tremaining: 6.64s\n",
      "478:\tlearn: 0.6084480\ttotal: 6.09s\tremaining: 6.63s\n",
      "479:\tlearn: 0.6082662\ttotal: 6.1s\tremaining: 6.61s\n",
      "480:\tlearn: 0.6081246\ttotal: 6.11s\tremaining: 6.6s\n",
      "481:\tlearn: 0.6079613\ttotal: 6.13s\tremaining: 6.58s\n",
      "482:\tlearn: 0.6076977\ttotal: 6.14s\tremaining: 6.57s\n",
      "483:\tlearn: 0.6075197\ttotal: 6.15s\tremaining: 6.55s\n"
     ]
    },
    {
     "name": "stdout",
     "output_type": "stream",
     "text": [
      "484:\tlearn: 0.6073419\ttotal: 6.16s\tremaining: 6.54s\n",
      "485:\tlearn: 0.6070832\ttotal: 6.18s\tremaining: 6.54s\n",
      "486:\tlearn: 0.6068977\ttotal: 6.2s\tremaining: 6.53s\n",
      "487:\tlearn: 0.6068040\ttotal: 6.21s\tremaining: 6.51s\n",
      "488:\tlearn: 0.6066197\ttotal: 6.22s\tremaining: 6.5s\n",
      "489:\tlearn: 0.6064926\ttotal: 6.23s\tremaining: 6.48s\n",
      "490:\tlearn: 0.6062916\ttotal: 6.24s\tremaining: 6.47s\n",
      "491:\tlearn: 0.6060655\ttotal: 6.25s\tremaining: 6.45s\n",
      "492:\tlearn: 0.6058242\ttotal: 6.26s\tremaining: 6.44s\n",
      "493:\tlearn: 0.6056801\ttotal: 6.27s\tremaining: 6.42s\n",
      "494:\tlearn: 0.6055243\ttotal: 6.29s\tremaining: 6.41s\n",
      "495:\tlearn: 0.6053461\ttotal: 6.3s\tremaining: 6.4s\n",
      "496:\tlearn: 0.6051843\ttotal: 6.31s\tremaining: 6.38s\n",
      "497:\tlearn: 0.6049739\ttotal: 6.32s\tremaining: 6.37s\n",
      "498:\tlearn: 0.6047760\ttotal: 6.34s\tremaining: 6.36s\n",
      "499:\tlearn: 0.6046021\ttotal: 6.36s\tremaining: 6.36s\n",
      "500:\tlearn: 0.6043886\ttotal: 6.37s\tremaining: 6.34s\n",
      "501:\tlearn: 0.6042410\ttotal: 6.39s\tremaining: 6.34s\n",
      "502:\tlearn: 0.6040147\ttotal: 6.4s\tremaining: 6.33s\n",
      "503:\tlearn: 0.6038751\ttotal: 6.41s\tremaining: 6.31s\n",
      "504:\tlearn: 0.6038219\ttotal: 6.42s\tremaining: 6.3s\n",
      "505:\tlearn: 0.6036290\ttotal: 6.43s\tremaining: 6.28s\n",
      "506:\tlearn: 0.6034159\ttotal: 6.45s\tremaining: 6.27s\n",
      "507:\tlearn: 0.6031973\ttotal: 6.46s\tremaining: 6.25s\n",
      "508:\tlearn: 0.6029943\ttotal: 6.47s\tremaining: 6.24s\n",
      "509:\tlearn: 0.6027850\ttotal: 6.48s\tremaining: 6.22s\n",
      "510:\tlearn: 0.6026629\ttotal: 6.49s\tremaining: 6.21s\n",
      "511:\tlearn: 0.6024846\ttotal: 6.5s\tremaining: 6.2s\n",
      "512:\tlearn: 0.6023158\ttotal: 6.51s\tremaining: 6.18s\n",
      "513:\tlearn: 0.6021678\ttotal: 6.52s\tremaining: 6.17s\n",
      "514:\tlearn: 0.6020630\ttotal: 6.53s\tremaining: 6.15s\n",
      "515:\tlearn: 0.6019514\ttotal: 6.54s\tremaining: 6.14s\n",
      "516:\tlearn: 0.6018893\ttotal: 6.55s\tremaining: 6.12s\n",
      "517:\tlearn: 0.6016558\ttotal: 6.56s\tremaining: 6.11s\n",
      "518:\tlearn: 0.6014153\ttotal: 6.58s\tremaining: 6.1s\n",
      "519:\tlearn: 0.6012575\ttotal: 6.59s\tremaining: 6.09s\n",
      "520:\tlearn: 0.6010784\ttotal: 6.61s\tremaining: 6.08s\n",
      "521:\tlearn: 0.6009277\ttotal: 6.62s\tremaining: 6.06s\n",
      "522:\tlearn: 0.6007377\ttotal: 6.63s\tremaining: 6.05s\n",
      "523:\tlearn: 0.6006223\ttotal: 6.64s\tremaining: 6.03s\n",
      "524:\tlearn: 0.6004859\ttotal: 6.65s\tremaining: 6.02s\n",
      "525:\tlearn: 0.6002990\ttotal: 6.66s\tremaining: 6s\n",
      "526:\tlearn: 0.6001222\ttotal: 6.67s\tremaining: 5.99s\n",
      "527:\tlearn: 0.5999718\ttotal: 6.68s\tremaining: 5.97s\n",
      "528:\tlearn: 0.5997327\ttotal: 6.7s\tremaining: 5.96s\n",
      "529:\tlearn: 0.5996780\ttotal: 6.71s\tremaining: 5.95s\n",
      "530:\tlearn: 0.5995995\ttotal: 6.72s\tremaining: 5.93s\n",
      "531:\tlearn: 0.5994007\ttotal: 6.73s\tremaining: 5.92s\n",
      "532:\tlearn: 0.5993266\ttotal: 6.74s\tremaining: 5.91s\n",
      "533:\tlearn: 0.5991175\ttotal: 6.75s\tremaining: 5.89s\n",
      "534:\tlearn: 0.5988934\ttotal: 6.76s\tremaining: 5.88s\n",
      "535:\tlearn: 0.5987716\ttotal: 6.77s\tremaining: 5.86s\n",
      "536:\tlearn: 0.5986466\ttotal: 6.79s\tremaining: 5.86s\n",
      "537:\tlearn: 0.5984284\ttotal: 6.81s\tremaining: 5.85s\n",
      "538:\tlearn: 0.5983144\ttotal: 6.82s\tremaining: 5.83s\n",
      "539:\tlearn: 0.5981745\ttotal: 6.83s\tremaining: 5.82s\n",
      "540:\tlearn: 0.5980440\ttotal: 6.84s\tremaining: 5.8s\n",
      "541:\tlearn: 0.5978779\ttotal: 6.85s\tremaining: 5.79s\n",
      "542:\tlearn: 0.5978257\ttotal: 6.87s\tremaining: 5.78s\n",
      "543:\tlearn: 0.5976906\ttotal: 6.88s\tremaining: 5.76s\n",
      "544:\tlearn: 0.5974814\ttotal: 6.89s\tremaining: 5.75s\n",
      "545:\tlearn: 0.5973196\ttotal: 6.9s\tremaining: 5.74s\n",
      "546:\tlearn: 0.5972103\ttotal: 6.91s\tremaining: 5.72s\n",
      "547:\tlearn: 0.5971534\ttotal: 6.92s\tremaining: 5.71s\n",
      "548:\tlearn: 0.5970244\ttotal: 6.93s\tremaining: 5.69s\n",
      "549:\tlearn: 0.5968939\ttotal: 6.94s\tremaining: 5.68s\n",
      "550:\tlearn: 0.5967789\ttotal: 6.95s\tremaining: 5.66s\n",
      "551:\tlearn: 0.5966467\ttotal: 6.96s\tremaining: 5.65s\n",
      "552:\tlearn: 0.5965625\ttotal: 6.97s\tremaining: 5.64s\n",
      "553:\tlearn: 0.5964426\ttotal: 6.98s\tremaining: 5.62s\n",
      "554:\tlearn: 0.5963253\ttotal: 7s\tremaining: 5.61s\n",
      "555:\tlearn: 0.5962118\ttotal: 7.02s\tremaining: 5.6s\n",
      "556:\tlearn: 0.5960930\ttotal: 7.03s\tremaining: 5.59s\n",
      "557:\tlearn: 0.5959573\ttotal: 7.04s\tremaining: 5.58s\n",
      "558:\tlearn: 0.5957993\ttotal: 7.05s\tremaining: 5.56s\n",
      "559:\tlearn: 0.5955886\ttotal: 7.06s\tremaining: 5.55s\n",
      "560:\tlearn: 0.5954497\ttotal: 7.07s\tremaining: 5.53s\n",
      "561:\tlearn: 0.5952608\ttotal: 7.08s\tremaining: 5.52s\n",
      "562:\tlearn: 0.5949486\ttotal: 7.09s\tremaining: 5.51s\n",
      "563:\tlearn: 0.5947474\ttotal: 7.1s\tremaining: 5.49s\n",
      "564:\tlearn: 0.5945943\ttotal: 7.12s\tremaining: 5.48s\n",
      "565:\tlearn: 0.5945353\ttotal: 7.13s\tremaining: 5.46s\n",
      "566:\tlearn: 0.5943360\ttotal: 7.14s\tremaining: 5.45s\n",
      "567:\tlearn: 0.5941850\ttotal: 7.15s\tremaining: 5.44s\n",
      "568:\tlearn: 0.5939726\ttotal: 7.16s\tremaining: 5.42s\n",
      "569:\tlearn: 0.5937891\ttotal: 7.17s\tremaining: 5.41s\n",
      "570:\tlearn: 0.5935899\ttotal: 7.18s\tremaining: 5.39s\n",
      "571:\tlearn: 0.5935060\ttotal: 7.19s\tremaining: 5.38s\n",
      "572:\tlearn: 0.5933522\ttotal: 7.21s\tremaining: 5.37s\n",
      "573:\tlearn: 0.5931897\ttotal: 7.22s\tremaining: 5.36s\n",
      "574:\tlearn: 0.5930286\ttotal: 7.24s\tremaining: 5.35s\n",
      "575:\tlearn: 0.5929029\ttotal: 7.25s\tremaining: 5.34s\n",
      "576:\tlearn: 0.5927584\ttotal: 7.26s\tremaining: 5.33s\n",
      "577:\tlearn: 0.5926298\ttotal: 7.28s\tremaining: 5.32s\n",
      "578:\tlearn: 0.5924851\ttotal: 7.3s\tremaining: 5.3s\n",
      "579:\tlearn: 0.5923204\ttotal: 7.31s\tremaining: 5.29s\n",
      "580:\tlearn: 0.5922530\ttotal: 7.32s\tremaining: 5.28s\n",
      "581:\tlearn: 0.5920334\ttotal: 7.33s\tremaining: 5.26s\n",
      "582:\tlearn: 0.5918317\ttotal: 7.34s\tremaining: 5.25s\n",
      "583:\tlearn: 0.5915168\ttotal: 7.35s\tremaining: 5.24s\n",
      "584:\tlearn: 0.5913923\ttotal: 7.36s\tremaining: 5.22s\n",
      "585:\tlearn: 0.5911194\ttotal: 7.37s\tremaining: 5.21s\n",
      "586:\tlearn: 0.5909028\ttotal: 7.38s\tremaining: 5.19s\n",
      "587:\tlearn: 0.5907040\ttotal: 7.39s\tremaining: 5.18s\n",
      "588:\tlearn: 0.5905589\ttotal: 7.4s\tremaining: 5.16s\n",
      "589:\tlearn: 0.5903982\ttotal: 7.42s\tremaining: 5.15s\n",
      "590:\tlearn: 0.5902902\ttotal: 7.43s\tremaining: 5.14s\n",
      "591:\tlearn: 0.5902022\ttotal: 7.45s\tremaining: 5.13s\n",
      "592:\tlearn: 0.5900074\ttotal: 7.46s\tremaining: 5.12s\n",
      "593:\tlearn: 0.5899223\ttotal: 7.47s\tremaining: 5.11s\n",
      "594:\tlearn: 0.5897519\ttotal: 7.48s\tremaining: 5.09s\n",
      "595:\tlearn: 0.5896181\ttotal: 7.49s\tremaining: 5.08s\n",
      "596:\tlearn: 0.5894187\ttotal: 7.5s\tremaining: 5.07s\n",
      "597:\tlearn: 0.5892444\ttotal: 7.51s\tremaining: 5.05s\n",
      "598:\tlearn: 0.5891419\ttotal: 7.53s\tremaining: 5.04s\n",
      "599:\tlearn: 0.5889681\ttotal: 7.54s\tremaining: 5.02s\n",
      "600:\tlearn: 0.5888405\ttotal: 7.55s\tremaining: 5.01s\n",
      "601:\tlearn: 0.5886773\ttotal: 7.56s\tremaining: 5s\n",
      "602:\tlearn: 0.5885308\ttotal: 7.57s\tremaining: 4.98s\n",
      "603:\tlearn: 0.5883688\ttotal: 7.58s\tremaining: 4.97s\n",
      "604:\tlearn: 0.5882117\ttotal: 7.59s\tremaining: 4.96s\n",
      "605:\tlearn: 0.5881383\ttotal: 7.6s\tremaining: 4.94s\n",
      "606:\tlearn: 0.5880174\ttotal: 7.61s\tremaining: 4.93s\n",
      "607:\tlearn: 0.5878696\ttotal: 7.63s\tremaining: 4.92s\n",
      "608:\tlearn: 0.5877014\ttotal: 7.64s\tremaining: 4.91s\n",
      "609:\tlearn: 0.5876028\ttotal: 7.66s\tremaining: 4.89s\n",
      "610:\tlearn: 0.5875041\ttotal: 7.67s\tremaining: 4.88s\n",
      "611:\tlearn: 0.5874373\ttotal: 7.68s\tremaining: 4.87s\n",
      "612:\tlearn: 0.5872840\ttotal: 7.69s\tremaining: 4.85s\n",
      "613:\tlearn: 0.5870986\ttotal: 7.7s\tremaining: 4.84s\n",
      "614:\tlearn: 0.5869099\ttotal: 7.71s\tremaining: 4.83s\n",
      "615:\tlearn: 0.5867080\ttotal: 7.72s\tremaining: 4.81s\n",
      "616:\tlearn: 0.5865246\ttotal: 7.73s\tremaining: 4.8s\n",
      "617:\tlearn: 0.5863283\ttotal: 7.74s\tremaining: 4.79s\n",
      "618:\tlearn: 0.5861940\ttotal: 7.75s\tremaining: 4.77s\n",
      "619:\tlearn: 0.5860645\ttotal: 7.76s\tremaining: 4.76s\n",
      "620:\tlearn: 0.5858440\ttotal: 7.78s\tremaining: 4.75s\n",
      "621:\tlearn: 0.5856288\ttotal: 7.79s\tremaining: 4.73s\n",
      "622:\tlearn: 0.5854581\ttotal: 7.8s\tremaining: 4.72s\n",
      "623:\tlearn: 0.5853413\ttotal: 7.81s\tremaining: 4.71s\n",
      "624:\tlearn: 0.5852226\ttotal: 7.82s\tremaining: 4.69s\n",
      "625:\tlearn: 0.5851154\ttotal: 7.83s\tremaining: 4.68s\n",
      "626:\tlearn: 0.5850188\ttotal: 7.85s\tremaining: 4.67s\n",
      "627:\tlearn: 0.5847678\ttotal: 7.86s\tremaining: 4.66s\n",
      "628:\tlearn: 0.5847024\ttotal: 7.88s\tremaining: 4.65s\n",
      "629:\tlearn: 0.5846396\ttotal: 7.89s\tremaining: 4.63s\n",
      "630:\tlearn: 0.5845142\ttotal: 7.9s\tremaining: 4.62s\n",
      "631:\tlearn: 0.5843829\ttotal: 7.91s\tremaining: 4.61s\n",
      "632:\tlearn: 0.5841808\ttotal: 7.92s\tremaining: 4.59s\n",
      "633:\tlearn: 0.5840437\ttotal: 7.93s\tremaining: 4.58s\n",
      "634:\tlearn: 0.5838697\ttotal: 7.94s\tremaining: 4.57s\n",
      "635:\tlearn: 0.5837309\ttotal: 7.95s\tremaining: 4.55s\n",
      "636:\tlearn: 0.5835758\ttotal: 7.96s\tremaining: 4.54s\n",
      "637:\tlearn: 0.5834261\ttotal: 7.97s\tremaining: 4.52s\n",
      "638:\tlearn: 0.5833308\ttotal: 7.98s\tremaining: 4.51s\n",
      "639:\tlearn: 0.5832042\ttotal: 8s\tremaining: 4.5s\n",
      "640:\tlearn: 0.5830493\ttotal: 8.01s\tremaining: 4.48s\n",
      "641:\tlearn: 0.5827898\ttotal: 8.02s\tremaining: 4.47s\n",
      "642:\tlearn: 0.5827122\ttotal: 8.03s\tremaining: 4.46s\n"
     ]
    },
    {
     "name": "stdout",
     "output_type": "stream",
     "text": [
      "643:\tlearn: 0.5825321\ttotal: 8.05s\tremaining: 4.45s\n",
      "644:\tlearn: 0.5823747\ttotal: 8.06s\tremaining: 4.44s\n",
      "645:\tlearn: 0.5821378\ttotal: 8.08s\tremaining: 4.43s\n",
      "646:\tlearn: 0.5820241\ttotal: 8.09s\tremaining: 4.41s\n",
      "647:\tlearn: 0.5818984\ttotal: 8.1s\tremaining: 4.4s\n",
      "648:\tlearn: 0.5817316\ttotal: 8.11s\tremaining: 4.39s\n",
      "649:\tlearn: 0.5816573\ttotal: 8.12s\tremaining: 4.37s\n",
      "650:\tlearn: 0.5815097\ttotal: 8.13s\tremaining: 4.36s\n",
      "651:\tlearn: 0.5813499\ttotal: 8.14s\tremaining: 4.34s\n",
      "652:\tlearn: 0.5811569\ttotal: 8.15s\tremaining: 4.33s\n",
      "653:\tlearn: 0.5810489\ttotal: 8.16s\tremaining: 4.32s\n",
      "654:\tlearn: 0.5809151\ttotal: 8.17s\tremaining: 4.3s\n",
      "655:\tlearn: 0.5807500\ttotal: 8.19s\tremaining: 4.29s\n",
      "656:\tlearn: 0.5806220\ttotal: 8.2s\tremaining: 4.28s\n",
      "657:\tlearn: 0.5804445\ttotal: 8.21s\tremaining: 4.26s\n",
      "658:\tlearn: 0.5804071\ttotal: 8.22s\tremaining: 4.25s\n",
      "659:\tlearn: 0.5802427\ttotal: 8.23s\tremaining: 4.24s\n",
      "660:\tlearn: 0.5800249\ttotal: 8.24s\tremaining: 4.22s\n",
      "661:\tlearn: 0.5798534\ttotal: 8.25s\tremaining: 4.21s\n",
      "662:\tlearn: 0.5797424\ttotal: 8.27s\tremaining: 4.2s\n",
      "663:\tlearn: 0.5795807\ttotal: 8.28s\tremaining: 4.19s\n",
      "664:\tlearn: 0.5793914\ttotal: 8.29s\tremaining: 4.18s\n",
      "665:\tlearn: 0.5791951\ttotal: 8.3s\tremaining: 4.16s\n",
      "666:\tlearn: 0.5790675\ttotal: 8.31s\tremaining: 4.15s\n",
      "667:\tlearn: 0.5789477\ttotal: 8.33s\tremaining: 4.14s\n",
      "668:\tlearn: 0.5788252\ttotal: 8.34s\tremaining: 4.13s\n",
      "669:\tlearn: 0.5786628\ttotal: 8.35s\tremaining: 4.11s\n",
      "670:\tlearn: 0.5784844\ttotal: 8.36s\tremaining: 4.1s\n",
      "671:\tlearn: 0.5781871\ttotal: 8.37s\tremaining: 4.08s\n",
      "672:\tlearn: 0.5780615\ttotal: 8.38s\tremaining: 4.07s\n",
      "673:\tlearn: 0.5779926\ttotal: 8.39s\tremaining: 4.06s\n",
      "674:\tlearn: 0.5778045\ttotal: 8.4s\tremaining: 4.04s\n",
      "675:\tlearn: 0.5775938\ttotal: 8.41s\tremaining: 4.03s\n",
      "676:\tlearn: 0.5773615\ttotal: 8.42s\tremaining: 4.02s\n",
      "677:\tlearn: 0.5771670\ttotal: 8.44s\tremaining: 4.01s\n",
      "678:\tlearn: 0.5770318\ttotal: 8.45s\tremaining: 3.99s\n",
      "679:\tlearn: 0.5768868\ttotal: 8.46s\tremaining: 3.98s\n",
      "680:\tlearn: 0.5767867\ttotal: 8.48s\tremaining: 3.97s\n",
      "681:\tlearn: 0.5766126\ttotal: 8.49s\tremaining: 3.96s\n",
      "682:\tlearn: 0.5765403\ttotal: 8.5s\tremaining: 3.95s\n",
      "683:\tlearn: 0.5764617\ttotal: 8.51s\tremaining: 3.93s\n",
      "684:\tlearn: 0.5763364\ttotal: 8.52s\tremaining: 3.92s\n",
      "685:\tlearn: 0.5761832\ttotal: 8.53s\tremaining: 3.91s\n",
      "686:\tlearn: 0.5760564\ttotal: 8.54s\tremaining: 3.89s\n",
      "687:\tlearn: 0.5758880\ttotal: 8.56s\tremaining: 3.88s\n",
      "688:\tlearn: 0.5756888\ttotal: 8.57s\tremaining: 3.87s\n",
      "689:\tlearn: 0.5755616\ttotal: 8.58s\tremaining: 3.85s\n",
      "690:\tlearn: 0.5753745\ttotal: 8.59s\tremaining: 3.84s\n",
      "691:\tlearn: 0.5752451\ttotal: 8.6s\tremaining: 3.83s\n",
      "692:\tlearn: 0.5749982\ttotal: 8.61s\tremaining: 3.81s\n",
      "693:\tlearn: 0.5749053\ttotal: 8.62s\tremaining: 3.8s\n",
      "694:\tlearn: 0.5747639\ttotal: 8.63s\tremaining: 3.79s\n",
      "695:\tlearn: 0.5746549\ttotal: 8.64s\tremaining: 3.77s\n",
      "696:\tlearn: 0.5744901\ttotal: 8.65s\tremaining: 3.76s\n",
      "697:\tlearn: 0.5743498\ttotal: 8.67s\tremaining: 3.75s\n",
      "698:\tlearn: 0.5742109\ttotal: 8.68s\tremaining: 3.74s\n",
      "699:\tlearn: 0.5741263\ttotal: 8.7s\tremaining: 3.73s\n",
      "700:\tlearn: 0.5740027\ttotal: 8.71s\tremaining: 3.72s\n",
      "701:\tlearn: 0.5739026\ttotal: 8.72s\tremaining: 3.7s\n",
      "702:\tlearn: 0.5737774\ttotal: 8.73s\tremaining: 3.69s\n",
      "703:\tlearn: 0.5736806\ttotal: 8.74s\tremaining: 3.68s\n",
      "704:\tlearn: 0.5735999\ttotal: 8.76s\tremaining: 3.66s\n",
      "705:\tlearn: 0.5734281\ttotal: 8.77s\tremaining: 3.65s\n",
      "706:\tlearn: 0.5732587\ttotal: 8.78s\tremaining: 3.64s\n",
      "707:\tlearn: 0.5731312\ttotal: 8.79s\tremaining: 3.62s\n",
      "708:\tlearn: 0.5729446\ttotal: 8.8s\tremaining: 3.61s\n",
      "709:\tlearn: 0.5728027\ttotal: 8.81s\tremaining: 3.6s\n",
      "710:\tlearn: 0.5726244\ttotal: 8.82s\tremaining: 3.58s\n",
      "711:\tlearn: 0.5724416\ttotal: 8.83s\tremaining: 3.57s\n",
      "712:\tlearn: 0.5723628\ttotal: 8.84s\tremaining: 3.56s\n",
      "713:\tlearn: 0.5722311\ttotal: 8.85s\tremaining: 3.55s\n",
      "714:\tlearn: 0.5721640\ttotal: 8.87s\tremaining: 3.53s\n",
      "715:\tlearn: 0.5719958\ttotal: 8.88s\tremaining: 3.52s\n",
      "716:\tlearn: 0.5718648\ttotal: 8.89s\tremaining: 3.51s\n",
      "717:\tlearn: 0.5717636\ttotal: 8.91s\tremaining: 3.5s\n",
      "718:\tlearn: 0.5715983\ttotal: 8.92s\tremaining: 3.49s\n",
      "719:\tlearn: 0.5715067\ttotal: 8.93s\tremaining: 3.47s\n",
      "720:\tlearn: 0.5713423\ttotal: 8.94s\tremaining: 3.46s\n",
      "721:\tlearn: 0.5711471\ttotal: 8.95s\tremaining: 3.45s\n",
      "722:\tlearn: 0.5710720\ttotal: 8.96s\tremaining: 3.43s\n",
      "723:\tlearn: 0.5709768\ttotal: 8.97s\tremaining: 3.42s\n",
      "724:\tlearn: 0.5708415\ttotal: 8.99s\tremaining: 3.41s\n",
      "725:\tlearn: 0.5706581\ttotal: 9s\tremaining: 3.4s\n",
      "726:\tlearn: 0.5705553\ttotal: 9.01s\tremaining: 3.38s\n",
      "727:\tlearn: 0.5704197\ttotal: 9.02s\tremaining: 3.37s\n",
      "728:\tlearn: 0.5702788\ttotal: 9.03s\tremaining: 3.36s\n",
      "729:\tlearn: 0.5701123\ttotal: 9.04s\tremaining: 3.34s\n",
      "730:\tlearn: 0.5699790\ttotal: 9.05s\tremaining: 3.33s\n",
      "731:\tlearn: 0.5698103\ttotal: 9.06s\tremaining: 3.32s\n",
      "732:\tlearn: 0.5697609\ttotal: 9.07s\tremaining: 3.3s\n",
      "733:\tlearn: 0.5695973\ttotal: 9.09s\tremaining: 3.29s\n",
      "734:\tlearn: 0.5694200\ttotal: 9.11s\tremaining: 3.28s\n",
      "735:\tlearn: 0.5692719\ttotal: 9.12s\tremaining: 3.27s\n",
      "736:\tlearn: 0.5690720\ttotal: 9.13s\tremaining: 3.26s\n",
      "737:\tlearn: 0.5689640\ttotal: 9.14s\tremaining: 3.24s\n",
      "738:\tlearn: 0.5688947\ttotal: 9.15s\tremaining: 3.23s\n",
      "739:\tlearn: 0.5688190\ttotal: 9.16s\tremaining: 3.22s\n",
      "740:\tlearn: 0.5687091\ttotal: 9.17s\tremaining: 3.21s\n",
      "741:\tlearn: 0.5684595\ttotal: 9.18s\tremaining: 3.19s\n",
      "742:\tlearn: 0.5683827\ttotal: 9.19s\tremaining: 3.18s\n",
      "743:\tlearn: 0.5682325\ttotal: 9.2s\tremaining: 3.17s\n",
      "744:\tlearn: 0.5680706\ttotal: 9.21s\tremaining: 3.15s\n",
      "745:\tlearn: 0.5679945\ttotal: 9.22s\tremaining: 3.14s\n",
      "746:\tlearn: 0.5679020\ttotal: 9.23s\tremaining: 3.13s\n",
      "747:\tlearn: 0.5677799\ttotal: 9.25s\tremaining: 3.12s\n",
      "748:\tlearn: 0.5676435\ttotal: 9.26s\tremaining: 3.1s\n",
      "749:\tlearn: 0.5674553\ttotal: 9.27s\tremaining: 3.09s\n",
      "750:\tlearn: 0.5673072\ttotal: 9.28s\tremaining: 3.08s\n",
      "751:\tlearn: 0.5672575\ttotal: 9.3s\tremaining: 3.06s\n",
      "752:\tlearn: 0.5671863\ttotal: 9.31s\tremaining: 3.06s\n",
      "753:\tlearn: 0.5671247\ttotal: 9.33s\tremaining: 3.04s\n",
      "754:\tlearn: 0.5669666\ttotal: 9.34s\tremaining: 3.03s\n",
      "755:\tlearn: 0.5668842\ttotal: 9.35s\tremaining: 3.02s\n",
      "756:\tlearn: 0.5666703\ttotal: 9.36s\tremaining: 3s\n",
      "757:\tlearn: 0.5665180\ttotal: 9.37s\tremaining: 2.99s\n",
      "758:\tlearn: 0.5664049\ttotal: 9.38s\tremaining: 2.98s\n",
      "759:\tlearn: 0.5662308\ttotal: 9.39s\tremaining: 2.97s\n",
      "760:\tlearn: 0.5659708\ttotal: 9.4s\tremaining: 2.95s\n",
      "761:\tlearn: 0.5658808\ttotal: 9.41s\tremaining: 2.94s\n",
      "762:\tlearn: 0.5657682\ttotal: 9.43s\tremaining: 2.93s\n",
      "763:\tlearn: 0.5656015\ttotal: 9.44s\tremaining: 2.92s\n",
      "764:\tlearn: 0.5655214\ttotal: 9.45s\tremaining: 2.9s\n",
      "765:\tlearn: 0.5653797\ttotal: 9.46s\tremaining: 2.89s\n",
      "766:\tlearn: 0.5652265\ttotal: 9.47s\tremaining: 2.88s\n",
      "767:\tlearn: 0.5650570\ttotal: 9.48s\tremaining: 2.86s\n",
      "768:\tlearn: 0.5648858\ttotal: 9.49s\tremaining: 2.85s\n",
      "769:\tlearn: 0.5647620\ttotal: 9.51s\tremaining: 2.84s\n",
      "770:\tlearn: 0.5645796\ttotal: 9.53s\tremaining: 2.83s\n",
      "771:\tlearn: 0.5644903\ttotal: 9.54s\tremaining: 2.82s\n",
      "772:\tlearn: 0.5643504\ttotal: 9.55s\tremaining: 2.8s\n",
      "773:\tlearn: 0.5642099\ttotal: 9.56s\tremaining: 2.79s\n",
      "774:\tlearn: 0.5640800\ttotal: 9.57s\tremaining: 2.78s\n",
      "775:\tlearn: 0.5639548\ttotal: 9.58s\tremaining: 2.77s\n",
      "776:\tlearn: 0.5638346\ttotal: 9.59s\tremaining: 2.75s\n",
      "777:\tlearn: 0.5636781\ttotal: 9.6s\tremaining: 2.74s\n",
      "778:\tlearn: 0.5636487\ttotal: 9.61s\tremaining: 2.73s\n",
      "779:\tlearn: 0.5635057\ttotal: 9.62s\tremaining: 2.71s\n",
      "780:\tlearn: 0.5634372\ttotal: 9.63s\tremaining: 2.7s\n",
      "781:\tlearn: 0.5633772\ttotal: 9.64s\tremaining: 2.69s\n",
      "782:\tlearn: 0.5632719\ttotal: 9.66s\tremaining: 2.68s\n",
      "783:\tlearn: 0.5631463\ttotal: 9.67s\tremaining: 2.66s\n",
      "784:\tlearn: 0.5631012\ttotal: 9.68s\tremaining: 2.65s\n",
      "785:\tlearn: 0.5630319\ttotal: 9.69s\tremaining: 2.64s\n",
      "786:\tlearn: 0.5627884\ttotal: 9.7s\tremaining: 2.63s\n",
      "787:\tlearn: 0.5627221\ttotal: 9.71s\tremaining: 2.61s\n",
      "788:\tlearn: 0.5626116\ttotal: 9.73s\tremaining: 2.6s\n",
      "789:\tlearn: 0.5624546\ttotal: 9.75s\tremaining: 2.59s\n",
      "790:\tlearn: 0.5622828\ttotal: 9.76s\tremaining: 2.58s\n",
      "791:\tlearn: 0.5622034\ttotal: 9.77s\tremaining: 2.57s\n",
      "792:\tlearn: 0.5621196\ttotal: 9.78s\tremaining: 2.55s\n",
      "793:\tlearn: 0.5619880\ttotal: 9.79s\tremaining: 2.54s\n",
      "794:\tlearn: 0.5618639\ttotal: 9.8s\tremaining: 2.53s\n",
      "795:\tlearn: 0.5617825\ttotal: 9.82s\tremaining: 2.52s\n",
      "796:\tlearn: 0.5616516\ttotal: 9.83s\tremaining: 2.5s\n",
      "797:\tlearn: 0.5615922\ttotal: 9.84s\tremaining: 2.49s\n",
      "798:\tlearn: 0.5615299\ttotal: 9.85s\tremaining: 2.48s\n",
      "799:\tlearn: 0.5614259\ttotal: 9.86s\tremaining: 2.46s\n",
      "800:\tlearn: 0.5613493\ttotal: 9.87s\tremaining: 2.45s\n",
      "801:\tlearn: 0.5611920\ttotal: 9.89s\tremaining: 2.44s\n",
      "802:\tlearn: 0.5611188\ttotal: 9.9s\tremaining: 2.43s\n",
      "803:\tlearn: 0.5609925\ttotal: 9.91s\tremaining: 2.42s\n"
     ]
    },
    {
     "name": "stdout",
     "output_type": "stream",
     "text": [
      "804:\tlearn: 0.5609102\ttotal: 9.92s\tremaining: 2.4s\n",
      "805:\tlearn: 0.5608652\ttotal: 9.93s\tremaining: 2.39s\n",
      "806:\tlearn: 0.5607203\ttotal: 9.95s\tremaining: 2.38s\n",
      "807:\tlearn: 0.5605710\ttotal: 9.96s\tremaining: 2.37s\n",
      "808:\tlearn: 0.5604145\ttotal: 9.97s\tremaining: 2.35s\n",
      "809:\tlearn: 0.5602648\ttotal: 9.98s\tremaining: 2.34s\n",
      "810:\tlearn: 0.5601831\ttotal: 10s\tremaining: 2.33s\n",
      "811:\tlearn: 0.5600872\ttotal: 10s\tremaining: 2.32s\n",
      "812:\tlearn: 0.5599281\ttotal: 10s\tremaining: 2.3s\n",
      "813:\tlearn: 0.5596903\ttotal: 10s\tremaining: 2.29s\n",
      "814:\tlearn: 0.5595914\ttotal: 10s\tremaining: 2.28s\n",
      "815:\tlearn: 0.5594415\ttotal: 10.1s\tremaining: 2.27s\n",
      "816:\tlearn: 0.5593861\ttotal: 10.1s\tremaining: 2.25s\n",
      "817:\tlearn: 0.5592795\ttotal: 10.1s\tremaining: 2.24s\n",
      "818:\tlearn: 0.5590711\ttotal: 10.1s\tremaining: 2.23s\n",
      "819:\tlearn: 0.5588477\ttotal: 10.1s\tremaining: 2.21s\n",
      "820:\tlearn: 0.5587282\ttotal: 10.1s\tremaining: 2.2s\n",
      "821:\tlearn: 0.5585972\ttotal: 10.1s\tremaining: 2.19s\n",
      "822:\tlearn: 0.5584888\ttotal: 10.1s\tremaining: 2.18s\n",
      "823:\tlearn: 0.5583763\ttotal: 10.1s\tremaining: 2.17s\n",
      "824:\tlearn: 0.5582401\ttotal: 10.2s\tremaining: 2.15s\n",
      "825:\tlearn: 0.5581286\ttotal: 10.2s\tremaining: 2.14s\n",
      "826:\tlearn: 0.5580707\ttotal: 10.2s\tremaining: 2.13s\n",
      "827:\tlearn: 0.5578702\ttotal: 10.2s\tremaining: 2.12s\n",
      "828:\tlearn: 0.5578053\ttotal: 10.2s\tremaining: 2.1s\n",
      "829:\tlearn: 0.5577229\ttotal: 10.2s\tremaining: 2.09s\n",
      "830:\tlearn: 0.5575739\ttotal: 10.2s\tremaining: 2.08s\n",
      "831:\tlearn: 0.5574522\ttotal: 10.2s\tremaining: 2.07s\n",
      "832:\tlearn: 0.5573284\ttotal: 10.2s\tremaining: 2.05s\n",
      "833:\tlearn: 0.5572127\ttotal: 10.3s\tremaining: 2.04s\n",
      "834:\tlearn: 0.5570870\ttotal: 10.3s\tremaining: 2.03s\n",
      "835:\tlearn: 0.5569307\ttotal: 10.3s\tremaining: 2.02s\n",
      "836:\tlearn: 0.5567932\ttotal: 10.3s\tremaining: 2s\n",
      "837:\tlearn: 0.5567061\ttotal: 10.3s\tremaining: 1.99s\n",
      "838:\tlearn: 0.5565604\ttotal: 10.3s\tremaining: 1.98s\n",
      "839:\tlearn: 0.5563730\ttotal: 10.3s\tremaining: 1.97s\n",
      "840:\tlearn: 0.5561241\ttotal: 10.3s\tremaining: 1.96s\n",
      "841:\tlearn: 0.5560226\ttotal: 10.4s\tremaining: 1.94s\n",
      "842:\tlearn: 0.5559516\ttotal: 10.4s\tremaining: 1.93s\n",
      "843:\tlearn: 0.5557210\ttotal: 10.4s\tremaining: 1.92s\n",
      "844:\tlearn: 0.5556725\ttotal: 10.4s\tremaining: 1.91s\n",
      "845:\tlearn: 0.5555057\ttotal: 10.4s\tremaining: 1.89s\n",
      "846:\tlearn: 0.5553050\ttotal: 10.4s\tremaining: 1.88s\n",
      "847:\tlearn: 0.5551800\ttotal: 10.4s\tremaining: 1.87s\n",
      "848:\tlearn: 0.5549879\ttotal: 10.4s\tremaining: 1.86s\n",
      "849:\tlearn: 0.5548151\ttotal: 10.4s\tremaining: 1.84s\n",
      "850:\tlearn: 0.5547247\ttotal: 10.5s\tremaining: 1.83s\n",
      "851:\tlearn: 0.5546681\ttotal: 10.5s\tremaining: 1.82s\n",
      "852:\tlearn: 0.5546164\ttotal: 10.5s\tremaining: 1.81s\n",
      "853:\tlearn: 0.5545107\ttotal: 10.5s\tremaining: 1.79s\n",
      "854:\tlearn: 0.5543493\ttotal: 10.5s\tremaining: 1.78s\n",
      "855:\tlearn: 0.5542215\ttotal: 10.5s\tremaining: 1.77s\n",
      "856:\tlearn: 0.5541080\ttotal: 10.5s\tremaining: 1.76s\n",
      "857:\tlearn: 0.5539183\ttotal: 10.5s\tremaining: 1.74s\n",
      "858:\tlearn: 0.5537713\ttotal: 10.6s\tremaining: 1.73s\n",
      "859:\tlearn: 0.5537170\ttotal: 10.6s\tremaining: 1.72s\n",
      "860:\tlearn: 0.5535959\ttotal: 10.6s\tremaining: 1.71s\n",
      "861:\tlearn: 0.5534497\ttotal: 10.6s\tremaining: 1.7s\n",
      "862:\tlearn: 0.5532567\ttotal: 10.6s\tremaining: 1.68s\n",
      "863:\tlearn: 0.5531020\ttotal: 10.6s\tremaining: 1.67s\n",
      "864:\tlearn: 0.5529769\ttotal: 10.6s\tremaining: 1.66s\n",
      "865:\tlearn: 0.5529112\ttotal: 10.6s\tremaining: 1.65s\n",
      "866:\tlearn: 0.5527825\ttotal: 10.6s\tremaining: 1.63s\n",
      "867:\tlearn: 0.5527209\ttotal: 10.7s\tremaining: 1.62s\n",
      "868:\tlearn: 0.5525801\ttotal: 10.7s\tremaining: 1.61s\n",
      "869:\tlearn: 0.5523811\ttotal: 10.7s\tremaining: 1.59s\n",
      "870:\tlearn: 0.5523010\ttotal: 10.7s\tremaining: 1.58s\n",
      "871:\tlearn: 0.5521725\ttotal: 10.7s\tremaining: 1.57s\n",
      "872:\tlearn: 0.5519538\ttotal: 10.7s\tremaining: 1.56s\n",
      "873:\tlearn: 0.5518133\ttotal: 10.7s\tremaining: 1.54s\n",
      "874:\tlearn: 0.5516856\ttotal: 10.7s\tremaining: 1.53s\n",
      "875:\tlearn: 0.5515213\ttotal: 10.7s\tremaining: 1.52s\n",
      "876:\tlearn: 0.5514719\ttotal: 10.8s\tremaining: 1.51s\n",
      "877:\tlearn: 0.5513557\ttotal: 10.8s\tremaining: 1.5s\n",
      "878:\tlearn: 0.5511696\ttotal: 10.8s\tremaining: 1.49s\n",
      "879:\tlearn: 0.5509778\ttotal: 10.8s\tremaining: 1.47s\n",
      "880:\tlearn: 0.5508981\ttotal: 10.8s\tremaining: 1.46s\n",
      "881:\tlearn: 0.5507587\ttotal: 10.8s\tremaining: 1.45s\n",
      "882:\tlearn: 0.5506208\ttotal: 10.8s\tremaining: 1.44s\n",
      "883:\tlearn: 0.5505627\ttotal: 10.8s\tremaining: 1.42s\n",
      "884:\tlearn: 0.5504483\ttotal: 10.9s\tremaining: 1.41s\n",
      "885:\tlearn: 0.5503353\ttotal: 10.9s\tremaining: 1.4s\n",
      "886:\tlearn: 0.5502245\ttotal: 10.9s\tremaining: 1.39s\n",
      "887:\tlearn: 0.5500639\ttotal: 10.9s\tremaining: 1.37s\n",
      "888:\tlearn: 0.5499409\ttotal: 10.9s\tremaining: 1.36s\n",
      "889:\tlearn: 0.5497825\ttotal: 10.9s\tremaining: 1.35s\n",
      "890:\tlearn: 0.5496014\ttotal: 10.9s\tremaining: 1.34s\n",
      "891:\tlearn: 0.5495356\ttotal: 10.9s\tremaining: 1.32s\n",
      "892:\tlearn: 0.5494315\ttotal: 10.9s\tremaining: 1.31s\n",
      "893:\tlearn: 0.5492488\ttotal: 11s\tremaining: 1.3s\n",
      "894:\tlearn: 0.5491988\ttotal: 11s\tremaining: 1.29s\n",
      "895:\tlearn: 0.5491139\ttotal: 11.1s\tremaining: 1.28s\n",
      "896:\tlearn: 0.5490306\ttotal: 11.1s\tremaining: 1.27s\n",
      "897:\tlearn: 0.5489454\ttotal: 11.1s\tremaining: 1.26s\n",
      "898:\tlearn: 0.5487326\ttotal: 11.1s\tremaining: 1.25s\n",
      "899:\tlearn: 0.5486586\ttotal: 11.1s\tremaining: 1.23s\n",
      "900:\tlearn: 0.5485203\ttotal: 11.1s\tremaining: 1.22s\n",
      "901:\tlearn: 0.5484092\ttotal: 11.1s\tremaining: 1.21s\n",
      "902:\tlearn: 0.5482282\ttotal: 11.1s\tremaining: 1.2s\n",
      "903:\tlearn: 0.5480400\ttotal: 11.1s\tremaining: 1.18s\n",
      "904:\tlearn: 0.5480032\ttotal: 11.2s\tremaining: 1.17s\n",
      "905:\tlearn: 0.5479430\ttotal: 11.2s\tremaining: 1.16s\n",
      "906:\tlearn: 0.5478125\ttotal: 11.2s\tremaining: 1.15s\n",
      "907:\tlearn: 0.5476439\ttotal: 11.2s\tremaining: 1.13s\n",
      "908:\tlearn: 0.5476113\ttotal: 11.2s\tremaining: 1.12s\n",
      "909:\tlearn: 0.5474891\ttotal: 11.2s\tremaining: 1.11s\n",
      "910:\tlearn: 0.5473693\ttotal: 11.2s\tremaining: 1.1s\n",
      "911:\tlearn: 0.5473059\ttotal: 11.3s\tremaining: 1.08s\n",
      "912:\tlearn: 0.5471411\ttotal: 11.3s\tremaining: 1.07s\n",
      "913:\tlearn: 0.5470163\ttotal: 11.3s\tremaining: 1.06s\n",
      "914:\tlearn: 0.5469572\ttotal: 11.3s\tremaining: 1.05s\n",
      "915:\tlearn: 0.5468112\ttotal: 11.3s\tremaining: 1.04s\n",
      "916:\tlearn: 0.5467174\ttotal: 11.3s\tremaining: 1.02s\n",
      "917:\tlearn: 0.5466303\ttotal: 11.3s\tremaining: 1.01s\n",
      "918:\tlearn: 0.5465058\ttotal: 11.3s\tremaining: 999ms\n",
      "919:\tlearn: 0.5464097\ttotal: 11.3s\tremaining: 986ms\n",
      "920:\tlearn: 0.5462481\ttotal: 11.4s\tremaining: 974ms\n",
      "921:\tlearn: 0.5461429\ttotal: 11.4s\tremaining: 961ms\n",
      "922:\tlearn: 0.5460711\ttotal: 11.4s\tremaining: 949ms\n",
      "923:\tlearn: 0.5459996\ttotal: 11.4s\tremaining: 936ms\n",
      "924:\tlearn: 0.5458344\ttotal: 11.4s\tremaining: 924ms\n",
      "925:\tlearn: 0.5456429\ttotal: 11.4s\tremaining: 912ms\n",
      "926:\tlearn: 0.5455814\ttotal: 11.4s\tremaining: 900ms\n",
      "927:\tlearn: 0.5454541\ttotal: 11.4s\tremaining: 888ms\n",
      "928:\tlearn: 0.5453290\ttotal: 11.5s\tremaining: 876ms\n",
      "929:\tlearn: 0.5452843\ttotal: 11.5s\tremaining: 863ms\n",
      "930:\tlearn: 0.5451649\ttotal: 11.5s\tremaining: 851ms\n",
      "931:\tlearn: 0.5450375\ttotal: 11.5s\tremaining: 839ms\n",
      "932:\tlearn: 0.5449387\ttotal: 11.5s\tremaining: 827ms\n",
      "933:\tlearn: 0.5448605\ttotal: 11.5s\tremaining: 814ms\n",
      "934:\tlearn: 0.5447475\ttotal: 11.5s\tremaining: 802ms\n",
      "935:\tlearn: 0.5445898\ttotal: 11.5s\tremaining: 789ms\n",
      "936:\tlearn: 0.5444920\ttotal: 11.6s\tremaining: 777ms\n",
      "937:\tlearn: 0.5444287\ttotal: 11.6s\tremaining: 764ms\n",
      "938:\tlearn: 0.5443750\ttotal: 11.6s\tremaining: 752ms\n",
      "939:\tlearn: 0.5443168\ttotal: 11.6s\tremaining: 740ms\n",
      "940:\tlearn: 0.5441778\ttotal: 11.6s\tremaining: 727ms\n",
      "941:\tlearn: 0.5440450\ttotal: 11.6s\tremaining: 715ms\n",
      "942:\tlearn: 0.5439042\ttotal: 11.6s\tremaining: 703ms\n",
      "943:\tlearn: 0.5438459\ttotal: 11.6s\tremaining: 691ms\n",
      "944:\tlearn: 0.5437669\ttotal: 11.7s\tremaining: 678ms\n",
      "945:\tlearn: 0.5436749\ttotal: 11.7s\tremaining: 666ms\n",
      "946:\tlearn: 0.5435557\ttotal: 11.7s\tremaining: 654ms\n",
      "947:\tlearn: 0.5434577\ttotal: 11.7s\tremaining: 641ms\n",
      "948:\tlearn: 0.5433330\ttotal: 11.7s\tremaining: 629ms\n",
      "949:\tlearn: 0.5432753\ttotal: 11.7s\tremaining: 617ms\n",
      "950:\tlearn: 0.5431506\ttotal: 11.7s\tremaining: 605ms\n",
      "951:\tlearn: 0.5430874\ttotal: 11.8s\tremaining: 592ms\n",
      "952:\tlearn: 0.5429801\ttotal: 11.8s\tremaining: 580ms\n",
      "953:\tlearn: 0.5429237\ttotal: 11.8s\tremaining: 568ms\n",
      "954:\tlearn: 0.5427396\ttotal: 11.8s\tremaining: 555ms\n",
      "955:\tlearn: 0.5426566\ttotal: 11.8s\tremaining: 543ms\n",
      "956:\tlearn: 0.5425443\ttotal: 11.8s\tremaining: 531ms\n",
      "957:\tlearn: 0.5424247\ttotal: 11.8s\tremaining: 519ms\n",
      "958:\tlearn: 0.5422790\ttotal: 11.8s\tremaining: 506ms\n",
      "959:\tlearn: 0.5421671\ttotal: 11.9s\tremaining: 494ms\n",
      "960:\tlearn: 0.5420616\ttotal: 11.9s\tremaining: 481ms\n",
      "961:\tlearn: 0.5419569\ttotal: 11.9s\tremaining: 469ms\n",
      "962:\tlearn: 0.5418900\ttotal: 11.9s\tremaining: 457ms\n",
      "963:\tlearn: 0.5417348\ttotal: 11.9s\tremaining: 444ms\n",
      "964:\tlearn: 0.5416238\ttotal: 11.9s\tremaining: 432ms\n",
      "965:\tlearn: 0.5415645\ttotal: 11.9s\tremaining: 419ms\n",
      "966:\tlearn: 0.5414312\ttotal: 11.9s\tremaining: 407ms\n",
      "967:\tlearn: 0.5413222\ttotal: 11.9s\tremaining: 395ms\n",
      "968:\tlearn: 0.5412471\ttotal: 11.9s\tremaining: 382ms\n",
      "969:\tlearn: 0.5411060\ttotal: 12s\tremaining: 370ms\n",
      "970:\tlearn: 0.5409256\ttotal: 12s\tremaining: 357ms\n",
      "971:\tlearn: 0.5407397\ttotal: 12s\tremaining: 345ms\n",
      "972:\tlearn: 0.5406566\ttotal: 12s\tremaining: 333ms\n"
     ]
    },
    {
     "name": "stdout",
     "output_type": "stream",
     "text": [
      "973:\tlearn: 0.5405107\ttotal: 12s\tremaining: 321ms\n",
      "974:\tlearn: 0.5403011\ttotal: 12s\tremaining: 309ms\n",
      "975:\tlearn: 0.5401172\ttotal: 12.1s\tremaining: 296ms\n",
      "976:\tlearn: 0.5399503\ttotal: 12.1s\tremaining: 284ms\n",
      "977:\tlearn: 0.5398420\ttotal: 12.1s\tremaining: 272ms\n",
      "978:\tlearn: 0.5396847\ttotal: 12.1s\tremaining: 259ms\n",
      "979:\tlearn: 0.5395647\ttotal: 12.1s\tremaining: 247ms\n",
      "980:\tlearn: 0.5393359\ttotal: 12.1s\tremaining: 234ms\n",
      "981:\tlearn: 0.5391889\ttotal: 12.1s\tremaining: 222ms\n",
      "982:\tlearn: 0.5390780\ttotal: 12.1s\tremaining: 210ms\n",
      "983:\tlearn: 0.5389924\ttotal: 12.2s\tremaining: 198ms\n",
      "984:\tlearn: 0.5389222\ttotal: 12.2s\tremaining: 186ms\n",
      "985:\tlearn: 0.5388318\ttotal: 12.2s\tremaining: 173ms\n",
      "986:\tlearn: 0.5386740\ttotal: 12.2s\tremaining: 161ms\n",
      "987:\tlearn: 0.5386365\ttotal: 12.2s\tremaining: 149ms\n",
      "988:\tlearn: 0.5385096\ttotal: 12.2s\tremaining: 136ms\n",
      "989:\tlearn: 0.5384267\ttotal: 12.3s\tremaining: 124ms\n",
      "990:\tlearn: 0.5383359\ttotal: 12.3s\tremaining: 111ms\n",
      "991:\tlearn: 0.5382557\ttotal: 12.3s\tremaining: 99ms\n",
      "992:\tlearn: 0.5381242\ttotal: 12.3s\tremaining: 86.6ms\n",
      "993:\tlearn: 0.5379894\ttotal: 12.3s\tremaining: 74.3ms\n",
      "994:\tlearn: 0.5379129\ttotal: 12.3s\tremaining: 61.9ms\n",
      "995:\tlearn: 0.5378495\ttotal: 12.3s\tremaining: 49.5ms\n",
      "996:\tlearn: 0.5377671\ttotal: 12.3s\tremaining: 37.1ms\n",
      "997:\tlearn: 0.5376222\ttotal: 12.3s\tremaining: 24.7ms\n",
      "998:\tlearn: 0.5374416\ttotal: 12.4s\tremaining: 12.4ms\n",
      "999:\tlearn: 0.5374003\ttotal: 12.4s\tremaining: 0us\n",
      "catboost accuracy score with all 6 the features: 0.7501\n"
     ]
    }
   ],
   "source": [
    "from catboost import CatBoostClassifier\n",
    "\n",
    "clf= CatBoostClassifier(learning_rate=0.05)\n",
    "\n",
    "clf.fit(X_train, y_train)\n",
    "# y_pred = logreg.predict(X_test)\n",
    "y_pred = clf.predict(X_test)\n",
    "print('catboost accuracy score with all 6 the features: {0:0.4f}'. format(accuracy_score(y_test, y_pred)))"
   ]
  },
  {
   "cell_type": "code",
   "execution_count": 44,
   "metadata": {},
   "outputs": [
    {
     "data": {
      "text/plain": [
       "0.8052602711102985"
      ]
     },
     "execution_count": 44,
     "metadata": {},
     "output_type": "execute_result"
    }
   ],
   "source": [
    "clf.score(X_train, y_train)\n"
   ]
  },
  {
   "cell_type": "code",
   "execution_count": 53,
   "metadata": {},
   "outputs": [],
   "source": [
    "from sklearn.ensemble import RandomForestClassifier, GradientBoostingClassifier, AdaBoostClassifier"
   ]
  },
  {
   "cell_type": "code",
   "execution_count": 54,
   "metadata": {},
   "outputs": [
    {
     "name": "stdout",
     "output_type": "stream",
     "text": [
      "catboost accuracy score with all 6 the features: 0.8459\n"
     ]
    },
    {
     "data": {
      "text/plain": [
       "1.0"
      ]
     },
     "execution_count": 54,
     "metadata": {},
     "output_type": "execute_result"
    }
   ],
   "source": [
    "clf= RandomForestClassifier()\n",
    "\n",
    "clf.fit(X_train, y_train)\n",
    "# y_pred = logreg.predict(X_test)\n",
    "y_pred = clf.predict(X_test)\n",
    "\n",
    "print('catboost accuracy score with all 6 the features: {0:0.4f}'. format(accuracy_score(y_test, y_pred)))\n",
    "clf.score(X_train, y_train)\n",
    "\n"
   ]
  },
  {
   "cell_type": "code",
   "execution_count": 57,
   "metadata": {},
   "outputs": [
    {
     "name": "stdout",
     "output_type": "stream",
     "text": [
      "GradientBoostingClassifier accuracy score with all 6 the features: 0.5742\n"
     ]
    },
    {
     "data": {
      "text/plain": [
       "0.5993679316739363"
      ]
     },
     "execution_count": 57,
     "metadata": {},
     "output_type": "execute_result"
    }
   ],
   "source": [
    "clf= GradientBoostingClassifier()\n",
    "\n",
    "clf.fit(X_train, y_train)\n",
    "# y_pred = logreg.predict(X_test)\n",
    "y_pred = clf.predict(X_test)\n",
    "\n",
    "print('GradientBoostingClassifier accuracy score with all 6 the features: {0:0.4f}'. format(accuracy_score(y_test, y_pred)))\n",
    "clf.score(X_train, y_train)"
   ]
  },
  {
   "cell_type": "code",
   "execution_count": 58,
   "metadata": {},
   "outputs": [
    {
     "name": "stdout",
     "output_type": "stream",
     "text": [
      "AdaBoostClassifier accuracy score with all 6 the features: 0.5258\n"
     ]
    },
    {
     "data": {
      "text/plain": [
       "0.5353775432914566"
      ]
     },
     "execution_count": 58,
     "metadata": {},
     "output_type": "execute_result"
    }
   ],
   "source": [
    "clf= AdaBoostClassifier()\n",
    "\n",
    "clf.fit(X_train, y_train)\n",
    "# y_pred = logreg.predict(X_test)\n",
    "y_pred = clf.predict(X_test)\n",
    "\n",
    "print('AdaBoostClassifier accuracy score with all 6 the features: {0:0.4f}'. format(accuracy_score(y_test, y_pred)))\n",
    "clf.score(X_train, y_train)"
   ]
  },
  {
   "cell_type": "code",
   "execution_count": 59,
   "metadata": {},
   "outputs": [
    {
     "name": "stdout",
     "output_type": "stream",
     "text": [
      "SVC accuracy score with all 6 the features: 0.5236\n"
     ]
    },
    {
     "data": {
      "text/plain": [
       "0.5459033092172277"
      ]
     },
     "execution_count": 59,
     "metadata": {},
     "output_type": "execute_result"
    }
   ],
   "source": [
    "# SVC\n",
    "from sklearn.svm import SVC\n",
    "\n",
    "clf= SVC()\n",
    "\n",
    "clf.fit(X_train, y_train)\n",
    "# y_pred = logreg.predict(X_test)\n",
    "y_pred = clf.predict(X_test)\n",
    "\n",
    "print('SVC accuracy score with all 6 the features: {0:0.4f}'. format(accuracy_score(y_test, y_pred)))\n",
    "clf.score(X_train, y_train)"
   ]
  },
  {
   "cell_type": "code",
   "execution_count": 113,
   "metadata": {},
   "outputs": [
    {
     "name": "stdout",
     "output_type": "stream",
     "text": [
      "BaggingClassifier accuracy score with all 6 the features: 0.9640\n"
     ]
    },
    {
     "data": {
      "text/plain": [
       "0.9997649332671664"
      ]
     },
     "execution_count": 113,
     "metadata": {},
     "output_type": "execute_result"
    }
   ],
   "source": [
    "# BaggingClassifier\n",
    "from sklearn.ensemble import BaggingClassifier\n",
    "clf= BaggingClassifier( base_estimator=None,\n",
    "    n_estimators=15,\n",
    "    max_samples=1.0,\n",
    "    max_features=1.0,\n",
    "    bootstrap=True,\n",
    "    bootstrap_features=False,\n",
    "    oob_score=False,\n",
    "    warm_start=False,\n",
    "    n_jobs=None,\n",
    "    random_state=None,\n",
    "    verbose=0,)\n",
    "\n",
    "clf.fit(X_train, y_train)\n",
    "# y_pred = logreg.predict(X_test)\n",
    "y_pred = clf.predict(X_test)\n",
    "\n",
    "print('BaggingClassifier accuracy score with all 6 the features: {0:0.4f}'. format(accuracy_score(y_test, y_pred)))\n",
    "clf.score(X_train, y_train)"
   ]
  },
  {
   "cell_type": "code",
   "execution_count": 127,
   "metadata": {},
   "outputs": [],
   "source": [
    "result = clf.predict(test_df)\n"
   ]
  },
  {
   "cell_type": "code",
   "execution_count": 131,
   "metadata": {},
   "outputs": [],
   "source": [
    "result_data=test_df['ID']"
   ]
  },
  {
   "cell_type": "code",
   "execution_count": 133,
   "metadata": {},
   "outputs": [
    {
     "data": {
      "text/plain": [
       "pandas.core.series.Series"
      ]
     },
     "execution_count": 133,
     "metadata": {},
     "output_type": "execute_result"
    }
   ],
   "source": [
    "type(result_data)"
   ]
  },
  {
   "cell_type": "code",
   "execution_count": 137,
   "metadata": {},
   "outputs": [],
   "source": [
    "\n",
    "result_data_df = result_data.to_frame()"
   ]
  },
  {
   "cell_type": "code",
   "execution_count": 138,
   "metadata": {},
   "outputs": [
    {
     "data": {
      "text/plain": [
       "pandas.core.frame.DataFrame"
      ]
     },
     "execution_count": 138,
     "metadata": {},
     "output_type": "execute_result"
    }
   ],
   "source": [
    "type(result_data_df)"
   ]
  },
  {
   "cell_type": "code",
   "execution_count": 140,
   "metadata": {},
   "outputs": [],
   "source": [
    "result_data_df['Friends']=result"
   ]
  },
  {
   "cell_type": "code",
   "execution_count": 141,
   "metadata": {},
   "outputs": [
    {
     "data": {
      "text/html": [
       "<div>\n",
       "<style scoped>\n",
       "    .dataframe tbody tr th:only-of-type {\n",
       "        vertical-align: middle;\n",
       "    }\n",
       "\n",
       "    .dataframe tbody tr th {\n",
       "        vertical-align: top;\n",
       "    }\n",
       "\n",
       "    .dataframe thead th {\n",
       "        text-align: right;\n",
       "    }\n",
       "</style>\n",
       "<table border=\"1\" class=\"dataframe\">\n",
       "  <thead>\n",
       "    <tr style=\"text-align: right;\">\n",
       "      <th></th>\n",
       "      <th>ID</th>\n",
       "      <th>Friends</th>\n",
       "    </tr>\n",
       "  </thead>\n",
       "  <tbody>\n",
       "    <tr>\n",
       "      <th>0</th>\n",
       "      <td>1</td>\n",
       "      <td>1</td>\n",
       "    </tr>\n",
       "    <tr>\n",
       "      <th>1</th>\n",
       "      <td>2</td>\n",
       "      <td>0</td>\n",
       "    </tr>\n",
       "    <tr>\n",
       "      <th>2</th>\n",
       "      <td>3</td>\n",
       "      <td>0</td>\n",
       "    </tr>\n",
       "    <tr>\n",
       "      <th>3</th>\n",
       "      <td>4</td>\n",
       "      <td>1</td>\n",
       "    </tr>\n",
       "    <tr>\n",
       "      <th>4</th>\n",
       "      <td>5</td>\n",
       "      <td>0</td>\n",
       "    </tr>\n",
       "    <tr>\n",
       "      <th>...</th>\n",
       "      <td>...</td>\n",
       "      <td>...</td>\n",
       "    </tr>\n",
       "    <tr>\n",
       "      <th>54692</th>\n",
       "      <td>54693</td>\n",
       "      <td>1</td>\n",
       "    </tr>\n",
       "    <tr>\n",
       "      <th>54693</th>\n",
       "      <td>54694</td>\n",
       "      <td>1</td>\n",
       "    </tr>\n",
       "    <tr>\n",
       "      <th>54694</th>\n",
       "      <td>54695</td>\n",
       "      <td>0</td>\n",
       "    </tr>\n",
       "    <tr>\n",
       "      <th>54695</th>\n",
       "      <td>54696</td>\n",
       "      <td>0</td>\n",
       "    </tr>\n",
       "    <tr>\n",
       "      <th>54696</th>\n",
       "      <td>54697</td>\n",
       "      <td>1</td>\n",
       "    </tr>\n",
       "  </tbody>\n",
       "</table>\n",
       "<p>54697 rows × 2 columns</p>\n",
       "</div>"
      ],
      "text/plain": [
       "          ID  Friends\n",
       "0          1        1\n",
       "1          2        0\n",
       "2          3        0\n",
       "3          4        1\n",
       "4          5        0\n",
       "...      ...      ...\n",
       "54692  54693        1\n",
       "54693  54694        1\n",
       "54694  54695        0\n",
       "54695  54696        0\n",
       "54696  54697        1\n",
       "\n",
       "[54697 rows x 2 columns]"
      ]
     },
     "execution_count": 141,
     "metadata": {},
     "output_type": "execute_result"
    }
   ],
   "source": [
    "result_data_df"
   ]
  },
  {
   "cell_type": "code",
   "execution_count": 142,
   "metadata": {},
   "outputs": [],
   "source": [
    "result_data_df.to_csv('submit.csv') "
   ]
  },
  {
   "cell_type": "code",
   "execution_count": 61,
   "metadata": {},
   "outputs": [
    {
     "name": "stdout",
     "output_type": "stream",
     "text": [
      "SVC accuracy score with all 6 the features: 0.5214\n"
     ]
    },
    {
     "data": {
      "text/plain": [
       "0.699480241335179"
      ]
     },
     "execution_count": 61,
     "metadata": {},
     "output_type": "execute_result"
    }
   ],
   "source": [
    "# KNeighborsClassifier/\n",
    "from sklearn.neighbors import KNeighborsClassifier\n",
    "clf= KNeighborsClassifier()\n",
    "\n",
    "clf.fit(X_train, y_train)\n",
    "# y_pred = logreg.predict(X_test)\n",
    "y_pred = clf.predict(X_test)\n",
    "\n",
    "print('KNeighborsClassifier accuracy score with all 6 the features: {0:0.4f}'. format(accuracy_score(y_test, y_pred)))\n",
    "clf.score(X_train, y_train)"
   ]
  },
  {
   "cell_type": "code",
   "execution_count": 64,
   "metadata": {},
   "outputs": [
    {
     "name": "stdout",
     "output_type": "stream",
     "text": [
      "RidgeClassifier accuracy score with all 6 the features: 0.5079\n"
     ]
    },
    {
     "data": {
      "text/plain": [
       "0.5119231070598376"
      ]
     },
     "execution_count": 64,
     "metadata": {},
     "output_type": "execute_result"
    }
   ],
   "source": [
    "# RidgeClassifier\n",
    "from sklearn.linear_model import RidgeClassifier\n",
    "clf= RidgeClassifier()\n",
    "\n",
    "clf.fit(X_train, y_train)\n",
    "# y_pred = logreg.predict(X_test)\n",
    "y_pred = clf.predict(X_test)\n",
    "\n",
    "print('RidgeClassifier accuracy score with all 6 the features: {0:0.4f}'. format(accuracy_score(y_test, y_pred)))\n",
    "clf.score(X_train, y_train)"
   ]
  },
  {
   "cell_type": "code",
   "execution_count": 65,
   "metadata": {},
   "outputs": [
    {
     "name": "stdout",
     "output_type": "stream",
     "text": [
      "GaussianNB accuracy score with all 6 the features: 0.5079\n"
     ]
    },
    {
     "data": {
      "text/plain": [
       "0.5119231070598376"
      ]
     },
     "execution_count": 65,
     "metadata": {},
     "output_type": "execute_result"
    }
   ],
   "source": [
    "# GaussianNB\n",
    "from sklearn.naive_bayes import GaussianNB\n",
    "clf= RidgeClassifier()\n",
    "\n",
    "clf.fit(X_train, y_train)\n",
    "# y_pred = logreg.predict(X_test)\n",
    "y_pred = clf.predict(X_test)\n",
    "\n",
    "print('GaussianNB accuracy score with all 6 the features: {0:0.4f}'. format(accuracy_score(y_test, y_pred)))\n",
    "clf.score(X_train, y_train)"
   ]
  },
  {
   "cell_type": "code",
   "execution_count": 80,
   "metadata": {},
   "outputs": [
    {
     "name": "stdout",
     "output_type": "stream",
     "text": [
      "GaussianNB accuracy score with all 6 the features: 0.7289\n"
     ]
    },
    {
     "data": {
      "text/plain": [
       "0.7794551675503435"
      ]
     },
     "execution_count": 80,
     "metadata": {},
     "output_type": "execute_result"
    }
   ],
   "source": [
    "from sklearn.experimental import enable_hist_gradient_boosting\n",
    "from sklearn.ensemble import HistGradientBoostingClassifier\n",
    "\n",
    "clf= HistGradientBoostingClassifier()\n",
    "\n",
    "clf.fit(X_train, y_train)\n",
    "y_pred = clf.predict(X_test)\n",
    "\n",
    "print('GaussianNB accuracy score with all 6 the features: {0:0.4f}'. format(accuracy_score(y_test, y_pred)))\n",
    "clf.score(X_train, y_train)"
   ]
  },
  {
   "cell_type": "code",
   "execution_count": 82,
   "metadata": {},
   "outputs": [
    {
     "name": "stdout",
     "output_type": "stream",
     "text": [
      "LGBMClassifier accuracy score with all 6 the features: 0.7244\n"
     ]
    },
    {
     "data": {
      "text/plain": [
       "0.7742314623762635"
      ]
     },
     "execution_count": 82,
     "metadata": {},
     "output_type": "execute_result"
    }
   ],
   "source": [
    "from lightgbm import LGBMClassifier\n",
    "\n",
    "clf= LGBMClassifier()\n",
    "\n",
    "clf.fit(X_train, y_train)\n",
    "y_pred = clf.predict(X_test)\n",
    "\n",
    "print('LGBMClassifier accuracy score with all 6 the features: {0:0.4f}'. format(accuracy_score(y_test, y_pred)))\n",
    "clf.score(X_train, y_train)"
   ]
  },
  {
   "cell_type": "code",
   "execution_count": 69,
   "metadata": {},
   "outputs": [],
   "source": [
    "from sklearn.ensemble import VotingClassifier"
   ]
  },
  {
   "cell_type": "code",
   "execution_count": 70,
   "metadata": {},
   "outputs": [],
   "source": [
    "x_clf=XGBClassifier() #0.7840\n",
    "\n",
    "r_clf= RandomForestClassifier() #0.8459\n",
    "\n",
    "b_clf= BaggingClassifier() #0.9564"
   ]
  },
  {
   "cell_type": "code",
   "execution_count": 77,
   "metadata": {},
   "outputs": [
    {
     "data": {
      "text/plain": [
       "VotingClassifier(estimators=[('XGBClassifier',\n",
       "                              XGBClassifier(base_score=None, booster=None,\n",
       "                                            colsample_bylevel=None,\n",
       "                                            colsample_bynode=None,\n",
       "                                            colsample_bytree=None, gamma=None,\n",
       "                                            gpu_id=None, importance_type='gain',\n",
       "                                            interaction_constraints=None,\n",
       "                                            learning_rate=None,\n",
       "                                            max_delta_step=None, max_depth=None,\n",
       "                                            min_child_weight=None, missing=nan,\n",
       "                                            monotone_constraints=None,\n",
       "                                            n_est...\n",
       "                                                     n_jobs=None,\n",
       "                                                     oob_score=False,\n",
       "                                                     random_state=None,\n",
       "                                                     verbose=0,\n",
       "                                                     warm_start=False)),\n",
       "                             ('BaggingClassifier',\n",
       "                              BaggingClassifier(base_estimator=None,\n",
       "                                                bootstrap=True,\n",
       "                                                bootstrap_features=False,\n",
       "                                                max_features=1.0,\n",
       "                                                max_samples=1.0,\n",
       "                                                n_estimators=10, n_jobs=None,\n",
       "                                                oob_score=False,\n",
       "                                                random_state=None, verbose=0,\n",
       "                                                warm_start=False))],\n",
       "                 flatten_transform=True, n_jobs=None, voting='soft',\n",
       "                 weights=None)"
      ]
     },
     "execution_count": 77,
     "metadata": {},
     "output_type": "execute_result"
    }
   ],
   "source": [
    "voting_clf = VotingClassifier( estimators=[('XGBClassifier', x_clf), ('RandomForestClassifier', r_clf),('BaggingClassifier', b_clf)], voting='soft' )\n",
    "# voting_clf = VotingClassifier( estimators=[x_clf,r_clf, b_clf], voting='hard' )\n",
    "\n",
    "\n",
    "voting_clf.fit(X_train, y_train)"
   ]
  },
  {
   "cell_type": "code",
   "execution_count": 78,
   "metadata": {},
   "outputs": [
    {
     "name": "stdout",
     "output_type": "stream",
     "text": [
      "GaussianNB accuracy score with all 6 the features: 0.9442\n"
     ]
    },
    {
     "data": {
      "text/plain": [
       "0.5119231070598376"
      ]
     },
     "execution_count": 78,
     "metadata": {},
     "output_type": "execute_result"
    }
   ],
   "source": [
    "y_pred = voting_clf.predict(X_test)\n",
    "\n",
    "print('GaussianNB accuracy score with all 6 the features: {0:0.4f}'. format(accuracy_score(y_test, y_pred)))\n",
    "clf.score(X_train, y_train)"
   ]
  },
  {
   "cell_type": "code",
   "execution_count": null,
   "metadata": {},
   "outputs": [],
   "source": []
  }
 ],
 "metadata": {
  "kernelspec": {
   "display_name": "Python 3",
   "language": "python",
   "name": "python3"
  },
  "language_info": {
   "codemirror_mode": {
    "name": "ipython",
    "version": 3
   },
   "file_extension": ".py",
   "mimetype": "text/x-python",
   "name": "python",
   "nbconvert_exporter": "python",
   "pygments_lexer": "ipython3",
   "version": "3.6.9"
  }
 },
 "nbformat": 4,
 "nbformat_minor": 4
}
